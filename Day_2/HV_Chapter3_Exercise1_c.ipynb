{
  "nbformat": 4,
  "nbformat_minor": 0,
  "metadata": {
    "colab": {
      "name": "HV_Chapter3_Exercise1_c.ipynb",
      "provenance": []
    },
    "kernelspec": {
      "display_name": "Python 3",
      "language": "python",
      "name": "python3"
    },
    "language_info": {
      "codemirror_mode": {
        "name": "ipython",
        "version": 3
      },
      "file_extension": ".py",
      "mimetype": "text/x-python",
      "name": "python",
      "nbconvert_exporter": "python",
      "pygments_lexer": "ipython3",
      "version": "3.7.6-final"
    }
  },
  "cells": [
    {
      "cell_type": "markdown",
      "metadata": {
        "colab_type": "text",
        "id": "dlvl6kiulffy"
      },
      "source": [
        "## Chapter 3 - Exercise 1c: Thực hiện các yêu cầu sau, và đối chiếu với kết quả cho trước"
      ]
    },
    {
      "cell_type": "code",
      "execution_count": 1,
      "metadata": {},
      "outputs": [],
      "source": [
        "import numpy as np"
      ]
    },
    {
      "cell_type": "code",
      "metadata": {
        "id": "lXXD_GCAgF_E",
        "colab_type": "code",
        "colab": {},
        "tags": []
      },
      "source": [
        "# Câu 1: Tạo array arr_zeros có 10 phần tử 0, cập nhật phần tử ở vị trí thứ 5 là 1\n",
        "arr_zeros = np.zeros(10)\n",
        "arr_zeros[4] = 1\n",
        "print('arr_zeros', arr_zeros)\n"
      ],
      "execution_count": 5,
      "outputs": [
        {
          "output_type": "stream",
          "name": "stdout",
          "text": "arr_zeros [0. 0. 0. 0. 1. 0. 0. 0. 0. 0.]\n"
        }
      ]
    },
    {
      "cell_type": "markdown",
      "metadata": {
        "id": "X-50I2lFgF_J",
        "colab_type": "text"
      },
      "source": [
        "<details>\n",
        "  <summary>Nhấn vào đây để xem kết quả!</summary>\n",
        "  <pre>[0. 0. 0. 0. 0. 0. 0. 0. 0. 0.]\n",
        "[0. 0. 0. 0. 1. 0. 0. 0. 0. 0.]\n",
        "</pre>\n",
        "  \n",
        "</details>"
      ]
    },
    {
      "cell_type": "code",
      "metadata": {
        "id": "krSLwrSzgF_J",
        "colab_type": "code",
        "colab": {},
        "tags": []
      },
      "source": [
        "# Câu 2: Tạo và in array arr_h có giá trị từ 10 đến 24 \n",
        "arr_h = np.arange(10, 25)\n",
        "\n",
        "# In danh sách các phần tử theo tứ tự đảo ngược của arr_h vừa tạo\n",
        "arr_h = arr_h[::-1]\n",
        "print('arr_h', arr_h)"
      ],
      "execution_count": 12,
      "outputs": [
        {
          "output_type": "stream",
          "name": "stdout",
          "text": "arr_h [24 23 22 21 20 19 18 17 16 15 14 13 12 11 10]\n"
        }
      ]
    },
    {
      "cell_type": "markdown",
      "metadata": {
        "id": "2tFSBhrbgF_M",
        "colab_type": "text"
      },
      "source": [
        "<details>\n",
        "  <summary>Nhấn vào đây để xem kết quả!</summary>\n",
        "  <pre>[10 11 12 13 14 15 16 17 18 19 20 21 22 23 24]\n",
        "[24 23 22 21 20 19 18 17 16 15 14 13 12 11 10]\n",
        "</pre>\n",
        "  \n",
        "</details>"
      ]
    },
    {
      "cell_type": "code",
      "metadata": {
        "id": "rEHfY3vWgF_N",
        "colab_type": "code",
        "colab": {}
      },
      "source": [
        "# Câu 3: Cho array arr_k = np.array([1, 2, 0, 8, 2, 0, 1, 3, 0, 5, 0]) \n",
        "arr_k = np.array([1, 2, 0, 8, 2, 0, 1, 3, 0, 5, 0]) \n",
        "# Tạo array arr_l từ arr_k với các phần tử khác 0\n",
        "arr_l = np.extract()"
      ],
      "execution_count": null,
      "outputs": []
    },
    {
      "cell_type": "markdown",
      "metadata": {
        "id": "OxoVLNs8gF_Q",
        "colab_type": "text"
      },
      "source": [
        "<details>\n",
        "  <summary>Nhấn vào đây để xem kết quả!</summary>\n",
        "  <pre>[1 2 0 8 2 0 1 3 0 5 0]\n",
        "[1 2 8 2 1 3 5]\n",
        "</pre>\n",
        "  \n",
        "</details>"
      ]
    },
    {
      "cell_type": "code",
      "metadata": {
        "id": "qXTtdCo7gF_Q",
        "colab_type": "code",
        "colab": {}
      },
      "source": [
        "# Câu 4: Từ array arr_l của câu 3, thêm 2 phần tử có giá trị là 10 và 20 vào cuối array\n"
      ],
      "execution_count": null,
      "outputs": []
    },
    {
      "cell_type": "markdown",
      "metadata": {
        "id": "KXh6ENX3gF_T",
        "colab_type": "text"
      },
      "source": [
        "<details>\n",
        "  <summary>Nhấn vào đây để xem kết quả!</summary>\n",
        "  <pre>[ 1  2  8  2  1  3  5 10 20]\n",
        "</pre>\n",
        "  \n",
        "</details>"
      ]
    },
    {
      "cell_type": "code",
      "metadata": {
        "id": "M80FfGhTgF_U",
        "colab_type": "code",
        "colab": {}
      },
      "source": [
        "# Câu 5: Từ array của câu 4, thêm phần tử có giá trị 100 vào vị trí có index = 5\n"
      ],
      "execution_count": null,
      "outputs": []
    },
    {
      "cell_type": "markdown",
      "metadata": {
        "id": "bVs0gs9WgF_W",
        "colab_type": "text"
      },
      "source": [
        "<details>\n",
        "  <summary>Nhấn vào đây để xem kết quả!</summary>\n",
        "  <pre>[  1   2   8   2   1 100   3   5  10  20]\n",
        "</pre>\n",
        "  \n",
        "</details>"
      ]
    },
    {
      "cell_type": "code",
      "metadata": {
        "id": "Y-YJgnE8gF_X",
        "colab_type": "code",
        "colab": {}
      },
      "source": [
        "# Câu 6: Từ array của câu 5, xóa các phần tử tại vị trí có index = 0, 1, 2\n"
      ],
      "execution_count": null,
      "outputs": []
    },
    {
      "cell_type": "markdown",
      "metadata": {
        "id": "1pnsrH16gF_b",
        "colab_type": "text"
      },
      "source": [
        "<details>\n",
        "  <summary>Nhấn vào đây để xem kết quả!</summary>\n",
        "  <pre>[  2   1 100   3   5  10  20]\n",
        "</pre>\n",
        "  \n",
        "</details>"
      ]
    }
  ]
}