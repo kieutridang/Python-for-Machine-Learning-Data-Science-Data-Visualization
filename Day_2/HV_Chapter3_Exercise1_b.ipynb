{
  "nbformat": 4,
  "nbformat_minor": 0,
  "metadata": {
    "colab": {
      "name": "HV_Chapter3_Exercise1_b.ipynb",
      "provenance": []
    },
    "kernelspec": {
      "display_name": "Python 3",
      "language": "python",
      "name": "python3"
    },
    "language_info": {
      "codemirror_mode": {
        "name": "ipython",
        "version": 3
      },
      "file_extension": ".py",
      "mimetype": "text/x-python",
      "name": "python",
      "nbconvert_exporter": "python",
      "pygments_lexer": "ipython3",
      "version": "3.7.6-final"
    }
  },
  "cells": [
    {
      "cell_type": "markdown",
      "metadata": {
        "colab_type": "text",
        "id": "dlvl6kiulffy"
      },
      "source": [
        "## Chapter 3 - Exercise 1b: Thực hiện các yêu cầu sau, và đối chiếu với kết quả cho trước"
      ]
    },
    {
      "cell_type": "code",
      "execution_count": 2,
      "metadata": {},
      "outputs": [],
      "source": [
        "import numpy as np"
      ]
    },
    {
      "cell_type": "code",
      "metadata": {
        "id": "4mXfGskmSxWx",
        "colab_type": "code",
        "colab": {},
        "tags": []
      },
      "source": [
        "# Câu 1: Cho 2 array arr_a = [1,2,3,2,3,4,3,4,5,6] và arr_b = [7,2,10,2,7,4,9,4,9,8]\n",
        "\n",
        "# Tạo arr_c chỉ lấy duy nhất các phần tử xuất hiện ở cả array arr_a và array arr_b\n",
        "arr_a = [1,2,3,2,3,4,3,4,5,6]\n",
        "arr_b = [7,2,10,2,7,4,9,4,9,8]\n",
        "arr_c = np.intersect1d(arr_a, arr_b)\n",
        "print('arr_c:', arr_c)"
      ],
      "execution_count": 13,
      "outputs": [
        {
          "output_type": "stream",
          "name": "stdout",
          "text": "arr_c: [2 4]\n"
        }
      ]
    },
    {
      "cell_type": "markdown",
      "metadata": {
        "id": "kG7HlzwXSxW0",
        "colab_type": "text"
      },
      "source": [
        "<details>\n",
        "  <summary>Nhấn vào đây để xem kết quả!</summary>\n",
        "  <pre>[2 4]\n",
        "</pre>\n",
        "  \n",
        "</details>"
      ]
    },
    {
      "cell_type": "code",
      "metadata": {
        "id": "lowXFm5XSxW0",
        "colab_type": "code",
        "colab": {},
        "tags": []
      },
      "source": [
        "# Câu 2: Từ 2 array arr_a và arr_b ở câu 1 => Tạo array mới arr_d chứa các phần tử chỉ xuất hiện ở array arr_a\n",
        "arr_d = np.setdiff1d(arr_a, arr_b)\n",
        "print('arr_d:', arr_d)"
      ],
      "execution_count": 14,
      "outputs": [
        {
          "output_type": "stream",
          "name": "stdout",
          "text": "arr_d: [1 3 5 6]\n"
        }
      ]
    },
    {
      "cell_type": "markdown",
      "metadata": {
        "id": "pih3ZZqLSxW3",
        "colab_type": "text"
      },
      "source": [
        "<details>\n",
        "  <summary>Nhấn vào đây để xem kết quả!</summary>\n",
        "  <pre>[1 3 5 6]\n",
        "</pre>\n",
        "  \n",
        "</details>"
      ]
    },
    {
      "cell_type": "code",
      "metadata": {
        "id": "1SYAzO7USxW3",
        "colab_type": "code",
        "colab": {},
        "tags": []
      },
      "source": [
        "# Câu 3: Cho array arr_e = np.array([2, 6, 1, 9, 10, 3, 27, 8, 6, 25, 16]) \n",
        "\n",
        "# Tạo array arr_f chỉ chứa các phần tử có giá trị từ 5 đến 10 của arr_e\n",
        "arr_e = np.array([2, 6, 1, 9, 10, 3, 27, 8, 6, 25, 16]) \n",
        "arr_f = np.extract((5 <= arr_e) & (arr_e <= 10), arr_e)\n",
        "print('arr_f:', arr_f)"
      ],
      "execution_count": 32,
      "outputs": [
        {
          "output_type": "stream",
          "name": "stdout",
          "text": "arr_f: [ 6  9 10  8  6]\n"
        }
      ]
    },
    {
      "cell_type": "code",
      "execution_count": 30,
      "metadata": {
        "colab_type": "text",
        "id": "2XI1VZKwSxW5"
      },
      "outputs": [
        {
          "output_type": "error",
          "ename": "SyntaxError",
          "evalue": "invalid syntax (<ipython-input-30-5c4e315be096>, line 1)",
          "traceback": [
            "\u001b[0;36m  File \u001b[0;32m\"<ipython-input-30-5c4e315be096>\"\u001b[0;36m, line \u001b[0;32m1\u001b[0m\n\u001b[0;31m    <details>\u001b[0m\n\u001b[0m    ^\u001b[0m\n\u001b[0;31mSyntaxError\u001b[0m\u001b[0;31m:\u001b[0m invalid syntax\n"
          ]
        }
      ],
      "source": [
        "<details>\n",
        "  <summary>Nhấn vào đây để xem kết quả!</summary>\n",
        "  <pre>[ 6  9 10  8  6]\n",
        "</pre>\n",
        "  \n",
        "</details>"
      ]
    }
  ]
}