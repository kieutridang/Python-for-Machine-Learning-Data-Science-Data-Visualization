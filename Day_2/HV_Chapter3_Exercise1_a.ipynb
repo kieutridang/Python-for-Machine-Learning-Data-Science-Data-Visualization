{
  "nbformat": 4,
  "nbformat_minor": 0,
  "metadata": {
    "colab": {
      "name": "HV_Chapter3_Exercise1_a.ipynb",
      "provenance": []
    },
    "kernelspec": {
      "display_name": "Python 3",
      "language": "python",
      "name": "python3"
    },
    "language_info": {
      "codemirror_mode": {
        "name": "ipython",
        "version": 3
      },
      "file_extension": ".py",
      "mimetype": "text/x-python",
      "name": "python",
      "nbconvert_exporter": "python",
      "pygments_lexer": "ipython3",
      "version": "3.7.6-final"
    }
  },
  "cells": [
    {
      "cell_type": "markdown",
      "metadata": {
        "colab_type": "text",
        "id": "dlvl6kiulffy"
      },
      "source": [
        "## Chapter 3 - Exercise 1a: Thực hiện các yêu cầu sau, và đối chiếu với kết quả cho trước"
      ]
    },
    {
      "cell_type": "code",
      "metadata": {
        "colab_type": "code",
        "id": "gr8DM63nlff1",
        "colab": {}
      },
      "source": [
        "import numpy as np"
      ],
      "execution_count": 43,
      "outputs": []
    },
    {
      "cell_type": "code",
      "metadata": {
        "colab_type": "code",
        "id": "xBDidl2SmUe2",
        "colab": {},
        "tags": []
      },
      "source": [
        "# Câu 1: Tạo numpy array có giá trị từ 0-9 và lưu vào biến arr\n",
        "arr = np.arange(10)\n",
        "\n",
        "# Hiển thị các phần tử có trong arr\n",
        "print('arr:', arr)\n",
        "\n",
        "# Xem kiểu dữ liệu (type) của arr\n",
        "print('dtype of arr', arr.dtype)\n",
        "print('type of arr', type(arr))\n",
        "\n",
        "# Xem kích thước (shape) của arr\n",
        "print('legnth of arr', arr.shape)"
      ],
      "execution_count": 44,
      "outputs": [
        {
          "output_type": "stream",
          "name": "stdout",
          "text": "arr: [0 1 2 3 4 5 6 7 8 9]\ndtype of arr int64\ntype of arr <class 'numpy.ndarray'>\nlegnth of arr (10,)\n"
        }
      ]
    },
    {
      "cell_type": "markdown",
      "metadata": {
        "id": "LZJIOqyuSdJ5",
        "colab_type": "text"
      },
      "source": [
        "<details>\n",
        "  <summary>Nhấn vào đây để xem kết quả!</summary>\n",
        "  <pre>[0 1 2 3 4 5 6 7 8 9]\n",
        "&lt;class 'numpy.ndarray'&gt;\n",
        "(10,)\n",
        "</pre>\n",
        "  \n",
        "</details>"
      ]
    },
    {
      "cell_type": "code",
      "metadata": {
        "colab_type": "code",
        "id": "h1gyIEtolff4",
        "colab": {},
        "tags": []
      },
      "source": [
        "# Câu 2: Từ array arr ở câu 1 => tạo arr_odd và arr_even \n",
        "\n",
        "arr_odd = arr[arr % 2 != 0]\n",
        "arr_even = arr[arr % 2 == 0]\n",
        "# Hiển thị các phần tử có trong arr_odd và arr_even\n",
        "print('arr_even:', arr_even)\n",
        "print('arr_odd:', arr_odd)"
      ],
      "execution_count": 45,
      "outputs": [
        {
          "output_type": "stream",
          "name": "stdout",
          "text": "arr_even: [0 2 4 6 8]\narr_odd: [1 3 5 7 9]\n"
        }
      ]
    },
    {
      "cell_type": "markdown",
      "metadata": {
        "id": "vGkWF5F1SdJ9",
        "colab_type": "text"
      },
      "source": [
        "<details>\n",
        "  <summary>Nhấn vào đây để xem kết quả!</summary>\n",
        "  <pre>Odd array:\n",
        "[1 3 5 7 9]\n",
        "Event array:\n",
        "[0 2 4 6 8]\n",
        "</pre>\n",
        "  \n",
        "</details>"
      ]
    },
    {
      "cell_type": "code",
      "metadata": {
        "colab_type": "code",
        "id": "OL6Y8tdxlff6",
        "colab": {},
        "tags": []
      },
      "source": [
        "# Câu 3: Từ array arr ở câu 1=> tạo arr_update_1 với các phần tử chẵn giữ nguyên, các phần tử lẻ thay bằng 100\n",
        "new_arr = np.array(arr)\n",
        "print(arr)\n",
        "new_arr[new_arr % 2 != 0] = 100\n",
        "\n",
        "# Hiển thị các phần tử có trong arr_update_1\n",
        "print(new_arr)"
      ],
      "execution_count": 46,
      "outputs": [
        {
          "output_type": "stream",
          "name": "stdout",
          "text": "[0 1 2 3 4 5 6 7 8 9]\n[  0 100   2 100   4 100   6 100   8 100]\n"
        }
      ]
    },
    {
      "cell_type": "markdown",
      "metadata": {
        "id": "jiMQUr2WSdKA",
        "colab_type": "text"
      },
      "source": [
        "<details>\n",
        "  <summary>Nhấn vào đây để xem kết quả!</summary>\n",
        "  <pre>[  0 100   2 100   4 100   6 100   8 100]\n",
        "</pre>\n",
        "  \n",
        "</details>"
      ]
    }
  ]
}