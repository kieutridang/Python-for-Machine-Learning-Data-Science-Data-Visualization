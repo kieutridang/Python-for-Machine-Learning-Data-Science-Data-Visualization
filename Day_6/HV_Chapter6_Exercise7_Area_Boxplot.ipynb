{
 "cells": [
  {
   "cell_type": "markdown",
   "metadata": {},
   "source": [
    "## Chapter 6 - Exercise 7: Area plot, Boxplot"
   ]
  },
  {
   "cell_type": "markdown",
   "metadata": {},
   "source": [
    "#### Thực hành vẽ Area plot, Box plot trên 2 tập dữ liệu khác nhau, và đối chiếu với kết quả cho trước:"
   ]
  },
  {
   "cell_type": "markdown",
   "metadata": {},
   "source": [
    "### Part 1: Area Plot"
   ]
  },
  {
   "cell_type": "code",
   "execution_count": 1,
   "metadata": {},
   "outputs": [],
   "source": [
    "import pandas as pd\n",
    "import matplotlib.pyplot as plt"
   ]
  },
  {
   "cell_type": "code",
   "execution_count": 2,
   "metadata": {},
   "outputs": [],
   "source": [
    "# Cho Dữ liệu Số giờ nắng các tháng trong năm 2016, 2017 tại trạm quan trắc Vũng Tàu:\n",
    "df = pd.DataFrame(\n",
    "    {\n",
    "        'Month': [1, 2, 3, 4, 5, 6, 7, 8, 9, 10, 11, 12],\n",
    "        'Hours_2017': [183.4, 211.8, 286.4, 287.5, 238.8, 200.3, 187.4, 233.8, 225.5, 149.1, 180.2,198.3],\n",
    "        'Hours_2016': [272.8, 254.0, 296.0, 298.0, 240.1, 197.8, 240.3, 219.5, 212.7, 134.7, 215.3, 109.1]        \n",
    "    }\n",
    ")"
   ]
  },
  {
   "cell_type": "code",
   "execution_count": 3,
   "metadata": {},
   "outputs": [],
   "source": [
    "# Hiển thị nội dung của df\n"
   ]
  },
  {
   "cell_type": "markdown",
   "metadata": {},
   "source": [
    "<details>\n",
    "  <summary>Nhấn vào đây để xem kết quả!</summary>\n",
    "  <div>\n",
    "<style scoped=\"\">\n",
    "    .dataframe tbody tr th:only-of-type {\n",
    "        vertical-align: middle;\n",
    "    }\n",
    "\n",
    "    .dataframe tbody tr th {\n",
    "        vertical-align: top;\n",
    "    }\n",
    "\n",
    "    .dataframe thead th {\n",
    "        text-align: right;\n",
    "    }\n",
    "</style>\n",
    "<table border=\"1\" class=\"dataframe\">\n",
    "  <thead>\n",
    "    <tr style=\"text-align: right;\">\n",
    "      <th></th>\n",
    "      <th>Month</th>\n",
    "      <th>Hours_2017</th>\n",
    "      <th>Hours_2016</th>\n",
    "    </tr>\n",
    "  </thead>\n",
    "  <tbody>\n",
    "    <tr>\n",
    "      <th>0</th>\n",
    "      <td>1</td>\n",
    "      <td>183.4</td>\n",
    "      <td>272.8</td>\n",
    "    </tr>\n",
    "    <tr>\n",
    "      <th>1</th>\n",
    "      <td>2</td>\n",
    "      <td>211.8</td>\n",
    "      <td>254.0</td>\n",
    "    </tr>\n",
    "    <tr>\n",
    "      <th>2</th>\n",
    "      <td>3</td>\n",
    "      <td>286.4</td>\n",
    "      <td>296.0</td>\n",
    "    </tr>\n",
    "    <tr>\n",
    "      <th>3</th>\n",
    "      <td>4</td>\n",
    "      <td>287.5</td>\n",
    "      <td>298.0</td>\n",
    "    </tr>\n",
    "    <tr>\n",
    "      <th>4</th>\n",
    "      <td>5</td>\n",
    "      <td>238.8</td>\n",
    "      <td>240.1</td>\n",
    "    </tr>\n",
    "    <tr>\n",
    "      <th>5</th>\n",
    "      <td>6</td>\n",
    "      <td>200.3</td>\n",
    "      <td>197.8</td>\n",
    "    </tr>\n",
    "    <tr>\n",
    "      <th>6</th>\n",
    "      <td>7</td>\n",
    "      <td>187.4</td>\n",
    "      <td>240.3</td>\n",
    "    </tr>\n",
    "    <tr>\n",
    "      <th>7</th>\n",
    "      <td>8</td>\n",
    "      <td>233.8</td>\n",
    "      <td>219.5</td>\n",
    "    </tr>\n",
    "    <tr>\n",
    "      <th>8</th>\n",
    "      <td>9</td>\n",
    "      <td>225.5</td>\n",
    "      <td>212.7</td>\n",
    "    </tr>\n",
    "    <tr>\n",
    "      <th>9</th>\n",
    "      <td>10</td>\n",
    "      <td>149.1</td>\n",
    "      <td>134.7</td>\n",
    "    </tr>\n",
    "    <tr>\n",
    "      <th>10</th>\n",
    "      <td>11</td>\n",
    "      <td>180.2</td>\n",
    "      <td>215.3</td>\n",
    "    </tr>\n",
    "    <tr>\n",
    "      <th>11</th>\n",
    "      <td>12</td>\n",
    "      <td>198.3</td>\n",
    "      <td>109.1</td>\n",
    "    </tr>\n",
    "  </tbody>\n",
    "</table>\n",
    "</div>\n",
    "  \n",
    "</details>"
   ]
  },
  {
   "cell_type": "code",
   "execution_count": 4,
   "metadata": {},
   "outputs": [],
   "source": [
    "# Trên cùng một biểu đồ, hãy vẽ:\n",
    "#        Area plot cho 12 tháng nắng trong năm 2016\n",
    "#        Line plot cho 12 tháng nắng trong năm 2017\n",
    "# Bạn nhận xét gì về biểu đồ vừa vẽ\n",
    "\n"
   ]
  },
  {
   "cell_type": "markdown",
   "metadata": {},
   "source": [
    "<details>\n",
    "  <summary>Nhấn vào đây để xem kết quả!</summary>\n",
    "  <div class=\"output_subarea output_png\"><img src=\"data:image/png;base64,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\n",
    "\"></div>\n",
    "  \n",
    "</details>"
   ]
  },
  {
   "cell_type": "markdown",
   "metadata": {},
   "source": [
    "### Part 2: Boxplot"
   ]
  },
  {
   "cell_type": "code",
   "execution_count": 5,
   "metadata": {},
   "outputs": [],
   "source": [
    "# Cho dữ liệu baseball.csv. Đọc dữ liệu từ baseball.csv và lưu vào biến data, hiển thị 10 dòng nội dung đầu của data\n"
   ]
  },
  {
   "cell_type": "markdown",
   "metadata": {},
   "source": [
    "<details>\n",
    "  <summary>Nhấn vào đây để xem kết quả!</summary>\n",
    "  <div>\n",
    "<style scoped=\"\">\n",
    "    .dataframe tbody tr th:only-of-type {\n",
    "        vertical-align: middle;\n",
    "    }\n",
    "\n",
    "    .dataframe tbody tr th {\n",
    "        vertical-align: top;\n",
    "    }\n",
    "\n",
    "    .dataframe thead th {\n",
    "        text-align: right;\n",
    "    }\n",
    "</style>\n",
    "<table border=\"1\" class=\"dataframe\">\n",
    "  <thead>\n",
    "    <tr style=\"text-align: right;\">\n",
    "      <th></th>\n",
    "      <th>height</th>\n",
    "      <th>weight</th>\n",
    "    </tr>\n",
    "  </thead>\n",
    "  <tbody>\n",
    "    <tr>\n",
    "      <th>0</th>\n",
    "      <td>1.8796</td>\n",
    "      <td>81.646560</td>\n",
    "    </tr>\n",
    "    <tr>\n",
    "      <th>1</th>\n",
    "      <td>1.8796</td>\n",
    "      <td>97.522280</td>\n",
    "    </tr>\n",
    "    <tr>\n",
    "      <th>2</th>\n",
    "      <td>1.8288</td>\n",
    "      <td>95.254320</td>\n",
    "    </tr>\n",
    "    <tr>\n",
    "      <th>3</th>\n",
    "      <td>1.8288</td>\n",
    "      <td>95.254320</td>\n",
    "    </tr>\n",
    "    <tr>\n",
    "      <th>4</th>\n",
    "      <td>1.8542</td>\n",
    "      <td>85.275296</td>\n",
    "    </tr>\n",
    "    <tr>\n",
    "      <th>5</th>\n",
    "      <td>1.7526</td>\n",
    "      <td>79.832192</td>\n",
    "    </tr>\n",
    "    <tr>\n",
    "      <th>6</th>\n",
    "      <td>1.7526</td>\n",
    "      <td>94.800728</td>\n",
    "    </tr>\n",
    "    <tr>\n",
    "      <th>7</th>\n",
    "      <td>1.8034</td>\n",
    "      <td>90.718400</td>\n",
    "    </tr>\n",
    "    <tr>\n",
    "      <th>8</th>\n",
    "      <td>1.9304</td>\n",
    "      <td>104.779752</td>\n",
    "    </tr>\n",
    "    <tr>\n",
    "      <th>9</th>\n",
    "      <td>1.8034</td>\n",
    "      <td>81.646560</td>\n",
    "    </tr>\n",
    "  </tbody>\n",
    "</table>\n",
    "</div>\n",
    "  \n",
    "</details>"
   ]
  },
  {
   "cell_type": "code",
   "execution_count": 6,
   "metadata": {},
   "outputs": [],
   "source": [
    "# Cho biết thông tin thống kê chung của data\n"
   ]
  },
  {
   "cell_type": "markdown",
   "metadata": {},
   "source": [
    "<details>\n",
    "  <summary>Nhấn vào đây để xem kết quả!</summary>\n",
    "  <div>\n",
    "<style scoped=\"\">\n",
    "    .dataframe tbody tr th:only-of-type {\n",
    "        vertical-align: middle;\n",
    "    }\n",
    "\n",
    "    .dataframe tbody tr th {\n",
    "        vertical-align: top;\n",
    "    }\n",
    "\n",
    "    .dataframe thead th {\n",
    "        text-align: right;\n",
    "    }\n",
    "</style>\n",
    "<table border=\"1\" class=\"dataframe\">\n",
    "  <thead>\n",
    "    <tr style=\"text-align: right;\">\n",
    "      <th></th>\n",
    "      <th>height</th>\n",
    "      <th>weight</th>\n",
    "    </tr>\n",
    "  </thead>\n",
    "  <tbody>\n",
    "    <tr>\n",
    "      <th>count</th>\n",
    "      <td>1015.000000</td>\n",
    "      <td>1015.000000</td>\n",
    "    </tr>\n",
    "    <tr>\n",
    "      <th>mean</th>\n",
    "      <td>1.871717</td>\n",
    "      <td>91.330191</td>\n",
    "    </tr>\n",
    "    <tr>\n",
    "      <th>std</th>\n",
    "      <td>0.058774</td>\n",
    "      <td>9.445198</td>\n",
    "    </tr>\n",
    "    <tr>\n",
    "      <th>min</th>\n",
    "      <td>1.701800</td>\n",
    "      <td>68.038800</td>\n",
    "    </tr>\n",
    "    <tr>\n",
    "      <th>25%</th>\n",
    "      <td>1.828800</td>\n",
    "      <td>84.368112</td>\n",
    "    </tr>\n",
    "    <tr>\n",
    "      <th>50%</th>\n",
    "      <td>1.879600</td>\n",
    "      <td>90.718400</td>\n",
    "    </tr>\n",
    "    <tr>\n",
    "      <th>75%</th>\n",
    "      <td>1.905000</td>\n",
    "      <td>97.522280</td>\n",
    "    </tr>\n",
    "    <tr>\n",
    "      <th>max</th>\n",
    "      <td>2.108200</td>\n",
    "      <td>131.541680</td>\n",
    "    </tr>\n",
    "  </tbody>\n",
    "</table>\n",
    "</div>\n",
    "  \n",
    "</details>"
   ]
  },
  {
   "cell_type": "code",
   "execution_count": 7,
   "metadata": {
    "scrolled": true
   },
   "outputs": [],
   "source": [
    "# Vẽ boxplot cho dữ liệu height và weight\n",
    "\n"
   ]
  },
  {
   "cell_type": "markdown",
   "metadata": {},
   "source": [
    "<details>\n",
    "  <summary>Nhấn vào đây để xem kết quả!</summary>\n",
    "  <div class=\"output_subarea output_png\"><img src=\"data:image/png;base64,iVBORw0KGgoAAAANSUhEUgAAAXoAAAEICAYAAABRSj9aAAAABHNCSVQICAgIfAhkiAAAAAlwSFlzAAALEgAACxIB0t1+/AAAADh0RVh0U29mdHdhcmUAbWF0cGxvdGxpYiB2ZXJzaW9uMy4xLjMsIGh0dHA6Ly9tYXRwbG90bGliLm9yZy+AADFEAAATDUlEQVR4nO3df4xd5X3n8feHwVaCIfyopyYYGxPJSmJFxUFTp1qkNFG2xFRlaav9A6sKKkrkfyAFKe2Got0l3UrbattGagWt5W0sizaBPxa8NZIVyK6iulRpwpiaGOMgWYYEywQPdVqzsFvW9nf/uNfq3eHO3Dsz1zP24/dLOpq553nOOd8bhc88fu6550lVIUlq1yVLXYAk6dwy6CWpcQa9JDXOoJekxhn0ktQ4g16SGmfQS7NI8mCSPx+y71eS/OW5rkmaK4NezUvyapJ/PW3fryd5dtCxVfWfq+oL56oOaTEY9JLUOINeF70k1yV5IslUkleS/EZP2/83HZPkriQ/TPIPSf5Dn1H68iSPJnkrycEkE93j/gJYCzyV5H8l+XeL9gZ10TPodVFLcgnwFPACsBr4DHB/ks/26bsB+FPg14APAld2j+n1b4DHgauA3cDDAFX1OeBHwO1VdXlV/Zdz8oakPgx6XSz+e5J/PLvRCWyAnwXGq+o/VdW7VXUE+K/AnX3O8W+Bp6rq2ap6F/iPwPSHRT1bVXuq6jTwF8BN5+btSMO7dKkLkBbJL1fV/zj7IsmvA18AbgCu64b/WWPA3/Q5x3XAa2dfVNU7Sf5hWp8f9/z+DvC+JJdW1akF1i/Nm0Gvi91rwCtVtX6Ivq8DHz77Isn7gZ+aw7V8VKyWhFM3uth9DziZ5MtJ3p9kLMnHkvxsn77/Dbg9yb9Kshz4HSBzuNYbwIdGULM0Jwa9LmrdufTbgY3AK8CbwJ/T+aB1et+DwBfpfNj6OvAWcBz45yEv93vAv+9+TvCbC69eGk5ceESanySXA/8IrK+qV5a6HmkmjuilOUhye5LLkqwA/hA4ALy6tFVJszPopbm5AzjW3dYDd5b/LNZ5zqkbSWqcI3pJatx5eR/9ypUra926dUtdhiRdMPbt2/dmVY33azsvg37dunVMTk4udRmSdMFI8sOZ2py6kaTGGfSS1DiDXpIaZ9BLUuMMeklqnEEvDbDu2mtJ8p5t3bXXLnVp0lDOy9srpfPJD994o++D5PPGG4teizQfjuglqXEGvSQ1bmDQJ1mT5NtJDiU5mOS+Pn0+kuQ7Sf55+oIKSTYneTnJ4SQPjLJ4SdJgw8zRnwK+VFXPJ7kC2JfkW1X1Uk+fE8BvAL/ce2CSMeAR4BeAo8BzSXZPO1aSdA4NHNFX1etV9Xz397eAQ8DqaX2OV9VzwP+ddvgm4HBVHamqd+kswXbHSCqXFskNq1YReM92w6pVS1qXNKw53XWTZB3wceC7Qx6yGnit5/VR4BMznHsrsBVg7dq1cylLOqde/fGPl7oEaUGG/jC2uz7mE8D9VXVy2MP67Ou70klVba+qiaqaGB/v+6RNSdI8DBX0SZbRCfmvV9WTczj/UWBNz+vr6SzBJklaJMPcdRPga8ChqvrqHM//HLA+yY1JlgN3ArvnXqYkab6GmaO/BfgccCDJ/u6+B4G1AFW1Lcm1wCTwAeBMkvuBDVV1Msm9wNPAGLCjqg6O+k1IkmY2MOir6ln6z7X39vkxnWmZfm17gD3zqk6StGB+M1YaYMXYWN+Hmq0YG1vq0qSh+FAzaYB3zpzp/1CzM2cWvRZpPhzRS1LjDHpJapxBL0mNM+glqXEGvTTAZZdc0vehZpdd4n8+ujB41400wNunTy91CdKCOCSRpMYZ9JLUOINekhpn0EtS4wx6aQCfdaMLnXfdSAP4rBtd6BzRS1Ljhllhak2Sbyc5lORgkvv69EmSP0lyOMn3k9zc0/ZqkgNJ9ieZHPUbkCTNbpipm1PAl6rq+SRXAPuSfKuqXurpcxuwvrt9Aviz7s+zPl1Vb46qaEnS8AaO6Kvq9ap6vvv7W8AhYPW0bncAj1bH3wFXJfngyKuVJM3ZnObok6wDPg58d1rTauC1ntdH+Zc/BgU8k2Rfkq3zK1NaOj7rRhe6oe+6SXI58ARwf1WdnN7c55CzNyrcUlXHkvw08K0kP6iqvX3OvxXYCrB27dphy5LOOZ91owvdUEOSJMvohPzXq+rJPl2OAmt6Xl8PHAOoqrM/jwO7gE39rlFV26tqoqomxsfHh38HkqRZDXPXTYCvAYeq6qszdNsN3NW9++bngH+qqteTrOh+gEuSFcCtwIsjql2SNIRhpm5uAT4HHEiyv7vvQWAtQFVtA/YAvwgcBt4B7u72WwXs6vyt4FLgG1X1zZFVL0kaaGDQV9Wz9J+D7+1TwD199h8Bbpp3dZKkBfO2AWmA9/d5zk0S3p9Zxz/SecNn3UgD/B/o/6ybxS5EmidH9JLUOINekhpn0EtS4wx6SWqcH8ZKA7yP/h+8vm+xC5HmyaCXBvjf1e+eG+nC4dSNJDXOoJekxhn0ktQ4g16SGmfQS1LjDHpJapxBL0mNM+glqXHDLCW4Jsm3kxxKcjDJfX36JMmfJDmc5PtJbu5p25zk5W7bA6N+A9J89XvG/LnapKU0zDdjTwFfqqrnu+u/7kvyrap6qafPbcD67vYJ4M+ATyQZAx4BfoHOAuLPJdk97VhpSdQ8vvGaZF7HSUtp4Ii+ql6vque7v78FHAJWT+t2B/BodfwdcFWSDwKbgMNVdaSq3gUe7/aVJC2SOc3RJ1kHfBz47rSm1cBrPa+PdvfNtL/fubcmmUwyOTU1NZeyJEmzGDrok1wOPAHcX1Unpzf3OaRm2f/enVXbq2qiqibGx8eHLUuSNMBQT69MsoxOyH+9qp7s0+UosKbn9fXAMWD5DPslSYtkmLtuAnwNOFRVX52h227gru7dNz8H/FNVvQ48B6xPcmOS5cCd3b6SpEUyzIj+FuBzwIEk+7v7HgTWAlTVNmAP8IvAYeAd4O5u26kk9wJPA2PAjqo6ONJ3IEma1cCgr6pn6T/X3tungHtmaNtD5w+BJGkJ+M1YSWqcQS9JjTPoJalxBr0kNc6gl6TGGfSS1DiDXpIaZ9BLUuMMeklqnEEvSY0z6CWpcQa9JDXOoJekxhn0ktQ4g16SGjfMClM7khxP8uIM7Vcn2ZXk+0m+l+RjPW2vJjmQZH+SyVEWLkkazjAj+p3A5lnaHwT2V9XPAHcBfzyt/dNVtbGqJuZXoiRpIQYGfVXtBU7M0mUD8D+7fX8ArEuyajTlSZIWahRz9C8AvwqQZBNwA3B9t62AZ5LsS7J1tpMk2ZpkMsnk1NTUCMqSJMFogv73gau7C4d/Efh74FS37Zaquhm4DbgnySdnOklVba+qiaqaGB8fH0FZkiQYYnHwQarqJHA3QJIAr3Q3qupY9+fxJLuATcDehV5TkjS8BY/ok1yVZHn35ReAvVV1MsmKJFd0+6wAbgX63rkjSTp3Bo7okzwGfApYmeQo8BCwDKCqtgEfBR5Nchp4Cfh899BVwK7OIJ9LgW9U1TdH/QYkSbMbGPRVtWVA+3eA9X32HwFumn9pkqRR8JuxktQ4g16SGmfQS1LjDHpJapxBL0mNM+glqXEGvSQ1zqCXpMYZ9JLUOINekhpn0EtS4wx6SWqcQS9JjTPoJalxBr0kNW5g0CfZkeR4kr6rQyW5OsmuJN9P8r0kH+tp25zk5SSHkzwwysIlScMZZkS/E9g8S/uDwP6q+hngLuCPAZKMAY/QWRh8A7AlyYYFVSvN4pprriHJOd2Ac36Na665Zon/l1Rrhllham+SdbN02QD8XrfvD5KsS7IK+BBwuLvSFEkeB+6gs9ygNHI/+clPqKqlLmPBzv5BkUZlFHP0LwC/CpBkE3ADcD2wGnitp9/R7j5J0iIaRdD/PnB1kv3AF4G/B04B/YYlMw63kmxNMplkcmpqagRlSZJgiKmbQarqJHA3QDr/5nylu10GrOnpej1wbJbzbAe2A0xMTFz4//6WpPPEgkf0Sa5Ksrz78gvA3m74PwesT3Jjt/1OYPdCrydJmpuBI/okjwGfAlYmOQo8BCwDqKptwEeBR5OcpvNB6+e7baeS3As8DYwBO6rq4Ll4E5KkmQ1z182WAe3fAdbP0LYH2DO/0iRJo+A3YyWpcQa9JDXOoJekxhn0ktS4Bd9HL50v6qEPwFeuXOoyFqwe+sBSl6DGGPRqRn7nZDPPuqmvLHUVaolTN5LUOINekhpn0EtS4wx6SWqcQS9JjTPoJalxBr0kNc6gl6TGGfSS1DiDXpIaNzDok+xIcjzJizO0X5nkqSQvJDmY5O6etleTHEiyP8nkKAuXJA1nmBH9TmDzLO33AC9V1U10lhz8o541ZAE+XVUbq2pi3lVKkuZtYNBX1V7gxGxdgCuSBLi82/fUaMqTJC3UKOboH6azQPgx4ABwX1Wd6bYV8EySfUm2znaSJFuTTCaZnJqaGkFZkiQYTdB/FtgPXAdsBB5OcvaB2rdU1c3AbcA9ST4500mqantVTVTVxPj4+AjKkiTBaIL+buDJ6jgMvAJ8BKCqjnV/Hgd2AZtGcD1J0hyMIuh/BHwGIMkq4MPAkSQrklzR3b8CuBXoe+eOJOncGbjCVJLH6NxNszLJUeAhYBlAVW0DfhfYmeQAEODLVfVmkg8Buzqf0XIp8I2q+uY5eReSpBkNDPqq2jKg/Rid0fr0/UeAm+ZfmiRpFPxmrCQ1zqCXpMYZ9JLUOINekho38MNY6ULSvcvrgnb11VcvdQlqjEGvZlTVOb9GkkW5jjRKTt1IUuMMeklqnEEvSY0z6CWpcQa9JDXOoJekxhn0ktQ4g16SGmfQS1LjBgZ9kh1JjifpuzpUkiuTPJXkhSQHk9zd07Y5yctJDid5YJSFS5KGM8yIfieweZb2e4CXquomOitR/VGS5UnGgEfoLAy+AdiSZMPCypUkzdXAoK+qvcCJ2boAV6TzNKnLu31P0VkI/HBVHamqd4HHgTsWXrIkaS5GMUf/MPBR4BhwALivqs4Aq4HXevod7e7rK8nWJJNJJqempkZQliQJRhP0nwX2A9cBG4GHk3yAzkLh08342L+q2l5VE1U1MT4+PoKyJEkwmqC/G3iyOg4DrwAfoTOCX9PT73o6o35J0iIaRdD/CPgMQJJVwIeBI8BzwPokNyZZDtwJ7B7B9SRJczBw4ZEkj9G5m2ZlkqPAQ8AygKraBvwusDPJATrTNV+uqje7x94LPA2MATuq6uC5eBOSpJkNDPqq2jKg/Rhw6wxte4A98ytNkjQKfjNWkhpn0EtS4wx6SWqcQS9JjTPoJalxBr0kNc6gl6TGGfSS1DiDXpIaZ9BLUuMMeklqnEEvSY0z6CWpcQa9JDXOoJekxg2z8MgO4JeA41X1sT7tvwX8Ws/5PgqMV9WJJK8CbwGngVNVNTGqwiVJwxlmRL8T2DxTY1X9QVVtrKqNwG8Df11VJ3q6fLrbbshL0hIYGPRVtRc4Mahf1xbgsQVVJEkaqZHN0Se5jM7I/4me3QU8k2Rfkq0Djt+aZDLJ5NTU1KjKkqSL3ig/jL0d+Ntp0za3VNXNwG3APUk+OdPBVbW9qiaqamJ8fHyEZUnSxW2UQX8n06ZtuguHU1XHgV3AphFeT5I0hJEEfZIrgZ8H/qpn34okV5z9HbgVeHEU15MkDW+Y2ysfAz4FrExyFHgIWAZQVdu63X4FeKaq3u45dBWwK8nZ63yjqr45utIlScMYGPRVtWWIPjvp3IbZu+8IcNN8C5MkjYbfjJWkxhn0ktQ4g16SGmfQS1LjDHpJapxBL0mNG3h7pdSq7nc8FuW4qprXtaRRMOh10TJ8dbFw6kaSGmfQS1LjDHpJapxBL0mNM+glqXEGvSQ1zqCXpMYZ9NIAK8bGSPKebcXY2FKXJg1lYNAn2ZHkeJK+ywAm+a0k+7vbi0lOJ7mm27Y5yctJDid5YNTFS4vhnTNnKHjP9s6ZM0talzSsYUb0O4HNMzVW1R9U1caq2gj8NvDXVXUiyRjwCHAbsAHYkmTDCGqWJM3BwKCvqr3AiSHPtwV4rPv7JuBwVR2pqneBx4E75lWlJGneRjZHn+QyOiP/J7q7VgOv9XQ52t030/Fbk0wmmZyamhpVWZJ00Rvlh7G3A39bVWdH//0e8TfjU6SqantVTVTVxPj4+AjLkqSL2yiD/k7+ZdoGOiP4NT2vrweOjfB60qK47JJLCLxnu+wSb1rThWEk/09NciXw88Bf9ex+Dlif5MYky+n8Idg9iutJi+nt06epqvdsb58+vdSlSUMZ+Dz6JI8BnwJWJjkKPAQsA6iqbd1uvwI8U1Vvnz2uqk4luRd4GhgDdlTVwdGWL0kaJOfj4gsTExM1OTm51GVI0gUjyb6qmujX5iSjJDXOoJekxhn0ktS483KOPskU8MOlrkPqYyXw5lIXIfVxQ1X1/RLSeRn00vkqyeRMH3hJ5yunbiSpcQa9JDXOoJfmZvtSFyDNlXP0ktQ4R/SS1DiDXpIaZ9BLQxi0drJ0PjPopeHsZJa1k6XzmUEvDWGOaydL5xWDXpIaZ9BLUuMMeklqnEEvSY0z6KUhdNdO/g7w4SRHk3x+qWuShuUjECSpcY7oJalxBr0kNc6gl6TGGfSS1DiDXpIaZ9BLUuMMeklq3P8DsF40poKaVIoAAAAASUVORK5CYII=\n",
    "\"></div>\n",
    "    \n",
    "  <div class=\"output_subarea output_png\"><img src=\"data:image/png;base64,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\n",
    "\"></div>\n",
    "  \n",
    "</details>"
   ]
  },
  {
   "cell_type": "markdown",
   "metadata": {},
   "source": [
    "#### Kiểm tra xem dữ liệu có outliers hay không? Nếu có thì loại bỏ các outliers. Vẽ lại boxplot"
   ]
  },
  {
   "cell_type": "code",
   "execution_count": 8,
   "metadata": {},
   "outputs": [],
   "source": [
    "# Tìm, đếm các outliers\n"
   ]
  },
  {
   "cell_type": "code",
   "execution_count": 9,
   "metadata": {},
   "outputs": [],
   "source": [
    "# Loại bỏ các outliers\n"
   ]
  },
  {
   "cell_type": "code",
   "execution_count": 10,
   "metadata": {},
   "outputs": [],
   "source": [
    "# Vẽ lại box plot\n",
    "\n"
   ]
  },
  {
   "cell_type": "markdown",
   "metadata": {},
   "source": [
    "<details>\n",
    "  <summary>Nhấn vào đây để xem kết quả!</summary>\n",
    "  <div class=\"output_subarea output_png\"><img src=\"data:image/png;base64,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\n",
    "\"></div>\n",
    "    \n",
    "  <div class=\"output_subarea output_png\"><img src=\"data:image/png;base64,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\n",
    "\"></div>\n",
    "  \n",
    "</details>"
   ]
  }
 ],
 "metadata": {
  "kernelspec": {
   "display_name": "Python 3",
   "language": "python",
   "name": "python3"
  },
  "language_info": {
   "codemirror_mode": {
    "name": "ipython",
    "version": 3
   },
   "file_extension": ".py",
   "mimetype": "text/x-python",
   "name": "python",
   "nbconvert_exporter": "python",
   "pygments_lexer": "ipython3",
   "version": "3.7.4"
  }
 },
 "nbformat": 4,
 "nbformat_minor": 2
}
