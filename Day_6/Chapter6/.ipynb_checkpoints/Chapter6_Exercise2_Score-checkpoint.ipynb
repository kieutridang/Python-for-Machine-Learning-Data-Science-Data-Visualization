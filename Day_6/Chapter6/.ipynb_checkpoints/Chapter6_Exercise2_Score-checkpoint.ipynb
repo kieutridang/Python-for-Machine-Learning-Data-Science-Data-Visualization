{
 "cells": [
  {
   "cell_type": "markdown",
   "metadata": {},
   "source": [
    "## Chapter 6 - Exercise 2: Scores"
   ]
  },
  {
   "cell_type": "markdown",
   "metadata": {},
   "source": [
    "Hướng dẫn chung:\n",
    "1. Tạo dataframe từ dictionary:  <p style=\"color:blue\"> df = pd.DataFrame(dictionary)</p>\n"
   ]
  },
  {
   "cell_type": "markdown",
   "metadata": {},
   "source": [
    "#### Thực hiện các yêu cầu sau, và đối chiếu với kết quả cho trước:"
   ]
  },
  {
   "cell_type": "code",
   "execution_count": 2,
   "metadata": {},
   "outputs": [],
   "source": [
    "import pandas as pd\n",
    "import matplotlib.pyplot as plt\n",
    "import numpy as np\n",
    "\n",
    "%matplotlib inline"
   ]
  },
  {
   "cell_type": "code",
   "execution_count": 6,
   "metadata": {},
   "outputs": [
    {
     "data": {
      "text/html": [
       "<div>\n",
       "<style scoped>\n",
       "    .dataframe tbody tr th:only-of-type {\n",
       "        vertical-align: middle;\n",
       "    }\n",
       "\n",
       "    .dataframe tbody tr th {\n",
       "        vertical-align: top;\n",
       "    }\n",
       "\n",
       "    .dataframe thead th {\n",
       "        text-align: right;\n",
       "    }\n",
       "</style>\n",
       "<table border=\"1\" class=\"dataframe\">\n",
       "  <thead>\n",
       "    <tr style=\"text-align: right;\">\n",
       "      <th></th>\n",
       "      <th>first_name</th>\n",
       "      <th>last_name</th>\n",
       "      <th>female</th>\n",
       "      <th>age</th>\n",
       "      <th>preTestScore</th>\n",
       "      <th>postTestScore</th>\n",
       "    </tr>\n",
       "  </thead>\n",
       "  <tbody>\n",
       "    <tr>\n",
       "      <th>0</th>\n",
       "      <td>Jason</td>\n",
       "      <td>Miller</td>\n",
       "      <td>0</td>\n",
       "      <td>42</td>\n",
       "      <td>4</td>\n",
       "      <td>25</td>\n",
       "    </tr>\n",
       "    <tr>\n",
       "      <th>1</th>\n",
       "      <td>Molly</td>\n",
       "      <td>Jacobson</td>\n",
       "      <td>1</td>\n",
       "      <td>52</td>\n",
       "      <td>24</td>\n",
       "      <td>94</td>\n",
       "    </tr>\n",
       "    <tr>\n",
       "      <th>2</th>\n",
       "      <td>Tina</td>\n",
       "      <td>Ali</td>\n",
       "      <td>1</td>\n",
       "      <td>36</td>\n",
       "      <td>31</td>\n",
       "      <td>57</td>\n",
       "    </tr>\n",
       "    <tr>\n",
       "      <th>3</th>\n",
       "      <td>Jake</td>\n",
       "      <td>Milner</td>\n",
       "      <td>0</td>\n",
       "      <td>24</td>\n",
       "      <td>2</td>\n",
       "      <td>62</td>\n",
       "    </tr>\n",
       "    <tr>\n",
       "      <th>4</th>\n",
       "      <td>Amy</td>\n",
       "      <td>Cooze</td>\n",
       "      <td>1</td>\n",
       "      <td>73</td>\n",
       "      <td>3</td>\n",
       "      <td>70</td>\n",
       "    </tr>\n",
       "  </tbody>\n",
       "</table>\n",
       "</div>"
      ],
      "text/plain": [
       "  first_name last_name  female  age  preTestScore  postTestScore\n",
       "0      Jason    Miller       0   42             4             25\n",
       "1      Molly  Jacobson       1   52            24             94\n",
       "2       Tina       Ali       1   36            31             57\n",
       "3       Jake    Milner       0   24             2             62\n",
       "4        Amy     Cooze       1   73             3             70"
      ]
     },
     "execution_count": 6,
     "metadata": {},
     "output_type": "execute_result"
    }
   ],
   "source": [
    "# Câu 1: Cho dữ liệu sau:\n",
    "raw_data = {'first_name': ['Jason', 'Molly', 'Tina', 'Jake', 'Amy'], \n",
    "            'last_name': ['Miller', 'Jacobson', 'Ali', 'Milner', 'Cooze'], \n",
    "            'female': [0, 1, 1, 0, 1],\n",
    "            'age': [42, 52, 36, 24, 73], \n",
    "            'preTestScore': [4, 24, 31, 2, 3],\n",
    "            'postTestScore': [25, 94, 57, 62, 70]}\n",
    "\n",
    "# Tạo DataFrame df từ dữ liệu trên. In nội dung của df.\n",
    "df = pd.DataFrame(raw_data)\n",
    "df"
   ]
  },
  {
   "cell_type": "markdown",
   "metadata": {},
   "source": [
    "<details>\n",
    "  <summary>Nhấn vào đây để xem kết quả !</summary>\n",
    "  \n",
    "<div>\n",
    "<style scoped=\"\">\n",
    "    .dataframe tbody tr th:only-of-type {\n",
    "        vertical-align: middle;\n",
    "    }\n",
    "\n",
    "    .dataframe tbody tr th {\n",
    "        vertical-align: top;\n",
    "    }\n",
    "\n",
    "    .dataframe thead th {\n",
    "        text-align: right;\n",
    "    }\n",
    "</style>\n",
    "<table border=\"1\" class=\"dataframe\">\n",
    "  <thead>\n",
    "    <tr style=\"text-align: right;\">\n",
    "      <th></th>\n",
    "      <th>first_name</th>\n",
    "      <th>last_name</th>\n",
    "      <th>female</th>\n",
    "      <th>age</th>\n",
    "      <th>preTestScore</th>\n",
    "      <th>postTestScore</th>\n",
    "    </tr>\n",
    "  </thead>\n",
    "  <tbody>\n",
    "    <tr>\n",
    "      <th>0</th>\n",
    "      <td>Jason</td>\n",
    "      <td>Miller</td>\n",
    "      <td>0</td>\n",
    "      <td>42</td>\n",
    "      <td>4</td>\n",
    "      <td>25</td>\n",
    "    </tr>\n",
    "    <tr>\n",
    "      <th>1</th>\n",
    "      <td>Molly</td>\n",
    "      <td>Jacobson</td>\n",
    "      <td>1</td>\n",
    "      <td>52</td>\n",
    "      <td>24</td>\n",
    "      <td>94</td>\n",
    "    </tr>\n",
    "    <tr>\n",
    "      <th>2</th>\n",
    "      <td>Tina</td>\n",
    "      <td>Ali</td>\n",
    "      <td>1</td>\n",
    "      <td>36</td>\n",
    "      <td>31</td>\n",
    "      <td>57</td>\n",
    "    </tr>\n",
    "    <tr>\n",
    "      <th>3</th>\n",
    "      <td>Jake</td>\n",
    "      <td>Milner</td>\n",
    "      <td>0</td>\n",
    "      <td>24</td>\n",
    "      <td>2</td>\n",
    "      <td>62</td>\n",
    "    </tr>\n",
    "    <tr>\n",
    "      <th>4</th>\n",
    "      <td>Amy</td>\n",
    "      <td>Cooze</td>\n",
    "      <td>1</td>\n",
    "      <td>73</td>\n",
    "      <td>3</td>\n",
    "      <td>70</td>\n",
    "    </tr>\n",
    "  </tbody>\n",
    "</table>\n",
    "</div>\n",
    "\n",
    "</details>"
   ]
  },
  {
   "cell_type": "code",
   "execution_count": 4,
   "metadata": {},
   "outputs": [
    {
     "data": {
      "text/plain": [
       "Text(0, 0.5, 'preTestScore')"
      ]
     },
     "execution_count": 4,
     "metadata": {},
     "output_type": "execute_result"
    },
    {
     "data": {
      "image/png": "[encoded data removed]",
      "text/plain": [
       "<Figure size 432x288 with 1 Axes>"
      ]
     },
     "metadata": {
      "needs_background": "light"
     },
     "output_type": "display_data"
    }
   ],
   "source": [
    "# Câu 2: Tạo một Scatterplot của preTestScore và postTestScore, với kích thước s của mỗi điểm được xác định theo age. \n",
    "plt.scatter(df.preTestScore, df.postTestScore, s=df.age)\n",
    "\n",
    "# Thiết lập xlabel, ylabel và title.\n",
    "plt.title(\"preTestScore & postTestScore\")\n",
    "plt.xlabel('preTestScore')\n",
    "plt.ylabel('preTestScore')"
   ]
  },
  {
   "cell_type": "markdown",
   "metadata": {},
   "source": [
    "<details>\n",
    "  <summary>Nhấn vào đây để xem kết quả !</summary>\n",
    "  \n",
    "<pre>Text(0, 0.5, 'preTestScore')</pre>\n",
    "\n",
    "<div class=\"output_subarea output_png\"><img src=\"data:image/png;base64,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\n",
    "\"></div>\n",
    "\n",
    "</details>"
   ]
  },
  {
   "cell_type": "code",
   "execution_count": 5,
   "metadata": {},
   "outputs": [
    {
     "data": {
      "text/plain": [
       "Text(0, 0.5, 'preTestScore')"
      ]
     },
     "execution_count": 5,
     "metadata": {},
     "output_type": "execute_result"
    },
    {
     "data": {
      "image/png": "[encoded data removed]",
      "text/plain": [
       "<Figure size 432x288 with 1 Axes>"
      ]
     },
     "metadata": {
      "needs_background": "light"
     },
     "output_type": "display_data"
    }
   ],
   "source": [
    "# Câu 3: Tạo một Scatterplot của preTestScore và postTestScore. \n",
    "# Lần này, kích thước s sẽ gấp 4.5 lần postTestScore, màu c được xác định theo giới tính\n",
    "plt.scatter(df.preTestScore, df.postTestScore, s= df.postTestScore * 4.5, c = df.female)\n",
    "\n",
    "# Thiết lập xlabel, ylabel và title\n",
    "plt.title(\"preTestScore x postTestScore\")\n",
    "plt.xlabel('preTestScore')\n",
    "plt.ylabel('preTestScore')"
   ]
  },
  {
   "cell_type": "markdown",
   "metadata": {},
   "source": [
    "<details>\n",
    "  <summary>Nhấn vào đây để xem kết quả !</summary>\n",
    "  \n",
    "<pre>Text(0, 0.5, 'preTestScore')</pre>\n",
    "\n",
    "<div class=\"output_subarea output_png\"><img src=\"data:image/png;base64,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\n",
    "\"></div>\n",
    "\n",
    "</details>"
   ]
  }
 ],
 "metadata": {
  "kernelspec": {
   "display_name": "Python 3",
   "language": "python",
   "name": "python3"
  },
  "language_info": {
   "codemirror_mode": {
    "name": "ipython",
    "version": 3
   },
   "file_extension": ".py",
   "mimetype": "text/x-python",
   "name": "python",
   "nbconvert_exporter": "python",
   "pygments_lexer": "ipython3",
   "version": "3.7.4"
  }
 },
 "nbformat": 4,
 "nbformat_minor": 1
}
