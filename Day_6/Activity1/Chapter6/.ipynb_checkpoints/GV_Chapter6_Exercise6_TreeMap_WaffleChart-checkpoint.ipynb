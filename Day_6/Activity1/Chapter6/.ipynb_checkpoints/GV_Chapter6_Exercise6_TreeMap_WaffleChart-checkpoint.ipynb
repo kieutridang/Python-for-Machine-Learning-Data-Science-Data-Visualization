{
 "cells": [
  {
   "cell_type": "markdown",
   "metadata": {},
   "source": [
    "## Chapter 6 - Exercise 7: TreeMap - Waffle Chart"
   ]
  },
  {
   "cell_type": "markdown",
   "metadata": {},
   "source": [
    "### Part 1: TreeMap\n",
    "- Cho dữ liệu là danh sách ứng viên và số phiếu bầu trong cuộc bầu cử tổng thống Mỹ năm 2016.\n",
    "- Vẽ 3 TreeMap thể hiện tỷ lệ số phiếu bầu lần lượt cho ứng viên ở Virginia, Maryland và West Virginia\n",
    "- Tính tổng số phiếu bầu của từng ứng viên ở cả 3 khu vực"
   ]
  },
  {
   "cell_type": "code",
   "execution_count": 1,
   "metadata": {},
   "outputs": [
    {
     "ename": "ModuleNotFoundError",
     "evalue": "No module named 'pywaffle'",
     "output_type": "error",
     "traceback": [
      "\u001b[1;31m---------------------------------------------------------------------------\u001b[0m",
      "\u001b[1;31mModuleNotFoundError\u001b[0m                       Traceback (most recent call last)",
      "\u001b[1;32m<ipython-input-1-812913c32f6f>\u001b[0m in \u001b[0;36m<module>\u001b[1;34m\u001b[0m\n\u001b[0;32m      1\u001b[0m \u001b[1;32mimport\u001b[0m \u001b[0mpandas\u001b[0m \u001b[1;32mas\u001b[0m \u001b[0mpd\u001b[0m\u001b[1;33m\u001b[0m\u001b[1;33m\u001b[0m\u001b[0m\n\u001b[0;32m      2\u001b[0m \u001b[1;32mimport\u001b[0m \u001b[0mmatplotlib\u001b[0m\u001b[1;33m.\u001b[0m\u001b[0mpyplot\u001b[0m \u001b[1;32mas\u001b[0m \u001b[0mplt\u001b[0m\u001b[1;33m\u001b[0m\u001b[1;33m\u001b[0m\u001b[0m\n\u001b[1;32m----> 3\u001b[1;33m \u001b[1;32mfrom\u001b[0m \u001b[0mpywaffle\u001b[0m \u001b[1;32mimport\u001b[0m \u001b[0mWaffle\u001b[0m\u001b[1;33m\u001b[0m\u001b[1;33m\u001b[0m\u001b[0m\n\u001b[0m\u001b[0;32m      4\u001b[0m \u001b[1;32mimport\u001b[0m \u001b[0msquarify\u001b[0m\u001b[1;33m\u001b[0m\u001b[1;33m\u001b[0m\u001b[0m\n",
      "\u001b[1;31mModuleNotFoundError\u001b[0m: No module named 'pywaffle'"
     ]
    }
   ],
   "source": [
    "import pandas as pd\n",
    "import matplotlib.pyplot as plt\n",
    "from pywaffle import Waffle\n",
    "import squarify "
   ]
  },
  {
   "cell_type": "code",
   "execution_count": 2,
   "metadata": {},
   "outputs": [],
   "source": [
    "# Cho dữ liệu: \n",
    "df = pd.DataFrame(\n",
    "    {\n",
    "        'Name': ['Hillary Clinton', 'Donald Trump', 'Others'],\n",
    "        'Virginia': [1981473, 1769443, 233715],\n",
    "        'Maryland': [1677928, 943169, 160349],\n",
    "        'West Virginia': [188794, 489371, 36258],\n",
    "    }\n",
    ")"
   ]
  },
  {
   "cell_type": "code",
   "execution_count": 3,
   "metadata": {},
   "outputs": [
    {
     "data": {
      "text/html": [
       "<div>\n",
       "<style scoped>\n",
       "    .dataframe tbody tr th:only-of-type {\n",
       "        vertical-align: middle;\n",
       "    }\n",
       "\n",
       "    .dataframe tbody tr th {\n",
       "        vertical-align: top;\n",
       "    }\n",
       "\n",
       "    .dataframe thead th {\n",
       "        text-align: right;\n",
       "    }\n",
       "</style>\n",
       "<table border=\"1\" class=\"dataframe\">\n",
       "  <thead>\n",
       "    <tr style=\"text-align: right;\">\n",
       "      <th></th>\n",
       "      <th>Name</th>\n",
       "      <th>Virginia</th>\n",
       "      <th>Maryland</th>\n",
       "      <th>West Virginia</th>\n",
       "    </tr>\n",
       "  </thead>\n",
       "  <tbody>\n",
       "    <tr>\n",
       "      <th>0</th>\n",
       "      <td>Hillary Clinton</td>\n",
       "      <td>1981473</td>\n",
       "      <td>1677928</td>\n",
       "      <td>188794</td>\n",
       "    </tr>\n",
       "    <tr>\n",
       "      <th>1</th>\n",
       "      <td>Donald Trump</td>\n",
       "      <td>1769443</td>\n",
       "      <td>943169</td>\n",
       "      <td>489371</td>\n",
       "    </tr>\n",
       "    <tr>\n",
       "      <th>2</th>\n",
       "      <td>Others</td>\n",
       "      <td>233715</td>\n",
       "      <td>160349</td>\n",
       "      <td>36258</td>\n",
       "    </tr>\n",
       "  </tbody>\n",
       "</table>\n",
       "</div>"
      ],
      "text/plain": [
       "              Name  Virginia  Maryland  West Virginia\n",
       "0  Hillary Clinton   1981473   1677928         188794\n",
       "1     Donald Trump   1769443    943169         489371\n",
       "2           Others    233715    160349          36258"
      ]
     },
     "execution_count": 3,
     "metadata": {},
     "output_type": "execute_result"
    }
   ],
   "source": [
    "# In nội dung của df\n",
    "df"
   ]
  },
  {
   "cell_type": "code",
   "execution_count": 2,
   "metadata": {},
   "outputs": [
    {
     "ename": "NameError",
     "evalue": "name 'squarify' is not defined",
     "output_type": "error",
     "traceback": [
      "\u001b[1;31m---------------------------------------------------------------------------\u001b[0m",
      "\u001b[1;31mNameError\u001b[0m                                 Traceback (most recent call last)",
      "\u001b[1;32m<ipython-input-2-5c9282737455>\u001b[0m in \u001b[0;36m<module>\u001b[1;34m\u001b[0m\n\u001b[0;32m      1\u001b[0m \u001b[1;31m# Vẽ TreeMap thể hiện tỷ lệ số phiếu bầu lần lượt cho ứng viên ở Virginia\u001b[0m\u001b[1;33m\u001b[0m\u001b[1;33m\u001b[0m\u001b[1;33m\u001b[0m\u001b[0m\n\u001b[0;32m      2\u001b[0m \u001b[0mplt\u001b[0m\u001b[1;33m.\u001b[0m\u001b[0mfigure\u001b[0m\u001b[1;33m(\u001b[0m\u001b[0mfigsize\u001b[0m\u001b[1;33m=\u001b[0m\u001b[1;33m(\u001b[0m\u001b[1;36m8\u001b[0m\u001b[1;33m,\u001b[0m\u001b[1;36m6\u001b[0m\u001b[1;33m)\u001b[0m\u001b[1;33m)\u001b[0m\u001b[1;33m\u001b[0m\u001b[1;33m\u001b[0m\u001b[0m\n\u001b[1;32m----> 3\u001b[1;33m \u001b[0msquarify\u001b[0m\u001b[1;33m.\u001b[0m\u001b[0mplot\u001b[0m\u001b[1;33m(\u001b[0m\u001b[0msizes\u001b[0m\u001b[1;33m=\u001b[0m\u001b[0mdf\u001b[0m\u001b[1;33m.\u001b[0m\u001b[0mVirginia\u001b[0m\u001b[1;33m.\u001b[0m\u001b[0mvalues\u001b[0m\u001b[1;33m,\u001b[0m \u001b[0mlabel\u001b[0m\u001b[1;33m=\u001b[0m\u001b[0mdf\u001b[0m\u001b[1;33m.\u001b[0m\u001b[0mName\u001b[0m\u001b[1;33m.\u001b[0m\u001b[0mvalues\u001b[0m\u001b[1;33m)\u001b[0m\u001b[1;33m\u001b[0m\u001b[1;33m\u001b[0m\u001b[0m\n\u001b[0m\u001b[0;32m      4\u001b[0m \u001b[0mplt\u001b[0m\u001b[1;33m.\u001b[0m\u001b[0mtitle\u001b[0m\u001b[1;33m(\u001b[0m\u001b[1;34m\"2016 Virginia Presidential Election Results\"\u001b[0m\u001b[1;33m,\u001b[0m \u001b[0mfontsize\u001b[0m\u001b[1;33m=\u001b[0m\u001b[1;36m18\u001b[0m\u001b[1;33m,\u001b[0m \u001b[0mcolor\u001b[0m \u001b[1;33m=\u001b[0m \u001b[1;34m'b'\u001b[0m\u001b[1;33m)\u001b[0m\u001b[1;33m\u001b[0m\u001b[1;33m\u001b[0m\u001b[0m\n\u001b[0;32m      5\u001b[0m \u001b[0mplt\u001b[0m\u001b[1;33m.\u001b[0m\u001b[0maxis\u001b[0m\u001b[1;33m(\u001b[0m\u001b[1;34m'off'\u001b[0m\u001b[1;33m)\u001b[0m\u001b[1;33m\u001b[0m\u001b[1;33m\u001b[0m\u001b[0m\n",
      "\u001b[1;31mNameError\u001b[0m: name 'squarify' is not defined"
     ]
    },
    {
     "data": {
      "text/plain": [
       "<Figure size 576x432 with 0 Axes>"
      ]
     },
     "metadata": {},
     "output_type": "display_data"
    }
   ],
   "source": [
    "# Vẽ TreeMap thể hiện tỷ lệ số phiếu bầu lần lượt cho ứng viên ở Virginia\n",
    "plt.figure(figsize=(8,6))\n",
    "squarify.plot(sizes=df.Virginia.values, label=df.Name.values)\n",
    "plt.title(\"2016 Virginia Presidential Election Results\", fontsize=18, color = 'b')\n",
    "plt.axis('off')\n",
    "plt.show()"
   ]
  },
  {
   "cell_type": "code",
   "execution_count": 5,
   "metadata": {},
   "outputs": [
    {
     "data": {
      "image/png": "[encoded data removed]",
      "text/plain": [
       "<Figure size 576x432 with 1 Axes>"
      ]
     },
     "metadata": {
      "needs_background": "light"
     },
     "output_type": "display_data"
    }
   ],
   "source": [
    "# Vẽ TreeMap thể hiện tỷ lệ số phiếu bầu lần lượt cho ứng viên ở Maryland\n",
    "plt.figure(figsize=(8,6))\n",
    "squarify.plot(sizes=df.Maryland.values, label=df.Name.values)\n",
    "plt.title(\"2016 Maryland Presidential Election Results\", fontsize=18, color = 'b')\n",
    "plt.axis('off')\n",
    "plt.show()"
   ]
  },
  {
   "cell_type": "markdown",
   "metadata": {},
   "source": [
    "<details>\n",
    "  <summary>Nhấn vào đây để xem kết quả !</summary>\n",
    "  \n",
    "<div class=\"output_subarea output_png\"><img src=\"data:image/png;base64,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\n",
    "\"></div>\n",
    "\n",
    "</details>"
   ]
  },
  {
   "cell_type": "code",
   "execution_count": 6,
   "metadata": {},
   "outputs": [
    {
     "data": {
      "image/png": "[encoded data removed]",
      "text/plain": [
       "<Figure size 576x432 with 1 Axes>"
      ]
     },
     "metadata": {
      "needs_background": "light"
     },
     "output_type": "display_data"
    }
   ],
   "source": [
    "# Vẽ TreeMap thể hiện tỷ lệ số phiếu bầu lần lượt cho ứng viên ở West Virginia\n",
    "plt.figure(figsize=(8,6))\n",
    "squarify.plot(sizes=df['West Virginia'].values, label=df.Name.values)\n",
    "plt.title(\"2016 West Virginia Presidential Election Results\", fontsize=18, color = 'b')\n",
    "plt.axis('off')\n",
    "plt.show()"
   ]
  },
  {
   "cell_type": "markdown",
   "metadata": {},
   "source": [
    "<details>\n",
    "  <summary>Nhấn vào đây để xem kết quả !</summary>\n",
    "  \n",
    "<div class=\"output_subarea output_png\"><img src=\"data:image/png;base64,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\n",
    "\"></div>\n",
    "\n",
    "</details>"
   ]
  },
  {
   "cell_type": "code",
   "execution_count": 7,
   "metadata": {},
   "outputs": [
    {
     "data": {
      "text/html": [
       "<div>\n",
       "<style scoped>\n",
       "    .dataframe tbody tr th:only-of-type {\n",
       "        vertical-align: middle;\n",
       "    }\n",
       "\n",
       "    .dataframe tbody tr th {\n",
       "        vertical-align: top;\n",
       "    }\n",
       "\n",
       "    .dataframe thead th {\n",
       "        text-align: right;\n",
       "    }\n",
       "</style>\n",
       "<table border=\"1\" class=\"dataframe\">\n",
       "  <thead>\n",
       "    <tr style=\"text-align: right;\">\n",
       "      <th></th>\n",
       "      <th>Name</th>\n",
       "      <th>Virginia</th>\n",
       "      <th>Maryland</th>\n",
       "      <th>West Virginia</th>\n",
       "      <th>Total</th>\n",
       "    </tr>\n",
       "  </thead>\n",
       "  <tbody>\n",
       "    <tr>\n",
       "      <th>0</th>\n",
       "      <td>Hillary Clinton</td>\n",
       "      <td>1981473</td>\n",
       "      <td>1677928</td>\n",
       "      <td>188794</td>\n",
       "      <td>3848195</td>\n",
       "    </tr>\n",
       "    <tr>\n",
       "      <th>1</th>\n",
       "      <td>Donald Trump</td>\n",
       "      <td>1769443</td>\n",
       "      <td>943169</td>\n",
       "      <td>489371</td>\n",
       "      <td>3201983</td>\n",
       "    </tr>\n",
       "    <tr>\n",
       "      <th>2</th>\n",
       "      <td>Others</td>\n",
       "      <td>233715</td>\n",
       "      <td>160349</td>\n",
       "      <td>36258</td>\n",
       "      <td>430322</td>\n",
       "    </tr>\n",
       "  </tbody>\n",
       "</table>\n",
       "</div>"
      ],
      "text/plain": [
       "              Name  Virginia  Maryland  West Virginia    Total\n",
       "0  Hillary Clinton   1981473   1677928         188794  3848195\n",
       "1     Donald Trump   1769443    943169         489371  3201983\n",
       "2           Others    233715    160349          36258   430322"
      ]
     },
     "execution_count": 7,
     "metadata": {},
     "output_type": "execute_result"
    }
   ],
   "source": [
    "# Tính tổng số phiếu bầu của từng ứng viên ở cả 3 khu vực\n",
    "df['Total'] = df.Virginia + df.Maryland + df['West Virginia']\n",
    "df"
   ]
  },
  {
   "cell_type": "markdown",
   "metadata": {},
   "source": [
    "<details>\n",
    "  <summary>Nhấn vào đây để xem kết quả !</summary>\n",
    "  \n",
    "<div>\n",
    "<style scoped=\"\">\n",
    "    .dataframe tbody tr th:only-of-type {\n",
    "        vertical-align: middle;\n",
    "    }\n",
    "\n",
    "    .dataframe tbody tr th {\n",
    "        vertical-align: top;\n",
    "    }\n",
    "\n",
    "    .dataframe thead th {\n",
    "        text-align: right;\n",
    "    }\n",
    "</style>\n",
    "<table border=\"1\" class=\"dataframe\">\n",
    "  <thead>\n",
    "    <tr style=\"text-align: right;\">\n",
    "      <th></th>\n",
    "      <th>Name</th>\n",
    "      <th>Virginia</th>\n",
    "      <th>Maryland</th>\n",
    "      <th>West Virginia</th>\n",
    "      <th>Total</th>\n",
    "    </tr>\n",
    "  </thead>\n",
    "  <tbody>\n",
    "    <tr>\n",
    "      <th>0</th>\n",
    "      <td>Hillary Clinton</td>\n",
    "      <td>1981473</td>\n",
    "      <td>1677928</td>\n",
    "      <td>188794</td>\n",
    "      <td>3848195</td>\n",
    "    </tr>\n",
    "    <tr>\n",
    "      <th>1</th>\n",
    "      <td>Donald Trump</td>\n",
    "      <td>1769443</td>\n",
    "      <td>943169</td>\n",
    "      <td>489371</td>\n",
    "      <td>3201983</td>\n",
    "    </tr>\n",
    "    <tr>\n",
    "      <th>2</th>\n",
    "      <td>Others</td>\n",
    "      <td>233715</td>\n",
    "      <td>160349</td>\n",
    "      <td>36258</td>\n",
    "      <td>430322</td>\n",
    "    </tr>\n",
    "  </tbody>\n",
    "</table>\n",
    "</div>\n",
    "\n",
    "</details>"
   ]
  },
  {
   "cell_type": "markdown",
   "metadata": {},
   "source": [
    "### Part 2: Waffle Chart\n",
    "- Vẽ Waffle Chart thể hiện tỷ lệ số phiếu bầu tổng cho từng ứng viên"
   ]
  },
  {
   "cell_type": "code",
   "execution_count": 8,
   "metadata": {},
   "outputs": [
    {
     "data": {
      "text/html": [
       "<div>\n",
       "<style scoped>\n",
       "    .dataframe tbody tr th:only-of-type {\n",
       "        vertical-align: middle;\n",
       "    }\n",
       "\n",
       "    .dataframe tbody tr th {\n",
       "        vertical-align: top;\n",
       "    }\n",
       "\n",
       "    .dataframe thead th {\n",
       "        text-align: right;\n",
       "    }\n",
       "</style>\n",
       "<table border=\"1\" class=\"dataframe\">\n",
       "  <thead>\n",
       "    <tr style=\"text-align: right;\">\n",
       "      <th></th>\n",
       "      <th>Name</th>\n",
       "      <th>Virginia</th>\n",
       "      <th>Maryland</th>\n",
       "      <th>West Virginia</th>\n",
       "      <th>Total</th>\n",
       "    </tr>\n",
       "  </thead>\n",
       "  <tbody>\n",
       "    <tr>\n",
       "      <th>0</th>\n",
       "      <td>Hillary Clinton</td>\n",
       "      <td>1981473</td>\n",
       "      <td>1677928</td>\n",
       "      <td>188794</td>\n",
       "      <td>3848195</td>\n",
       "    </tr>\n",
       "    <tr>\n",
       "      <th>1</th>\n",
       "      <td>Donald Trump</td>\n",
       "      <td>1769443</td>\n",
       "      <td>943169</td>\n",
       "      <td>489371</td>\n",
       "      <td>3201983</td>\n",
       "    </tr>\n",
       "    <tr>\n",
       "      <th>2</th>\n",
       "      <td>Others</td>\n",
       "      <td>233715</td>\n",
       "      <td>160349</td>\n",
       "      <td>36258</td>\n",
       "      <td>430322</td>\n",
       "    </tr>\n",
       "  </tbody>\n",
       "</table>\n",
       "</div>"
      ],
      "text/plain": [
       "              Name  Virginia  Maryland  West Virginia    Total\n",
       "0  Hillary Clinton   1981473   1677928         188794  3848195\n",
       "1     Donald Trump   1769443    943169         489371  3201983\n",
       "2           Others    233715    160349          36258   430322"
      ]
     },
     "execution_count": 8,
     "metadata": {},
     "output_type": "execute_result"
    }
   ],
   "source": [
    "# Tính tổng số phiếu bầu của từng ứng viên ở cả 3 khu vực\n",
    "df['Total'] = df.Virginia + df.Maryland + df['West Virginia']\n",
    "df"
   ]
  },
  {
   "cell_type": "code",
   "execution_count": 9,
   "metadata": {},
   "outputs": [
    {
     "data": {
      "text/plain": [
       "array([38., 32.,  4.])"
      ]
     },
     "execution_count": 9,
     "metadata": {},
     "output_type": "execute_result"
    }
   ],
   "source": [
    "# Tỷ lệ tổng giá trị là 1/100000\n",
    "total = round(df.Total/100000)\n",
    "total.values"
   ]
  },
  {
   "cell_type": "markdown",
   "metadata": {},
   "source": [
    "<details>\n",
    "  <summary>Nhấn vào đây để xem kết quả !</summary>\n",
    "  \n",
    "<pre>array([38., 32.,  4.])</pre>\n",
    "\n",
    "</details>"
   ]
  },
  {
   "cell_type": "code",
   "execution_count": 11,
   "metadata": {},
   "outputs": [
    {
     "data": {
      "text/plain": [
       "[38.0, 32.0, 4.0]"
      ]
     },
     "execution_count": 11,
     "metadata": {},
     "output_type": "execute_result"
    },
    {
     "data": {
      "image/png": "[encoded data removed]",
      "text/plain": [
       "<Waffle size 720x360 with 1 Axes>"
      ]
     },
     "metadata": {
      "needs_background": "light"
     },
     "output_type": "display_data"
    }
   ],
   "source": [
    "# Vẽ Waffle Chart\n",
    "fig = plt.figure(\n",
    "    FigureClass=Waffle, \n",
    "    rows=df.shape[0],\n",
    "    values=list(total),\n",
    "    labels=list(df.Name),\n",
    "    figsize=(10, 5),\n",
    "    legend={'loc': 'upper left', 'bbox_to_anchor': (1, 1)\n",
    "    }\n",
    ")\n",
    "plt.title(\"2016 Presidential Election Results\", fontsize=18, color = 'b')\n",
    "list(total)"
   ]
  },
  {
   "cell_type": "markdown",
   "metadata": {},
   "source": [
    "<details>\n",
    "  <summary>Nhấn vào đây để xem kết quả !</summary>\n",
    "  \n",
    "<pre>Text(0.5, 1.0, '2016 Presidential Election Results')</pre>\n",
    "\n",
    "<div class=\"output_subarea output_png\"><img src=\"data:image/png;base64,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\n",
    "\"></div>\n",
    "\n",
    "</details>"
   ]
  },
  {
   "cell_type": "code",
   "execution_count": null,
   "metadata": {},
   "outputs": [],
   "source": []
  }
 ],
 "metadata": {
  "kernelspec": {
   "display_name": "Python 3",
   "language": "python",
   "name": "python3"
  },
  "language_info": {
   "codemirror_mode": {
    "name": "ipython",
    "version": 3
   },
   "file_extension": ".py",
   "mimetype": "text/x-python",
   "name": "python",
   "nbconvert_exporter": "python",
   "pygments_lexer": "ipython3",
   "version": "3.7.4"
  }
 },
 "nbformat": 4,
 "nbformat_minor": 2
}
