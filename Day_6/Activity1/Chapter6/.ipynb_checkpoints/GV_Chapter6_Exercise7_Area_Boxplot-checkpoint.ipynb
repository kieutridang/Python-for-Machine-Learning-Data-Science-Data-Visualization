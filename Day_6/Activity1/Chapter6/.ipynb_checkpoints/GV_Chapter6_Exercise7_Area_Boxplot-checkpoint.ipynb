{
 "cells": [
  {
   "cell_type": "markdown",
   "metadata": {},
   "source": [
    "## Chapter 6 - Exercise 7: Area plot, Boxplot"
   ]
  },
  {
   "cell_type": "markdown",
   "metadata": {},
   "source": [
    "#### Thực hành vẽ Area plot, Box plot trên 2 tập dữ liệu khác nhau.\n"
   ]
  },
  {
   "cell_type": "markdown",
   "metadata": {},
   "source": [
    "### Part 1: Area Plot\n",
    "- \n",
    "- "
   ]
  },
  {
   "cell_type": "code",
   "execution_count": 1,
   "metadata": {},
   "outputs": [],
   "source": [
    "import pandas as pd\n",
    "import matplotlib.pyplot as plt"
   ]
  },
  {
   "cell_type": "code",
   "execution_count": 2,
   "metadata": {},
   "outputs": [],
   "source": [
    "# Cho Dữ liệu Số giờ nắng các tháng trong năm 2016, 2017 tại trạm quan trắc Vũng Tàu:\n",
    "df = pd.DataFrame(\n",
    "    {\n",
    "        'Month': [1, 2, 3, 4, 5, 6, 7, 8, 9, 10, 11, 12],\n",
    "        'Hours_2017': [183.4, 211.8, 286.4, 287.5, 238.8, 200.3, 187.4, 233.8, 225.5, 149.1, 180.2,198.3],\n",
    "        'Hours_2016': [272.8, 254.0, 296.0, 298.0, 240.1, 197.8, 240.3, 219.5, 212.7, 134.7, 215.3, 109.1]        \n",
    "    }\n",
    ")"
   ]
  },
  {
   "cell_type": "code",
   "execution_count": 3,
   "metadata": {},
   "outputs": [
    {
     "data": {
      "text/html": [
       "<div>\n",
       "<style scoped>\n",
       "    .dataframe tbody tr th:only-of-type {\n",
       "        vertical-align: middle;\n",
       "    }\n",
       "\n",
       "    .dataframe tbody tr th {\n",
       "        vertical-align: top;\n",
       "    }\n",
       "\n",
       "    .dataframe thead th {\n",
       "        text-align: right;\n",
       "    }\n",
       "</style>\n",
       "<table border=\"1\" class=\"dataframe\">\n",
       "  <thead>\n",
       "    <tr style=\"text-align: right;\">\n",
       "      <th></th>\n",
       "      <th>Month</th>\n",
       "      <th>Hours_2017</th>\n",
       "      <th>Hours_2016</th>\n",
       "    </tr>\n",
       "  </thead>\n",
       "  <tbody>\n",
       "    <tr>\n",
       "      <th>0</th>\n",
       "      <td>1</td>\n",
       "      <td>183.4</td>\n",
       "      <td>272.8</td>\n",
       "    </tr>\n",
       "    <tr>\n",
       "      <th>1</th>\n",
       "      <td>2</td>\n",
       "      <td>211.8</td>\n",
       "      <td>254.0</td>\n",
       "    </tr>\n",
       "    <tr>\n",
       "      <th>2</th>\n",
       "      <td>3</td>\n",
       "      <td>286.4</td>\n",
       "      <td>296.0</td>\n",
       "    </tr>\n",
       "    <tr>\n",
       "      <th>3</th>\n",
       "      <td>4</td>\n",
       "      <td>287.5</td>\n",
       "      <td>298.0</td>\n",
       "    </tr>\n",
       "    <tr>\n",
       "      <th>4</th>\n",
       "      <td>5</td>\n",
       "      <td>238.8</td>\n",
       "      <td>240.1</td>\n",
       "    </tr>\n",
       "    <tr>\n",
       "      <th>5</th>\n",
       "      <td>6</td>\n",
       "      <td>200.3</td>\n",
       "      <td>197.8</td>\n",
       "    </tr>\n",
       "    <tr>\n",
       "      <th>6</th>\n",
       "      <td>7</td>\n",
       "      <td>187.4</td>\n",
       "      <td>240.3</td>\n",
       "    </tr>\n",
       "    <tr>\n",
       "      <th>7</th>\n",
       "      <td>8</td>\n",
       "      <td>233.8</td>\n",
       "      <td>219.5</td>\n",
       "    </tr>\n",
       "    <tr>\n",
       "      <th>8</th>\n",
       "      <td>9</td>\n",
       "      <td>225.5</td>\n",
       "      <td>212.7</td>\n",
       "    </tr>\n",
       "    <tr>\n",
       "      <th>9</th>\n",
       "      <td>10</td>\n",
       "      <td>149.1</td>\n",
       "      <td>134.7</td>\n",
       "    </tr>\n",
       "    <tr>\n",
       "      <th>10</th>\n",
       "      <td>11</td>\n",
       "      <td>180.2</td>\n",
       "      <td>215.3</td>\n",
       "    </tr>\n",
       "    <tr>\n",
       "      <th>11</th>\n",
       "      <td>12</td>\n",
       "      <td>198.3</td>\n",
       "      <td>109.1</td>\n",
       "    </tr>\n",
       "  </tbody>\n",
       "</table>\n",
       "</div>"
      ],
      "text/plain": [
       "    Month  Hours_2017  Hours_2016\n",
       "0       1       183.4       272.8\n",
       "1       2       211.8       254.0\n",
       "2       3       286.4       296.0\n",
       "3       4       287.5       298.0\n",
       "4       5       238.8       240.1\n",
       "5       6       200.3       197.8\n",
       "6       7       187.4       240.3\n",
       "7       8       233.8       219.5\n",
       "8       9       225.5       212.7\n",
       "9      10       149.1       134.7\n",
       "10     11       180.2       215.3\n",
       "11     12       198.3       109.1"
      ]
     },
     "execution_count": 3,
     "metadata": {},
     "output_type": "execute_result"
    }
   ],
   "source": [
    "# Hiển thị nội dung của df\n",
    "df"
   ]
  },
  {
   "cell_type": "markdown",
   "metadata": {},
   "source": [
    "<details>\n",
    "  <summary>Nhấn vào đây để xem kết quả !</summary>\n",
    "  \n",
    "<div>\n",
    "<style scoped=\"\">\n",
    "    .dataframe tbody tr th:only-of-type {\n",
    "        vertical-align: middle;\n",
    "    }\n",
    "\n",
    "    .dataframe tbody tr th {\n",
    "        vertical-align: top;\n",
    "    }\n",
    "\n",
    "    .dataframe thead th {\n",
    "        text-align: right;\n",
    "    }\n",
    "</style>\n",
    "<table border=\"1\" class=\"dataframe\">\n",
    "  <thead>\n",
    "    <tr style=\"text-align: right;\">\n",
    "      <th></th>\n",
    "      <th>Month</th>\n",
    "      <th>Hours_2017</th>\n",
    "      <th>Hours_2016</th>\n",
    "    </tr>\n",
    "  </thead>\n",
    "  <tbody>\n",
    "    <tr>\n",
    "      <th>0</th>\n",
    "      <td>1</td>\n",
    "      <td>183.4</td>\n",
    "      <td>272.8</td>\n",
    "    </tr>\n",
    "    <tr>\n",
    "      <th>1</th>\n",
    "      <td>2</td>\n",
    "      <td>211.8</td>\n",
    "      <td>254.0</td>\n",
    "    </tr>\n",
    "    <tr>\n",
    "      <th>2</th>\n",
    "      <td>3</td>\n",
    "      <td>286.4</td>\n",
    "      <td>296.0</td>\n",
    "    </tr>\n",
    "    <tr>\n",
    "      <th>3</th>\n",
    "      <td>4</td>\n",
    "      <td>287.5</td>\n",
    "      <td>298.0</td>\n",
    "    </tr>\n",
    "    <tr>\n",
    "      <th>4</th>\n",
    "      <td>5</td>\n",
    "      <td>238.8</td>\n",
    "      <td>240.1</td>\n",
    "    </tr>\n",
    "    <tr>\n",
    "      <th>5</th>\n",
    "      <td>6</td>\n",
    "      <td>200.3</td>\n",
    "      <td>197.8</td>\n",
    "    </tr>\n",
    "    <tr>\n",
    "      <th>6</th>\n",
    "      <td>7</td>\n",
    "      <td>187.4</td>\n",
    "      <td>240.3</td>\n",
    "    </tr>\n",
    "    <tr>\n",
    "      <th>7</th>\n",
    "      <td>8</td>\n",
    "      <td>233.8</td>\n",
    "      <td>219.5</td>\n",
    "    </tr>\n",
    "    <tr>\n",
    "      <th>8</th>\n",
    "      <td>9</td>\n",
    "      <td>225.5</td>\n",
    "      <td>212.7</td>\n",
    "    </tr>\n",
    "    <tr>\n",
    "      <th>9</th>\n",
    "      <td>10</td>\n",
    "      <td>149.1</td>\n",
    "      <td>134.7</td>\n",
    "    </tr>\n",
    "    <tr>\n",
    "      <th>10</th>\n",
    "      <td>11</td>\n",
    "      <td>180.2</td>\n",
    "      <td>215.3</td>\n",
    "    </tr>\n",
    "    <tr>\n",
    "      <th>11</th>\n",
    "      <td>12</td>\n",
    "      <td>198.3</td>\n",
    "      <td>109.1</td>\n",
    "    </tr>\n",
    "  </tbody>\n",
    "</table>\n",
    "</div>\n",
    "\n",
    "</details>"
   ]
  },
  {
   "cell_type": "code",
   "execution_count": 6,
   "metadata": {},
   "outputs": [
    {
     "data": {
      "image/png": "[encoded data removed]",
      "text/plain": [
       "<Figure size 576x360 with 1 Axes>"
      ]
     },
     "metadata": {
      "needs_background": "light"
     },
     "output_type": "display_data"
    }
   ],
   "source": [
    "# Trên cùng một biểu đồ, hãy vẽ:\n",
    "#        Area plot cho 12 tháng nắng trong năm 2016\n",
    "#        Line plot cho 12 tháng nắng trong năm 2017\n",
    "# Bạn nhận xét gì về biểu đồ vừa vẽ\n",
    "\n",
    "plt.figure(figsize=(8,5))\n",
    "plt.fill_between(df.Month, df.Hours_2016, color='blue', label = '2016', alpha=0.5)\n",
    "plt.plot(df.Month, df.Hours_2017,color='red', label='2017')\n",
    "\n",
    "plt.title(\"Số giờ nắng các tháng trong năm tại trạm quan trắc Vũng Tàu\", fontsize=18, color = 'g')\n",
    "plt.xlabel(\"Month\")\n",
    "plt.ylabel(\"Hours\")\n",
    "plt.legend()\n",
    "plt.grid(True)\n",
    "plt.show()"
   ]
  },
  {
   "cell_type": "markdown",
   "metadata": {},
   "source": [
    "<details>\n",
    "  <summary>Nhấn vào đây để xem kết quả !</summary>\n",
    "  \n",
    "<div class=\"output_subarea output_png\"><img src=\"data:image/png;base64,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\n",
    "\"></div>\n",
    "\n",
    "</details>"
   ]
  },
  {
   "cell_type": "markdown",
   "metadata": {},
   "source": [
    "### Part 2: Boxplot"
   ]
  },
  {
   "cell_type": "code",
   "execution_count": 9,
   "metadata": {},
   "outputs": [
    {
     "data": {
      "text/html": [
       "<div>\n",
       "<style scoped>\n",
       "    .dataframe tbody tr th:only-of-type {\n",
       "        vertical-align: middle;\n",
       "    }\n",
       "\n",
       "    .dataframe tbody tr th {\n",
       "        vertical-align: top;\n",
       "    }\n",
       "\n",
       "    .dataframe thead th {\n",
       "        text-align: right;\n",
       "    }\n",
       "</style>\n",
       "<table border=\"1\" class=\"dataframe\">\n",
       "  <thead>\n",
       "    <tr style=\"text-align: right;\">\n",
       "      <th></th>\n",
       "      <th>height</th>\n",
       "      <th>weight</th>\n",
       "    </tr>\n",
       "  </thead>\n",
       "  <tbody>\n",
       "    <tr>\n",
       "      <th>0</th>\n",
       "      <td>1.8796</td>\n",
       "      <td>81.646560</td>\n",
       "    </tr>\n",
       "    <tr>\n",
       "      <th>1</th>\n",
       "      <td>1.8796</td>\n",
       "      <td>97.522280</td>\n",
       "    </tr>\n",
       "    <tr>\n",
       "      <th>2</th>\n",
       "      <td>1.8288</td>\n",
       "      <td>95.254320</td>\n",
       "    </tr>\n",
       "    <tr>\n",
       "      <th>3</th>\n",
       "      <td>1.8288</td>\n",
       "      <td>95.254320</td>\n",
       "    </tr>\n",
       "    <tr>\n",
       "      <th>4</th>\n",
       "      <td>1.8542</td>\n",
       "      <td>85.275296</td>\n",
       "    </tr>\n",
       "    <tr>\n",
       "      <th>5</th>\n",
       "      <td>1.7526</td>\n",
       "      <td>79.832192</td>\n",
       "    </tr>\n",
       "    <tr>\n",
       "      <th>6</th>\n",
       "      <td>1.7526</td>\n",
       "      <td>94.800728</td>\n",
       "    </tr>\n",
       "    <tr>\n",
       "      <th>7</th>\n",
       "      <td>1.8034</td>\n",
       "      <td>90.718400</td>\n",
       "    </tr>\n",
       "    <tr>\n",
       "      <th>8</th>\n",
       "      <td>1.9304</td>\n",
       "      <td>104.779752</td>\n",
       "    </tr>\n",
       "    <tr>\n",
       "      <th>9</th>\n",
       "      <td>1.8034</td>\n",
       "      <td>81.646560</td>\n",
       "    </tr>\n",
       "  </tbody>\n",
       "</table>\n",
       "</div>"
      ],
      "text/plain": [
       "   height      weight\n",
       "0  1.8796   81.646560\n",
       "1  1.8796   97.522280\n",
       "2  1.8288   95.254320\n",
       "3  1.8288   95.254320\n",
       "4  1.8542   85.275296\n",
       "5  1.7526   79.832192\n",
       "6  1.7526   94.800728\n",
       "7  1.8034   90.718400\n",
       "8  1.9304  104.779752\n",
       "9  1.8034   81.646560"
      ]
     },
     "execution_count": 9,
     "metadata": {},
     "output_type": "execute_result"
    }
   ],
   "source": [
    "# Cho dữ liệu baseball.csv. Đọc dữ liệu từ baseball.csv và lưu vào biến data, in 10 dòng nội dung đầu của data\n",
    "data = pd.read_csv(\"baseball.csv\", index_col=0)\n",
    "data.head(10)"
   ]
  },
  {
   "cell_type": "markdown",
   "metadata": {},
   "source": [
    "<details>\n",
    "  <summary>Nhấn vào đây để xem kết quả !</summary>\n",
    "  \n",
    "<div>\n",
    "<style scoped=\"\">\n",
    "    .dataframe tbody tr th:only-of-type {\n",
    "        vertical-align: middle;\n",
    "    }\n",
    "\n",
    "    .dataframe tbody tr th {\n",
    "        vertical-align: top;\n",
    "    }\n",
    "\n",
    "    .dataframe thead th {\n",
    "        text-align: right;\n",
    "    }\n",
    "</style>\n",
    "<table border=\"1\" class=\"dataframe\">\n",
    "  <thead>\n",
    "    <tr style=\"text-align: right;\">\n",
    "      <th></th>\n",
    "      <th>height</th>\n",
    "      <th>weight</th>\n",
    "    </tr>\n",
    "  </thead>\n",
    "  <tbody>\n",
    "    <tr>\n",
    "      <th>0</th>\n",
    "      <td>1.8796</td>\n",
    "      <td>81.646560</td>\n",
    "    </tr>\n",
    "    <tr>\n",
    "      <th>1</th>\n",
    "      <td>1.8796</td>\n",
    "      <td>97.522280</td>\n",
    "    </tr>\n",
    "    <tr>\n",
    "      <th>2</th>\n",
    "      <td>1.8288</td>\n",
    "      <td>95.254320</td>\n",
    "    </tr>\n",
    "    <tr>\n",
    "      <th>3</th>\n",
    "      <td>1.8288</td>\n",
    "      <td>95.254320</td>\n",
    "    </tr>\n",
    "    <tr>\n",
    "      <th>4</th>\n",
    "      <td>1.8542</td>\n",
    "      <td>85.275296</td>\n",
    "    </tr>\n",
    "    <tr>\n",
    "      <th>5</th>\n",
    "      <td>1.7526</td>\n",
    "      <td>79.832192</td>\n",
    "    </tr>\n",
    "    <tr>\n",
    "      <th>6</th>\n",
    "      <td>1.7526</td>\n",
    "      <td>94.800728</td>\n",
    "    </tr>\n",
    "    <tr>\n",
    "      <th>7</th>\n",
    "      <td>1.8034</td>\n",
    "      <td>90.718400</td>\n",
    "    </tr>\n",
    "    <tr>\n",
    "      <th>8</th>\n",
    "      <td>1.9304</td>\n",
    "      <td>104.779752</td>\n",
    "    </tr>\n",
    "    <tr>\n",
    "      <th>9</th>\n",
    "      <td>1.8034</td>\n",
    "      <td>81.646560</td>\n",
    "    </tr>\n",
    "  </tbody>\n",
    "</table>\n",
    "</div>\n",
    "\n",
    "</details>"
   ]
  },
  {
   "cell_type": "code",
   "execution_count": 16,
   "metadata": {},
   "outputs": [
    {
     "data": {
      "text/html": [
       "<div>\n",
       "<style scoped>\n",
       "    .dataframe tbody tr th:only-of-type {\n",
       "        vertical-align: middle;\n",
       "    }\n",
       "\n",
       "    .dataframe tbody tr th {\n",
       "        vertical-align: top;\n",
       "    }\n",
       "\n",
       "    .dataframe thead th {\n",
       "        text-align: right;\n",
       "    }\n",
       "</style>\n",
       "<table border=\"1\" class=\"dataframe\">\n",
       "  <thead>\n",
       "    <tr style=\"text-align: right;\">\n",
       "      <th></th>\n",
       "      <th>height</th>\n",
       "      <th>weight</th>\n",
       "    </tr>\n",
       "  </thead>\n",
       "  <tbody>\n",
       "    <tr>\n",
       "      <th>count</th>\n",
       "      <td>1015.000000</td>\n",
       "      <td>1015.000000</td>\n",
       "    </tr>\n",
       "    <tr>\n",
       "      <th>mean</th>\n",
       "      <td>1.871717</td>\n",
       "      <td>91.330191</td>\n",
       "    </tr>\n",
       "    <tr>\n",
       "      <th>std</th>\n",
       "      <td>0.058774</td>\n",
       "      <td>9.445198</td>\n",
       "    </tr>\n",
       "    <tr>\n",
       "      <th>min</th>\n",
       "      <td>1.701800</td>\n",
       "      <td>68.038800</td>\n",
       "    </tr>\n",
       "    <tr>\n",
       "      <th>25%</th>\n",
       "      <td>1.828800</td>\n",
       "      <td>84.368112</td>\n",
       "    </tr>\n",
       "    <tr>\n",
       "      <th>50%</th>\n",
       "      <td>1.879600</td>\n",
       "      <td>90.718400</td>\n",
       "    </tr>\n",
       "    <tr>\n",
       "      <th>75%</th>\n",
       "      <td>1.905000</td>\n",
       "      <td>97.522280</td>\n",
       "    </tr>\n",
       "    <tr>\n",
       "      <th>max</th>\n",
       "      <td>2.108200</td>\n",
       "      <td>131.541680</td>\n",
       "    </tr>\n",
       "  </tbody>\n",
       "</table>\n",
       "</div>"
      ],
      "text/plain": [
       "            height       weight\n",
       "count  1015.000000  1015.000000\n",
       "mean      1.871717    91.330191\n",
       "std       0.058774     9.445198\n",
       "min       1.701800    68.038800\n",
       "25%       1.828800    84.368112\n",
       "50%       1.879600    90.718400\n",
       "75%       1.905000    97.522280\n",
       "max       2.108200   131.541680"
      ]
     },
     "execution_count": 16,
     "metadata": {},
     "output_type": "execute_result"
    }
   ],
   "source": [
    "# Cho biết thông tin thống kê chung của data\n",
    "data.describe()"
   ]
  },
  {
   "cell_type": "markdown",
   "metadata": {},
   "source": [
    "<details>\n",
    "  <summary>Nhấn vào đây để xem kết quả !</summary>\n",
    "  \n",
    "<div>\n",
    "<style scoped=\"\">\n",
    "    .dataframe tbody tr th:only-of-type {\n",
    "        vertical-align: middle;\n",
    "    }\n",
    "\n",
    "    .dataframe tbody tr th {\n",
    "        vertical-align: top;\n",
    "    }\n",
    "\n",
    "    .dataframe thead th {\n",
    "        text-align: right;\n",
    "    }\n",
    "</style>\n",
    "<table border=\"1\" class=\"dataframe\">\n",
    "  <thead>\n",
    "    <tr style=\"text-align: right;\">\n",
    "      <th></th>\n",
    "      <th>height</th>\n",
    "      <th>weight</th>\n",
    "    </tr>\n",
    "  </thead>\n",
    "  <tbody>\n",
    "    <tr>\n",
    "      <th>count</th>\n",
    "      <td>1015.000000</td>\n",
    "      <td>1015.000000</td>\n",
    "    </tr>\n",
    "    <tr>\n",
    "      <th>mean</th>\n",
    "      <td>1.871717</td>\n",
    "      <td>91.330191</td>\n",
    "    </tr>\n",
    "    <tr>\n",
    "      <th>std</th>\n",
    "      <td>0.058774</td>\n",
    "      <td>9.445198</td>\n",
    "    </tr>\n",
    "    <tr>\n",
    "      <th>min</th>\n",
    "      <td>1.701800</td>\n",
    "      <td>68.038800</td>\n",
    "    </tr>\n",
    "    <tr>\n",
    "      <th>25%</th>\n",
    "      <td>1.828800</td>\n",
    "      <td>84.368112</td>\n",
    "    </tr>\n",
    "    <tr>\n",
    "      <th>50%</th>\n",
    "      <td>1.879600</td>\n",
    "      <td>90.718400</td>\n",
    "    </tr>\n",
    "    <tr>\n",
    "      <th>75%</th>\n",
    "      <td>1.905000</td>\n",
    "      <td>97.522280</td>\n",
    "    </tr>\n",
    "    <tr>\n",
    "      <th>max</th>\n",
    "      <td>2.108200</td>\n",
    "      <td>131.541680</td>\n",
    "    </tr>\n",
    "  </tbody>\n",
    "</table>\n",
    "</div>\n",
    "\n",
    "</details>"
   ]
  },
  {
   "cell_type": "code",
   "execution_count": 17,
   "metadata": {
    "scrolled": true
   },
   "outputs": [
    {
     "data": {
      "image/png": "[encoded data removed]",
      "text/plain": [
       "<Figure size 432x288 with 1 Axes>"
      ]
     },
     "metadata": {
      "needs_background": "light"
     },
     "output_type": "display_data"
    },
    {
     "data": {
      "image/png": "[encoded data removed]",
      "text/plain": [
       "<Figure size 432x288 with 1 Axes>"
      ]
     },
     "metadata": {
      "needs_background": "light"
     },
     "output_type": "display_data"
    }
   ],
   "source": [
    "# Vẽ boxplot cho dữ liệu data\n",
    "red_square = dict(markerfacecolor = 'r', marker = 's')\n",
    "\n",
    "height = plt.boxplot(data.height, flierprops=red_square)\n",
    "plt.title(\"Height\")\n",
    "plt.show()\n",
    "\n",
    "weight = plt.boxplot(data.weight, flierprops=red_square)\n",
    "plt.title('Weight')\n",
    "plt.show()"
   ]
  },
  {
   "cell_type": "markdown",
   "metadata": {},
   "source": [
    "<details>\n",
    "  <summary>Nhấn vào đây để xem kết quả !</summary>\n",
    "  \n",
    "<div class=\"output_subarea output_png\"><img src=\"data:image/png;base64,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\n",
    "\"></div>\n",
    "\n",
    "<div class=\"output_subarea output_png\"><img src=\"data:image/png;base64,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\n",
    "\"></div>\n",
    "\n",
    "</details>"
   ]
  },
  {
   "cell_type": "markdown",
   "metadata": {},
   "source": [
    "#### Kiểm tra xem dữ liệu có outliers hay không? Nếu có thì loại bỏ các outliers. Vẽ lại boxplot"
   ]
  },
  {
   "cell_type": "code",
   "execution_count": 37,
   "metadata": {},
   "outputs": [],
   "source": [
    "# Tìm, đếm các outliers"
   ]
  },
  {
   "cell_type": "code",
   "execution_count": 24,
   "metadata": {},
   "outputs": [
    {
     "data": {
      "text/plain": [
       "0.07620000000000005"
      ]
     },
     "execution_count": 24,
     "metadata": {},
     "output_type": "execute_result"
    }
   ],
   "source": [
    "# height\n",
    "Q1_H = data.height.quantile(0.25)\n",
    "Q3_H = data.height.quantile(0.75)\n",
    "IQR_H = Q3_H - Q1_H\n",
    "IQR_H"
   ]
  },
  {
   "cell_type": "code",
   "execution_count": 22,
   "metadata": {},
   "outputs": [
    {
     "data": {
      "text/plain": [
       "1.7145"
      ]
     },
     "execution_count": 22,
     "metadata": {},
     "output_type": "execute_result"
    }
   ],
   "source": [
    "H_lower_bound = Q1_H - (1.5 * IQR_H) \n",
    "H_lower_bound "
   ]
  },
  {
   "cell_type": "code",
   "execution_count": 25,
   "metadata": {},
   "outputs": [
    {
     "data": {
      "text/plain": [
       "2"
      ]
     },
     "execution_count": 25,
     "metadata": {},
     "output_type": "execute_result"
    }
   ],
   "source": [
    "count_H_lower_ouliters =  data.height[data.height < H_lower_bound].count() \n",
    "count_H_lower_ouliters"
   ]
  },
  {
   "cell_type": "code",
   "execution_count": 23,
   "metadata": {},
   "outputs": [
    {
     "data": {
      "text/plain": [
       "2.0193000000000003"
      ]
     },
     "execution_count": 23,
     "metadata": {},
     "output_type": "execute_result"
    }
   ],
   "source": [
    "H_upper_bound = Q3_H + (1.5 * IQR_H) \n",
    "H_upper_bound"
   ]
  },
  {
   "cell_type": "code",
   "execution_count": 13,
   "metadata": {},
   "outputs": [
    {
     "data": {
      "text/plain": [
       "10"
      ]
     },
     "execution_count": 13,
     "metadata": {},
     "output_type": "execute_result"
    }
   ],
   "source": [
    "count_H_upper_ouliters = data.height[data.height > H_upper_bound].count()\n",
    "count_H_upper_ouliters"
   ]
  },
  {
   "cell_type": "code",
   "execution_count": 27,
   "metadata": {},
   "outputs": [
    {
     "name": "stdout",
     "output_type": "stream",
     "text": [
      "13.154168000000013\n"
     ]
    }
   ],
   "source": [
    "# weight\n",
    "Q1_W = data.weight.quantile(0.25)\n",
    "Q3_W = data.weight.quantile(0.75)\n",
    "IQR_W = Q3_W - Q1_W\n",
    "print(IQR_W)"
   ]
  },
  {
   "cell_type": "code",
   "execution_count": 28,
   "metadata": {},
   "outputs": [
    {
     "data": {
      "text/plain": [
       "64.63685999999998"
      ]
     },
     "execution_count": 28,
     "metadata": {},
     "output_type": "execute_result"
    }
   ],
   "source": [
    "W_lower_bound = Q1_W - (1.5 * IQR_W) \n",
    "W_lower_bound "
   ]
  },
  {
   "cell_type": "code",
   "execution_count": 30,
   "metadata": {},
   "outputs": [
    {
     "data": {
      "text/plain": [
       "0"
      ]
     },
     "execution_count": 30,
     "metadata": {},
     "output_type": "execute_result"
    }
   ],
   "source": [
    "count_W_lower_ouliters =  data.weight[data.weight < W_lower_bound].count() \n",
    "count_W_lower_ouliters"
   ]
  },
  {
   "cell_type": "code",
   "execution_count": 29,
   "metadata": {},
   "outputs": [
    {
     "data": {
      "text/plain": [
       "117.25353200000004"
      ]
     },
     "execution_count": 29,
     "metadata": {},
     "output_type": "execute_result"
    }
   ],
   "source": [
    "W_upper_bound = Q3_W + (1.5 * IQR_W) \n",
    "W_upper_bound"
   ]
  },
  {
   "cell_type": "code",
   "execution_count": 31,
   "metadata": {},
   "outputs": [
    {
     "data": {
      "text/plain": [
       "7"
      ]
     },
     "execution_count": 31,
     "metadata": {},
     "output_type": "execute_result"
    }
   ],
   "source": [
    "count_W_upper_ouliters = data.weight[data.weight > W_upper_bound].count()\n",
    "count_W_upper_ouliters"
   ]
  },
  {
   "cell_type": "code",
   "execution_count": 35,
   "metadata": {},
   "outputs": [
    {
     "data": {
      "text/html": [
       "<div>\n",
       "<style scoped>\n",
       "    .dataframe tbody tr th:only-of-type {\n",
       "        vertical-align: middle;\n",
       "    }\n",
       "\n",
       "    .dataframe tbody tr th {\n",
       "        vertical-align: top;\n",
       "    }\n",
       "\n",
       "    .dataframe thead th {\n",
       "        text-align: right;\n",
       "    }\n",
       "</style>\n",
       "<table border=\"1\" class=\"dataframe\">\n",
       "  <thead>\n",
       "    <tr style=\"text-align: right;\">\n",
       "      <th></th>\n",
       "      <th>height</th>\n",
       "      <th>weight</th>\n",
       "    </tr>\n",
       "  </thead>\n",
       "  <tbody>\n",
       "    <tr>\n",
       "      <th>0</th>\n",
       "      <td>1.8796</td>\n",
       "      <td>81.646560</td>\n",
       "    </tr>\n",
       "    <tr>\n",
       "      <th>1</th>\n",
       "      <td>1.8796</td>\n",
       "      <td>97.522280</td>\n",
       "    </tr>\n",
       "    <tr>\n",
       "      <th>2</th>\n",
       "      <td>1.8288</td>\n",
       "      <td>95.254320</td>\n",
       "    </tr>\n",
       "    <tr>\n",
       "      <th>3</th>\n",
       "      <td>1.8288</td>\n",
       "      <td>95.254320</td>\n",
       "    </tr>\n",
       "    <tr>\n",
       "      <th>4</th>\n",
       "      <td>1.8542</td>\n",
       "      <td>85.275296</td>\n",
       "    </tr>\n",
       "    <tr>\n",
       "      <th>5</th>\n",
       "      <td>1.7526</td>\n",
       "      <td>79.832192</td>\n",
       "    </tr>\n",
       "    <tr>\n",
       "      <th>6</th>\n",
       "      <td>1.7526</td>\n",
       "      <td>94.800728</td>\n",
       "    </tr>\n",
       "    <tr>\n",
       "      <th>7</th>\n",
       "      <td>1.8034</td>\n",
       "      <td>90.718400</td>\n",
       "    </tr>\n",
       "    <tr>\n",
       "      <th>8</th>\n",
       "      <td>1.9304</td>\n",
       "      <td>104.779752</td>\n",
       "    </tr>\n",
       "    <tr>\n",
       "      <th>9</th>\n",
       "      <td>1.8034</td>\n",
       "      <td>81.646560</td>\n",
       "    </tr>\n",
       "  </tbody>\n",
       "</table>\n",
       "</div>"
      ],
      "text/plain": [
       "   height      weight\n",
       "0  1.8796   81.646560\n",
       "1  1.8796   97.522280\n",
       "2  1.8288   95.254320\n",
       "3  1.8288   95.254320\n",
       "4  1.8542   85.275296\n",
       "5  1.7526   79.832192\n",
       "6  1.7526   94.800728\n",
       "7  1.8034   90.718400\n",
       "8  1.9304  104.779752\n",
       "9  1.8034   81.646560"
      ]
     },
     "execution_count": 35,
     "metadata": {},
     "output_type": "execute_result"
    }
   ],
   "source": [
    "# Loại bỏ các outliers\n",
    "result = data\n",
    "result.head(10)"
   ]
  },
  {
   "cell_type": "code",
   "execution_count": 38,
   "metadata": {},
   "outputs": [],
   "source": [
    "result = result.drop(result[result.height < H_lower_bound].index)\n",
    "result = result.drop(result[result.height > H_upper_bound].index)\n",
    "result = result.drop(result[result.weight < W_lower_bound].index)\n",
    "result = result.drop(result[result.weight > W_upper_bound].index)"
   ]
  },
  {
   "cell_type": "code",
   "execution_count": 40,
   "metadata": {},
   "outputs": [
    {
     "data": {
      "text/plain": [
       "(1015, 2)"
      ]
     },
     "execution_count": 40,
     "metadata": {},
     "output_type": "execute_result"
    }
   ],
   "source": [
    "data.shape"
   ]
  },
  {
   "cell_type": "code",
   "execution_count": 41,
   "metadata": {},
   "outputs": [
    {
     "data": {
      "text/plain": [
       "(998, 2)"
      ]
     },
     "execution_count": 41,
     "metadata": {},
     "output_type": "execute_result"
    }
   ],
   "source": [
    "result.shape"
   ]
  },
  {
   "cell_type": "code",
   "execution_count": 43,
   "metadata": {},
   "outputs": [
    {
     "data": {
      "image/png": "[encoded data removed]",
      "text/plain": [
       "<Figure size 432x288 with 1 Axes>"
      ]
     },
     "metadata": {
      "needs_background": "light"
     },
     "output_type": "display_data"
    },
    {
     "data": {
      "image/png": "[encoded data removed]",
      "text/plain": [
       "<Figure size 432x288 with 1 Axes>"
      ]
     },
     "metadata": {
      "needs_background": "light"
     },
     "output_type": "display_data"
    }
   ],
   "source": [
    "# Vẽ lại box plot\n",
    "height = plt.boxplot(result.height, flierprops=red_square)\n",
    "plt.title(\"Height\")\n",
    "plt.show()\n",
    "\n",
    "weight = plt.boxplot(result.weight, flierprops=red_square)\n",
    "plt.title('Weight')\n",
    "plt.show()"
   ]
  },
  {
   "cell_type": "markdown",
   "metadata": {},
   "source": [
    "<details>\n",
    "  <summary>Nhấn vào đây để xem kết quả !</summary>\n",
    "  \n",
    "<div class=\"output_subarea output_png\"><img src=\"data:image/png;base64,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\n",
    "\"></div>\n",
    "\n",
    "<div class=\"output_subarea output_png\"><img src=\"data:image/png;base64,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\n",
    "\"></div>\n",
    "\n",
    "</details>"
   ]
  }
 ],
 "metadata": {
  "kernelspec": {
   "display_name": "Python 3",
   "language": "python",
   "name": "python3"
  },
  "language_info": {
   "codemirror_mode": {
    "name": "ipython",
    "version": 3
   },
   "file_extension": ".py",
   "mimetype": "text/x-python",
   "name": "python",
   "nbconvert_exporter": "python",
   "pygments_lexer": "ipython3",
   "version": "3.7.4"
  }
 },
 "nbformat": 4,
 "nbformat_minor": 2
}
