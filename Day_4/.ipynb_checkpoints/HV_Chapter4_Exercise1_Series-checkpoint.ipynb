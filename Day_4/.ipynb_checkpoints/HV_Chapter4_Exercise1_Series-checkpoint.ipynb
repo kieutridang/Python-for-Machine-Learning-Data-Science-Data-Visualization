{
 "cells": [
  {
   "cell_type": "markdown",
   "metadata": {
    "colab_type": "text",
    "id": "Thi-njhJTVME"
   },
   "source": [
    "## Chapter 4 - Exercise 1: Thực hiện những yêu cầu liên quan đến series, và đối chiếu với kết quả cho trước"
   ]
  },
  {
   "cell_type": "markdown",
   "metadata": {
    "colab_type": "text",
    "id": "neHsckx6TVMF"
   },
   "source": [
    "### Part 1: Thực hiện các phép toán trên series"
   ]
  },
  {
   "cell_type": "code",
   "execution_count": 1,
   "metadata": {
    "colab": {},
    "colab_type": "code",
    "id": "qCR97YGITVMG"
   },
   "outputs": [],
   "source": [
    "import numpy as np\n",
    "import pandas as pd"
   ]
  },
  {
   "cell_type": "code",
   "execution_count": 2,
   "metadata": {
    "colab": {},
    "colab_type": "code",
    "id": "x1R-9f9PTVMJ",
    "tags": []
   },
   "outputs": [
    {
     "name": "stdout",
     "output_type": "stream",
     "text": [
      "0     2\n",
      "1     4\n",
      "2     6\n",
      "3     8\n",
      "4    10\n",
      "dtype: int64\n",
      "0     1\n",
      "1     3\n",
      "2     5\n",
      "3     7\n",
      "4    11\n",
      "dtype: int64\n"
     ]
    }
   ],
   "source": [
    "# Câu 1a: Cho arr_1 là mảng số nguyên chẵn [2, 4, 6, 8, 10], arr_2 là mảng số nguyên lẻ [1, 3, 5, 7, 11]\n",
    "# Tạo biến kiểu Serries ser1 từ arr_1, ser2 từ arr_2\n",
    "arr_1 = np.array([2, 4, 6, 8, 10])\n",
    "arr_2 = np.array([1, 3, 5, 7, 11])\n",
    "\n",
    "\n",
    "# In danh sách các phần tử của ser1 và ser2\n",
    "ser1 = pd.Series(arr_1)\n",
    "ser2 = pd.Series(arr_2)\n",
    "print(ser1)\n",
    "print(ser2)"
   ]
  },
  {
   "cell_type": "markdown",
   "metadata": {
    "colab_type": "text",
    "id": "EW5vfy1eTVMM"
   },
   "source": [
    "<details>\n",
    "  <summary>Nhấn vào đây để xem kết quả!</summary>\n",
    "  <pre>0     2\n",
    "1     4\n",
    "2     6\n",
    "3     8\n",
    "4    10\n",
    "dtype: int32\n",
    "0     1\n",
    "1     3\n",
    "2     5\n",
    "3     7\n",
    "4    11\n",
    "dtype: int32\n",
    "</pre>\n",
    "  \n",
    "</details>"
   ]
  },
  {
   "cell_type": "code",
   "execution_count": 3,
   "metadata": {
    "colab": {},
    "colab_type": "code",
    "id": "LpGRzF3FTVMM"
   },
   "outputs": [
    {
     "data": {
      "text/plain": [
       "0     3\n",
       "1     7\n",
       "2    11\n",
       "3    15\n",
       "4    21\n",
       "dtype: int64"
      ]
     },
     "execution_count": 3,
     "metadata": {},
     "output_type": "execute_result"
    }
   ],
   "source": [
    "# Câu 1b: Thực hiện phép toán và thể hiện kết quả của:  ser1 + ser2 \n",
    "result = ser1 + ser2\n",
    "result"
   ]
  },
  {
   "cell_type": "markdown",
   "metadata": {
    "colab_type": "text",
    "id": "8CUuwzDxTVMO"
   },
   "source": [
    "<details>\n",
    "  <summary>Nhấn vào đây để xem kết quả!</summary>\n",
    "  <pre>0     3\n",
    "1     7\n",
    "2    11\n",
    "3    15\n",
    "4    21\n",
    "dtype: int32</pre>\n",
    "  \n",
    "</details>"
   ]
  },
  {
   "cell_type": "code",
   "execution_count": null,
   "metadata": {
    "colab": {},
    "colab_type": "code",
    "id": "8ZoNt-k4TVMP"
   },
   "outputs": [],
   "source": []
  },
  {
   "cell_type": "markdown",
   "metadata": {
    "colab_type": "text",
    "id": "Z-eNjjaNTVMR"
   },
   "source": [
    "<details>\n",
    "  <summary>Nhấn vào đây để xem kết quả!</summary>\n",
    "  <pre>0    1\n",
    "1    1\n",
    "2    1\n",
    "3    1\n",
    "4   -1\n",
    "dtype: int32</pre>\n",
    "  \n",
    "</details>"
   ]
  },
  {
   "cell_type": "code",
   "execution_count": 4,
   "metadata": {
    "colab": {},
    "colab_type": "code",
    "id": "xZdmuMbWTVMS"
   },
   "outputs": [
    {
     "data": {
      "text/plain": [
       "0      2\n",
       "1     12\n",
       "2     30\n",
       "3     56\n",
       "4    110\n",
       "dtype: int64"
      ]
     },
     "execution_count": 4,
     "metadata": {},
     "output_type": "execute_result"
    }
   ],
   "source": [
    "# Câu 1d: Thực hiện phép toán và thể hiện kết quả của:  ser1 * ser2\n",
    "result = ser1 * ser2\n",
    "result"
   ]
  },
  {
   "cell_type": "markdown",
   "metadata": {
    "colab_type": "text",
    "id": "VKY6_Fm-TVMU"
   },
   "source": [
    "<details>\n",
    "  <summary>Nhấn vào đây để xem kết quả!</summary>\n",
    "  <pre>0      2\n",
    "1     12\n",
    "2     30\n",
    "3     56\n",
    "4    110\n",
    "dtype: int32</pre>\n",
    "  \n",
    "</details>"
   ]
  },
  {
   "cell_type": "code",
   "execution_count": 5,
   "metadata": {
    "colab": {},
    "colab_type": "code",
    "id": "USxSNKI6TVMV"
   },
   "outputs": [
    {
     "data": {
      "text/plain": [
       "0    2.000000\n",
       "1    1.333333\n",
       "2    1.200000\n",
       "3    1.142857\n",
       "4    0.909091\n",
       "dtype: float64"
      ]
     },
     "execution_count": 5,
     "metadata": {},
     "output_type": "execute_result"
    }
   ],
   "source": [
    "# Câu 1e: Thực hiện phép toán và thể hiện kết quả của:  ser1 / ser2\n",
    "result = ser1 / ser2\n",
    "result"
   ]
  },
  {
   "cell_type": "markdown",
   "metadata": {
    "colab_type": "text",
    "id": "lT1B5xU5TVMY"
   },
   "source": [
    "<details>\n",
    "  <summary>Nhấn vào đây để xem kết quả!</summary>\n",
    "  <pre>0    2.000000\n",
    "1    1.333333\n",
    "2    1.200000\n",
    "3    1.142857\n",
    "4    0.909091\n",
    "dtype: float64</pre>\n",
    "  \n",
    "</details>"
   ]
  },
  {
   "cell_type": "code",
   "execution_count": 6,
   "metadata": {
    "colab": {},
    "colab_type": "code",
    "id": "E0mH5jgmTVMY"
   },
   "outputs": [
    {
     "data": {
      "text/plain": [
       "0     True\n",
       "1     True\n",
       "2     True\n",
       "3     True\n",
       "4    False\n",
       "dtype: bool"
      ]
     },
     "execution_count": 6,
     "metadata": {},
     "output_type": "execute_result"
    }
   ],
   "source": [
    "# Câu 2a: Kiểm tra xem các phần tử của ser1 có > các phần tử của ser2 không?\n",
    "result = ser1 > ser2\n",
    "result"
   ]
  },
  {
   "cell_type": "markdown",
   "metadata": {
    "colab_type": "text",
    "id": "uF2YHFtKTVMa"
   },
   "source": [
    "<details>\n",
    "  <summary>Nhấn vào đây để xem kết quả!</summary>\n",
    "  <pre>0     True\n",
    "1     True\n",
    "2     True\n",
    "3     True\n",
    "4    False\n",
    "dtype: bool</pre>\n",
    "  \n",
    "</details>"
   ]
  },
  {
   "cell_type": "code",
   "execution_count": 7,
   "metadata": {
    "colab": {},
    "colab_type": "code",
    "id": "IZJBDTJhTVMb"
   },
   "outputs": [
    {
     "data": {
      "text/plain": [
       "0    False\n",
       "1    False\n",
       "2    False\n",
       "3    False\n",
       "4     True\n",
       "dtype: bool"
      ]
     },
     "execution_count": 7,
     "metadata": {},
     "output_type": "execute_result"
    }
   ],
   "source": [
    "# Câu 2b: Kiểm tra xem các phần tử của ser1 có < các phần tử của ser2 không?\n",
    "result = ser1 < ser2\n",
    "result"
   ]
  },
  {
   "cell_type": "markdown",
   "metadata": {
    "colab_type": "text",
    "id": "tnpoiwHbTVMd"
   },
   "source": [
    "<details>\n",
    "  <summary>Nhấn vào đây để xem kết quả!</summary>\n",
    "  <pre>0    False\n",
    "1    False\n",
    "2    False\n",
    "3    False\n",
    "4     True\n",
    "dtype: bool</pre>\n",
    "  \n",
    "</details>"
   ]
  },
  {
   "cell_type": "code",
   "execution_count": 8,
   "metadata": {
    "colab": {},
    "colab_type": "code",
    "id": "NaxDAcWZTVMd",
    "scrolled": true
   },
   "outputs": [
    {
     "data": {
      "text/plain": [
       "0    False\n",
       "1    False\n",
       "2    False\n",
       "3    False\n",
       "4    False\n",
       "dtype: bool"
      ]
     },
     "execution_count": 8,
     "metadata": {},
     "output_type": "execute_result"
    }
   ],
   "source": [
    "# Câu 2c: Kiểm tra xem các phần tử của ser1 có = các phần tử của ser2 không?\n",
    "result = ser1 == ser2\n",
    "result"
   ]
  },
  {
   "cell_type": "markdown",
   "metadata": {
    "colab_type": "text",
    "id": "YdNkGbk3TVMf"
   },
   "source": [
    "<details>\n",
    "  <summary>Nhấn vào đây để xem kết quả!</summary>\n",
    "  <pre>0    False\n",
    "1    False\n",
    "2    False\n",
    "3    False\n",
    "4    False\n",
    "dtype: bool</pre>\n",
    "  \n",
    "</details>"
   ]
  },
  {
   "cell_type": "code",
   "execution_count": 9,
   "metadata": {
    "colab": {},
    "colab_type": "code",
    "id": "Lk6OD7uQTVMg",
    "tags": []
   },
   "outputs": [
    {
     "data": {
      "text/plain": [
       "0     1\n",
       "1     3\n",
       "2     5\n",
       "3     7\n",
       "4    11\n",
       "0     6\n",
       "1    12\n",
       "dtype: int64"
      ]
     },
     "execution_count": 9,
     "metadata": {},
     "output_type": "execute_result"
    }
   ],
   "source": [
    "# Câu 3a: Thêm 2 phần tử [6, 12] vào ser2\n",
    "ser2 = ser2.append(pd.Series([6, 12]))\n",
    "# In lại danh sách các phần tử của ser2\n",
    "ser2"
   ]
  },
  {
   "cell_type": "markdown",
   "metadata": {
    "colab_type": "text",
    "id": "kO4ulUhtTVMi"
   },
   "source": [
    "<details>\n",
    "  <summary>Nhấn vào đây để xem kết quả!</summary>\n",
    "  <pre>0     1\n",
    "1     3\n",
    "2     5\n",
    "3     7\n",
    "4    11\n",
    "0     6\n",
    "1    12\n",
    "dtype: int64</pre>\n",
    "  \n",
    "</details>"
   ]
  },
  {
   "cell_type": "code",
   "execution_count": 32,
   "metadata": {
    "colab": {},
    "colab_type": "code",
    "id": "WakVexUZTVMj",
    "tags": []
   },
   "outputs": [
    {
     "data": {
      "text/plain": [
       "0     2\n",
       "1     4\n",
       "3     8\n",
       "4    10\n",
       "dtype: int64"
      ]
     },
     "execution_count": 32,
     "metadata": {},
     "output_type": "execute_result"
    }
   ],
   "source": [
    "# Câu 3b: Tạo series ser3 chỉ chứa các phần tử có trong ser1 mà không có trong ser2. \n",
    "#         In danh sách các phần tử của ser3\n",
    "only_in_ser1 = ser1.isin(ser2)\n",
    "ser3 = ser1.get(only_in_ser1 == False, ser1)\n",
    "ser3\n"
   ]
  },
  {
   "cell_type": "markdown",
   "metadata": {
    "colab_type": "text",
    "id": "C04hUsMBTVMl"
   },
   "source": [
    "<details>\n",
    "  <summary>Nhấn vào đây để xem kết quả!</summary>\n",
    "  <pre>0     2\n",
    "1     4\n",
    "3     8\n",
    "4    10\n",
    "dtype: int32\n",
    "</pre>\n",
    "  \n",
    "</details>"
   ]
  },
  {
   "cell_type": "code",
   "execution_count": 35,
   "metadata": {
    "colab": {},
    "colab_type": "code",
    "id": "xnUC-xpDTVMm"
   },
   "outputs": [
    {
     "data": {
      "text/plain": [
       "0     1\n",
       "1     3\n",
       "2     5\n",
       "3     7\n",
       "4    11\n",
       "1    12\n",
       "dtype: int64"
      ]
     },
     "execution_count": 35,
     "metadata": {},
     "output_type": "execute_result"
    }
   ],
   "source": [
    "# Câu 3c: Tạo series ser4 chỉ chứa các phần tử có trong ser2 mà không có trong ser1. \n",
    "#         In danh sách các phần tử của ser4\n",
    "only_in_ser2 = ser2.isin(ser1)\n",
    "ser4 = ser2.get(only_in_ser2 == False, ser2)\n",
    "ser4\n"
   ]
  },
  {
   "cell_type": "markdown",
   "metadata": {
    "colab_type": "text",
    "id": "m01fIuYuTVMo"
   },
   "source": [
    "<details>\n",
    "  <summary>Nhấn vào đây để xem kết quả!</summary>\n",
    "  <pre>0     1\n",
    "1     3\n",
    "2     5\n",
    "3     7\n",
    "4    11\n",
    "1    12\n",
    "dtype: int64\n",
    "</pre>\n",
    "  \n",
    "</details>"
   ]
  },
  {
   "cell_type": "code",
   "execution_count": 45,
   "metadata": {
    "colab": {},
    "colab_type": "code",
    "id": "sm6EwOa1TVMo"
   },
   "outputs": [
    {
     "data": {
      "text/plain": [
       "array([ 2,  4,  6,  8, 10])"
      ]
     },
     "execution_count": 45,
     "metadata": {},
     "output_type": "execute_result"
    }
   ],
   "source": [
    "# Câu 4: Tạo series ser5 chứa các phần tử chỉ có trong ser1 và chỉ có trong ser2\n",
    "#        In danh sách các phần tử của ser5\n",
    "ser1_values = ser1.values\n",
    "ser2_values = ser2.values\n",
    "ser5 = pd.merge()"
   ]
  },
  {
   "cell_type": "markdown",
   "metadata": {
    "colab_type": "text",
    "id": "h5e68YKbTVMq"
   },
   "source": [
    "<details>\n",
    "  <summary>Nhấn vào đây để xem kết quả!</summary>\n",
    "  <pre>0     2\n",
    "1     4\n",
    "3     8\n",
    "4    10\n",
    "0     1\n",
    "1     3\n",
    "2     5\n",
    "3     7\n",
    "4    11\n",
    "1    12\n",
    "dtype: int64\n",
    "</pre>\n",
    "  \n",
    "</details>"
   ]
  },
  {
   "cell_type": "markdown",
   "metadata": {
    "colab_type": "text",
    "id": "7zqDfRCTTVMr"
   },
   "source": [
    "### Part 2: Truy xuất các phần tử, và thống kê thông tin trên series"
   ]
  },
  {
   "cell_type": "code",
   "execution_count": 13,
   "metadata": {
    "colab": {},
    "colab_type": "code",
    "id": "daW6F7WLTVMr"
   },
   "outputs": [],
   "source": [
    "# Câu 1a: Tạo series ser6 có 35 phần tử số nguyên ngẫu nhiên có giá trị trong khoảng từ 1 đến 9. \n",
    "np.random.seed(1)\n",
    "\n",
    "# Cho biết kích thước (shape) của ser6\n",
    "\n",
    "\n",
    "# Xem 5 dòng dữ liệu đầu tiên (head) và 5 dòng dữ liệu cuối cùng (tail) có trong ser6\n"
   ]
  },
  {
   "cell_type": "markdown",
   "metadata": {
    "colab_type": "text",
    "id": "FSUTY8KXTVMt"
   },
   "source": [
    "<details>\n",
    "  <summary>Nhấn vào đây để xem kết quả!</summary>\n",
    "  <pre>(35,)\n",
    "0    6\n",
    "1    9\n",
    "2    6\n",
    "3    1\n",
    "4    1\n",
    "dtype: int32\n",
    "30    8\n",
    "31    4\n",
    "32    7\n",
    "33    6\n",
    "34    2\n",
    "dtype: int32\n",
    "</pre>\n",
    "  \n",
    "</details>"
   ]
  },
  {
   "cell_type": "code",
   "execution_count": 14,
   "metadata": {
    "colab": {},
    "colab_type": "code",
    "id": "a3dfedKtTVMt"
   },
   "outputs": [],
   "source": [
    "# Câu 1b: In danh sách các phần tử của ser6 theo dạng array\n"
   ]
  },
  {
   "cell_type": "markdown",
   "metadata": {
    "colab_type": "text",
    "id": "LzohX9oITVMw"
   },
   "source": [
    "<details>\n",
    "  <summary>Nhấn vào đây để xem kết quả!</summary>\n",
    "  <pre>[6 9 6 1 1 2 8 7 3 5 6 3 5 3 5 8 8 2 8 1 7 8 7 2 1 2 9 9 4 9 8 4 7 6 2]\n",
    "</pre>\n",
    "  \n",
    "</details>"
   ]
  },
  {
   "cell_type": "code",
   "execution_count": 15,
   "metadata": {
    "colab": {},
    "colab_type": "code",
    "id": "KPJBTCgLTVMw"
   },
   "outputs": [],
   "source": [
    "# Câu 1c: Cho biết thông tin thống kê chung (describe()) của ser6\n"
   ]
  },
  {
   "cell_type": "markdown",
   "metadata": {
    "colab_type": "text",
    "id": "nkIdAWdPTVMy"
   },
   "source": [
    "<details>\n",
    "  <summary>Nhấn vào đây để xem kết quả!</summary>\n",
    "  <pre>count    35.000000\n",
    "mean      5.200000\n",
    "std       2.763204\n",
    "min       1.000000\n",
    "25%       2.500000\n",
    "50%       6.000000\n",
    "75%       8.000000\n",
    "max       9.000000\n",
    "dtype: float64</pre>\n",
    "  \n",
    "</details>"
   ]
  },
  {
   "cell_type": "code",
   "execution_count": 16,
   "metadata": {
    "colab": {},
    "colab_type": "code",
    "id": "2egeGzizTVMz"
   },
   "outputs": [],
   "source": [
    "# Câu 1d: Cho biết tổng của các phần tử có trong ser6\n"
   ]
  },
  {
   "cell_type": "markdown",
   "metadata": {
    "colab_type": "text",
    "id": "wjvI49WwTVM0"
   },
   "source": [
    "<details>\n",
    "  <summary>Nhấn vào đây để xem kết quả!</summary>\n",
    "  <pre>182</pre>\n",
    "  \n",
    "</details>"
   ]
  },
  {
   "cell_type": "code",
   "execution_count": 17,
   "metadata": {
    "colab": {},
    "colab_type": "code",
    "id": "w7gx-F3ATVM1"
   },
   "outputs": [],
   "source": [
    "# Câu 1e: Cho biết phần tử có tần suất xuất hiện nhiều nhất trong ser6\n"
   ]
  },
  {
   "cell_type": "markdown",
   "metadata": {
    "colab_type": "text",
    "id": "NHxFrFo1TVM2"
   },
   "source": [
    "<details>\n",
    "  <summary>Nhấn vào đây để xem kết quả!</summary>\n",
    "  <pre>0    8\n",
    "dtype: int32</pre>\n",
    "  \n",
    "</details>"
   ]
  },
  {
   "cell_type": "code",
   "execution_count": 18,
   "metadata": {
    "colab": {},
    "colab_type": "code",
    "id": "gC2JDkCrTVM3"
   },
   "outputs": [],
   "source": [
    "# Câu 2:  Liệt kê các dòng trong ser6 mà giá trị chia hết cho 2 và cho 3\n"
   ]
  },
  {
   "cell_type": "markdown",
   "metadata": {
    "colab_type": "text",
    "id": "WwEWd7HvTVM4"
   },
   "source": [
    "<details>\n",
    "  <summary>Nhấn vào đây để xem kết quả!</summary>\n",
    "  <pre>0     6\n",
    "2     6\n",
    "10    6\n",
    "33    6\n",
    "dtype: int32</pre>\n",
    "  \n",
    "</details>"
   ]
  },
  {
   "cell_type": "code",
   "execution_count": 19,
   "metadata": {
    "colab": {},
    "colab_type": "code",
    "id": "NF7-8vWwTVM5"
   },
   "outputs": [],
   "source": [
    "# Câu 3: In các phần tử ở vị trí 0, 5, 10, 15 trong ser6\n"
   ]
  },
  {
   "cell_type": "markdown",
   "metadata": {
    "colab_type": "text",
    "id": "Hrpg3GmTTVM6"
   },
   "source": [
    "<details>\n",
    "  <summary>Nhấn vào đây để xem kết quả!</summary>\n",
    "  <pre>0     6\n",
    "5     2\n",
    "10    6\n",
    "15    8\n",
    "dtype: int32</pre>\n",
    "  \n",
    "</details>"
   ]
  },
  {
   "cell_type": "code",
   "execution_count": 20,
   "metadata": {
    "colab": {},
    "colab_type": "code",
    "id": "t-arntq6TVM7"
   },
   "outputs": [],
   "source": [
    "# Câu 4: In ra các giá trị unique (array) trong ser6\n"
   ]
  },
  {
   "cell_type": "markdown",
   "metadata": {
    "colab_type": "text",
    "id": "mmj_tjSxTVM9"
   },
   "source": [
    "<details>\n",
    "  <summary>Nhấn vào đây để xem kết quả!</summary>\n",
    "  <pre>array([6, 9, 1, 2, 8, 7, 3, 5, 4], dtype=int64)</pre>\n",
    "  \n",
    "</details>"
   ]
  },
  {
   "cell_type": "code",
   "execution_count": 21,
   "metadata": {
    "colab": {},
    "colab_type": "code",
    "id": "cN5rfH9YTVM-"
   },
   "outputs": [],
   "source": [
    "# Câu 5: Tạo series ser7 với mỗi phần tử có giá trị = lập phương của phần tử trong ser6. \n",
    "\n",
    "\n",
    "# Xem 5 dòng dữ liệu đầu tiên (head) của ser7\n"
   ]
  },
  {
   "cell_type": "markdown",
   "metadata": {
    "colab_type": "text",
    "id": "4OIyYMVVTVNA"
   },
   "source": [
    "<details>\n",
    "  <summary>Nhấn vào đây để xem kết quả!</summary>\n",
    "  <pre>0    216.0\n",
    "1    729.0\n",
    "2    216.0\n",
    "3      1.0\n",
    "4      1.0\n",
    "dtype: float64\n",
    "</pre>\n",
    "  \n",
    "</details>"
   ]
  },
  {
   "cell_type": "markdown",
   "metadata": {
    "colab_type": "text",
    "id": "jnj9MaBMTVNA"
   },
   "source": [
    "### Part 3: Tạo series từ list, chuỗi và biểu thức điều kiện "
   ]
  },
  {
   "cell_type": "code",
   "execution_count": 22,
   "metadata": {
    "colab": {},
    "colab_type": "code",
    "id": "sYPtOyYvTVNA"
   },
   "outputs": [],
   "source": [
    "# Câu 1: Cho list sau:\n",
    "lst = [\"abc\", \"defg\", \"htlmj\", \"dfg\", \"ljsac\"]"
   ]
  },
  {
   "cell_type": "code",
   "execution_count": 23,
   "metadata": {
    "colab": {},
    "colab_type": "code",
    "id": "11yS8zfjTVNC"
   },
   "outputs": [],
   "source": [
    "# Câu 1a: Tạo series ser_chuoi từ lst \n"
   ]
  },
  {
   "cell_type": "markdown",
   "metadata": {
    "colab_type": "text",
    "id": "Wu-JV11mTVNE"
   },
   "source": [
    "<details>\n",
    "  <summary>Nhấn vào đây để xem kết quả!</summary>\n",
    "  <pre>0      abc\n",
    "1     defg\n",
    "2    htlmj\n",
    "3      dfg\n",
    "4    ljsac\n",
    "dtype: object\n",
    "</pre>\n",
    "  \n",
    "</details>"
   ]
  },
  {
   "cell_type": "code",
   "execution_count": 24,
   "metadata": {
    "colab": {},
    "colab_type": "code",
    "id": "YN3GlOKzTVNE"
   },
   "outputs": [],
   "source": [
    "# Câu 1b: Tạo series ser_dodai với mỗi phần tử có giá trị là chiều dài của mỗi phần tử trong ser_chuoi\n"
   ]
  },
  {
   "cell_type": "markdown",
   "metadata": {
    "colab_type": "text",
    "id": "x717yjWXTVNI"
   },
   "source": [
    "<details>\n",
    "  <summary>Nhấn vào đây để xem kết quả!</summary>\n",
    "  <pre>0    3\n",
    "1    4\n",
    "2    5\n",
    "3    3\n",
    "4    5\n",
    "dtype: int64</pre>\n",
    "  \n",
    "</details>"
   ]
  },
  {
   "cell_type": "code",
   "execution_count": 25,
   "metadata": {
    "colab": {},
    "colab_type": "code",
    "id": "4VsTnOlETVNI"
   },
   "outputs": [],
   "source": [
    "# Câu 2: Cho ser = pd.Series(np.array([1, 2, 4, 5, 8, 7, 6, 9])). \n",
    "# Sử dụng biểu thức điều kiện thích hợp để in ra các dòng trong ser có giá trị là số nguyên tố\n",
    "\n"
   ]
  },
  {
   "cell_type": "markdown",
   "metadata": {
    "colab_type": "text",
    "id": "ek3OnDwnTVNL"
   },
   "source": [
    "<details>\n",
    "  <summary>Nhấn vào đây để xem kết quả!</summary>\n",
    "  <pre>1    2\n",
    "3    5\n",
    "5    7\n",
    "dtype: int32\n",
    "</pre>\n",
    "  \n",
    "</details>"
   ]
  },
  {
   "cell_type": "code",
   "execution_count": 26,
   "metadata": {
    "colab": {},
    "colab_type": "code",
    "id": "dIxPN1Z3TVNL"
   },
   "outputs": [],
   "source": [
    "# Câu 3: Cho mẫu email như sau:\n",
    "pattern ='[A-Za-z0-9._%+-]+@[A-Za-z0-9.-]+\\\\.[A-Za-z]{2,4}'\n",
    "\n",
    "# Tạo một series ser_ch, với mỗi phần tử trong ser_ch là một chuỗi\n",
    "# Gợi ý: 'reading newspaper from tuoitre.vn', 'tubirona@gmail.com', 'nguyen.nn@yahoo.com', 'tran_2014@hotmail.com.vn'\n",
    "\n",
    "\n",
    "# In ra những dòng trong ser_ch thỏa điều kiện chuỗi là email\n"
   ]
  },
  {
   "cell_type": "markdown",
   "metadata": {
    "colab_type": "text",
    "id": "9iFYi3rLTVNN"
   },
   "source": [
    "<details>\n",
    "  <summary>Nhấn vào đây để xem kết quả!</summary>\n",
    "  <pre>1          tubirona@gmail.com\n",
    "2         nguyen.nn@yahoo.com\n",
    "3    tran_2014@hotmail.com.vn\n",
    "dtype: object</pre>\n",
    "  \n",
    "</details>"
   ]
  },
  {
   "cell_type": "code",
   "execution_count": 27,
   "metadata": {
    "colab": {},
    "colab_type": "code",
    "id": "hTe-y7ZaTVNN"
   },
   "outputs": [],
   "source": [
    "# Câu 4: Cho series:\n",
    "ser_names = pd.Series(['Manufacturer', 'Model', 'CarType', 'Min_Price', 'Price', 'Max_Price',\n",
    "       'MPG_city', 'MPG_highway', 'AirBags', 'DriveTrain', 'Cylinders',\n",
    "       'EngineSize', 'Horsepower', 'RPM', 'Rev_per_mile', 'Man_trans_avail',\n",
    "       'Fuel_tank_capacity', 'Passengers', 'Length', 'Wheelbase', 'Width',\n",
    "       'Turn_circle', 'Rear_seat_room', 'Luggage_room', 'Weight', 'Origin',\n",
    "       'Make'])\n",
    "# Sử dụng biểu thức điều kiện thích hợp để in ra các dòng của ser_names thỏa điều kiện trong chuỗi có chữ 'Price'\n",
    "\n"
   ]
  },
  {
   "cell_type": "markdown",
   "metadata": {
    "colab_type": "text",
    "id": "RbfKA18UTVNP"
   },
   "source": [
    "<details>\n",
    "  <summary>Nhấn vào đây để xem kết quả!</summary>\n",
    "  <pre>3    Min_Price\n",
    "4        Price\n",
    "5    Max_Price\n",
    "dtype: object\n",
    "</pre>\n",
    "  \n",
    "</details>"
   ]
  }
 ],
 "metadata": {
  "colab": {
   "name": "HV_Chapter4_Exercise1_Series.ipynb",
   "provenance": []
  },
  "kernelspec": {
   "display_name": "Python 3",
   "language": "python",
   "name": "python3"
  },
  "language_info": {
   "codemirror_mode": {
    "name": "ipython",
    "version": 3
   },
   "file_extension": ".py",
   "mimetype": "text/x-python",
   "name": "python",
   "nbconvert_exporter": "python",
   "pygments_lexer": "ipython3",
   "version": "3.7.6"
  }
 },
 "nbformat": 4,
 "nbformat_minor": 1
}
