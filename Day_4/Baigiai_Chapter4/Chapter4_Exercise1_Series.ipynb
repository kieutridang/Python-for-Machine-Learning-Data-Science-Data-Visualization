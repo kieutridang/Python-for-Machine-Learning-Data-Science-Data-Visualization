{
 "cells": [
  {
   "cell_type": "markdown",
   "metadata": {},
   "source": [
    "# Chapter 4 - Exercise 1: Thực hiện những yêu cầu liên quan đến series"
   ]
  },
  {
   "cell_type": "markdown",
   "metadata": {},
   "source": [
    "## Part 1: Thực hiện các phép toán trên series"
   ]
  },
  {
   "cell_type": "code",
   "execution_count": 1,
   "metadata": {},
   "outputs": [],
   "source": [
    "import numpy as np\n",
    "import pandas as pd"
   ]
  },
  {
   "cell_type": "code",
   "execution_count": 2,
   "metadata": {},
   "outputs": [
    {
     "name": "stdout",
     "output_type": "stream",
     "text": [
      "0     2\n",
      "1     4\n",
      "2     6\n",
      "3     8\n",
      "4    10\n",
      "dtype: int32\n",
      "0     1\n",
      "1     3\n",
      "2     5\n",
      "3     7\n",
      "4    11\n",
      "dtype: int32\n"
     ]
    }
   ],
   "source": [
    "# Câu 1a: Cho arr_1 là mảng số nguyên chẵn [2, 4, 6, 8, 10], arr_2 là mảng số nguyên lẻ [1, 3, 5, 7, 11]\n",
    "# Tạo biến kiểu Serries ser1 từ arr_1, ser2 từ arr_2\n",
    "arr_1 = np.array([2, 4, 6, 8, 10])\n",
    "arr_2 = np.array([1, 3, 5, 7, 11])\n",
    "ser1 = pd.Series(arr_1)\n",
    "ser2 = pd.Series(arr_2)\n",
    "# In danh sách các phần tử của ser1 và ser2\n",
    "print(ser1)\n",
    "print(ser2)"
   ]
  },
  {
   "cell_type": "code",
   "execution_count": 3,
   "metadata": {},
   "outputs": [
    {
     "data": {
      "text/plain": [
       "0     3\n",
       "1     7\n",
       "2    11\n",
       "3    15\n",
       "4    21\n",
       "dtype: int32"
      ]
     },
     "execution_count": 3,
     "metadata": {},
     "output_type": "execute_result"
    }
   ],
   "source": [
    "# Câu 1b: Thực hiện phép toán và thể hiện kết quả của:  ser1 + ser2 \n",
    "ser1 + ser2"
   ]
  },
  {
   "cell_type": "code",
   "execution_count": 4,
   "metadata": {},
   "outputs": [
    {
     "data": {
      "text/plain": [
       "0    1\n",
       "1    1\n",
       "2    1\n",
       "3    1\n",
       "4   -1\n",
       "dtype: int32"
      ]
     },
     "execution_count": 4,
     "metadata": {},
     "output_type": "execute_result"
    }
   ],
   "source": [
    "# Câu 1c: Thực hiện phép toán và thể hiện kết quả của:  ser1 - ser2\n",
    "ser1 - ser2"
   ]
  },
  {
   "cell_type": "code",
   "execution_count": 5,
   "metadata": {},
   "outputs": [
    {
     "data": {
      "text/plain": [
       "0      2\n",
       "1     12\n",
       "2     30\n",
       "3     56\n",
       "4    110\n",
       "dtype: int32"
      ]
     },
     "execution_count": 5,
     "metadata": {},
     "output_type": "execute_result"
    }
   ],
   "source": [
    "# Câu 1d: Thực hiện phép toán và thể hiện kết quả của:  ser1 * ser2\n",
    "ser1 * ser2"
   ]
  },
  {
   "cell_type": "code",
   "execution_count": 6,
   "metadata": {},
   "outputs": [
    {
     "data": {
      "text/plain": [
       "0    2.000000\n",
       "1    1.333333\n",
       "2    1.200000\n",
       "3    1.142857\n",
       "4    0.909091\n",
       "dtype: float64"
      ]
     },
     "execution_count": 6,
     "metadata": {},
     "output_type": "execute_result"
    }
   ],
   "source": [
    "# Câu 1e: Thực hiện phép toán và thể hiện kết quả của:  ser1 / ser2\n",
    "ser1 / ser2"
   ]
  },
  {
   "cell_type": "code",
   "execution_count": 7,
   "metadata": {},
   "outputs": [
    {
     "data": {
      "text/plain": [
       "0     True\n",
       "1     True\n",
       "2     True\n",
       "3     True\n",
       "4    False\n",
       "dtype: bool"
      ]
     },
     "execution_count": 7,
     "metadata": {},
     "output_type": "execute_result"
    }
   ],
   "source": [
    "# Câu 2a: Kiểm tra xem các phần tử của ser1 có > các phần tử của ser2 không?\n",
    "ser1 > ser2"
   ]
  },
  {
   "cell_type": "code",
   "execution_count": 8,
   "metadata": {},
   "outputs": [
    {
     "data": {
      "text/plain": [
       "0    False\n",
       "1    False\n",
       "2    False\n",
       "3    False\n",
       "4     True\n",
       "dtype: bool"
      ]
     },
     "execution_count": 8,
     "metadata": {},
     "output_type": "execute_result"
    }
   ],
   "source": [
    "# Câu 2b: Kiểm tra xem các phần tử của ser1 có < các phần tử của ser2 không?\n",
    "ser1 < ser2"
   ]
  },
  {
   "cell_type": "code",
   "execution_count": 9,
   "metadata": {
    "scrolled": true
   },
   "outputs": [
    {
     "data": {
      "text/plain": [
       "0    False\n",
       "1    False\n",
       "2    False\n",
       "3    False\n",
       "4    False\n",
       "dtype: bool"
      ]
     },
     "execution_count": 9,
     "metadata": {},
     "output_type": "execute_result"
    }
   ],
   "source": [
    "# Câu 2c: Kiểm tra xem các phần tử của ser1 có = các phần tử của ser2 không?\n",
    "ser1 == ser2"
   ]
  },
  {
   "cell_type": "code",
   "execution_count": 10,
   "metadata": {},
   "outputs": [
    {
     "data": {
      "text/plain": [
       "0     1\n",
       "1     3\n",
       "2     5\n",
       "3     7\n",
       "4    11\n",
       "0     6\n",
       "1    12\n",
       "dtype: int64"
      ]
     },
     "execution_count": 10,
     "metadata": {},
     "output_type": "execute_result"
    }
   ],
   "source": [
    "# Câu 3a: Thêm 2 phần tử [6, 12] vào ser2\n",
    "ser2 = ser2.append(pd.Series([6,12]))\n",
    "# In lại danh sách các phần tử của ser2.\n",
    "ser2"
   ]
  },
  {
   "cell_type": "code",
   "execution_count": 11,
   "metadata": {},
   "outputs": [
    {
     "name": "stdout",
     "output_type": "stream",
     "text": [
      "0     2\n",
      "1     4\n",
      "3     8\n",
      "4    10\n",
      "dtype: int32\n"
     ]
    }
   ],
   "source": [
    "# Câu 3b: Tạo series ser3 chỉ chứa các phần tử có trong ser1 mà không có trong ser2. \n",
    "#         In danh sách các phần tử của ser3\n",
    "ser3 = ser1[~ser1.isin(ser2)]\n",
    "print(ser3)"
   ]
  },
  {
   "cell_type": "code",
   "execution_count": 12,
   "metadata": {},
   "outputs": [
    {
     "name": "stdout",
     "output_type": "stream",
     "text": [
      "0     1\n",
      "1     3\n",
      "2     5\n",
      "3     7\n",
      "4    11\n",
      "1    12\n",
      "dtype: int64\n"
     ]
    }
   ],
   "source": [
    "# Câu 3c: Tạo series ser4 chỉ chứa các phần tử có trong ser2 mà không có trong ser1. \n",
    "#         In danh sách các phần tử của ser4\n",
    "ser4 = ser2[~ser2.isin(ser1)]\n",
    "print(ser4)"
   ]
  },
  {
   "cell_type": "code",
   "execution_count": 13,
   "metadata": {},
   "outputs": [
    {
     "name": "stdout",
     "output_type": "stream",
     "text": [
      "0     2\n",
      "1     4\n",
      "3     8\n",
      "4    10\n",
      "0     1\n",
      "1     3\n",
      "2     5\n",
      "3     7\n",
      "4    11\n",
      "1    12\n",
      "dtype: int64\n"
     ]
    }
   ],
   "source": [
    "# Câu 4: Tạo series ser5 chứa các phần tử chỉ có trong ser1 và chỉ có trong ser2\n",
    "#        In danh sách các phần tử của ser5\n",
    "ser5 = ser3.append(ser4)\n",
    "print(ser5)"
   ]
  },
  {
   "cell_type": "markdown",
   "metadata": {},
   "source": [
    "## Part 2: Truy xuất các phần tử, và thống kê thông tin trên series"
   ]
  },
  {
   "cell_type": "code",
   "execution_count": 14,
   "metadata": {},
   "outputs": [
    {
     "name": "stdout",
     "output_type": "stream",
     "text": [
      "(35,)\n",
      "0    6\n",
      "1    9\n",
      "2    6\n",
      "3    1\n",
      "4    1\n",
      "dtype: int32\n",
      "30    8\n",
      "31    4\n",
      "32    7\n",
      "33    6\n",
      "34    2\n",
      "dtype: int32\n"
     ]
    }
   ],
   "source": [
    "# Câu 1a: Tạo series ser6 có 35 phần tử số nguyên ngẫu nhiên có giá trị trong khoảng từ 1 đến 9. \n",
    "np.random.seed(1)\n",
    "ser6 = pd.Series(np.random.randint(1,10,35))\n",
    "# Cho biết kích thước (shape) của ser6\n",
    "print(ser6.shape)\n",
    "\n",
    "# Xem 5 dòng dữ liệu đầu tiên (head) và 5 dòng dữ liệu cuối cùng (tail) có trong ser6\n",
    "print(ser6.head())\n",
    "print(ser6.tail())\n"
   ]
  },
  {
   "cell_type": "code",
   "execution_count": 15,
   "metadata": {},
   "outputs": [
    {
     "name": "stdout",
     "output_type": "stream",
     "text": [
      "[6 9 6 1 1 2 8 7 3 5 6 3 5 3 5 8 8 2 8 1 7 8 7 2 1 2 9 9 4 9 8 4 7 6 2]\n"
     ]
    }
   ],
   "source": [
    "# Câu 1b: In danh sách các phần tử của ser6 theo dạng array\n",
    "print(ser6.values)"
   ]
  },
  {
   "cell_type": "code",
   "execution_count": 16,
   "metadata": {},
   "outputs": [
    {
     "data": {
      "text/plain": [
       "count    35.000000\n",
       "mean      5.200000\n",
       "std       2.763204\n",
       "min       1.000000\n",
       "25%       2.500000\n",
       "50%       6.000000\n",
       "75%       8.000000\n",
       "max       9.000000\n",
       "dtype: float64"
      ]
     },
     "execution_count": 16,
     "metadata": {},
     "output_type": "execute_result"
    }
   ],
   "source": [
    "# Câu 1c: Cho biết thông tin thống kê chung (describe()) của ser6\n",
    "ser6.describe()"
   ]
  },
  {
   "cell_type": "code",
   "execution_count": 17,
   "metadata": {},
   "outputs": [
    {
     "data": {
      "text/plain": [
       "182"
      ]
     },
     "execution_count": 17,
     "metadata": {},
     "output_type": "execute_result"
    }
   ],
   "source": [
    "# Câu 1d: Cho biết tổng của các phần tử có trong ser6\n",
    "ser6.sum()"
   ]
  },
  {
   "cell_type": "code",
   "execution_count": 18,
   "metadata": {},
   "outputs": [
    {
     "data": {
      "text/plain": [
       "0    8\n",
       "dtype: int32"
      ]
     },
     "execution_count": 18,
     "metadata": {},
     "output_type": "execute_result"
    }
   ],
   "source": [
    "# Câu 1e: Cho biết phần tử có tần suất xuất hiện nhiều nhất trong ser6\n",
    "ser6.mode()"
   ]
  },
  {
   "cell_type": "code",
   "execution_count": 19,
   "metadata": {},
   "outputs": [
    {
     "data": {
      "text/plain": [
       "0     6\n",
       "2     6\n",
       "10    6\n",
       "33    6\n",
       "dtype: int32"
      ]
     },
     "execution_count": 19,
     "metadata": {},
     "output_type": "execute_result"
    }
   ],
   "source": [
    "# Câu 2:  Liệt kê các dòng trong ser6 mà giá trị chia hết cho 2 và cho 3\n",
    "ser6[(ser6 % 2 == 0) & (ser6 % 3 == 0)]"
   ]
  },
  {
   "cell_type": "code",
   "execution_count": 20,
   "metadata": {},
   "outputs": [
    {
     "data": {
      "text/plain": [
       "0     6\n",
       "5     2\n",
       "10    6\n",
       "15    8\n",
       "dtype: int32"
      ]
     },
     "execution_count": 20,
     "metadata": {},
     "output_type": "execute_result"
    }
   ],
   "source": [
    "# Câu 3: In các phần tử ở vị trí 0, 5, 10, 15 trong ser6\n",
    "pos = [0, 5, 10, 15]\n",
    "ser6[pos]"
   ]
  },
  {
   "cell_type": "code",
   "execution_count": 21,
   "metadata": {},
   "outputs": [
    {
     "data": {
      "text/plain": [
       "array([6, 9, 1, 2, 8, 7, 3, 5, 4], dtype=int64)"
      ]
     },
     "execution_count": 21,
     "metadata": {},
     "output_type": "execute_result"
    }
   ],
   "source": [
    "# Câu 4: In ra các giá trị unique (array) trong ser6\n",
    "ser6.unique()"
   ]
  },
  {
   "cell_type": "code",
   "execution_count": 22,
   "metadata": {},
   "outputs": [
    {
     "name": "stdout",
     "output_type": "stream",
     "text": [
      "0    216.0\n",
      "1    729.0\n",
      "2    216.0\n",
      "3      1.0\n",
      "4      1.0\n",
      "dtype: float64\n"
     ]
    }
   ],
   "source": [
    "# Câu 5: Tạo series ser7 với mỗi phần tử có giá trị = lập phương của phần tử trong ser6. \n",
    "import math\n",
    "ser7 = ser6.map(lambda x: math.pow(x,3))\n",
    "\n",
    "# Xem 5 dòng dữ liệu đầu tiên (head) của ser7\n",
    "print(ser7.head())\n"
   ]
  },
  {
   "cell_type": "markdown",
   "metadata": {},
   "source": [
    "## Part 3: Tạo series từ list, chuỗi và biểu thức điều kiện "
   ]
  },
  {
   "cell_type": "code",
   "execution_count": 23,
   "metadata": {},
   "outputs": [],
   "source": [
    "# Câu 1: Cho list sau:\n",
    "lst = [\"abc\", \"defg\", \"htlmj\", \"dfg\", \"ljsac\"]"
   ]
  },
  {
   "cell_type": "code",
   "execution_count": 24,
   "metadata": {},
   "outputs": [
    {
     "name": "stdout",
     "output_type": "stream",
     "text": [
      "0      abc\n",
      "1     defg\n",
      "2    htlmj\n",
      "3      dfg\n",
      "4    ljsac\n",
      "dtype: object\n"
     ]
    }
   ],
   "source": [
    "# Câu 1a: Tạo series ser_chuoi từ lst \n",
    "ser_chuoi = pd.Series(lst)\n",
    "print(ser_chuoi)"
   ]
  },
  {
   "cell_type": "code",
   "execution_count": 25,
   "metadata": {},
   "outputs": [
    {
     "data": {
      "text/plain": [
       "0    3\n",
       "1    4\n",
       "2    5\n",
       "3    3\n",
       "4    5\n",
       "dtype: int64"
      ]
     },
     "execution_count": 25,
     "metadata": {},
     "output_type": "execute_result"
    }
   ],
   "source": [
    "# Câu 1b: Tạo series ser_dodai với mỗi phần tử có giá trị là chiều dài của mỗi phần tử trong ser_chuoi\n",
    "ser_dodai = ser_chuoi.map(lambda x: len(x))\n",
    "ser_dodai"
   ]
  },
  {
   "cell_type": "code",
   "execution_count": 26,
   "metadata": {},
   "outputs": [
    {
     "name": "stdout",
     "output_type": "stream",
     "text": [
      "1    2\n",
      "3    5\n",
      "5    7\n",
      "dtype: int32\n"
     ]
    }
   ],
   "source": [
    "# Câu 2: Cho ser = pd.Series(np.array([1, 2, 4, 5, 8, 7, 6, 9])). \n",
    "# Sử dụng biểu thức điều kiện thích hợp để in ra các dòng trong ser có giá trị là số nguyên tố\n",
    "\n",
    "ser = pd.Series(np.array([1, 2, 4, 5, 8, 7, 6, 9]))\n",
    "# Kiểm tra số nguyên tố\n",
    "def test_prime(number):\n",
    "    count = 0\n",
    "    for i in range(1, number + 1):\n",
    "        if number % i == 0:\n",
    "            count += 1\n",
    "    return count == 2\n",
    "\n",
    "ser_nguyento = ser.map(lambda x: test_prime(x))\n",
    "\n",
    "print(ser[ser_nguyento])"
   ]
  },
  {
   "cell_type": "code",
   "execution_count": 27,
   "metadata": {},
   "outputs": [
    {
     "data": {
      "text/plain": [
       "1          tubirona@gmail.com\n",
       "2         nguyen.nn@yahoo.com\n",
       "3    tran_2014@hotmail.com.vn\n",
       "dtype: object"
      ]
     },
     "execution_count": 27,
     "metadata": {},
     "output_type": "execute_result"
    }
   ],
   "source": [
    "# Câu 3: Cho mẫu email như sau:\n",
    "pattern ='[A-Za-z0-9._%+-]+@[A-Za-z0-9.-]+\\\\.[A-Za-z]{2,4}'\n",
    "\n",
    "# Tạo một series ser_ch, với mỗi phần tử trong ser_ch là một chuỗi\n",
    "# Gợi ý: 'reading newspaper from tuoitre.vn', 'tubirona@gmail.com', 'nguyen.nn@yahoo.com', 'tran_2014@hotmail.com.vn'\n",
    "ser_ch = pd.Series(['reading newspaper from tuoitre.vn', 'tubirona@gmail.com', 'nguyen.nn@yahoo.com', 'tran_2014@hotmail.com.vn'])\n",
    "\n",
    "# In ra những dòng trong ser_ch thỏa điều kiện chuỗi là email\n",
    "import re\n",
    "is_email = ser_ch.map(lambda x: bool(re.match(pattern, x)))\n",
    "ser_ch[is_email]"
   ]
  },
  {
   "cell_type": "code",
   "execution_count": 28,
   "metadata": {},
   "outputs": [
    {
     "name": "stdout",
     "output_type": "stream",
     "text": [
      "3    Min_Price\n",
      "4        Price\n",
      "5    Max_Price\n",
      "dtype: object\n"
     ]
    }
   ],
   "source": [
    "# Câu 4: Cho series:\n",
    "ser_names = pd.Series(['Manufacturer', 'Model', 'CarType', 'Min_Price', 'Price', 'Max_Price',\n",
    "       'MPG_city', 'MPG_highway', 'AirBags', 'DriveTrain', 'Cylinders',\n",
    "       'EngineSize', 'Horsepower', 'RPM', 'Rev_per_mile', 'Man_trans_avail',\n",
    "       'Fuel_tank_capacity', 'Passengers', 'Length', 'Wheelbase', 'Width',\n",
    "       'Turn_circle', 'Rear_seat_room', 'Luggage_room', 'Weight', 'Origin',\n",
    "       'Make'])\n",
    "# Sử dụng biểu thức điều kiện thích hợp để in ra các dòng của ser_names thỏa điều kiện trong chuỗi có chữ 'Price'\n",
    "\n",
    "Price = ser_names.map(lambda s: 'Price' in s)\n",
    "\n",
    "names_Price = ser_names[Price]\n",
    "\n",
    "print(names_Price)"
   ]
  }
 ],
 "metadata": {
  "kernelspec": {
   "display_name": "Python 3",
   "language": "python",
   "name": "python3"
  },
  "language_info": {
   "codemirror_mode": {
    "name": "ipython",
    "version": 3
   },
   "file_extension": ".py",
   "mimetype": "text/x-python",
   "name": "python",
   "nbconvert_exporter": "python",
   "pygments_lexer": "ipython3",
   "version": "3.7.4"
  }
 },
 "nbformat": 4,
 "nbformat_minor": 2
}
