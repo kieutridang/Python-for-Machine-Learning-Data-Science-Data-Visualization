{
  "nbformat": 4,
  "nbformat_minor": 0,
  "metadata": {
    "kernelspec": {
      "display_name": "Python 3",
      "language": "python",
      "name": "python3"
    },
    "language_info": {
      "codemirror_mode": {
        "name": "ipython",
        "version": 3
      },
      "file_extension": ".py",
      "mimetype": "text/x-python",
      "name": "python",
      "nbconvert_exporter": "python",
      "pygments_lexer": "ipython3",
      "version": "3.6.8"
    },
    "colab": {
      "name": "Demo DataFrame.ipynb",
      "provenance": []
    }
  },
  "cells": [
    {
      "cell_type": "markdown",
      "metadata": {
        "id": "2814hNvZT9G-",
        "colab_type": "text"
      },
      "source": [
        "## Minh họa Pandas - DataFrame"
      ]
    },
    {
      "cell_type": "code",
      "metadata": {
        "id": "UF0anbuzT9HA",
        "colab_type": "code",
        "colab": {}
      },
      "source": [
        "# Import thư viện\n",
        "import numpy as np\n",
        "import pandas as pd"
      ],
      "execution_count": null,
      "outputs": []
    },
    {
      "cell_type": "markdown",
      "metadata": {
        "id": "KYHgLyEXT9HD",
        "colab_type": "text"
      },
      "source": [
        "### Tạo DataFrame"
      ]
    },
    {
      "cell_type": "code",
      "metadata": {
        "id": "7QvRazfvT9HE",
        "colab_type": "code",
        "colab": {},
        "outputId": "badec1eb-1d77-45cf-c165-c356069168fc"
      },
      "source": [
        "#Tạo dataframe từ list\n",
        "\n",
        "#df1=pd.DataFrame(['1','2','3'])\n",
        "#df1\n",
        "\n",
        "#df1=pd.DataFrame([['An','19'],['Hoa',25]])\n",
        "#df1\n",
        "\n",
        "df1=pd.DataFrame([['An','19'],['Hoa',25]],columns=['Ten','Tuoi'])\n",
        "df1"
      ],
      "execution_count": null,
      "outputs": [
        {
          "output_type": "execute_result",
          "data": {
            "text/html": [
              "<div>\n",
              "<style scoped>\n",
              "    .dataframe tbody tr th:only-of-type {\n",
              "        vertical-align: middle;\n",
              "    }\n",
              "\n",
              "    .dataframe tbody tr th {\n",
              "        vertical-align: top;\n",
              "    }\n",
              "\n",
              "    .dataframe thead th {\n",
              "        text-align: right;\n",
              "    }\n",
              "</style>\n",
              "<table border=\"1\" class=\"dataframe\">\n",
              "  <thead>\n",
              "    <tr style=\"text-align: right;\">\n",
              "      <th></th>\n",
              "      <th>Ten</th>\n",
              "      <th>Tuoi</th>\n",
              "    </tr>\n",
              "  </thead>\n",
              "  <tbody>\n",
              "    <tr>\n",
              "      <th>0</th>\n",
              "      <td>An</td>\n",
              "      <td>19</td>\n",
              "    </tr>\n",
              "    <tr>\n",
              "      <th>1</th>\n",
              "      <td>Hoa</td>\n",
              "      <td>25</td>\n",
              "    </tr>\n",
              "  </tbody>\n",
              "</table>\n",
              "</div>"
            ],
            "text/plain": [
              "   Ten Tuoi\n",
              "0   An   19\n",
              "1  Hoa   25"
            ]
          },
          "metadata": {
            "tags": []
          },
          "execution_count": 8
        }
      ]
    },
    {
      "cell_type": "code",
      "metadata": {
        "id": "hMNScYc6T9HI",
        "colab_type": "code",
        "colab": {},
        "outputId": "5ee3ed0b-f58b-4c54-bcee-789848b46428"
      },
      "source": [
        "#Tạo dataframe từ list dictionary\n",
        "\n",
        "#df2 = pd.DataFrame([{'Ten':'An','Tuoi':19},{'Ten':'Hoa','Tuoi':25}])\n",
        "#df2\n",
        "\n",
        "#df2 = pd.DataFrame({'Ten':['An','Hoa'],'Tuoi':[19,25]})\n",
        "#print(df2)\n",
        "\n",
        "df2 = pd.DataFrame({'Ten':['An','Hoa','Trung'],'Tuoi':[19,25]}) \n",
        "df2\n",
        "\n",
        "#df2 = pd.DataFrame([{'Ten':'An','Tuoi':19},{'Ten':'Hoa','Tuoi':25},{'Ten': 'Trung'}])\n",
        "#print(df2)"
      ],
      "execution_count": null,
      "outputs": [
        {
          "output_type": "execute_result",
          "data": {
            "text/html": [
              "<div>\n",
              "<style scoped>\n",
              "    .dataframe tbody tr th:only-of-type {\n",
              "        vertical-align: middle;\n",
              "    }\n",
              "\n",
              "    .dataframe tbody tr th {\n",
              "        vertical-align: top;\n",
              "    }\n",
              "\n",
              "    .dataframe thead th {\n",
              "        text-align: right;\n",
              "    }\n",
              "</style>\n",
              "<table border=\"1\" class=\"dataframe\">\n",
              "  <thead>\n",
              "    <tr style=\"text-align: right;\">\n",
              "      <th></th>\n",
              "      <th>Ten</th>\n",
              "      <th>Tuoi</th>\n",
              "    </tr>\n",
              "  </thead>\n",
              "  <tbody>\n",
              "    <tr>\n",
              "      <th>0</th>\n",
              "      <td>An</td>\n",
              "      <td>19.0</td>\n",
              "    </tr>\n",
              "    <tr>\n",
              "      <th>1</th>\n",
              "      <td>Hoa</td>\n",
              "      <td>NaN</td>\n",
              "    </tr>\n",
              "  </tbody>\n",
              "</table>\n",
              "</div>"
            ],
            "text/plain": [
              "   Ten  Tuoi\n",
              "0   An  19.0\n",
              "1  Hoa   NaN"
            ]
          },
          "metadata": {
            "tags": []
          },
          "execution_count": 12
        }
      ]
    },
    {
      "cell_type": "code",
      "metadata": {
        "id": "JPqC7yrnT9HL",
        "colab_type": "code",
        "colab": {},
        "outputId": "3b5059fd-9d3d-43db-a9ac-b002d15c2b73"
      },
      "source": [
        "#Tạo data frame từ list dictionary \n",
        "data = [{'a': 1, 'b': 2},{'a': 5, 'b': 10, 'c': 20}]\n",
        "# 2 cột, tên cột là tên key của dictionary\n",
        "#df1 = pd.DataFrame(data, index=['first', 'second'], columns=['a', 'b'])\n",
        "\n",
        "# 2 cột, tên một cột là tên key của dictionary, tên một cột khác\n",
        "df2 = pd.DataFrame(data, index=['first', 'second'], columns=['a', 'c'])\n",
        "df2\n",
        "#print(df2)\n"
      ],
      "execution_count": null,
      "outputs": [
        {
          "output_type": "execute_result",
          "data": {
            "text/html": [
              "<div>\n",
              "<style scoped>\n",
              "    .dataframe tbody tr th:only-of-type {\n",
              "        vertical-align: middle;\n",
              "    }\n",
              "\n",
              "    .dataframe tbody tr th {\n",
              "        vertical-align: top;\n",
              "    }\n",
              "\n",
              "    .dataframe thead th {\n",
              "        text-align: right;\n",
              "    }\n",
              "</style>\n",
              "<table border=\"1\" class=\"dataframe\">\n",
              "  <thead>\n",
              "    <tr style=\"text-align: right;\">\n",
              "      <th></th>\n",
              "      <th>a</th>\n",
              "      <th>c</th>\n",
              "    </tr>\n",
              "  </thead>\n",
              "  <tbody>\n",
              "    <tr>\n",
              "      <th>first</th>\n",
              "      <td>1</td>\n",
              "      <td>NaN</td>\n",
              "    </tr>\n",
              "    <tr>\n",
              "      <th>second</th>\n",
              "      <td>5</td>\n",
              "      <td>20.0</td>\n",
              "    </tr>\n",
              "  </tbody>\n",
              "</table>\n",
              "</div>"
            ],
            "text/plain": [
              "        a     c\n",
              "first   1   NaN\n",
              "second  5  20.0"
            ]
          },
          "metadata": {
            "tags": []
          },
          "execution_count": 14
        }
      ]
    },
    {
      "cell_type": "code",
      "metadata": {
        "id": "U-SuDTZJT9HO",
        "colab_type": "code",
        "colab": {}
      },
      "source": [
        "#df21 = pd.DataFrame(data, index=['first', 'second'])\n",
        "#print(df21)\n",
        "\n",
        "#df22 = pd.DataFrame(data)\n",
        "#print(df22)\n"
      ],
      "execution_count": null,
      "outputs": []
    },
    {
      "cell_type": "code",
      "metadata": {
        "id": "wc7-SSLAT9HR",
        "colab_type": "code",
        "colab": {}
      },
      "source": [
        "#Tạo dataframe từ dictionary series\n",
        "\n",
        "#Tạo dataframe từ dictionary series\n",
        "data={'Ten':pd.Series(['Hoa','An','Trung']), 'Tuoi':pd.Series([19,25,40])}\n",
        "#df3 = pd.DataFrame(data)\n",
        "\n",
        "#print(df3)\n",
        "#print(df3.dtypes)\n"
      ],
      "execution_count": null,
      "outputs": []
    },
    {
      "cell_type": "code",
      "metadata": {
        "id": "hq-Exl41T9HU",
        "colab_type": "code",
        "colab": {}
      },
      "source": [
        ""
      ],
      "execution_count": null,
      "outputs": []
    },
    {
      "cell_type": "markdown",
      "metadata": {
        "id": "tYi5LZmgT9HX",
        "colab_type": "text"
      },
      "source": [
        "### Thao tác trên cột: lấy dữ liệu, thêm cột, xóa cột"
      ]
    },
    {
      "cell_type": "code",
      "metadata": {
        "id": "YSnJ2FkiT9HY",
        "colab_type": "code",
        "colab": {},
        "outputId": "902f2d00-b0c2-4618-e57b-e3d6306aaf11"
      },
      "source": [
        "# Create a DataFrame from Dict of Series\n",
        "d = {'one' : pd.Series([1, 2, 3], index=['a', 'b', 'c']),\n",
        "      'two' : pd.Series([1, 2, 3, 4], index=['a', 'b', 'c', 'd']),\n",
        "      'three' : pd.Series([1, 2, 3], index=['a', 'b', 'c']),\n",
        "    }\n",
        "\n",
        "df5 = pd.DataFrame(d, columns = ['one', 'two', 'three'])\n",
        "df5"
      ],
      "execution_count": null,
      "outputs": [
        {
          "output_type": "execute_result",
          "data": {
            "text/html": [
              "<div>\n",
              "<style scoped>\n",
              "    .dataframe tbody tr th:only-of-type {\n",
              "        vertical-align: middle;\n",
              "    }\n",
              "\n",
              "    .dataframe tbody tr th {\n",
              "        vertical-align: top;\n",
              "    }\n",
              "\n",
              "    .dataframe thead th {\n",
              "        text-align: right;\n",
              "    }\n",
              "</style>\n",
              "<table border=\"1\" class=\"dataframe\">\n",
              "  <thead>\n",
              "    <tr style=\"text-align: right;\">\n",
              "      <th></th>\n",
              "      <th>one</th>\n",
              "      <th>two</th>\n",
              "      <th>three</th>\n",
              "    </tr>\n",
              "  </thead>\n",
              "  <tbody>\n",
              "    <tr>\n",
              "      <th>a</th>\n",
              "      <td>1.0</td>\n",
              "      <td>1</td>\n",
              "      <td>1.0</td>\n",
              "    </tr>\n",
              "    <tr>\n",
              "      <th>b</th>\n",
              "      <td>2.0</td>\n",
              "      <td>2</td>\n",
              "      <td>2.0</td>\n",
              "    </tr>\n",
              "    <tr>\n",
              "      <th>c</th>\n",
              "      <td>3.0</td>\n",
              "      <td>3</td>\n",
              "      <td>3.0</td>\n",
              "    </tr>\n",
              "    <tr>\n",
              "      <th>d</th>\n",
              "      <td>NaN</td>\n",
              "      <td>4</td>\n",
              "      <td>NaN</td>\n",
              "    </tr>\n",
              "  </tbody>\n",
              "</table>\n",
              "</div>"
            ],
            "text/plain": [
              "   one  two  three\n",
              "a  1.0    1    1.0\n",
              "b  2.0    2    2.0\n",
              "c  3.0    3    3.0\n",
              "d  NaN    4    NaN"
            ]
          },
          "metadata": {
            "tags": []
          },
          "execution_count": 15
        }
      ]
    },
    {
      "cell_type": "code",
      "metadata": {
        "id": "y_4L3BYVT9Ha",
        "colab_type": "code",
        "colab": {},
        "outputId": "f379b71e-f703-41b2-a82a-0f4d4255a86b"
      },
      "source": [
        "# lấy dữ liệu theo cột\n",
        "print(df5)\n",
        "print(\"Lấy cột 'one':\")\n",
        "print(df5['one'])\n",
        "print(df5.one)"
      ],
      "execution_count": null,
      "outputs": [
        {
          "output_type": "stream",
          "text": [
            "   one  two  three\n",
            "a  1.0    1    1.0\n",
            "b  2.0    2    2.0\n",
            "c  3.0    3    3.0\n",
            "d  NaN    4    NaN\n",
            "Lấy cột 'one':\n",
            "a    1.0\n",
            "b    2.0\n",
            "c    3.0\n",
            "d    NaN\n",
            "Name: one, dtype: float64\n",
            "a    1.0\n",
            "b    2.0\n",
            "c    3.0\n",
            "d    NaN\n",
            "Name: one, dtype: float64\n"
          ],
          "name": "stdout"
        }
      ]
    },
    {
      "cell_type": "code",
      "metadata": {
        "id": "MqBYmi9UT9Hd",
        "colab_type": "code",
        "colab": {},
        "outputId": "76fa12f2-4e61-4aaa-a8c9-0fa724e45c32"
      },
      "source": [
        "# Thêm cột mới\n",
        "\n",
        "df5['four']=pd.Series([10,20,30, 40],\n",
        "                      index=['a','b','c','d1'])\n",
        "print(df5)"
      ],
      "execution_count": null,
      "outputs": [
        {
          "output_type": "stream",
          "text": [
            "   one  two  three  four\n",
            "a  1.0    1    1.0  10.0\n",
            "b  2.0    2    2.0  20.0\n",
            "c  3.0    3    3.0  30.0\n",
            "d  NaN    4    NaN   NaN\n"
          ],
          "name": "stdout"
        }
      ]
    },
    {
      "cell_type": "code",
      "metadata": {
        "id": "7lfC_f6xT9Hf",
        "colab_type": "code",
        "colab": {},
        "outputId": "b6b45413-c937-4508-fee0-b0a35fb10583"
      },
      "source": [
        "# using del function\n",
        "print (\"Dùng del:\")\n",
        "del df5['three']\n",
        "print(df5)"
      ],
      "execution_count": null,
      "outputs": [
        {
          "output_type": "stream",
          "text": [
            "Dùng del:\n",
            "   one  two  four\n",
            "a  1.0    1  10.0\n",
            "b  2.0    2  20.0\n",
            "c  3.0    3  30.0\n",
            "d  NaN    4   NaN\n"
          ],
          "name": "stdout"
        }
      ]
    },
    {
      "cell_type": "code",
      "metadata": {
        "id": "n4KCQACpT9Hi",
        "colab_type": "code",
        "colab": {}
      },
      "source": [
        "#using drop\n",
        "print(df5)\n",
        "df7=df5.drop(labels=['two','four'], axis=1)\n",
        "print(df7)"
      ],
      "execution_count": null,
      "outputs": []
    },
    {
      "cell_type": "code",
      "metadata": {
        "id": "pCgWppjOT9Hk",
        "colab_type": "code",
        "colab": {},
        "outputId": "4d7a4d83-121d-47b7-80db-c90d767cd95e"
      },
      "source": [
        "# Xóa cột\n",
        "\n",
        "\n",
        "\n",
        "# using pop function\n",
        "print(df5)\n",
        "print (\"Dùng pop để xóa cột one\")\n",
        "df6=df5.pop('one')\n",
        "print(df5)\n",
        "print (\"df6\") # df6 chứa cột  bị xóa\n",
        "print(df6)\n",
        "\n"
      ],
      "execution_count": null,
      "outputs": [
        {
          "output_type": "stream",
          "text": [
            "   one  two  four\n",
            "a  1.0    1  10.0\n",
            "b  2.0    2  20.0\n",
            "c  3.0    3  30.0\n",
            "d  NaN    4   NaN\n",
            "Dùng pop để xóa cột one\n",
            "   two  four\n",
            "a    1  10.0\n",
            "b    2  20.0\n",
            "c    3  30.0\n",
            "d    4   NaN\n",
            "df6\n",
            "a    1.0\n",
            "b    2.0\n",
            "c    3.0\n",
            "d    NaN\n",
            "Name: one, dtype: float64\n"
          ],
          "name": "stdout"
        }
      ]
    },
    {
      "cell_type": "code",
      "metadata": {
        "id": "TdXn0hIyT9Hn",
        "colab_type": "code",
        "colab": {}
      },
      "source": [
        "print(df5)"
      ],
      "execution_count": null,
      "outputs": []
    },
    {
      "cell_type": "markdown",
      "metadata": {
        "id": "F-UGSZY3T9Hp",
        "colab_type": "text"
      },
      "source": [
        "# Thao tác trên dòng: lấy dữ liệu, thêm dòng, xóa dòng"
      ]
    },
    {
      "cell_type": "code",
      "metadata": {
        "id": "IzjleozDT9Hp",
        "colab_type": "code",
        "colab": {},
        "outputId": "0bfd7830-5fa4-4267-ae15-e60eb39fc107"
      },
      "source": [
        "# lấy dữ liệu trên dòng loc- iloc\n",
        "\n",
        "d = {'name' : pd.Series(['An', 'Hoa', 'Trung','Huy','Thanh','Dung'], index=[49,48,47, 1, 2, 3]),\n",
        "      'age' : pd.Series([15, 22, 36,27,55],index=[49,48,47, 1, 3])\n",
        "    }\n",
        "                         \n",
        "df=pd.DataFrame(d,columns=['name','age'])\n",
        "print('Dataframe\\n',df)\n",
        "\n",
        "## Lấy dữ liệu theo loc - iloc\n",
        "\n",
        "#loc\n",
        "\n",
        "print('Giá trị dòng 3- cột name là:', df.loc[3,'name'])\n",
        "\n",
        "#iloc\n",
        "print('Giá trị dòng index 3- cột name là:',df.iloc[3,0])\n",
        "print('Giá trị dòng index 4- cột age là:',df.iloc[4,1])\n",
        "\n",
        "print('Lọc những nhân viên có tuổi >30: \\n',  df.loc[df['age']>30])\n",
        "\n",
        "print('Lọc tên những nhân viên có tuổi >30: \\n', df.loc[df['age']>30,'name']) \n",
        "\n"
      ],
      "execution_count": null,
      "outputs": [
        {
          "output_type": "stream",
          "text": [
            "Dataframe\n",
            "      name   age\n",
            "1     Huy  27.0\n",
            "2   Thanh   NaN\n",
            "3    Dung  55.0\n",
            "47  Trung  36.0\n",
            "48    Hoa  22.0\n",
            "49     An  15.0\n",
            "Giá trị dòng 3- cột name là: Dung\n",
            "Giá trị dòng index 3- cột name là: Trung\n",
            "Giá trị dòng index 4- cột age là: 22.0\n",
            "Lọc những nhân viên có tuổi >30: \n",
            "      name   age\n",
            "3    Dung  55.0\n",
            "47  Trung  36.0\n",
            "Lọc tên những nhân viên có tuổi >30: \n",
            " 3      Dung\n",
            "47    Trung\n",
            "Name: name, dtype: object\n"
          ],
          "name": "stdout"
        }
      ]
    },
    {
      "cell_type": "code",
      "metadata": {
        "id": "CpYuZ9MHT9Hr",
        "colab_type": "code",
        "colab": {}
      },
      "source": [
        "#Cập nhật dữ liệu\n",
        "print(df)\n",
        "print (' Trước khi cập nhật: ', df.loc[df['name']=='Huy'].age.values[0])\n",
        "\n",
        "df.loc[df['name']=='Huy','age'] = 37\n",
        "\n",
        "print (' Sau khi cập nhật: ', df.loc[df['name']=='Huy'].age.values[0])"
      ],
      "execution_count": null,
      "outputs": []
    },
    {
      "cell_type": "code",
      "metadata": {
        "id": "lAo0B18dT9Ht",
        "colab_type": "code",
        "colab": {}
      },
      "source": [
        "# Minh họa set_index\n",
        "print(df)\n",
        "df4 = df.set_index(keys=['name'])\n",
        "df4"
      ],
      "execution_count": null,
      "outputs": []
    },
    {
      "cell_type": "code",
      "metadata": {
        "id": "QZ-S9MTOT9Hw",
        "colab_type": "code",
        "colab": {}
      },
      "source": [
        "print('Tuổi của nhân viên Huy :',df4.loc['Huy','age'])\n"
      ],
      "execution_count": null,
      "outputs": []
    },
    {
      "cell_type": "markdown",
      "metadata": {
        "id": "hQF-GOmaT9Hy",
        "colab_type": "text"
      },
      "source": [
        "### Sắp xếp"
      ]
    },
    {
      "cell_type": "code",
      "metadata": {
        "id": "Y4AeUQdKT9Hy",
        "colab_type": "code",
        "colab": {},
        "outputId": "17981924-6632-4d9d-8146-242b73787036"
      },
      "source": [
        "data = [['Alex',23],['Jack',27],['Clarke',32]]\n",
        "df5 = pd.DataFrame(data,index=[2,0,1], columns=['Name','Age'],dtype=float)\n",
        "df5\n"
      ],
      "execution_count": null,
      "outputs": [
        {
          "output_type": "execute_result",
          "data": {
            "text/html": [
              "<div>\n",
              "<style scoped>\n",
              "    .dataframe tbody tr th:only-of-type {\n",
              "        vertical-align: middle;\n",
              "    }\n",
              "\n",
              "    .dataframe tbody tr th {\n",
              "        vertical-align: top;\n",
              "    }\n",
              "\n",
              "    .dataframe thead th {\n",
              "        text-align: right;\n",
              "    }\n",
              "</style>\n",
              "<table border=\"1\" class=\"dataframe\">\n",
              "  <thead>\n",
              "    <tr style=\"text-align: right;\">\n",
              "      <th></th>\n",
              "      <th>Name</th>\n",
              "      <th>Age</th>\n",
              "    </tr>\n",
              "  </thead>\n",
              "  <tbody>\n",
              "    <tr>\n",
              "      <th>2</th>\n",
              "      <td>Alex</td>\n",
              "      <td>23.0</td>\n",
              "    </tr>\n",
              "    <tr>\n",
              "      <th>0</th>\n",
              "      <td>Jack</td>\n",
              "      <td>27.0</td>\n",
              "    </tr>\n",
              "    <tr>\n",
              "      <th>1</th>\n",
              "      <td>Clarke</td>\n",
              "      <td>32.0</td>\n",
              "    </tr>\n",
              "  </tbody>\n",
              "</table>\n",
              "</div>"
            ],
            "text/plain": [
              "     Name   Age\n",
              "2    Alex  23.0\n",
              "0    Jack  27.0\n",
              "1  Clarke  32.0"
            ]
          },
          "metadata": {
            "tags": []
          },
          "execution_count": 32
        }
      ]
    },
    {
      "cell_type": "code",
      "metadata": {
        "id": "NFn5coIJT9H0",
        "colab_type": "code",
        "colab": {},
        "outputId": "fd62079c-04a5-4eaf-c774-1c0fbdbb5245"
      },
      "source": [
        "#Sắp df theo index\n",
        "#df5.sort_index(ascending=False)\n",
        "\n",
        "# sắp xếp theo cột\n",
        "df5.sort_index(axis=1)"
      ],
      "execution_count": null,
      "outputs": [
        {
          "output_type": "execute_result",
          "data": {
            "text/html": [
              "<div>\n",
              "<style scoped>\n",
              "    .dataframe tbody tr th:only-of-type {\n",
              "        vertical-align: middle;\n",
              "    }\n",
              "\n",
              "    .dataframe tbody tr th {\n",
              "        vertical-align: top;\n",
              "    }\n",
              "\n",
              "    .dataframe thead th {\n",
              "        text-align: right;\n",
              "    }\n",
              "</style>\n",
              "<table border=\"1\" class=\"dataframe\">\n",
              "  <thead>\n",
              "    <tr style=\"text-align: right;\">\n",
              "      <th></th>\n",
              "      <th>Age</th>\n",
              "      <th>Name</th>\n",
              "    </tr>\n",
              "  </thead>\n",
              "  <tbody>\n",
              "    <tr>\n",
              "      <th>2</th>\n",
              "      <td>23.0</td>\n",
              "      <td>Alex</td>\n",
              "    </tr>\n",
              "    <tr>\n",
              "      <th>0</th>\n",
              "      <td>27.0</td>\n",
              "      <td>Jack</td>\n",
              "    </tr>\n",
              "    <tr>\n",
              "      <th>1</th>\n",
              "      <td>32.0</td>\n",
              "      <td>Clarke</td>\n",
              "    </tr>\n",
              "  </tbody>\n",
              "</table>\n",
              "</div>"
            ],
            "text/plain": [
              "    Age    Name\n",
              "2  23.0    Alex\n",
              "0  27.0    Jack\n",
              "1  32.0  Clarke"
            ]
          },
          "metadata": {
            "tags": []
          },
          "execution_count": 36
        }
      ]
    },
    {
      "cell_type": "code",
      "metadata": {
        "id": "ndZbnCysT9H2",
        "colab_type": "code",
        "colab": {},
        "outputId": "3a0737c8-3513-47f4-bbf4-d94d5f15def8"
      },
      "source": [
        "#Sắp theo giá trị\n",
        "# Sắp tên tăng dần\n",
        "#df5.sort_values(by='Name', ascending=False)\n",
        "\n",
        "# Sắp tuổi giảm dần\n",
        "#df5.sort_values(by='Age', ascending=False)\n",
        "\n",
        "#df5 = df5.append({'Name': 'Alex', 'Age': 20}, ignore_index=True)\n",
        "#df5\n",
        "# Sắp Name tăng dần , Age giảm dần\n",
        "df5.sort_values(by=['Name','Age'], ascending=[True,False])"
      ],
      "execution_count": null,
      "outputs": [
        {
          "output_type": "execute_result",
          "data": {
            "text/html": [
              "<div>\n",
              "<style scoped>\n",
              "    .dataframe tbody tr th:only-of-type {\n",
              "        vertical-align: middle;\n",
              "    }\n",
              "\n",
              "    .dataframe tbody tr th {\n",
              "        vertical-align: top;\n",
              "    }\n",
              "\n",
              "    .dataframe thead th {\n",
              "        text-align: right;\n",
              "    }\n",
              "</style>\n",
              "<table border=\"1\" class=\"dataframe\">\n",
              "  <thead>\n",
              "    <tr style=\"text-align: right;\">\n",
              "      <th></th>\n",
              "      <th>Name</th>\n",
              "      <th>Age</th>\n",
              "    </tr>\n",
              "  </thead>\n",
              "  <tbody>\n",
              "    <tr>\n",
              "      <th>0</th>\n",
              "      <td>Alex</td>\n",
              "      <td>23.0</td>\n",
              "    </tr>\n",
              "    <tr>\n",
              "      <th>3</th>\n",
              "      <td>Alex</td>\n",
              "      <td>20.0</td>\n",
              "    </tr>\n",
              "    <tr>\n",
              "      <th>2</th>\n",
              "      <td>Clarke</td>\n",
              "      <td>32.0</td>\n",
              "    </tr>\n",
              "    <tr>\n",
              "      <th>1</th>\n",
              "      <td>Jack</td>\n",
              "      <td>27.0</td>\n",
              "    </tr>\n",
              "  </tbody>\n",
              "</table>\n",
              "</div>"
            ],
            "text/plain": [
              "     Name   Age\n",
              "0    Alex  23.0\n",
              "3    Alex  20.0\n",
              "2  Clarke  32.0\n",
              "1    Jack  27.0"
            ]
          },
          "metadata": {
            "tags": []
          },
          "execution_count": 41
        }
      ]
    },
    {
      "cell_type": "code",
      "metadata": {
        "id": "743qAcKKT9H4",
        "colab_type": "code",
        "colab": {},
        "outputId": "ddc478ee-173d-4acf-c9ea-32a20093a25d"
      },
      "source": [
        "#Xếp hạng các giá trị dữ liệu trong các cột của dataframe\n",
        "\n",
        "print(df5)\n",
        "print('Xếp hạng\\n',df5.rank(method='min'))\n"
      ],
      "execution_count": null,
      "outputs": [
        {
          "output_type": "stream",
          "text": [
            "     Name   Age\n",
            "0    Alex  23.0\n",
            "1    Jack  27.0\n",
            "2  Clarke  32.0\n",
            "3    Alex  20.0\n",
            "Xếp hạng\n",
            "    Name  Age\n",
            "0   1.0  2.0\n",
            "1   4.0  3.0\n",
            "2   3.0  4.0\n",
            "3   1.0  1.0\n"
          ],
          "name": "stdout"
        }
      ]
    },
    {
      "cell_type": "code",
      "metadata": {
        "id": "THyUqsn2T9H6",
        "colab_type": "code",
        "colab": {}
      },
      "source": [
        "print (df)"
      ],
      "execution_count": null,
      "outputs": []
    },
    {
      "cell_type": "code",
      "metadata": {
        "id": "00GPVvbpT9H8",
        "colab_type": "code",
        "colab": {},
        "outputId": "eca80e55-70c5-45be-fe32-108f09e4453a"
      },
      "source": [
        "df['ratio'] = pd.Series([2.2 ,1.5, 2.5 , 5,  1.2,3.4],index=[49,48,47, 1, 2, 3])\n",
        "df"
      ],
      "execution_count": null,
      "outputs": [
        {
          "output_type": "execute_result",
          "data": {
            "text/html": [
              "<div>\n",
              "<style scoped>\n",
              "    .dataframe tbody tr th:only-of-type {\n",
              "        vertical-align: middle;\n",
              "    }\n",
              "\n",
              "    .dataframe tbody tr th {\n",
              "        vertical-align: top;\n",
              "    }\n",
              "\n",
              "    .dataframe thead th {\n",
              "        text-align: right;\n",
              "    }\n",
              "</style>\n",
              "<table border=\"1\" class=\"dataframe\">\n",
              "  <thead>\n",
              "    <tr style=\"text-align: right;\">\n",
              "      <th></th>\n",
              "      <th>name</th>\n",
              "      <th>age</th>\n",
              "      <th>ratio</th>\n",
              "    </tr>\n",
              "  </thead>\n",
              "  <tbody>\n",
              "    <tr>\n",
              "      <th>1</th>\n",
              "      <td>Huy</td>\n",
              "      <td>27.0</td>\n",
              "      <td>5.0</td>\n",
              "    </tr>\n",
              "    <tr>\n",
              "      <th>2</th>\n",
              "      <td>Thanh</td>\n",
              "      <td>NaN</td>\n",
              "      <td>1.2</td>\n",
              "    </tr>\n",
              "    <tr>\n",
              "      <th>3</th>\n",
              "      <td>Dung</td>\n",
              "      <td>55.0</td>\n",
              "      <td>3.4</td>\n",
              "    </tr>\n",
              "    <tr>\n",
              "      <th>47</th>\n",
              "      <td>Trung</td>\n",
              "      <td>36.0</td>\n",
              "      <td>2.5</td>\n",
              "    </tr>\n",
              "    <tr>\n",
              "      <th>48</th>\n",
              "      <td>Hoa</td>\n",
              "      <td>22.0</td>\n",
              "      <td>1.5</td>\n",
              "    </tr>\n",
              "    <tr>\n",
              "      <th>49</th>\n",
              "      <td>An</td>\n",
              "      <td>15.0</td>\n",
              "      <td>2.2</td>\n",
              "    </tr>\n",
              "  </tbody>\n",
              "</table>\n",
              "</div>"
            ],
            "text/plain": [
              "     name   age  ratio\n",
              "1     Huy  27.0    5.0\n",
              "2   Thanh   NaN    1.2\n",
              "3    Dung  55.0    3.4\n",
              "47  Trung  36.0    2.5\n",
              "48    Hoa  22.0    1.5\n",
              "49     An  15.0    2.2"
            ]
          },
          "metadata": {
            "tags": []
          },
          "execution_count": 44
        }
      ]
    },
    {
      "cell_type": "code",
      "metadata": {
        "id": "nIVBSl3PT9H_",
        "colab_type": "code",
        "colab": {},
        "outputId": "13be2aec-1532-4623-b781-18ce20dc9e89"
      },
      "source": [
        "df['salary'] = df['ratio'] * 200000\n",
        "df"
      ],
      "execution_count": null,
      "outputs": [
        {
          "output_type": "execute_result",
          "data": {
            "text/html": [
              "<div>\n",
              "<style scoped>\n",
              "    .dataframe tbody tr th:only-of-type {\n",
              "        vertical-align: middle;\n",
              "    }\n",
              "\n",
              "    .dataframe tbody tr th {\n",
              "        vertical-align: top;\n",
              "    }\n",
              "\n",
              "    .dataframe thead th {\n",
              "        text-align: right;\n",
              "    }\n",
              "</style>\n",
              "<table border=\"1\" class=\"dataframe\">\n",
              "  <thead>\n",
              "    <tr style=\"text-align: right;\">\n",
              "      <th></th>\n",
              "      <th>name</th>\n",
              "      <th>age</th>\n",
              "      <th>ratio</th>\n",
              "      <th>salary</th>\n",
              "    </tr>\n",
              "  </thead>\n",
              "  <tbody>\n",
              "    <tr>\n",
              "      <th>1</th>\n",
              "      <td>Huy</td>\n",
              "      <td>27.0</td>\n",
              "      <td>5.0</td>\n",
              "      <td>1000000.0</td>\n",
              "    </tr>\n",
              "    <tr>\n",
              "      <th>2</th>\n",
              "      <td>Thanh</td>\n",
              "      <td>NaN</td>\n",
              "      <td>1.2</td>\n",
              "      <td>240000.0</td>\n",
              "    </tr>\n",
              "    <tr>\n",
              "      <th>3</th>\n",
              "      <td>Dung</td>\n",
              "      <td>55.0</td>\n",
              "      <td>3.4</td>\n",
              "      <td>680000.0</td>\n",
              "    </tr>\n",
              "    <tr>\n",
              "      <th>47</th>\n",
              "      <td>Trung</td>\n",
              "      <td>36.0</td>\n",
              "      <td>2.5</td>\n",
              "      <td>500000.0</td>\n",
              "    </tr>\n",
              "    <tr>\n",
              "      <th>48</th>\n",
              "      <td>Hoa</td>\n",
              "      <td>22.0</td>\n",
              "      <td>1.5</td>\n",
              "      <td>300000.0</td>\n",
              "    </tr>\n",
              "    <tr>\n",
              "      <th>49</th>\n",
              "      <td>An</td>\n",
              "      <td>15.0</td>\n",
              "      <td>2.2</td>\n",
              "      <td>440000.0</td>\n",
              "    </tr>\n",
              "  </tbody>\n",
              "</table>\n",
              "</div>"
            ],
            "text/plain": [
              "     name   age  ratio     salary\n",
              "1     Huy  27.0    5.0  1000000.0\n",
              "2   Thanh   NaN    1.2   240000.0\n",
              "3    Dung  55.0    3.4   680000.0\n",
              "47  Trung  36.0    2.5   500000.0\n",
              "48    Hoa  22.0    1.5   300000.0\n",
              "49     An  15.0    2.2   440000.0"
            ]
          },
          "metadata": {
            "tags": []
          },
          "execution_count": 45
        }
      ]
    },
    {
      "cell_type": "code",
      "metadata": {
        "id": "V0VNwCF-T9IB",
        "colab_type": "code",
        "colab": {},
        "outputId": "6068c361-cd35-40b2-9c1e-d66ba8a0e5d7"
      },
      "source": [
        "df['age_group'] = df['age'].map(lambda x: 1 if x> 30 else 2)\n",
        "df"
      ],
      "execution_count": null,
      "outputs": [
        {
          "output_type": "execute_result",
          "data": {
            "text/html": [
              "<div>\n",
              "<style scoped>\n",
              "    .dataframe tbody tr th:only-of-type {\n",
              "        vertical-align: middle;\n",
              "    }\n",
              "\n",
              "    .dataframe tbody tr th {\n",
              "        vertical-align: top;\n",
              "    }\n",
              "\n",
              "    .dataframe thead th {\n",
              "        text-align: right;\n",
              "    }\n",
              "</style>\n",
              "<table border=\"1\" class=\"dataframe\">\n",
              "  <thead>\n",
              "    <tr style=\"text-align: right;\">\n",
              "      <th></th>\n",
              "      <th>name</th>\n",
              "      <th>age</th>\n",
              "      <th>ratio</th>\n",
              "      <th>salary</th>\n",
              "      <th>age_group</th>\n",
              "    </tr>\n",
              "  </thead>\n",
              "  <tbody>\n",
              "    <tr>\n",
              "      <th>1</th>\n",
              "      <td>Huy</td>\n",
              "      <td>27.0</td>\n",
              "      <td>5.0</td>\n",
              "      <td>1000000.0</td>\n",
              "      <td>2</td>\n",
              "    </tr>\n",
              "    <tr>\n",
              "      <th>2</th>\n",
              "      <td>Thanh</td>\n",
              "      <td>NaN</td>\n",
              "      <td>1.2</td>\n",
              "      <td>240000.0</td>\n",
              "      <td>2</td>\n",
              "    </tr>\n",
              "    <tr>\n",
              "      <th>3</th>\n",
              "      <td>Dung</td>\n",
              "      <td>55.0</td>\n",
              "      <td>3.4</td>\n",
              "      <td>680000.0</td>\n",
              "      <td>1</td>\n",
              "    </tr>\n",
              "    <tr>\n",
              "      <th>47</th>\n",
              "      <td>Trung</td>\n",
              "      <td>36.0</td>\n",
              "      <td>2.5</td>\n",
              "      <td>500000.0</td>\n",
              "      <td>1</td>\n",
              "    </tr>\n",
              "    <tr>\n",
              "      <th>48</th>\n",
              "      <td>Hoa</td>\n",
              "      <td>22.0</td>\n",
              "      <td>1.5</td>\n",
              "      <td>300000.0</td>\n",
              "      <td>2</td>\n",
              "    </tr>\n",
              "    <tr>\n",
              "      <th>49</th>\n",
              "      <td>An</td>\n",
              "      <td>15.0</td>\n",
              "      <td>2.2</td>\n",
              "      <td>440000.0</td>\n",
              "      <td>2</td>\n",
              "    </tr>\n",
              "  </tbody>\n",
              "</table>\n",
              "</div>"
            ],
            "text/plain": [
              "     name   age  ratio     salary  age_group\n",
              "1     Huy  27.0    5.0  1000000.0          2\n",
              "2   Thanh   NaN    1.2   240000.0          2\n",
              "3    Dung  55.0    3.4   680000.0          1\n",
              "47  Trung  36.0    2.5   500000.0          1\n",
              "48    Hoa  22.0    1.5   300000.0          2\n",
              "49     An  15.0    2.2   440000.0          2"
            ]
          },
          "metadata": {
            "tags": []
          },
          "execution_count": 46
        }
      ]
    },
    {
      "cell_type": "code",
      "metadata": {
        "id": "tQ4p240cT9ID",
        "colab_type": "code",
        "colab": {}
      },
      "source": [
        "df.any()"
      ],
      "execution_count": null,
      "outputs": []
    },
    {
      "cell_type": "code",
      "metadata": {
        "id": "0suvLYztT9IF",
        "colab_type": "code",
        "colab": {}
      },
      "source": [
        "df.all()"
      ],
      "execution_count": null,
      "outputs": []
    },
    {
      "cell_type": "code",
      "metadata": {
        "id": "oGOoP_LRT9IJ",
        "colab_type": "code",
        "colab": {}
      },
      "source": [
        "import pandas as pd\n",
        "x = pd.DataFrame(['a','b','c'])\n",
        "x"
      ],
      "execution_count": null,
      "outputs": []
    },
    {
      "cell_type": "code",
      "metadata": {
        "id": "Zm0vbhclT9IL",
        "colab_type": "code",
        "colab": {}
      },
      "source": [
        "y=x.copy()\n",
        "y"
      ],
      "execution_count": null,
      "outputs": []
    },
    {
      "cell_type": "code",
      "metadata": {
        "id": "u5D3YJToT9IO",
        "colab_type": "code",
        "colab": {}
      },
      "source": [
        "y.loc[0,0]='z'\n",
        "y"
      ],
      "execution_count": null,
      "outputs": []
    },
    {
      "cell_type": "code",
      "metadata": {
        "id": "S80K-YRyT9IQ",
        "colab_type": "code",
        "colab": {}
      },
      "source": [
        "x"
      ],
      "execution_count": null,
      "outputs": []
    },
    {
      "cell_type": "code",
      "metadata": {
        "id": "ZjSTHiY_T9IS",
        "colab_type": "code",
        "colab": {}
      },
      "source": [
        ""
      ],
      "execution_count": null,
      "outputs": []
    }
  ]
}