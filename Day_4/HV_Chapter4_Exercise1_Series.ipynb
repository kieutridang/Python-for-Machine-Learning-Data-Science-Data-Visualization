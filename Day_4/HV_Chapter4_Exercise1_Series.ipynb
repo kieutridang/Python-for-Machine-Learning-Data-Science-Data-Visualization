{
  "nbformat": 4,
  "nbformat_minor": 0,
  "metadata": {
    "kernelspec": {
      "display_name": "Python 3",
      "language": "python",
      "name": "python3"
    },
    "language_info": {
      "codemirror_mode": {
        "name": "ipython",
        "version": 3
      },
      "file_extension": ".py",
      "mimetype": "text/x-python",
      "name": "python",
      "nbconvert_exporter": "python",
      "pygments_lexer": "ipython3",
      "version": "3.7.6-final"
    },
    "colab": {
      "name": "HV_Chapter4_Exercise1_Series.ipynb",
      "provenance": []
    }
  },
  "cells": [
    {
      "cell_type": "markdown",
      "metadata": {
        "id": "Thi-njhJTVME",
        "colab_type": "text"
      },
      "source": [
        "## Chapter 4 - Exercise 1: Thực hiện những yêu cầu liên quan đến series, và đối chiếu với kết quả cho trước"
      ]
    },
    {
      "cell_type": "markdown",
      "metadata": {
        "id": "neHsckx6TVMF",
        "colab_type": "text"
      },
      "source": [
        "### Part 1: Thực hiện các phép toán trên series"
      ]
    },
    {
      "cell_type": "code",
      "metadata": {
        "id": "qCR97YGITVMG",
        "colab_type": "code",
        "colab": {}
      },
      "source": [
        "import numpy as np\n",
        "import pandas as pd"
      ],
      "execution_count": 1,
      "outputs": []
    },
    {
      "cell_type": "code",
      "metadata": {
        "id": "x1R-9f9PTVMJ",
        "colab_type": "code",
        "colab": {},
        "tags": []
      },
      "source": [
        "# Câu 1a: Cho arr_1 là mảng số nguyên chẵn [2, 4, 6, 8, 10], arr_2 là mảng số nguyên lẻ [1, 3, 5, 7, 11]\n",
        "# Tạo biến kiểu Serries ser1 từ arr_1, ser2 từ arr_2\n",
        "arr_1 = np.array([2, 4, 6, 8, 10])\n",
        "arr_2 = np.array([1, 3, 5, 7, 11])\n",
        "\n",
        "\n",
        "# In danh sách các phần tử của ser1 và ser2\n",
        "ser1 = pd.Series(arr_1)\n",
        "ser2 = pd.Series(arr_2)\n",
        "print(ser1)\n",
        "print(ser2)"
      ],
      "execution_count": 2,
      "outputs": [
        {
          "output_type": "stream",
          "name": "stdout",
          "text": "0     2\n1     4\n2     6\n3     8\n4    10\ndtype: int64\n0     1\n1     3\n2     5\n3     7\n4    11\ndtype: int64\n"
        }
      ]
    },
    {
      "cell_type": "markdown",
      "metadata": {
        "id": "EW5vfy1eTVMM",
        "colab_type": "text"
      },
      "source": [
        "<details>\n",
        "  <summary>Nhấn vào đây để xem kết quả!</summary>\n",
        "  <pre>0     2\n",
        "1     4\n",
        "2     6\n",
        "3     8\n",
        "4    10\n",
        "dtype: int32\n",
        "0     1\n",
        "1     3\n",
        "2     5\n",
        "3     7\n",
        "4    11\n",
        "dtype: int32\n",
        "</pre>\n",
        "  \n",
        "</details>"
      ]
    },
    {
      "cell_type": "code",
      "metadata": {
        "id": "LpGRzF3FTVMM",
        "colab_type": "code",
        "colab": {}
      },
      "source": [
        "# Câu 1b: Thực hiện phép toán và thể hiện kết quả của:  ser1 + ser2 \n",
        "result = ser1 + ser2\n",
        "result"
      ],
      "execution_count": 3,
      "outputs": [
        {
          "output_type": "execute_result",
          "data": {
            "text/plain": "0     3\n1     7\n2    11\n3    15\n4    21\ndtype: int64"
          },
          "metadata": {},
          "execution_count": 3
        }
      ]
    },
    {
      "cell_type": "markdown",
      "metadata": {
        "id": "8CUuwzDxTVMO",
        "colab_type": "text"
      },
      "source": [
        "<details>\n",
        "  <summary>Nhấn vào đây để xem kết quả!</summary>\n",
        "  <pre>0     3\n",
        "1     7\n",
        "2    11\n",
        "3    15\n",
        "4    21\n",
        "dtype: int32</pre>\n",
        "  \n",
        "</details>"
      ]
    },
    {
      "cell_type": "code",
      "metadata": {
        "id": "8ZoNt-k4TVMP",
        "colab_type": "code",
        "colab": {}
      },
      "source": [
        ""
      ],
      "execution_count": null,
      "outputs": []
    },
    {
      "cell_type": "markdown",
      "metadata": {
        "id": "Z-eNjjaNTVMR",
        "colab_type": "text"
      },
      "source": [
        "<details>\n",
        "  <summary>Nhấn vào đây để xem kết quả!</summary>\n",
        "  <pre>0    1\n",
        "1    1\n",
        "2    1\n",
        "3    1\n",
        "4   -1\n",
        "dtype: int32</pre>\n",
        "  \n",
        "</details>"
      ]
    },
    {
      "cell_type": "code",
      "metadata": {
        "id": "xZdmuMbWTVMS",
        "colab_type": "code",
        "colab": {}
      },
      "source": [
        "# Câu 1d: Thực hiện phép toán và thể hiện kết quả của:  ser1 * ser2\n",
        "result = ser1 * ser2\n",
        "result"
      ],
      "execution_count": 4,
      "outputs": [
        {
          "output_type": "execute_result",
          "data": {
            "text/plain": "0      2\n1     12\n2     30\n3     56\n4    110\ndtype: int64"
          },
          "metadata": {},
          "execution_count": 4
        }
      ]
    },
    {
      "cell_type": "markdown",
      "metadata": {
        "id": "VKY6_Fm-TVMU",
        "colab_type": "text"
      },
      "source": [
        "<details>\n",
        "  <summary>Nhấn vào đây để xem kết quả!</summary>\n",
        "  <pre>0      2\n",
        "1     12\n",
        "2     30\n",
        "3     56\n",
        "4    110\n",
        "dtype: int32</pre>\n",
        "  \n",
        "</details>"
      ]
    },
    {
      "cell_type": "code",
      "metadata": {
        "id": "USxSNKI6TVMV",
        "colab_type": "code",
        "colab": {}
      },
      "source": [
        "# Câu 1e: Thực hiện phép toán và thể hiện kết quả của:  ser1 / ser2\n",
        "result = ser1 / ser2\n",
        "result"
      ],
      "execution_count": 5,
      "outputs": [
        {
          "output_type": "execute_result",
          "data": {
            "text/plain": "0    2.000000\n1    1.333333\n2    1.200000\n3    1.142857\n4    0.909091\ndtype: float64"
          },
          "metadata": {},
          "execution_count": 5
        }
      ]
    },
    {
      "cell_type": "markdown",
      "metadata": {
        "id": "lT1B5xU5TVMY",
        "colab_type": "text"
      },
      "source": [
        "<details>\n",
        "  <summary>Nhấn vào đây để xem kết quả!</summary>\n",
        "  <pre>0    2.000000\n",
        "1    1.333333\n",
        "2    1.200000\n",
        "3    1.142857\n",
        "4    0.909091\n",
        "dtype: float64</pre>\n",
        "  \n",
        "</details>"
      ]
    },
    {
      "cell_type": "code",
      "metadata": {
        "id": "E0mH5jgmTVMY",
        "colab_type": "code",
        "colab": {}
      },
      "source": [
        "# Câu 2a: Kiểm tra xem các phần tử của ser1 có > các phần tử của ser2 không?\n",
        "result = ser1 > ser2\n",
        "result"
      ],
      "execution_count": 6,
      "outputs": [
        {
          "output_type": "execute_result",
          "data": {
            "text/plain": "0     True\n1     True\n2     True\n3     True\n4    False\ndtype: bool"
          },
          "metadata": {},
          "execution_count": 6
        }
      ]
    },
    {
      "cell_type": "markdown",
      "metadata": {
        "id": "uF2YHFtKTVMa",
        "colab_type": "text"
      },
      "source": [
        "<details>\n",
        "  <summary>Nhấn vào đây để xem kết quả!</summary>\n",
        "  <pre>0     True\n",
        "1     True\n",
        "2     True\n",
        "3     True\n",
        "4    False\n",
        "dtype: bool</pre>\n",
        "  \n",
        "</details>"
      ]
    },
    {
      "cell_type": "code",
      "metadata": {
        "id": "IZJBDTJhTVMb",
        "colab_type": "code",
        "colab": {}
      },
      "source": [
        "# Câu 2b: Kiểm tra xem các phần tử của ser1 có < các phần tử của ser2 không?\n",
        "result = ser1 < ser2\n",
        "result"
      ],
      "execution_count": 7,
      "outputs": [
        {
          "output_type": "execute_result",
          "data": {
            "text/plain": "0    False\n1    False\n2    False\n3    False\n4     True\ndtype: bool"
          },
          "metadata": {},
          "execution_count": 7
        }
      ]
    },
    {
      "cell_type": "markdown",
      "metadata": {
        "id": "tnpoiwHbTVMd",
        "colab_type": "text"
      },
      "source": [
        "<details>\n",
        "  <summary>Nhấn vào đây để xem kết quả!</summary>\n",
        "  <pre>0    False\n",
        "1    False\n",
        "2    False\n",
        "3    False\n",
        "4     True\n",
        "dtype: bool</pre>\n",
        "  \n",
        "</details>"
      ]
    },
    {
      "cell_type": "code",
      "metadata": {
        "scrolled": true,
        "id": "NaxDAcWZTVMd",
        "colab_type": "code",
        "colab": {}
      },
      "source": [
        "# Câu 2c: Kiểm tra xem các phần tử của ser1 có = các phần tử của ser2 không?\n",
        "result = ser1 == ser2\n",
        "result"
      ],
      "execution_count": 8,
      "outputs": [
        {
          "output_type": "execute_result",
          "data": {
            "text/plain": "0    False\n1    False\n2    False\n3    False\n4    False\ndtype: bool"
          },
          "metadata": {},
          "execution_count": 8
        }
      ]
    },
    {
      "cell_type": "markdown",
      "metadata": {
        "id": "YdNkGbk3TVMf",
        "colab_type": "text"
      },
      "source": [
        "<details>\n",
        "  <summary>Nhấn vào đây để xem kết quả!</summary>\n",
        "  <pre>0    False\n",
        "1    False\n",
        "2    False\n",
        "3    False\n",
        "4    False\n",
        "dtype: bool</pre>\n",
        "  \n",
        "</details>"
      ]
    },
    {
      "cell_type": "code",
      "metadata": {
        "id": "Lk6OD7uQTVMg",
        "colab_type": "code",
        "colab": {},
        "tags": []
      },
      "source": [
        "# Câu 3a: Thêm 2 phần tử [6, 12] vào ser2\n",
        "ser2 = ser2.append(pd.Series([6, 12]))\n",
        "# In lại danh sách các phần tử của ser2\n",
        "ser2"
      ],
      "execution_count": 9,
      "outputs": [
        {
          "output_type": "execute_result",
          "data": {
            "text/plain": "0     1\n1     3\n2     5\n3     7\n4    11\n0     6\n1    12\ndtype: int64"
          },
          "metadata": {},
          "execution_count": 9
        }
      ]
    },
    {
      "cell_type": "markdown",
      "metadata": {
        "id": "kO4ulUhtTVMi",
        "colab_type": "text"
      },
      "source": [
        "<details>\n",
        "  <summary>Nhấn vào đây để xem kết quả!</summary>\n",
        "  <pre>0     1\n",
        "1     3\n",
        "2     5\n",
        "3     7\n",
        "4    11\n",
        "0     6\n",
        "1    12\n",
        "dtype: int64</pre>\n",
        "  \n",
        "</details>"
      ]
    },
    {
      "cell_type": "code",
      "metadata": {
        "id": "WakVexUZTVMj",
        "colab_type": "code",
        "colab": {},
        "tags": []
      },
      "source": [
        "# Câu 3b: Tạo series ser3 chỉ chứa các phần tử có trong ser1 mà không có trong ser2. \n",
        "#         In danh sách các phần tử của ser3\n",
        "only_in_ser1 = ser1.isin(ser2)\n",
        "ser3 = ser1.get(only_in_ser1 == False, ser1)\n",
        "ser3\n"
      ],
      "execution_count": 32,
      "outputs": [
        {
          "output_type": "execute_result",
          "data": {
            "text/plain": "0     2\n1     4\n3     8\n4    10\ndtype: int64"
          },
          "metadata": {},
          "execution_count": 32
        }
      ]
    },
    {
      "cell_type": "markdown",
      "metadata": {
        "id": "C04hUsMBTVMl",
        "colab_type": "text"
      },
      "source": [
        "<details>\n",
        "  <summary>Nhấn vào đây để xem kết quả!</summary>\n",
        "  <pre>0     2\n",
        "1     4\n",
        "3     8\n",
        "4    10\n",
        "dtype: int32\n",
        "</pre>\n",
        "  \n",
        "</details>"
      ]
    },
    {
      "cell_type": "code",
      "metadata": {
        "id": "xnUC-xpDTVMm",
        "colab_type": "code",
        "colab": {}
      },
      "source": [
        "# Câu 3c: Tạo series ser4 chỉ chứa các phần tử có trong ser2 mà không có trong ser1. \n",
        "#         In danh sách các phần tử của ser4\n",
        "only_in_ser2 = ser2.isin(ser1)\n",
        "ser4 = ser2.get(only_in_ser2 == False, ser2)\n",
        "ser4\n"
      ],
      "execution_count": 35,
      "outputs": [
        {
          "output_type": "execute_result",
          "data": {
            "text/plain": "0     1\n1     3\n2     5\n3     7\n4    11\n1    12\ndtype: int64"
          },
          "metadata": {},
          "execution_count": 35
        }
      ]
    },
    {
      "cell_type": "markdown",
      "metadata": {
        "id": "m01fIuYuTVMo",
        "colab_type": "text"
      },
      "source": [
        "<details>\n",
        "  <summary>Nhấn vào đây để xem kết quả!</summary>\n",
        "  <pre>0     1\n",
        "1     3\n",
        "2     5\n",
        "3     7\n",
        "4    11\n",
        "1    12\n",
        "dtype: int64\n",
        "</pre>\n",
        "  \n",
        "</details>"
      ]
    },
    {
      "cell_type": "code",
      "metadata": {
        "id": "sm6EwOa1TVMo",
        "colab_type": "code",
        "colab": {}
      },
      "source": [
        "# Câu 4: Tạo series ser5 chứa các phần tử chỉ có trong ser1 và chỉ có trong ser2\n",
        "#        In danh sách các phần tử của ser5\n",
        "ser5 = ser1.append(ser2).unique()\n",
        "ser5 = pd.Series(ser5)\n",
        "ser5"
      ],
      "execution_count": 54,
      "outputs": [
        {
          "output_type": "execute_result",
          "data": {
            "text/plain": "0      2\n1      4\n2      6\n3      8\n4     10\n5      1\n6      3\n7      5\n8      7\n9     11\n10    12\ndtype: int64"
          },
          "metadata": {},
          "execution_count": 54
        }
      ]
    },
    {
      "cell_type": "markdown",
      "metadata": {
        "id": "h5e68YKbTVMq",
        "colab_type": "text"
      },
      "source": [
        "<details>\n",
        "  <summary>Nhấn vào đây để xem kết quả!</summary>\n",
        "  <pre>0     2\n",
        "1     4\n",
        "3     8\n",
        "4    10\n",
        "0     1\n",
        "1     3\n",
        "2     5\n",
        "3     7\n",
        "4    11\n",
        "1    12\n",
        "dtype: int64\n",
        "</pre>\n",
        "  \n",
        "</details>"
      ]
    },
    {
      "cell_type": "markdown",
      "metadata": {
        "id": "7zqDfRCTTVMr",
        "colab_type": "text"
      },
      "source": [
        "### Part 2: Truy xuất các phần tử, và thống kê thông tin trên series"
      ]
    },
    {
      "cell_type": "code",
      "metadata": {
        "id": "daW6F7WLTVMr",
        "colab_type": "code",
        "colab": {},
        "tags": []
      },
      "source": [
        "# Câu 1a: Tạo series ser6 có 35 phần tử số nguyên ngẫu nhiên có giá trị trong khoảng từ 1 đến 9. \n",
        "np.random.seed(1)\n",
        "\n",
        "# Cho biết kích thước (shape) của ser6\n",
        "arr6 = np.random.randint(low = 1, high = 10, size = 35)\n",
        "ser6 = pd.Series(arr6)\n",
        "np.shape(ser6)\n",
        "\n",
        "# Xem 5 dòng dữ liệu đầu tiên (head) và 5 dòng dữ liệu cuối cùng (tail) có trong ser6\n",
        "print(ser6.head(5))\n",
        "print(ser6.tail(5))"
      ],
      "execution_count": 63,
      "outputs": [
        {
          "output_type": "stream",
          "name": "stdout",
          "text": "0    6\n1    9\n2    6\n3    1\n4    1\ndtype: int64\n30    8\n31    4\n32    7\n33    6\n34    2\ndtype: int64\n"
        }
      ]
    },
    {
      "cell_type": "markdown",
      "metadata": {
        "id": "FSUTY8KXTVMt",
        "colab_type": "text"
      },
      "source": [
        "<details>\n",
        "  <summary>Nhấn vào đây để xem kết quả!</summary>\n",
        "  <pre>(35,)\n",
        "0    6\n",
        "1    9\n",
        "2    6\n",
        "3    1\n",
        "4    1\n",
        "dtype: int32\n",
        "30    8\n",
        "31    4\n",
        "32    7\n",
        "33    6\n",
        "34    2\n",
        "dtype: int32\n",
        "</pre>\n",
        "  \n",
        "</details>"
      ]
    },
    {
      "cell_type": "code",
      "metadata": {
        "id": "a3dfedKtTVMt",
        "colab_type": "code",
        "colab": {}
      },
      "source": [
        "# Câu 1b: In danh sách các phần tử của ser6 theo dạng array\n",
        "ser6.array"
      ],
      "execution_count": 64,
      "outputs": [
        {
          "output_type": "execute_result",
          "data": {
            "text/plain": "<PandasArray>\n[6, 9, 6, 1, 1, 2, 8, 7, 3, 5, 6, 3, 5, 3, 5, 8, 8, 2, 8, 1, 7, 8, 7, 2, 1, 2,\n 9, 9, 4, 9, 8, 4, 7, 6, 2]\nLength: 35, dtype: int64"
          },
          "metadata": {},
          "execution_count": 64
        }
      ]
    },
    {
      "cell_type": "markdown",
      "metadata": {
        "id": "LzohX9oITVMw",
        "colab_type": "text"
      },
      "source": [
        "<details>\n",
        "  <summary>Nhấn vào đây để xem kết quả!</summary>\n",
        "  <pre>[6 9 6 1 1 2 8 7 3 5 6 3 5 3 5 8 8 2 8 1 7 8 7 2 1 2 9 9 4 9 8 4 7 6 2]\n",
        "</pre>\n",
        "  \n",
        "</details>"
      ]
    },
    {
      "cell_type": "code",
      "metadata": {
        "id": "KPJBTCgLTVMw",
        "colab_type": "code",
        "colab": {}
      },
      "source": [
        "# Câu 1c: Cho biết thông tin thống kê chung (describe()) của ser6\n",
        "ser6.describe()"
      ],
      "execution_count": 65,
      "outputs": [
        {
          "output_type": "execute_result",
          "data": {
            "text/plain": "count    35.000000\nmean      5.200000\nstd       2.763204\nmin       1.000000\n25%       2.500000\n50%       6.000000\n75%       8.000000\nmax       9.000000\ndtype: float64"
          },
          "metadata": {},
          "execution_count": 65
        }
      ]
    },
    {
      "cell_type": "markdown",
      "metadata": {
        "id": "nkIdAWdPTVMy",
        "colab_type": "text"
      },
      "source": [
        "<details>\n",
        "  <summary>Nhấn vào đây để xem kết quả!</summary>\n",
        "  <pre>count    35.000000\n",
        "mean      5.200000\n",
        "std       2.763204\n",
        "min       1.000000\n",
        "25%       2.500000\n",
        "50%       6.000000\n",
        "75%       8.000000\n",
        "max       9.000000\n",
        "dtype: float64</pre>\n",
        "  \n",
        "</details>"
      ]
    },
    {
      "cell_type": "code",
      "metadata": {
        "id": "2egeGzizTVMz",
        "colab_type": "code",
        "colab": {}
      },
      "source": [
        "# Câu 1d: Cho biết tổng của các phần tử có trong ser6\n",
        "ser6.sum()"
      ],
      "execution_count": 67,
      "outputs": [
        {
          "output_type": "execute_result",
          "data": {
            "text/plain": "182"
          },
          "metadata": {},
          "execution_count": 67
        }
      ]
    },
    {
      "cell_type": "markdown",
      "metadata": {
        "id": "wjvI49WwTVM0",
        "colab_type": "text"
      },
      "source": [
        "<details>\n",
        "  <summary>Nhấn vào đây để xem kết quả!</summary>\n",
        "  <pre>182</pre>\n",
        "  \n",
        "</details>"
      ]
    },
    {
      "cell_type": "code",
      "metadata": {
        "id": "w7gx-F3ATVM1",
        "colab_type": "code",
        "colab": {}
      },
      "source": [
        "# Câu 1e: Cho biết phần tử có tần suất xuất hiện nhiều nhất trong ser6\n",
        "value_counts = ser6.value_counts()\n",
        "value_counts"
      ],
      "execution_count": 80,
      "outputs": [
        {
          "output_type": "execute_result",
          "data": {
            "text/plain": "8    6\n2    5\n9    4\n7    4\n6    4\n1    4\n5    3\n3    3\n4    2\ndtype: int64"
          },
          "metadata": {},
          "execution_count": 80
        }
      ]
    },
    {
      "cell_type": "markdown",
      "metadata": {
        "id": "NHxFrFo1TVM2",
        "colab_type": "text"
      },
      "source": [
        "<details>\n",
        "  <summary>Nhấn vào đây để xem kết quả!</summary>\n",
        "  <pre>0    8\n",
        "dtype: int32</pre>\n",
        "  \n",
        "</details>"
      ]
    },
    {
      "cell_type": "code",
      "metadata": {
        "id": "gC2JDkCrTVM3",
        "colab_type": "code",
        "colab": {}
      },
      "source": [
        "# Câu 2:  Liệt kê các dòng trong ser6 mà giá trị chia hết cho 2 và cho 3\n",
        "result = ser6.where((ser6 % 2 == 0) & (ser6 % 3 == 0)).dropna()\n",
        "result"
      ],
      "execution_count": 100,
      "outputs": [
        {
          "output_type": "execute_result",
          "data": {
            "text/plain": "0     6.0\n2     6.0\n10    6.0\n33    6.0\ndtype: float64"
          },
          "metadata": {},
          "execution_count": 100
        }
      ]
    },
    {
      "cell_type": "markdown",
      "metadata": {
        "id": "WwEWd7HvTVM4",
        "colab_type": "text"
      },
      "source": [
        "<details>\n",
        "  <summary>Nhấn vào đây để xem kết quả!</summary>\n",
        "  <pre>0     6\n",
        "2     6\n",
        "10    6\n",
        "33    6\n",
        "dtype: int32</pre>\n",
        "  \n",
        "</details>"
      ]
    },
    {
      "cell_type": "code",
      "metadata": {
        "id": "NF7-8vWwTVM5",
        "colab_type": "code",
        "colab": {}
      },
      "source": [
        "# Câu 3: In các phần tử ở vị trí 0, 5, 10, 15 trong ser6\n"
      ],
      "execution_count": 19,
      "outputs": []
    },
    {
      "cell_type": "markdown",
      "metadata": {
        "id": "Hrpg3GmTTVM6",
        "colab_type": "text"
      },
      "source": [
        "<details>\n",
        "  <summary>Nhấn vào đây để xem kết quả!</summary>\n",
        "  <pre>0     6\n",
        "5     2\n",
        "10    6\n",
        "15    8\n",
        "dtype: int32</pre>\n",
        "  \n",
        "</details>"
      ]
    },
    {
      "cell_type": "code",
      "metadata": {
        "id": "t-arntq6TVM7",
        "colab_type": "code",
        "colab": {}
      },
      "source": [
        "# Câu 4: In ra các giá trị unique (array) trong ser6\n"
      ],
      "execution_count": 20,
      "outputs": []
    },
    {
      "cell_type": "markdown",
      "metadata": {
        "id": "mmj_tjSxTVM9",
        "colab_type": "text"
      },
      "source": [
        "<details>\n",
        "  <summary>Nhấn vào đây để xem kết quả!</summary>\n",
        "  <pre>array([6, 9, 1, 2, 8, 7, 3, 5, 4], dtype=int64)</pre>\n",
        "  \n",
        "</details>"
      ]
    },
    {
      "cell_type": "code",
      "metadata": {
        "id": "cN5rfH9YTVM-",
        "colab_type": "code",
        "colab": {}
      },
      "source": [
        "# Câu 5: Tạo series ser7 với mỗi phần tử có giá trị = lập phương của phần tử trong ser6. \n",
        "\n",
        "\n",
        "# Xem 5 dòng dữ liệu đầu tiên (head) của ser7\n"
      ],
      "execution_count": 21,
      "outputs": []
    },
    {
      "cell_type": "markdown",
      "metadata": {
        "id": "4OIyYMVVTVNA",
        "colab_type": "text"
      },
      "source": [
        "<details>\n",
        "  <summary>Nhấn vào đây để xem kết quả!</summary>\n",
        "  <pre>0    216.0\n",
        "1    729.0\n",
        "2    216.0\n",
        "3      1.0\n",
        "4      1.0\n",
        "dtype: float64\n",
        "</pre>\n",
        "  \n",
        "</details>"
      ]
    },
    {
      "cell_type": "markdown",
      "metadata": {
        "id": "jnj9MaBMTVNA",
        "colab_type": "text"
      },
      "source": [
        "### Part 3: Tạo series từ list, chuỗi và biểu thức điều kiện "
      ]
    },
    {
      "cell_type": "code",
      "metadata": {
        "id": "sYPtOyYvTVNA",
        "colab_type": "code",
        "colab": {}
      },
      "source": [
        "# Câu 1: Cho list sau:\n",
        "lst = [\"abc\", \"defg\", \"htlmj\", \"dfg\", \"ljsac\"]"
      ],
      "execution_count": 22,
      "outputs": []
    },
    {
      "cell_type": "code",
      "metadata": {
        "id": "11yS8zfjTVNC",
        "colab_type": "code",
        "colab": {}
      },
      "source": [
        "# Câu 1a: Tạo series ser_chuoi từ lst \n"
      ],
      "execution_count": 23,
      "outputs": []
    },
    {
      "cell_type": "markdown",
      "metadata": {
        "id": "Wu-JV11mTVNE",
        "colab_type": "text"
      },
      "source": [
        "<details>\n",
        "  <summary>Nhấn vào đây để xem kết quả!</summary>\n",
        "  <pre>0      abc\n",
        "1     defg\n",
        "2    htlmj\n",
        "3      dfg\n",
        "4    ljsac\n",
        "dtype: object\n",
        "</pre>\n",
        "  \n",
        "</details>"
      ]
    },
    {
      "cell_type": "code",
      "metadata": {
        "id": "YN3GlOKzTVNE",
        "colab_type": "code",
        "colab": {}
      },
      "source": [
        "# Câu 1b: Tạo series ser_dodai với mỗi phần tử có giá trị là chiều dài của mỗi phần tử trong ser_chuoi\n"
      ],
      "execution_count": 24,
      "outputs": []
    },
    {
      "cell_type": "markdown",
      "metadata": {
        "id": "x717yjWXTVNI",
        "colab_type": "text"
      },
      "source": [
        "<details>\n",
        "  <summary>Nhấn vào đây để xem kết quả!</summary>\n",
        "  <pre>0    3\n",
        "1    4\n",
        "2    5\n",
        "3    3\n",
        "4    5\n",
        "dtype: int64</pre>\n",
        "  \n",
        "</details>"
      ]
    },
    {
      "cell_type": "code",
      "metadata": {
        "id": "4VsTnOlETVNI",
        "colab_type": "code",
        "colab": {}
      },
      "source": [
        "# Câu 2: Cho ser = pd.Series(np.array([1, 2, 4, 5, 8, 7, 6, 9])). \n",
        "# Sử dụng biểu thức điều kiện thích hợp để in ra các dòng trong ser có giá trị là số nguyên tố\n",
        "\n"
      ],
      "execution_count": 25,
      "outputs": []
    },
    {
      "cell_type": "markdown",
      "metadata": {
        "id": "ek3OnDwnTVNL",
        "colab_type": "text"
      },
      "source": [
        "<details>\n",
        "  <summary>Nhấn vào đây để xem kết quả!</summary>\n",
        "  <pre>1    2\n",
        "3    5\n",
        "5    7\n",
        "dtype: int32\n",
        "</pre>\n",
        "  \n",
        "</details>"
      ]
    },
    {
      "cell_type": "code",
      "metadata": {
        "id": "dIxPN1Z3TVNL",
        "colab_type": "code",
        "colab": {}
      },
      "source": [
        "# Câu 3: Cho mẫu email như sau:\n",
        "pattern ='[A-Za-z0-9._%+-]+@[A-Za-z0-9.-]+\\\\.[A-Za-z]{2,4}'\n",
        "\n",
        "# Tạo một series ser_ch, với mỗi phần tử trong ser_ch là một chuỗi\n",
        "# Gợi ý: 'reading newspaper from tuoitre.vn', 'tubirona@gmail.com', 'nguyen.nn@yahoo.com', 'tran_2014@hotmail.com.vn'\n",
        "\n",
        "\n",
        "# In ra những dòng trong ser_ch thỏa điều kiện chuỗi là email\n"
      ],
      "execution_count": 26,
      "outputs": []
    },
    {
      "cell_type": "markdown",
      "metadata": {
        "id": "9iFYi3rLTVNN",
        "colab_type": "text"
      },
      "source": [
        "<details>\n",
        "  <summary>Nhấn vào đây để xem kết quả!</summary>\n",
        "  <pre>1          tubirona@gmail.com\n",
        "2         nguyen.nn@yahoo.com\n",
        "3    tran_2014@hotmail.com.vn\n",
        "dtype: object</pre>\n",
        "  \n",
        "</details>"
      ]
    },
    {
      "cell_type": "code",
      "metadata": {
        "id": "hTe-y7ZaTVNN",
        "colab_type": "code",
        "colab": {}
      },
      "source": [
        "# Câu 4: Cho series:\n",
        "ser_names = pd.Series(['Manufacturer', 'Model', 'CarType', 'Min_Price', 'Price', 'Max_Price',\n",
        "       'MPG_city', 'MPG_highway', 'AirBags', 'DriveTrain', 'Cylinders',\n",
        "       'EngineSize', 'Horsepower', 'RPM', 'Rev_per_mile', 'Man_trans_avail',\n",
        "       'Fuel_tank_capacity', 'Passengers', 'Length', 'Wheelbase', 'Width',\n",
        "       'Turn_circle', 'Rear_seat_room', 'Luggage_room', 'Weight', 'Origin',\n",
        "       'Make'])\n",
        "# Sử dụng biểu thức điều kiện thích hợp để in ra các dòng của ser_names thỏa điều kiện trong chuỗi có chữ 'Price'\n",
        "\n"
      ],
      "execution_count": 27,
      "outputs": []
    },
    {
      "cell_type": "markdown",
      "metadata": {
        "id": "RbfKA18UTVNP",
        "colab_type": "text"
      },
      "source": [
        "<details>\n",
        "  <summary>Nhấn vào đây để xem kết quả!</summary>\n",
        "  <pre>3    Min_Price\n",
        "4        Price\n",
        "5    Max_Price\n",
        "dtype: object\n",
        "</pre>\n",
        "  \n",
        "</details>"
      ]
    }
  ]
}