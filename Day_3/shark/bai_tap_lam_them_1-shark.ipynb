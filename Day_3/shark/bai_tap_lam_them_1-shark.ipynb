{
 "cells": [
  {
   "cell_type": "markdown",
   "metadata": {},
   "source": [
    "# Bài làm thêm 1 - Numpy\n",
    "\n"
   ]
  },
  {
   "cell_type": "code",
   "execution_count": 1,
   "metadata": {},
   "outputs": [],
   "source": [
    "import numpy as np"
   ]
  },
  {
   "cell_type": "code",
   "execution_count": 2,
   "metadata": {},
   "outputs": [
    {
     "name": "stdout",
     "output_type": "stream",
     "text": [
      "shark [[ -1  28  94  68]\n",
      " [ -1  27  78  32]\n",
      " [ -1  66  63  34]\n",
      " [ -1 103  54  25]\n",
      " [ -1 106  21  25]\n",
      " [ -1 173  25  22]\n",
      " [ -1 232  25  28]\n",
      " [ -1 208  28  15]\n",
      " [ -1 182  35  17]\n",
      " [ -1 141  56  16]\n",
      " [ -1  79  65  20]\n",
      " [ -1  37  94  46]]\n"
     ]
    }
   ],
   "source": [
    "#1. Đọc dữ liệu từ tập tin shark.tsv (dữ liệu số vụ cá mập tấn công các tháng của 3 quốc gia USA,Australia,South Africa)\n",
    "# và đưa vào mảng shark\n",
    "shark = np.genfromtxt('shark.tsv',delimiter='\\t',skip_header=1,dtype=int)\n",
    "print('shark', shark)"
   ]
  },
  {
   "cell_type": "markdown",
   "metadata": {},
   "source": [
    "<details>\n",
    "  <summary>Nhấn vào đây để xem kết quả !</summary>\n",
    "  \n",
    "  <pre>array([[ -1,  28,  94,  68],\n",
    "       [ -1,  27,  78,  32],\n",
    "       [ -1,  66,  63,  34],\n",
    "       [ -1, 103,  54,  25],\n",
    "       [ -1, 106,  21,  25],\n",
    "       [ -1, 173,  25,  22],\n",
    "       [ -1, 232,  25,  28],\n",
    "       [ -1, 208,  28,  15],\n",
    "       [ -1, 182,  35,  17],\n",
    "       [ -1, 141,  56,  16],\n",
    "       [ -1,  79,  65,  20],\n",
    "       [ -1,  37,  94,  46]])\n",
    "</pre>\n",
    "\n",
    "</details>"
   ]
  },
  {
   "cell_type": "code",
   "execution_count": 3,
   "metadata": {},
   "outputs": [
    {
     "name": "stdout",
     "output_type": "stream",
     "text": [
      "shape (12, 4)\n"
     ]
    }
   ],
   "source": [
    "#2. Cho biết số phần tử mỗi chiều của mảng\n",
    "# data_types = np.dtype([('month', int), ('usa', int), ('aus', int), ('saf', int)])\n",
    "# shark = np.array(shark, dtype=data_types)\n",
    "shape = np.shape(shark)\n",
    "print('shape', shape)"
   ]
  },
  {
   "cell_type": "markdown",
   "metadata": {},
   "source": [
    "<details>\n",
    "  <summary>Nhấn vào đây để xem kết quả !</summary>\n",
    "  \n",
    "  <pre>(12, 4)\n",
    "</pre>\n",
    "\n",
    "</details>"
   ]
  },
  {
   "cell_type": "code",
   "execution_count": 4,
   "metadata": {},
   "outputs": [
    {
     "name": "stdout",
     "output_type": "stream",
     "text": [
      "shark\n",
      "[[  1  28  94  68]\n",
      " [  2  27  78  32]\n",
      " [  3  66  63  34]\n",
      " [  4 103  54  25]\n",
      " [  5 106  21  25]\n",
      " [  6 173  25  22]\n",
      " [  7 232  25  28]\n",
      " [  8 208  28  15]\n",
      " [  9 182  35  17]\n",
      " [ 10 141  56  16]\n",
      " [ 11  79  65  20]\n",
      " [ 12  37  94  46]]\n"
     ]
    }
   ],
   "source": [
    "#3. Thay cột 1 (giá trị -1) bằng giá trị tương ứng các tháng trong năm 1-12\n",
    "shark[:,0] = np.arange(1,13)\n",
    "print('shark')\n",
    "print(shark)"
   ]
  },
  {
   "cell_type": "markdown",
   "metadata": {},
   "source": [
    "<details>\n",
    "  <summary>Nhấn vào đây để xem kết quả !</summary>\n",
    "  \n",
    "  <pre>array([[  1,  28,  94,  68],\n",
    "       [  2,  27,  78,  32],\n",
    "       [  3,  66,  63,  34],\n",
    "       [  4, 103,  54,  25],\n",
    "       [  5, 106,  21,  25],\n",
    "       [  6, 173,  25,  22],\n",
    "       [  7, 232,  25,  28],\n",
    "       [  8, 208,  28,  15],\n",
    "       [  9, 182,  35,  17],\n",
    "       [ 10, 141,  56,  16],\n",
    "       [ 11,  79,  65,  20],\n",
    "       [ 12,  37,  94,  46]])\n",
    "</pre>\n",
    "\n",
    "</details>"
   ]
  },
  {
   "cell_type": "code",
   "execution_count": 15,
   "metadata": {},
   "outputs": [
    {
     "name": "stdout",
     "output_type": "stream",
     "text": [
      "usa_shark_mean [ 28  27  66 103 106 173 232 208 182 141  79  37]\n"
     ]
    }
   ],
   "source": [
    "#4. Hiển thị số vụ cá mập tấn công trung bình của 3 quốc gia\n",
    "usa_shark_mean = shark[:, 1]\n",
    "print('usa_shark_mean', usa_shark_mean)"
   ]
  },
  {
   "cell_type": "markdown",
   "metadata": {},
   "source": [
    "<details>\n",
    "  <summary>Nhấn vào đây để xem kết quả !</summary>\n",
    "  \n",
    "  <pre>array([115.16666667,  53.16666667,  29.        ])\n",
    "</pre>\n",
    "\n",
    "</details>"
   ]
  },
  {
   "cell_type": "code",
   "execution_count": 6,
   "metadata": {},
   "outputs": [],
   "source": [
    "#5. Hiển thị số vụ cá mập tấn công trung bình của mỗi tháng  \n"
   ]
  },
  {
   "cell_type": "markdown",
   "metadata": {},
   "source": [
    "<details>\n",
    "  <summary>Nhấn vào đây để xem kết quả !</summary>\n",
    "  \n",
    "  <pre>array([63.33333333, 45.66666667, 54.33333333, 60.66666667, 50.66666667,\n",
    "       73.33333333, 95.        , 83.66666667, 78.        , 71.        ,\n",
    "       54.66666667, 59.        ])\n",
    "</pre>\n",
    "\n",
    "</details>"
   ]
  },
  {
   "cell_type": "code",
   "execution_count": 7,
   "metadata": {},
   "outputs": [],
   "source": [
    "#6. Tạo thêm cột tổng số vụ cá mập tấn công theo mỗi tháng \n",
    "#(nếu không tính được thì đọc từ file shark1.tsv)\n"
   ]
  },
  {
   "cell_type": "markdown",
   "metadata": {},
   "source": [
    "<details>\n",
    "  <summary>Nhấn vào đây để xem kết quả !</summary>\n",
    "  \n",
    "  <pre>array([[  1,  28,  94,  68, 190],\n",
    "       [  2,  27,  78,  32, 137],\n",
    "       [  3,  66,  63,  34, 163],\n",
    "       [  4, 103,  54,  25, 182],\n",
    "       [  5, 106,  21,  25, 152],\n",
    "       [  6, 173,  25,  22, 220],\n",
    "       [  7, 232,  25,  28, 285],\n",
    "       [  8, 208,  28,  15, 251],\n",
    "       [  9, 182,  35,  17, 234],\n",
    "       [ 10, 141,  56,  16, 213],\n",
    "       [ 11,  79,  65,  20, 164],\n",
    "       [ 12,  37,  94,  46, 177]])\n",
    "</pre>\n",
    "\n",
    "</details>"
   ]
  },
  {
   "cell_type": "code",
   "execution_count": 8,
   "metadata": {},
   "outputs": [],
   "source": [
    "#7. Cho biết những tháng có tổng số vụ cá mập tấn công >200\n"
   ]
  },
  {
   "cell_type": "markdown",
   "metadata": {},
   "source": [
    "<details>\n",
    "  <summary>Nhấn vào đây để xem kết quả !</summary>\n",
    "  \n",
    "  <pre>array([[  6, 173,  25,  22, 220],\n",
    "       [  7, 232,  25,  28, 285],\n",
    "       [  8, 208,  28,  15, 251],\n",
    "       [  9, 182,  35,  17, 234],\n",
    "       [ 10, 141,  56,  16, 213]])\n",
    "</pre>\n",
    "\n",
    "</details>"
   ]
  },
  {
   "cell_type": "code",
   "execution_count": 9,
   "metadata": {},
   "outputs": [],
   "source": [
    "#8. Cho biết tổng số vụ cá mập tấn công nhiều nhất trong tháng là bao nhiêu\n"
   ]
  },
  {
   "cell_type": "markdown",
   "metadata": {},
   "source": [
    "<details>\n",
    "  <summary>Nhấn vào đây để xem kết quả !</summary>\n",
    "  \n",
    "  <pre>285\n",
    "</pre>\n",
    "\n",
    "</details>"
   ]
  },
  {
   "cell_type": "code",
   "execution_count": 10,
   "metadata": {},
   "outputs": [],
   "source": [
    "#9. Cho biết tháng nào có tổng số vụ cá mập tấn công nhiều nhất\n"
   ]
  },
  {
   "cell_type": "markdown",
   "metadata": {},
   "source": [
    "<details>\n",
    "  <summary>Nhấn vào đây để xem kết quả !</summary>\n",
    "  \n",
    "  <pre>Tháng có tổng số vụ cá mập tấn công nhiều nhất là tháng : 7\n",
    "</pre>\n",
    "\n",
    "</details>"
   ]
  },
  {
   "cell_type": "code",
   "execution_count": null,
   "metadata": {},
   "outputs": [],
   "source": []
  }
 ],
 "metadata": {
  "kernelspec": {
   "display_name": "Python 3",
   "language": "python",
   "name": "python3"
  },
  "language_info": {
   "codemirror_mode": {
    "name": "ipython",
    "version": 3
   },
   "file_extension": ".py",
   "mimetype": "text/x-python",
   "name": "python",
   "nbconvert_exporter": "python",
   "pygments_lexer": "ipython3",
   "version": "3.7.6"
  }
 },
 "nbformat": 4,
 "nbformat_minor": 4
}
