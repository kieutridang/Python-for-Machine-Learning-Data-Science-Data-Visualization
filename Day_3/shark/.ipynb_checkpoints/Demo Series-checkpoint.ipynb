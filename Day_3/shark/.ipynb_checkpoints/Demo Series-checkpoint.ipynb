{
 "cells": [
  {
   "cell_type": "markdown",
   "metadata": {},
   "source": [
    "## Minh họa Pandas - Series"
   ]
  },
  {
   "cell_type": "code",
   "execution_count": 1,
   "metadata": {},
   "outputs": [],
   "source": [
    "# Import thư viện\n",
    "import numpy as np\n",
    "import pandas as pd"
   ]
  },
  {
   "cell_type": "markdown",
   "metadata": {},
   "source": [
    "### Tạo Series"
   ]
  },
  {
   "cell_type": "code",
   "execution_count": 13,
   "metadata": {},
   "outputs": [
    {
     "name": "stderr",
     "output_type": "stream",
     "text": [
      "/Users/kieutridang/opt/anaconda3/lib/python3.7/site-packages/ipykernel_launcher.py:1: DeprecationWarning: The default dtype for empty Series will be 'object' instead of 'float64' in a future version. Specify a dtype explicitly to silence this warning.\n",
      "  \"\"\"Entry point for launching an IPython kernel.\n"
     ]
    },
    {
     "data": {
      "text/plain": [
       "Series([], dtype: float64)"
      ]
     },
     "execution_count": 13,
     "metadata": {},
     "output_type": "execute_result"
    }
   ],
   "source": [
    "s=pd.Series()\n",
    "s"
   ]
  },
  {
   "cell_type": "code",
   "execution_count": 3,
   "metadata": {},
   "outputs": [],
   "source": [
    "nd_array_1=np.array(['a','b','c','d'])\n",
    "s1=pd.Series(nd_array_1)\n"
   ]
  },
  {
   "cell_type": "code",
   "execution_count": 4,
   "metadata": {},
   "outputs": [],
   "source": [
    "s2=pd.Series(nd_array_1,index=[100,101,102,103])\n"
   ]
  },
  {
   "cell_type": "code",
   "execution_count": 5,
   "metadata": {},
   "outputs": [],
   "source": [
    "x= np.arange(1,6)\n",
    "s2_1 = pd.Series(x, index=['a','b','c','d','e']) \n"
   ]
  },
  {
   "cell_type": "code",
   "execution_count": 6,
   "metadata": {},
   "outputs": [],
   "source": [
    "# Create a Series from dict\n",
    "dic_1 = {'a' : 0., 'b' : 1., 'c' : 2.}\n",
    "s3 = pd.Series(dic_1)\n"
   ]
  },
  {
   "cell_type": "code",
   "execution_count": 7,
   "metadata": {},
   "outputs": [],
   "source": [
    "# Create a Series from Scalar\n",
    "s4 = pd.Series(10, index=np.arange(5)) \n"
   ]
  },
  {
   "cell_type": "code",
   "execution_count": 8,
   "metadata": {},
   "outputs": [
    {
     "name": "stdout",
     "output_type": "stream",
     "text": [
      "float64\n",
      "3\n",
      "[0. 1. 2.]\n",
      "Index(['a', 'b', 'c'], dtype='object')\n"
     ]
    }
   ],
   "source": [
    "print(s3.dtype)\n",
    "\n",
    "print(s3.size)\n",
    "\n",
    "print(s3.values)\n",
    "\n",
    "print(s3.index)"
   ]
  },
  {
   "cell_type": "code",
   "execution_count": 9,
   "metadata": {},
   "outputs": [
    {
     "name": "stdout",
     "output_type": "stream",
     "text": [
      "[Index(['a', 'b', 'c'], dtype='object')]\n",
      "[RangeIndex(start=0, stop=4, step=1)]\n"
     ]
    }
   ],
   "source": [
    "print(s3.axes)\n",
    "print(s1.axes)"
   ]
  },
  {
   "cell_type": "markdown",
   "metadata": {},
   "source": [
    "### Truy xuất và cập nhật phần tử"
   ]
  },
  {
   "cell_type": "code",
   "execution_count": 10,
   "metadata": {},
   "outputs": [
    {
     "name": "stdout",
     "output_type": "stream",
     "text": [
      "a    1\n",
      "b    2\n",
      "c    3\n",
      "d    4\n",
      "e    5\n",
      "dtype: int64\n",
      "Phần tử đầu tiên:\n",
      "Từ đầu đến cận 2:\n",
      "Từ 1 đến cận 3:\n",
      "Từ -3:\n",
      "a    1\n",
      "c    3\n",
      "d    4\n",
      "dtype: int64\n",
      "a    1\n",
      "c    3\n",
      "d    4\n",
      "dtype: int64\n"
     ]
    }
   ],
   "source": [
    "# get element value from Series\n",
    "s5 = pd.Series([1,2,3,4,5],index = ['a','b','c','d','e'])\n",
    "print(s5)\n",
    "# Lấy phần tử đầu tiên - chỉ mục là 'a' -> 1\n",
    "print('Phần tử đầu tiên:')\n",
    "\n",
    "# Lấy các phần tử từ vị trí đầu đến cận 2: 1,2\n",
    "print('Từ đầu đến cận 2:')\n",
    "\n",
    "# Lấy các phần tử từ vị trí 1 đến cận 3: 2,3\n",
    "print('Từ 1 đến cận 3:')\n",
    "\n",
    "# Lấy các phần tử từ vị trí -3 đến cuối : 3,4,5\n",
    "print('Từ -3:')\n",
    "\n",
    "#\n",
    "\n",
    "print(s5[['a','c','d']]) # sẽ trả về: \n",
    "print(s5[[0,2,3]]) # sẽ trả về: "
   ]
  },
  {
   "cell_type": "code",
   "execution_count": 11,
   "metadata": {},
   "outputs": [
    {
     "name": "stdout",
     "output_type": "stream",
     "text": [
      "2    1\n",
      "3    2\n",
      "4    3\n",
      "5    4\n",
      "6    5\n",
      "dtype: int64\n"
     ]
    }
   ],
   "source": [
    "#index tường minh và index ngầm hiểu\n",
    "s6 = pd.Series([1,2,3,4,5],index = [2,3,4,5,6])\n",
    "print(s6)\n"
   ]
  },
  {
   "cell_type": "code",
   "execution_count": 12,
   "metadata": {},
   "outputs": [
    {
     "ename": "TypeError",
     "evalue": "'tuple' object does not support item assignment",
     "output_type": "error",
     "traceback": [
      "\u001b[0;31m---------------------------------------------------------------------------\u001b[0m",
      "\u001b[0;31mTypeError\u001b[0m                                 Traceback (most recent call last)",
      "\u001b[0;32m<ipython-input-12-9359fc931abe>\u001b[0m in \u001b[0;36m<module>\u001b[0;34m\u001b[0m\n\u001b[1;32m      2\u001b[0m \u001b[0ms7\u001b[0m\u001b[0;34m=\u001b[0m  \u001b[0;34m(\u001b[0m\u001b[0;34m[\u001b[0m\u001b[0;36m12\u001b[0m\u001b[0;34m,\u001b[0m\u001b[0;36m21\u001b[0m\u001b[0;34m,\u001b[0m\u001b[0;36m11\u001b[0m\u001b[0;34m]\u001b[0m\u001b[0;34m,\u001b[0m\u001b[0;34m[\u001b[0m\u001b[0;34m'idx1'\u001b[0m\u001b[0;34m,\u001b[0m\u001b[0;34m'idx2'\u001b[0m\u001b[0;34m,\u001b[0m\u001b[0;34m'idx3'\u001b[0m\u001b[0;34m]\u001b[0m\u001b[0;34m)\u001b[0m\u001b[0;34m\u001b[0m\u001b[0;34m\u001b[0m\u001b[0m\n\u001b[1;32m      3\u001b[0m \u001b[0;34m\u001b[0m\u001b[0m\n\u001b[0;32m----> 4\u001b[0;31m \u001b[0ms7\u001b[0m\u001b[0;34m[\u001b[0m\u001b[0;34m'idx3'\u001b[0m\u001b[0;34m]\u001b[0m\u001b[0;34m=\u001b[0m\u001b[0;36m100\u001b[0m\u001b[0;34m\u001b[0m\u001b[0;34m\u001b[0m\u001b[0m\n\u001b[0m",
      "\u001b[0;31mTypeError\u001b[0m: 'tuple' object does not support item assignment"
     ]
    }
   ],
   "source": [
    "#Cập nhật phần tử\n",
    "s7=  ([12,21,11],['idx1','idx2','idx3'])\n",
    "\n",
    "s7['idx3']=100 \n"
   ]
  },
  {
   "cell_type": "code",
   "execution_count": null,
   "metadata": {},
   "outputs": [],
   "source": [
    "#Thêm phần tử vào Series \n",
    "print('Trước khi thêm:\\n',s5\n",
    "s5['f'] =6\n",
    "print('Sau khi thêm:\\n', s5)"
   ]
  },
  {
   "cell_type": "code",
   "execution_count": null,
   "metadata": {},
   "outputs": [],
   "source": [
    "#Xóa phần tử\n",
    "print('Trước khi xóa:\\n', s5)\n",
    "t= s5.drop(['a','e'])\n",
    "\n",
    "print('Sau khi xóa:\\n',t)"
   ]
  },
  {
   "cell_type": "code",
   "execution_count": null,
   "metadata": {},
   "outputs": [],
   "source": [
    "s2 = pd.Series([1,2,3,4,5],index = ['a','b','c','d','e'])\n",
    "print(s2)\n",
    "s3 = s2.map(lambda x: x * x)\n",
    "print(s3)"
   ]
  },
  {
   "cell_type": "markdown",
   "metadata": {},
   "source": [
    "### Các hàm thống kê"
   ]
  },
  {
   "cell_type": "code",
   "execution_count": null,
   "metadata": {},
   "outputs": [],
   "source": [
    "s1 = pd.Series([25,26, np.NaN])\n",
    "print(s1)\n",
    "print(s1.count())"
   ]
  },
  {
   "cell_type": "code",
   "execution_count": null,
   "metadata": {},
   "outputs": [],
   "source": [
    "s2 = pd.Series([10,8,10,8,8,4])\n",
    "print(\"Sum:\", s2.sum())\n",
    "#print(\"Mean:\", s2.mean())\n",
    "#print(\"Median:\", s2.median()) \n",
    "#print(\"Mode:\", s2.mode())\n",
    "#print(\"Std:\", s2.std())"
   ]
  },
  {
   "cell_type": "code",
   "execution_count": null,
   "metadata": {},
   "outputs": [],
   "source": [
    "#print(\"Min:\", s2.min())\n",
    "#print(\"Max:\", s2.max())\n",
    "#print(\"Abs:\", s2.abs().values)\n",
    "#print(\"Prod:\", s2.prod())\n",
    "#print(\"Cumsum:\", s2.cumsum().values)\n",
    "#print(\"Cumprod:\", s2.cumprod().values)"
   ]
  },
  {
   "cell_type": "code",
   "execution_count": null,
   "metadata": {},
   "outputs": [],
   "source": [
    "#print(s2.describe())"
   ]
  }
 ],
 "metadata": {
  "kernelspec": {
   "display_name": "Python 3",
   "language": "python",
   "name": "python3"
  },
  "language_info": {
   "codemirror_mode": {
    "name": "ipython",
    "version": 3
   },
   "file_extension": ".py",
   "mimetype": "text/x-python",
   "name": "python",
   "nbconvert_exporter": "python",
   "pygments_lexer": "ipython3",
   "version": "3.7.6"
  }
 },
 "nbformat": 4,
 "nbformat_minor": 2
}
