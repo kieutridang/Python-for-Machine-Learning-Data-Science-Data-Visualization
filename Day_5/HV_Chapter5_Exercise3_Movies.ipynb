{
  "nbformat": 4,
  "nbformat_minor": 0,
  "metadata": {
    "kernelspec": {
      "display_name": "Python 3",
      "language": "python",
      "name": "python3"
    },
    "language_info": {
      "codemirror_mode": {
        "name": "ipython",
        "version": 3
      },
      "file_extension": ".py",
      "mimetype": "text/x-python",
      "name": "python",
      "nbconvert_exporter": "python",
      "pygments_lexer": "ipython3",
      "version": "3.7.6-final"
    },
    "colab": {
      "name": "HV_Chapter5_Exercise3_Movies.ipynb",
      "provenance": []
    }
  },
  "cells": [
    {
      "cell_type": "markdown",
      "metadata": {
        "id": "4pQLv6vVu1_I",
        "colab_type": "text"
      },
      "source": [
        "# Chapter 5 - Exercise 3: Phân tích dữ liệu Movies"
      ]
    },
    {
      "cell_type": "markdown",
      "metadata": {
        "id": "7UprdWoju1_J",
        "colab_type": "text"
      },
      "source": [
        "#### Dữ liệu được lấy từ MovieLens website. \n",
        "#### Download the Dataset\n",
        "Theo link: \n",
        "* **Data Source:** MovieLens web site (filename: ml-latest-small.zip)\n",
        "* **Location:** https://grouplens.org/datasets/movielens/latest/"
      ]
    },
    {
      "cell_type": "markdown",
      "metadata": {
        "id": "Ei8Ibpanu1_K",
        "colab_type": "text"
      },
      "source": [
        "#### Thực hiện các yêu cầu sau, và đối chiếu với kết quả cho trước:"
      ]
    },
    {
      "cell_type": "markdown",
      "metadata": {
        "id": "ghz5bon2u1_L",
        "colab_type": "text"
      },
      "source": [
        "### Part 1: Đọc dữ liệu & Data Structures"
      ]
    },
    {
      "cell_type": "markdown",
      "metadata": {
        "id": "JreP1nDRu1_L",
        "colab_type": "text"
      },
      "source": [
        "##### Trong ml-latest-small.zip bao gồm 3 file CSV sau:\n",
        "* **ratings.csv :** *userId*,*movieId*,*rating*, *timestamp* : Chứa dữ liệu về các xếp hạng của các bộ phim, mỗi dòng biểu thị một xếp hạng của một phim bởi một người dùng.\n",
        "* **tags.csv :** *userId*,*movieId*, *tag*, *timestamp* : chứa thông tin về các Tag mà người dùng gắn vào cho phim, mỗi dòng biểu thị cho 1 tag của một người dùng cho một phim \n",
        "* **movies.csv :** *movieId*, *title*, *genres* : chứa thông tin về các bộ phim, mỗi dòng biểu thị thông tin của 1 bộ phim <br>\n",
        "##### Sử dụng  pd.read_csv() để đọc dữ liệu"
      ]
    },
    {
      "cell_type": "code",
      "metadata": {
        "id": "0XFCLxNju1_M",
        "colab_type": "code",
        "colab": {}
      },
      "source": [
        "import pandas as pd\n",
        "import numpy as np"
      ],
      "execution_count": 1,
      "outputs": []
    },
    {
      "cell_type": "code",
      "metadata": {
        "id": "EdzaQ4Rhu1_Q",
        "colab_type": "code",
        "colab": {},
        "tags": []
      },
      "source": [
        "# Câu 1: Đọc file movies.csv => đưa dữ liệu vào movies\n",
        "movies = pd.read_csv('./movies_data/movies.csv')\n",
        "# Cho biết kiểu dữ liệu (type) của movies\n",
        "print(type(movies))\n",
        "# Cho biết kích thước (shape) của movies\n",
        "print(np.shape(movies))\n",
        "# Hiển thị 5 dòng dữ liệu đầu tiên (head) của movies\n",
        "movies.head()"
      ],
      "execution_count": 2,
      "outputs": [
        {
          "output_type": "stream",
          "name": "stdout",
          "text": "<class 'pandas.core.frame.DataFrame'>\n(9125, 3)\n"
        },
        {
          "output_type": "execute_result",
          "data": {
            "text/plain": "   movieId                               title  \\\n0        1                    Toy Story (1995)   \n1        2                      Jumanji (1995)   \n2        3             Grumpier Old Men (1995)   \n3        4            Waiting to Exhale (1995)   \n4        5  Father of the Bride Part II (1995)   \n\n                                        genres  \n0  Adventure|Animation|Children|Comedy|Fantasy  \n1                   Adventure|Children|Fantasy  \n2                               Comedy|Romance  \n3                         Comedy|Drama|Romance  \n4                                       Comedy  ",
            "text/html": "<div>\n<style scoped>\n    .dataframe tbody tr th:only-of-type {\n        vertical-align: middle;\n    }\n\n    .dataframe tbody tr th {\n        vertical-align: top;\n    }\n\n    .dataframe thead th {\n        text-align: right;\n    }\n</style>\n<table border=\"1\" class=\"dataframe\">\n  <thead>\n    <tr style=\"text-align: right;\">\n      <th></th>\n      <th>movieId</th>\n      <th>title</th>\n      <th>genres</th>\n    </tr>\n  </thead>\n  <tbody>\n    <tr>\n      <th>0</th>\n      <td>1</td>\n      <td>Toy Story (1995)</td>\n      <td>Adventure|Animation|Children|Comedy|Fantasy</td>\n    </tr>\n    <tr>\n      <th>1</th>\n      <td>2</td>\n      <td>Jumanji (1995)</td>\n      <td>Adventure|Children|Fantasy</td>\n    </tr>\n    <tr>\n      <th>2</th>\n      <td>3</td>\n      <td>Grumpier Old Men (1995)</td>\n      <td>Comedy|Romance</td>\n    </tr>\n    <tr>\n      <th>3</th>\n      <td>4</td>\n      <td>Waiting to Exhale (1995)</td>\n      <td>Comedy|Drama|Romance</td>\n    </tr>\n    <tr>\n      <th>4</th>\n      <td>5</td>\n      <td>Father of the Bride Part II (1995)</td>\n      <td>Comedy</td>\n    </tr>\n  </tbody>\n</table>\n</div>"
          },
          "metadata": {},
          "execution_count": 2
        }
      ]
    },
    {
      "cell_type": "markdown",
      "metadata": {
        "id": "QAvSNm8Bu1_S",
        "colab_type": "text"
      },
      "source": [
        "<details>\n",
        "  <summary>Nhấn vào đây để xem kết quả!</summary>\n",
        "  <pre>&lt;class 'pandas.core.frame.DataFrame'&gt;\n",
        "(9125, 3)\n",
        "</pre>\n",
        "    \n",
        "  <div>\n",
        "<style scoped=\"\">\n",
        "    .dataframe tbody tr th:only-of-type {\n",
        "        vertical-align: middle;\n",
        "    }\n",
        "\n",
        "    .dataframe tbody tr th {\n",
        "        vertical-align: top;\n",
        "    }\n",
        "\n",
        "    .dataframe thead th {\n",
        "        text-align: right;\n",
        "    }\n",
        "</style>\n",
        "<table border=\"1\" class=\"dataframe\">\n",
        "  <thead>\n",
        "    <tr style=\"text-align: right;\">\n",
        "      <th></th>\n",
        "      <th>movieId</th>\n",
        "      <th>title</th>\n",
        "      <th>genres</th>\n",
        "    </tr>\n",
        "  </thead>\n",
        "  <tbody>\n",
        "    <tr>\n",
        "      <th>0</th>\n",
        "      <td>1</td>\n",
        "      <td>Toy Story (1995)</td>\n",
        "      <td>Adventure|Animation|Children|Comedy|Fantasy</td>\n",
        "    </tr>\n",
        "    <tr>\n",
        "      <th>1</th>\n",
        "      <td>2</td>\n",
        "      <td>Jumanji (1995)</td>\n",
        "      <td>Adventure|Children|Fantasy</td>\n",
        "    </tr>\n",
        "    <tr>\n",
        "      <th>2</th>\n",
        "      <td>3</td>\n",
        "      <td>Grumpier Old Men (1995)</td>\n",
        "      <td>Comedy|Romance</td>\n",
        "    </tr>\n",
        "    <tr>\n",
        "      <th>3</th>\n",
        "      <td>4</td>\n",
        "      <td>Waiting to Exhale (1995)</td>\n",
        "      <td>Comedy|Drama|Romance</td>\n",
        "    </tr>\n",
        "    <tr>\n",
        "      <th>4</th>\n",
        "      <td>5</td>\n",
        "      <td>Father of the Bride Part II (1995)</td>\n",
        "      <td>Comedy</td>\n",
        "    </tr>\n",
        "  </tbody>\n",
        "</table>\n",
        "</div>\n",
        "  \n",
        "</details>"
      ]
    },
    {
      "cell_type": "code",
      "metadata": {
        "id": "PwG1itHvu1_T",
        "colab_type": "code",
        "colab": {}
      },
      "source": [
        "# Hiển thị 5 dòng dữ liệu cuối (tail) của movies\n",
        "movies.tail()"
      ],
      "execution_count": 3,
      "outputs": [
        {
          "output_type": "execute_result",
          "data": {
            "text/plain": "      movieId                                              title  \\\n9120   162672                                Mohenjo Daro (2016)   \n9121   163056                               Shin Godzilla (2016)   \n9122   163949  The Beatles: Eight Days a Week - The Touring Y...   \n9123   164977                           The Gay Desperado (1936)   \n9124   164979                              Women of '69, Unboxed   \n\n                               genres  \n9120          Adventure|Drama|Romance  \n9121  Action|Adventure|Fantasy|Sci-Fi  \n9122                      Documentary  \n9123                           Comedy  \n9124                      Documentary  ",
            "text/html": "<div>\n<style scoped>\n    .dataframe tbody tr th:only-of-type {\n        vertical-align: middle;\n    }\n\n    .dataframe tbody tr th {\n        vertical-align: top;\n    }\n\n    .dataframe thead th {\n        text-align: right;\n    }\n</style>\n<table border=\"1\" class=\"dataframe\">\n  <thead>\n    <tr style=\"text-align: right;\">\n      <th></th>\n      <th>movieId</th>\n      <th>title</th>\n      <th>genres</th>\n    </tr>\n  </thead>\n  <tbody>\n    <tr>\n      <th>9120</th>\n      <td>162672</td>\n      <td>Mohenjo Daro (2016)</td>\n      <td>Adventure|Drama|Romance</td>\n    </tr>\n    <tr>\n      <th>9121</th>\n      <td>163056</td>\n      <td>Shin Godzilla (2016)</td>\n      <td>Action|Adventure|Fantasy|Sci-Fi</td>\n    </tr>\n    <tr>\n      <th>9122</th>\n      <td>163949</td>\n      <td>The Beatles: Eight Days a Week - The Touring Y...</td>\n      <td>Documentary</td>\n    </tr>\n    <tr>\n      <th>9123</th>\n      <td>164977</td>\n      <td>The Gay Desperado (1936)</td>\n      <td>Comedy</td>\n    </tr>\n    <tr>\n      <th>9124</th>\n      <td>164979</td>\n      <td>Women of '69, Unboxed</td>\n      <td>Documentary</td>\n    </tr>\n  </tbody>\n</table>\n</div>"
          },
          "metadata": {},
          "execution_count": 3
        }
      ]
    },
    {
      "cell_type": "markdown",
      "metadata": {
        "id": "fqkLXKLiu1_V",
        "colab_type": "text"
      },
      "source": [
        "<details>\n",
        "  <summary>Nhấn vào đây để xem kết quả!</summary>\n",
        "  <div>\n",
        "<style scoped=\"\">\n",
        "    .dataframe tbody tr th:only-of-type {\n",
        "        vertical-align: middle;\n",
        "    }\n",
        "\n",
        "    .dataframe tbody tr th {\n",
        "        vertical-align: top;\n",
        "    }\n",
        "\n",
        "    .dataframe thead th {\n",
        "        text-align: right;\n",
        "    }\n",
        "</style>\n",
        "<table border=\"1\" class=\"dataframe\">\n",
        "  <thead>\n",
        "    <tr style=\"text-align: right;\">\n",
        "      <th></th>\n",
        "      <th>movieId</th>\n",
        "      <th>title</th>\n",
        "      <th>genres</th>\n",
        "    </tr>\n",
        "  </thead>\n",
        "  <tbody>\n",
        "    <tr>\n",
        "      <th>9120</th>\n",
        "      <td>162672</td>\n",
        "      <td>Mohenjo Daro (2016)</td>\n",
        "      <td>Adventure|Drama|Romance</td>\n",
        "    </tr>\n",
        "    <tr>\n",
        "      <th>9121</th>\n",
        "      <td>163056</td>\n",
        "      <td>Shin Godzilla (2016)</td>\n",
        "      <td>Action|Adventure|Fantasy|Sci-Fi</td>\n",
        "    </tr>\n",
        "    <tr>\n",
        "      <th>9122</th>\n",
        "      <td>163949</td>\n",
        "      <td>The Beatles: Eight Days a Week - The Touring Y...</td>\n",
        "      <td>Documentary</td>\n",
        "    </tr>\n",
        "    <tr>\n",
        "      <th>9123</th>\n",
        "      <td>164977</td>\n",
        "      <td>The Gay Desperado (1936)</td>\n",
        "      <td>Comedy</td>\n",
        "    </tr>\n",
        "    <tr>\n",
        "      <th>9124</th>\n",
        "      <td>164979</td>\n",
        "      <td>Women of '69, Unboxed</td>\n",
        "      <td>Documentary</td>\n",
        "    </tr>\n",
        "  </tbody>\n",
        "</table>\n",
        "</div>\n",
        "  \n",
        "</details>"
      ]
    },
    {
      "cell_type": "code",
      "metadata": {
        "id": "-JANCi-Lu1_W",
        "colab_type": "code",
        "colab": {}
      },
      "source": [
        "# Cho biết kiểu dữ liệu (dtype) của các cột của movies\n",
        "movies.dtypes"
      ],
      "execution_count": 4,
      "outputs": [
        {
          "output_type": "execute_result",
          "data": {
            "text/plain": "movieId     int64\ntitle      object\ngenres     object\ndtype: object"
          },
          "metadata": {},
          "execution_count": 4
        }
      ]
    },
    {
      "cell_type": "markdown",
      "metadata": {
        "id": "p6HbsdH_u1_Y",
        "colab_type": "text"
      },
      "source": [
        "<details>\n",
        "  <summary>Nhấn vào đây để xem kết quả!</summary>\n",
        "  <pre>movieId     int64\n",
        "title      object\n",
        "genres     object\n",
        "dtype: object</pre>\n",
        "  \n",
        "</details>"
      ]
    },
    {
      "cell_type": "code",
      "metadata": {
        "id": "os7SpCcmu1_Z",
        "colab_type": "code",
        "colab": {},
        "tags": []
      },
      "source": [
        "# Xem thông tin (info) của movies\n",
        "movies.info()"
      ],
      "execution_count": 5,
      "outputs": [
        {
          "output_type": "stream",
          "name": "stdout",
          "text": "<class 'pandas.core.frame.DataFrame'>\nRangeIndex: 9125 entries, 0 to 9124\nData columns (total 3 columns):\n #   Column   Non-Null Count  Dtype \n---  ------   --------------  ----- \n 0   movieId  9125 non-null   int64 \n 1   title    9125 non-null   object\n 2   genres   9124 non-null   object\ndtypes: int64(1), object(2)\nmemory usage: 214.0+ KB\n"
        }
      ]
    },
    {
      "cell_type": "markdown",
      "metadata": {
        "id": "3jTPvffDu1_b",
        "colab_type": "text"
      },
      "source": [
        "<details>\n",
        "  <summary>Nhấn vào đây để xem kết quả!</summary>\n",
        "  <pre>&lt;class 'pandas.core.frame.DataFrame'&gt;\n",
        "RangeIndex: 9125 entries, 0 to 9124\n",
        "Data columns (total 3 columns):\n",
        "movieId    9125 non-null int64\n",
        "title      9125 non-null object\n",
        "genres     9124 non-null object\n",
        "dtypes: int64(1), object(2)\n",
        "memory usage: 214.0+ KB\n",
        "</pre>\n",
        "  \n",
        "</details>"
      ]
    },
    {
      "cell_type": "code",
      "metadata": {
        "id": "6S3hGKm5u1_c",
        "colab_type": "code",
        "colab": {},
        "tags": []
      },
      "source": [
        "# Câu 2: Đọc file tags.csv => đưa dữ liệu vào tags\n",
        "tags = pd.read_csv('./movies_data/tags.csv')\n",
        "# Cho biết kiểu dữ liệu (type) của tags\n",
        "print(type(tags))\n",
        "# Cho biết kích thước (shape) của tags\n",
        "print(np.shape(tags))\n",
        "# Hiển thị 5 dòng đầu tiên (head) của tags\n",
        "tags.head()"
      ],
      "execution_count": 6,
      "outputs": [
        {
          "output_type": "stream",
          "name": "stdout",
          "text": "<class 'pandas.core.frame.DataFrame'>\n(1296, 4)\n"
        },
        {
          "output_type": "execute_result",
          "data": {
            "text/plain": "   userId  movieId                      tag     timestamp\n0      15      339  sandra 'boring' bullock  1.138538e+09\n1      15     1955                  dentist  1.193435e+09\n2      15     7478                 Cambodia  1.170561e+09\n3      15    32892                  Russian  1.170626e+09\n4      15    34162              forgettable  1.141392e+09",
            "text/html": "<div>\n<style scoped>\n    .dataframe tbody tr th:only-of-type {\n        vertical-align: middle;\n    }\n\n    .dataframe tbody tr th {\n        vertical-align: top;\n    }\n\n    .dataframe thead th {\n        text-align: right;\n    }\n</style>\n<table border=\"1\" class=\"dataframe\">\n  <thead>\n    <tr style=\"text-align: right;\">\n      <th></th>\n      <th>userId</th>\n      <th>movieId</th>\n      <th>tag</th>\n      <th>timestamp</th>\n    </tr>\n  </thead>\n  <tbody>\n    <tr>\n      <th>0</th>\n      <td>15</td>\n      <td>339</td>\n      <td>sandra 'boring' bullock</td>\n      <td>1.138538e+09</td>\n    </tr>\n    <tr>\n      <th>1</th>\n      <td>15</td>\n      <td>1955</td>\n      <td>dentist</td>\n      <td>1.193435e+09</td>\n    </tr>\n    <tr>\n      <th>2</th>\n      <td>15</td>\n      <td>7478</td>\n      <td>Cambodia</td>\n      <td>1.170561e+09</td>\n    </tr>\n    <tr>\n      <th>3</th>\n      <td>15</td>\n      <td>32892</td>\n      <td>Russian</td>\n      <td>1.170626e+09</td>\n    </tr>\n    <tr>\n      <th>4</th>\n      <td>15</td>\n      <td>34162</td>\n      <td>forgettable</td>\n      <td>1.141392e+09</td>\n    </tr>\n  </tbody>\n</table>\n</div>"
          },
          "metadata": {},
          "execution_count": 6
        }
      ]
    },
    {
      "cell_type": "markdown",
      "metadata": {
        "id": "6otZb1hju1_f",
        "colab_type": "text"
      },
      "source": [
        "<details>\n",
        "  <summary>Nhấn vào đây để xem kết quả!</summary>\n",
        "  <pre>&lt;class 'pandas.core.frame.DataFrame'&gt;\n",
        "(1296, 4)\n",
        "</pre>\n",
        "  <div>\n",
        "<style scoped=\"\">\n",
        "    .dataframe tbody tr th:only-of-type {\n",
        "        vertical-align: middle;\n",
        "    }\n",
        "\n",
        "    .dataframe tbody tr th {\n",
        "        vertical-align: top;\n",
        "    }\n",
        "\n",
        "    .dataframe thead th {\n",
        "        text-align: right;\n",
        "    }\n",
        "</style>\n",
        "<table border=\"1\" class=\"dataframe\">\n",
        "  <thead>\n",
        "    <tr style=\"text-align: right;\">\n",
        "      <th></th>\n",
        "      <th>userId</th>\n",
        "      <th>movieId</th>\n",
        "      <th>tag</th>\n",
        "      <th>timestamp</th>\n",
        "    </tr>\n",
        "  </thead>\n",
        "  <tbody>\n",
        "    <tr>\n",
        "      <th>0</th>\n",
        "      <td>15</td>\n",
        "      <td>339</td>\n",
        "      <td>sandra 'boring' bullock</td>\n",
        "      <td>1138537770</td>\n",
        "    </tr>\n",
        "    <tr>\n",
        "      <th>1</th>\n",
        "      <td>15</td>\n",
        "      <td>1955</td>\n",
        "      <td>dentist</td>\n",
        "      <td>1193435061</td>\n",
        "    </tr>\n",
        "    <tr>\n",
        "      <th>2</th>\n",
        "      <td>15</td>\n",
        "      <td>7478</td>\n",
        "      <td>Cambodia</td>\n",
        "      <td>1170560997</td>\n",
        "    </tr>\n",
        "    <tr>\n",
        "      <th>3</th>\n",
        "      <td>15</td>\n",
        "      <td>32892</td>\n",
        "      <td>Russian</td>\n",
        "      <td>1170626366</td>\n",
        "    </tr>\n",
        "    <tr>\n",
        "      <th>4</th>\n",
        "      <td>15</td>\n",
        "      <td>34162</td>\n",
        "      <td>forgettable</td>\n",
        "      <td>1141391765</td>\n",
        "    </tr>\n",
        "  </tbody>\n",
        "</table>\n",
        "</div>\n",
        "</details>"
      ]
    },
    {
      "cell_type": "code",
      "metadata": {
        "id": "ILp9OWdWu1_f",
        "colab_type": "code",
        "colab": {}
      },
      "source": [
        "# Hiển thị 5 dòng dữ liệu cuối (tail) của tags\n",
        "tags.tail()"
      ],
      "execution_count": 7,
      "outputs": [
        {
          "output_type": "execute_result",
          "data": {
            "text/plain": "      userId  movieId              tag     timestamp\n1291     660   135518  meaning of life  1.436681e+09\n1292     660   135518    philosophical  1.436681e+09\n1293     660   135518           sci-fi  1.436681e+09\n1294     663      260           action  1.438398e+09\n1295     663      260             Syfy  1.438398e+09",
            "text/html": "<div>\n<style scoped>\n    .dataframe tbody tr th:only-of-type {\n        vertical-align: middle;\n    }\n\n    .dataframe tbody tr th {\n        vertical-align: top;\n    }\n\n    .dataframe thead th {\n        text-align: right;\n    }\n</style>\n<table border=\"1\" class=\"dataframe\">\n  <thead>\n    <tr style=\"text-align: right;\">\n      <th></th>\n      <th>userId</th>\n      <th>movieId</th>\n      <th>tag</th>\n      <th>timestamp</th>\n    </tr>\n  </thead>\n  <tbody>\n    <tr>\n      <th>1291</th>\n      <td>660</td>\n      <td>135518</td>\n      <td>meaning of life</td>\n      <td>1.436681e+09</td>\n    </tr>\n    <tr>\n      <th>1292</th>\n      <td>660</td>\n      <td>135518</td>\n      <td>philosophical</td>\n      <td>1.436681e+09</td>\n    </tr>\n    <tr>\n      <th>1293</th>\n      <td>660</td>\n      <td>135518</td>\n      <td>sci-fi</td>\n      <td>1.436681e+09</td>\n    </tr>\n    <tr>\n      <th>1294</th>\n      <td>663</td>\n      <td>260</td>\n      <td>action</td>\n      <td>1.438398e+09</td>\n    </tr>\n    <tr>\n      <th>1295</th>\n      <td>663</td>\n      <td>260</td>\n      <td>Syfy</td>\n      <td>1.438398e+09</td>\n    </tr>\n  </tbody>\n</table>\n</div>"
          },
          "metadata": {},
          "execution_count": 7
        }
      ]
    },
    {
      "cell_type": "markdown",
      "metadata": {
        "id": "9MMT5Mk2u1_h",
        "colab_type": "text"
      },
      "source": [
        "<details>\n",
        "  <summary>Nhấn vào đây để xem kết quả!</summary>\n",
        "  <div>\n",
        "<style scoped=\"\">\n",
        "    .dataframe tbody tr th:only-of-type {\n",
        "        vertical-align: middle;\n",
        "    }\n",
        "\n",
        "    .dataframe tbody tr th {\n",
        "        vertical-align: top;\n",
        "    }\n",
        "\n",
        "    .dataframe thead th {\n",
        "        text-align: right;\n",
        "    }\n",
        "</style>\n",
        "<table border=\"1\" class=\"dataframe\">\n",
        "  <thead>\n",
        "    <tr style=\"text-align: right;\">\n",
        "      <th></th>\n",
        "      <th>userId</th>\n",
        "      <th>movieId</th>\n",
        "      <th>tag</th>\n",
        "      <th>timestamp</th>\n",
        "    </tr>\n",
        "  </thead>\n",
        "  <tbody>\n",
        "    <tr>\n",
        "      <th>1291</th>\n",
        "      <td>660</td>\n",
        "      <td>135518</td>\n",
        "      <td>meaning of life</td>\n",
        "      <td>1436680885</td>\n",
        "    </tr>\n",
        "    <tr>\n",
        "      <th>1292</th>\n",
        "      <td>660</td>\n",
        "      <td>135518</td>\n",
        "      <td>philosophical</td>\n",
        "      <td>1436680885</td>\n",
        "    </tr>\n",
        "    <tr>\n",
        "      <th>1293</th>\n",
        "      <td>660</td>\n",
        "      <td>135518</td>\n",
        "      <td>sci-fi</td>\n",
        "      <td>1436680885</td>\n",
        "    </tr>\n",
        "    <tr>\n",
        "      <th>1294</th>\n",
        "      <td>663</td>\n",
        "      <td>260</td>\n",
        "      <td>action</td>\n",
        "      <td>1438398078</td>\n",
        "    </tr>\n",
        "    <tr>\n",
        "      <th>1295</th>\n",
        "      <td>663</td>\n",
        "      <td>260</td>\n",
        "      <td>Syfy</td>\n",
        "      <td>1438398050</td>\n",
        "    </tr>\n",
        "  </tbody>\n",
        "</table>\n",
        "</div>\n",
        "  \n",
        "</details>"
      ]
    },
    {
      "cell_type": "code",
      "metadata": {
        "id": "UZGFsMHuu1_i",
        "colab_type": "code",
        "colab": {}
      },
      "source": [
        "# Cho biết kiểu dữ liệu (dtype) của các cột của tags\n",
        "tags.dtypes"
      ],
      "execution_count": 8,
      "outputs": [
        {
          "output_type": "execute_result",
          "data": {
            "text/plain": "userId         int64\nmovieId        int64\ntag           object\ntimestamp    float64\ndtype: object"
          },
          "metadata": {},
          "execution_count": 8
        }
      ]
    },
    {
      "cell_type": "markdown",
      "metadata": {
        "id": "vXrV1vG3u1_k",
        "colab_type": "text"
      },
      "source": [
        "<details>\n",
        "  <summary>Nhấn vào đây để xem kết quả!</summary>\n",
        "  <pre>userId        int64\n",
        "movieId       int64\n",
        "tag          object\n",
        "timestamp    object\n",
        "dtype: object</pre>\n",
        "  \n",
        "</details>"
      ]
    },
    {
      "cell_type": "code",
      "metadata": {
        "id": "cHQaWXoPu1_k",
        "colab_type": "code",
        "colab": {},
        "tags": []
      },
      "source": [
        "# Xem thông tin (info) của tags\n",
        "tags.info()"
      ],
      "execution_count": 9,
      "outputs": [
        {
          "output_type": "stream",
          "name": "stdout",
          "text": "<class 'pandas.core.frame.DataFrame'>\nRangeIndex: 1296 entries, 0 to 1295\nData columns (total 4 columns):\n #   Column     Non-Null Count  Dtype  \n---  ------     --------------  -----  \n 0   userId     1296 non-null   int64  \n 1   movieId    1296 non-null   int64  \n 2   tag        1296 non-null   object \n 3   timestamp  1295 non-null   float64\ndtypes: float64(1), int64(2), object(1)\nmemory usage: 40.6+ KB\n"
        }
      ]
    },
    {
      "cell_type": "markdown",
      "metadata": {
        "id": "joQrbkLqu1_n",
        "colab_type": "text"
      },
      "source": [
        "<details>\n",
        "  <summary>Nhấn vào đây để xem kết quả!</summary>\n",
        "  <pre>&lt;class 'pandas.core.frame.DataFrame'&gt;\n",
        "RangeIndex: 1296 entries, 0 to 1295\n",
        "Data columns (total 4 columns):\n",
        "userId       1296 non-null int64\n",
        "movieId      1296 non-null int64\n",
        "tag          1296 non-null object\n",
        "timestamp    1295 non-null object\n",
        "dtypes: int64(2), object(2)\n",
        "memory usage: 40.6+ KB\n",
        "</pre>\n",
        "  \n",
        "</details>"
      ]
    },
    {
      "cell_type": "code",
      "metadata": {
        "id": "5ZaoH7axu1_o",
        "colab_type": "code",
        "colab": {},
        "tags": []
      },
      "source": [
        "# Câu 3: Đọc file ratings.csv => đưa dữ liệu vào ratings\n",
        "ratings = pd.read_csv('./movies_data/ratings.csv')\n",
        "# Cho biết kiểu dữ liệu (type) của ratings\n",
        "print(type(ratings))\n",
        "# Cho biết kích thước của ratings\n",
        "print(np.shape(ratings))\n",
        "# Hiển thị 5 dòng đầu tiên (head) của ratings\n",
        "ratings.head()"
      ],
      "execution_count": 10,
      "outputs": [
        {
          "output_type": "stream",
          "name": "stdout",
          "text": "<class 'pandas.core.frame.DataFrame'>\n(100004, 4)\n"
        },
        {
          "output_type": "execute_result",
          "data": {
            "text/plain": "   userId  movieId  rating   timestamp\n0       1       31     2.5  1260759144\n1       1     1029     3.0  1260759179\n2       1     1061     3.0  1260759182\n3       1     1129     2.0  1260759185\n4       1     1172     4.0  1260759205",
            "text/html": "<div>\n<style scoped>\n    .dataframe tbody tr th:only-of-type {\n        vertical-align: middle;\n    }\n\n    .dataframe tbody tr th {\n        vertical-align: top;\n    }\n\n    .dataframe thead th {\n        text-align: right;\n    }\n</style>\n<table border=\"1\" class=\"dataframe\">\n  <thead>\n    <tr style=\"text-align: right;\">\n      <th></th>\n      <th>userId</th>\n      <th>movieId</th>\n      <th>rating</th>\n      <th>timestamp</th>\n    </tr>\n  </thead>\n  <tbody>\n    <tr>\n      <th>0</th>\n      <td>1</td>\n      <td>31</td>\n      <td>2.5</td>\n      <td>1260759144</td>\n    </tr>\n    <tr>\n      <th>1</th>\n      <td>1</td>\n      <td>1029</td>\n      <td>3.0</td>\n      <td>1260759179</td>\n    </tr>\n    <tr>\n      <th>2</th>\n      <td>1</td>\n      <td>1061</td>\n      <td>3.0</td>\n      <td>1260759182</td>\n    </tr>\n    <tr>\n      <th>3</th>\n      <td>1</td>\n      <td>1129</td>\n      <td>2.0</td>\n      <td>1260759185</td>\n    </tr>\n    <tr>\n      <th>4</th>\n      <td>1</td>\n      <td>1172</td>\n      <td>4.0</td>\n      <td>1260759205</td>\n    </tr>\n  </tbody>\n</table>\n</div>"
          },
          "metadata": {},
          "execution_count": 10
        }
      ]
    },
    {
      "cell_type": "markdown",
      "metadata": {
        "id": "cjQ8Urf0u1_q",
        "colab_type": "text"
      },
      "source": [
        "<details>\n",
        "  <summary>Nhấn vào đây để xem kết quả!</summary>\n",
        "  <pre>&lt;class 'pandas.core.frame.DataFrame'&gt;\n",
        "(100004, 4)\n",
        "</pre>\n",
        "  <div>\n",
        "<style scoped=\"\">\n",
        "    .dataframe tbody tr th:only-of-type {\n",
        "        vertical-align: middle;\n",
        "    }\n",
        "\n",
        "    .dataframe tbody tr th {\n",
        "        vertical-align: top;\n",
        "    }\n",
        "\n",
        "    .dataframe thead th {\n",
        "        text-align: right;\n",
        "    }\n",
        "</style>\n",
        "<table border=\"1\" class=\"dataframe\">\n",
        "  <thead>\n",
        "    <tr style=\"text-align: right;\">\n",
        "      <th></th>\n",
        "      <th>userId</th>\n",
        "      <th>movieId</th>\n",
        "      <th>rating</th>\n",
        "      <th>timestamp</th>\n",
        "    </tr>\n",
        "  </thead>\n",
        "  <tbody>\n",
        "    <tr>\n",
        "      <th>0</th>\n",
        "      <td>1</td>\n",
        "      <td>31</td>\n",
        "      <td>2.5</td>\n",
        "      <td>1260759144</td>\n",
        "    </tr>\n",
        "    <tr>\n",
        "      <th>1</th>\n",
        "      <td>1</td>\n",
        "      <td>1029</td>\n",
        "      <td>3.0</td>\n",
        "      <td>1260759179</td>\n",
        "    </tr>\n",
        "    <tr>\n",
        "      <th>2</th>\n",
        "      <td>1</td>\n",
        "      <td>1061</td>\n",
        "      <td>3.0</td>\n",
        "      <td>1260759182</td>\n",
        "    </tr>\n",
        "    <tr>\n",
        "      <th>3</th>\n",
        "      <td>1</td>\n",
        "      <td>1129</td>\n",
        "      <td>2.0</td>\n",
        "      <td>1260759185</td>\n",
        "    </tr>\n",
        "    <tr>\n",
        "      <th>4</th>\n",
        "      <td>1</td>\n",
        "      <td>1172</td>\n",
        "      <td>4.0</td>\n",
        "      <td>1260759205</td>\n",
        "    </tr>\n",
        "  </tbody>\n",
        "</table>\n",
        "</div>\n",
        "</details>"
      ]
    },
    {
      "cell_type": "code",
      "metadata": {
        "id": "MR9A2wsKu1_q",
        "colab_type": "code",
        "colab": {}
      },
      "source": [
        "# Hiển thị 5 dòng dữ liệu cuối (tail) của ratings\n",
        "ratings.tail()"
      ],
      "execution_count": 11,
      "outputs": [
        {
          "output_type": "execute_result",
          "data": {
            "text/plain": "        userId  movieId  rating   timestamp\n99999      671     6268     2.5  1065579370\n100000     671     6269     4.0  1065149201\n100001     671     6365     4.0  1070940363\n100002     671     6385     2.5  1070979663\n100003     671     6565     3.5  1074784724",
            "text/html": "<div>\n<style scoped>\n    .dataframe tbody tr th:only-of-type {\n        vertical-align: middle;\n    }\n\n    .dataframe tbody tr th {\n        vertical-align: top;\n    }\n\n    .dataframe thead th {\n        text-align: right;\n    }\n</style>\n<table border=\"1\" class=\"dataframe\">\n  <thead>\n    <tr style=\"text-align: right;\">\n      <th></th>\n      <th>userId</th>\n      <th>movieId</th>\n      <th>rating</th>\n      <th>timestamp</th>\n    </tr>\n  </thead>\n  <tbody>\n    <tr>\n      <th>99999</th>\n      <td>671</td>\n      <td>6268</td>\n      <td>2.5</td>\n      <td>1065579370</td>\n    </tr>\n    <tr>\n      <th>100000</th>\n      <td>671</td>\n      <td>6269</td>\n      <td>4.0</td>\n      <td>1065149201</td>\n    </tr>\n    <tr>\n      <th>100001</th>\n      <td>671</td>\n      <td>6365</td>\n      <td>4.0</td>\n      <td>1070940363</td>\n    </tr>\n    <tr>\n      <th>100002</th>\n      <td>671</td>\n      <td>6385</td>\n      <td>2.5</td>\n      <td>1070979663</td>\n    </tr>\n    <tr>\n      <th>100003</th>\n      <td>671</td>\n      <td>6565</td>\n      <td>3.5</td>\n      <td>1074784724</td>\n    </tr>\n  </tbody>\n</table>\n</div>"
          },
          "metadata": {},
          "execution_count": 11
        }
      ]
    },
    {
      "cell_type": "markdown",
      "metadata": {
        "id": "sFAYteOlu1_t",
        "colab_type": "text"
      },
      "source": [
        "<details>\n",
        "  <summary>Nhấn vào đây để xem kết quả!</summary>\n",
        "  <div>\n",
        "<style scoped=\"\">\n",
        "    .dataframe tbody tr th:only-of-type {\n",
        "        vertical-align: middle;\n",
        "    }\n",
        "\n",
        "    .dataframe tbody tr th {\n",
        "        vertical-align: top;\n",
        "    }\n",
        "\n",
        "    .dataframe thead th {\n",
        "        text-align: right;\n",
        "    }\n",
        "</style>\n",
        "<table border=\"1\" class=\"dataframe\">\n",
        "  <thead>\n",
        "    <tr style=\"text-align: right;\">\n",
        "      <th></th>\n",
        "      <th>userId</th>\n",
        "      <th>movieId</th>\n",
        "      <th>rating</th>\n",
        "      <th>timestamp</th>\n",
        "    </tr>\n",
        "  </thead>\n",
        "  <tbody>\n",
        "    <tr>\n",
        "      <th>99999</th>\n",
        "      <td>671</td>\n",
        "      <td>6268</td>\n",
        "      <td>2.5</td>\n",
        "      <td>1065579370</td>\n",
        "    </tr>\n",
        "    <tr>\n",
        "      <th>100000</th>\n",
        "      <td>671</td>\n",
        "      <td>6269</td>\n",
        "      <td>4.0</td>\n",
        "      <td>1065149201</td>\n",
        "    </tr>\n",
        "    <tr>\n",
        "      <th>100001</th>\n",
        "      <td>671</td>\n",
        "      <td>6365</td>\n",
        "      <td>4.0</td>\n",
        "      <td>1070940363</td>\n",
        "    </tr>\n",
        "    <tr>\n",
        "      <th>100002</th>\n",
        "      <td>671</td>\n",
        "      <td>6385</td>\n",
        "      <td>2.5</td>\n",
        "      <td>1070979663</td>\n",
        "    </tr>\n",
        "    <tr>\n",
        "      <th>100003</th>\n",
        "      <td>671</td>\n",
        "      <td>6565</td>\n",
        "      <td>3.5</td>\n",
        "      <td>1074784724</td>\n",
        "    </tr>\n",
        "  </tbody>\n",
        "</table>\n",
        "</div>\n",
        "  \n",
        "</details>"
      ]
    },
    {
      "cell_type": "code",
      "metadata": {
        "id": "Scn31vMeu1_t",
        "colab_type": "code",
        "colab": {}
      },
      "source": [
        "# Cho biết kiểu dữ liệu (dtype) của các cột của ratings\n",
        "ratings.dtypes"
      ],
      "execution_count": 12,
      "outputs": [
        {
          "output_type": "execute_result",
          "data": {
            "text/plain": "userId         int64\nmovieId        int64\nrating       float64\ntimestamp      int64\ndtype: object"
          },
          "metadata": {},
          "execution_count": 12
        }
      ]
    },
    {
      "cell_type": "markdown",
      "metadata": {
        "id": "zjFY0Ugbu1_w",
        "colab_type": "text"
      },
      "source": [
        "<details>\n",
        "  <summary>Nhấn vào đây để xem kết quả!</summary>\n",
        "  <pre>userId         int64\n",
        "movieId        int64\n",
        "rating       float64\n",
        "timestamp     object\n",
        "dtype: object</pre>\n",
        "  \n",
        "</details>"
      ]
    },
    {
      "cell_type": "code",
      "metadata": {
        "id": "dXdPJBdEu1_w",
        "colab_type": "code",
        "colab": {},
        "tags": []
      },
      "source": [
        "# Xem thông tin (info) của ratings\n",
        "ratings.info()"
      ],
      "execution_count": 13,
      "outputs": [
        {
          "output_type": "stream",
          "name": "stdout",
          "text": "<class 'pandas.core.frame.DataFrame'>\nRangeIndex: 100004 entries, 0 to 100003\nData columns (total 4 columns):\n #   Column     Non-Null Count   Dtype  \n---  ------     --------------   -----  \n 0   userId     100004 non-null  int64  \n 1   movieId    100004 non-null  int64  \n 2   rating     100004 non-null  float64\n 3   timestamp  100004 non-null  int64  \ndtypes: float64(1), int64(3)\nmemory usage: 3.1 MB\n"
        }
      ]
    },
    {
      "cell_type": "markdown",
      "metadata": {
        "id": "LyxUt482u1_y",
        "colab_type": "text"
      },
      "source": [
        "<details>\n",
        "  <summary>Nhấn vào đây để xem kết quả!</summary>\n",
        "  <pre>&lt;class 'pandas.core.frame.DataFrame'&gt;\n",
        "RangeIndex: 100004 entries, 0 to 100003\n",
        "Data columns (total 4 columns):\n",
        "userId       100004 non-null int64\n",
        "movieId      100004 non-null int64\n",
        "rating       100004 non-null float64\n",
        "timestamp    100004 non-null object\n",
        "dtypes: float64(1), int64(2), object(1)\n",
        "memory usage: 3.1+ MB\n",
        "</pre>\n",
        "  \n",
        "</details>"
      ]
    },
    {
      "cell_type": "markdown",
      "metadata": {
        "id": "Q1M6qqStu1_z",
        "colab_type": "text"
      },
      "source": [
        "### Part 2: Xử lý dữ liệu bị thiếu/ không hợp lệ"
      ]
    },
    {
      "cell_type": "code",
      "metadata": {
        "id": "oDBBl4yWu1_z",
        "colab_type": "code",
        "colab": {},
        "tags": []
      },
      "source": [
        "# Câu 1: Cho biết trong movies có dữ liệu null hay không? Nếu có loại bỏ dòng có dữ liệu null.\n",
        "print(movies.isnull().any())"
      ],
      "execution_count": 14,
      "outputs": [
        {
          "output_type": "stream",
          "name": "stdout",
          "text": "movieId    False\ntitle      False\ngenres      True\ndtype: bool\n"
        }
      ]
    },
    {
      "cell_type": "markdown",
      "metadata": {
        "id": "zBMq0fLGu1_2",
        "colab_type": "text"
      },
      "source": [
        "<details>\n",
        "  <summary>Nhấn vào đây để xem kết quả!</summary>\n",
        "  <pre>movieId    False\n",
        "title      False\n",
        "genres      True\n",
        "dtype: bool</pre>\n",
        "  \n",
        "</details>"
      ]
    },
    {
      "cell_type": "code",
      "metadata": {
        "id": "RYSy2DSxu1_3",
        "colab_type": "code",
        "colab": {}
      },
      "source": [
        "# Loại bỏ dòng có dữ liệu null\n",
        "movies.dropna(inplace=True)\n",
        "movies.isnull().any()"
      ],
      "execution_count": 15,
      "outputs": [
        {
          "output_type": "execute_result",
          "data": {
            "text/plain": "movieId    False\ntitle      False\ngenres     False\ndtype: bool"
          },
          "metadata": {},
          "execution_count": 15
        }
      ]
    },
    {
      "cell_type": "code",
      "metadata": {
        "id": "fQ0KaHfBu1_5",
        "colab_type": "code",
        "colab": {}
      },
      "source": [
        "# Câu 2: Cho biết trong ratings có dữ liệu null hay không? Nếu có loại bỏ dòng có dữ liệu null.\n",
        "ratings.isnull().any()"
      ],
      "execution_count": 16,
      "outputs": [
        {
          "output_type": "execute_result",
          "data": {
            "text/plain": "userId       False\nmovieId      False\nrating       False\ntimestamp    False\ndtype: bool"
          },
          "metadata": {},
          "execution_count": 16
        }
      ]
    },
    {
      "cell_type": "markdown",
      "metadata": {
        "id": "AVxBZZp-u1_8",
        "colab_type": "text"
      },
      "source": [
        "<details>\n",
        "  <summary>Nhấn vào đây để xem kết quả!</summary>\n",
        "  <pre>userId       False\n",
        "movieId      False\n",
        "rating       False\n",
        "timestamp    False\n",
        "dtype: bool</pre>\n",
        "  \n",
        " <p>Trong ratings không có giá trị NULL.</p>\n",
        "</details>"
      ]
    },
    {
      "cell_type": "code",
      "metadata": {
        "id": "2y5WQRo9u1_8",
        "colab_type": "code",
        "colab": {}
      },
      "source": [
        "# Câu 3: Cho biết trong tags có dữ liệu null hay không? Nếu có loại bỏ dòng có dữ liệu null. \n",
        "tags.isnull().any()"
      ],
      "execution_count": 17,
      "outputs": [
        {
          "output_type": "execute_result",
          "data": {
            "text/plain": "userId       False\nmovieId      False\ntag          False\ntimestamp     True\ndtype: bool"
          },
          "metadata": {},
          "execution_count": 17
        }
      ]
    },
    {
      "cell_type": "markdown",
      "metadata": {
        "id": "keZzZTEZu1_-",
        "colab_type": "text"
      },
      "source": [
        "<details>\n",
        "  <summary>Nhấn vào đây để xem kết quả!</summary>\n",
        "  <pre>userId       False\n",
        "movieId      False\n",
        "tag          False\n",
        "timestamp     True\n",
        "dtype: bool</pre>\n",
        "  \n",
        "</details>"
      ]
    },
    {
      "cell_type": "code",
      "metadata": {
        "id": "cAPnrFXsu1__",
        "colab_type": "code",
        "colab": {}
      },
      "source": [
        "# Loại bỏ dòng có dữ liệu null\n",
        "tags.dropna(inplace=True)\n",
        "tags.isnull().any()"
      ],
      "execution_count": 18,
      "outputs": [
        {
          "output_type": "execute_result",
          "data": {
            "text/plain": "userId       False\nmovieId      False\ntag          False\ntimestamp    False\ndtype: bool"
          },
          "metadata": {},
          "execution_count": 18
        }
      ]
    },
    {
      "cell_type": "code",
      "metadata": {
        "id": "1SN5DB04u2AB",
        "colab_type": "code",
        "colab": {}
      },
      "source": [
        "# Câu 4: Kiểm tra xem có dữ liệu rating nào không hợp lệ hay không ('rating' > 5 hoặc 'rating' < 0) ?\n",
        "# Nếu có, hãy thay bằng giá trị xuất hiện nhiều nhất\n",
        "((ratings['rating'] > 5) | (ratings['rating'] < 0)).any()"
      ],
      "execution_count": 19,
      "outputs": [
        {
          "output_type": "execute_result",
          "data": {
            "text/plain": "True"
          },
          "metadata": {},
          "execution_count": 19
        }
      ]
    },
    {
      "cell_type": "markdown",
      "metadata": {
        "id": "vZar20lpu2AD",
        "colab_type": "text"
      },
      "source": [
        "<details>\n",
        "  <summary>Nhấn vào đây để xem kết quả!</summary>\n",
        "  <pre>True</pre>\n",
        "  \n",
        "</details>"
      ]
    },
    {
      "cell_type": "code",
      "metadata": {
        "id": "jegArt2Cu2AD",
        "colab_type": "code",
        "colab": {},
        "tags": []
      },
      "source": [
        "# Thay bằng giá trị xuất hiện nhiều nhất\n",
        "most_frequent_values = ratings['rating'].value_counts()\n",
        "\n",
        "ratings.loc[(ratings['rating'] > 5) | (ratings['rating'] < 0)] = most_frequent_values.index[0]"
      ],
      "execution_count": 20,
      "outputs": []
    },
    {
      "cell_type": "markdown",
      "metadata": {
        "id": "KnLohX83u2AF",
        "colab_type": "text"
      },
      "source": [
        "### Part 3: Gộp DataFrame"
      ]
    },
    {
      "cell_type": "code",
      "metadata": {
        "id": "eJQCbjT6u2AG",
        "colab_type": "code",
        "colab": {}
      },
      "source": [
        "# Câu 1: Tạo movies_tags bằng cách gộp dữ liệu của movies và tags theo cột chung là 'moviedId'.\n",
        "movies_tags = pd.merge(movies, tags)\n",
        "# Hiển thị 5 dòng đầu của movies_tags\n",
        "movies_tags.head()"
      ],
      "execution_count": 21,
      "outputs": [
        {
          "output_type": "execute_result",
          "data": {
            "text/plain": "   movieId                               title  \\\n0        1                    Toy Story (1995)   \n1        5  Father of the Bride Part II (1995)   \n2       47         Seven (a.k.a. Se7en) (1995)   \n3       47         Seven (a.k.a. Se7en) (1995)   \n4       47         Seven (a.k.a. Se7en) (1995)   \n\n                                        genres  userId           tag  \\\n0  Adventure|Animation|Children|Comedy|Fantasy     501         Pixar   \n1                                       Comedy     431  steve martin   \n2                             Mystery|Thriller     364      biblical   \n3                             Mystery|Thriller     364         crime   \n4                             Mystery|Thriller     364          dark   \n\n      timestamp  \n0  1.292956e+09  \n1  1.140455e+09  \n2  1.444535e+09  \n3  1.444535e+09  \n4  1.444535e+09  ",
            "text/html": "<div>\n<style scoped>\n    .dataframe tbody tr th:only-of-type {\n        vertical-align: middle;\n    }\n\n    .dataframe tbody tr th {\n        vertical-align: top;\n    }\n\n    .dataframe thead th {\n        text-align: right;\n    }\n</style>\n<table border=\"1\" class=\"dataframe\">\n  <thead>\n    <tr style=\"text-align: right;\">\n      <th></th>\n      <th>movieId</th>\n      <th>title</th>\n      <th>genres</th>\n      <th>userId</th>\n      <th>tag</th>\n      <th>timestamp</th>\n    </tr>\n  </thead>\n  <tbody>\n    <tr>\n      <th>0</th>\n      <td>1</td>\n      <td>Toy Story (1995)</td>\n      <td>Adventure|Animation|Children|Comedy|Fantasy</td>\n      <td>501</td>\n      <td>Pixar</td>\n      <td>1.292956e+09</td>\n    </tr>\n    <tr>\n      <th>1</th>\n      <td>5</td>\n      <td>Father of the Bride Part II (1995)</td>\n      <td>Comedy</td>\n      <td>431</td>\n      <td>steve martin</td>\n      <td>1.140455e+09</td>\n    </tr>\n    <tr>\n      <th>2</th>\n      <td>47</td>\n      <td>Seven (a.k.a. Se7en) (1995)</td>\n      <td>Mystery|Thriller</td>\n      <td>364</td>\n      <td>biblical</td>\n      <td>1.444535e+09</td>\n    </tr>\n    <tr>\n      <th>3</th>\n      <td>47</td>\n      <td>Seven (a.k.a. Se7en) (1995)</td>\n      <td>Mystery|Thriller</td>\n      <td>364</td>\n      <td>crime</td>\n      <td>1.444535e+09</td>\n    </tr>\n    <tr>\n      <th>4</th>\n      <td>47</td>\n      <td>Seven (a.k.a. Se7en) (1995)</td>\n      <td>Mystery|Thriller</td>\n      <td>364</td>\n      <td>dark</td>\n      <td>1.444535e+09</td>\n    </tr>\n  </tbody>\n</table>\n</div>"
          },
          "metadata": {},
          "execution_count": 21
        }
      ]
    },
    {
      "cell_type": "markdown",
      "metadata": {
        "id": "7mKY4iKpu2AJ",
        "colab_type": "text"
      },
      "source": [
        "<details>\n",
        "  <summary>Nhấn vào đây để xem kết quả!</summary>\n",
        "  <div>\n",
        "<style scoped=\"\">\n",
        "    .dataframe tbody tr th:only-of-type {\n",
        "        vertical-align: middle;\n",
        "    }\n",
        "\n",
        "    .dataframe tbody tr th {\n",
        "        vertical-align: top;\n",
        "    }\n",
        "\n",
        "    .dataframe thead th {\n",
        "        text-align: right;\n",
        "    }\n",
        "</style>\n",
        "<table border=\"1\" class=\"dataframe\">\n",
        "  <thead>\n",
        "    <tr style=\"text-align: right;\">\n",
        "      <th></th>\n",
        "      <th>movieId</th>\n",
        "      <th>title</th>\n",
        "      <th>genres</th>\n",
        "      <th>userId</th>\n",
        "      <th>tag</th>\n",
        "      <th>timestamp</th>\n",
        "    </tr>\n",
        "  </thead>\n",
        "  <tbody>\n",
        "    <tr>\n",
        "      <th>0</th>\n",
        "      <td>1</td>\n",
        "      <td>Toy Story (1995)</td>\n",
        "      <td>Adventure|Animation|Children|Comedy|Fantasy</td>\n",
        "      <td>501</td>\n",
        "      <td>Pixar</td>\n",
        "      <td>1292956344</td>\n",
        "    </tr>\n",
        "    <tr>\n",
        "      <th>1</th>\n",
        "      <td>5</td>\n",
        "      <td>Father of the Bride Part II (1995)</td>\n",
        "      <td>Comedy</td>\n",
        "      <td>431</td>\n",
        "      <td>steve martin</td>\n",
        "      <td>1140455432</td>\n",
        "    </tr>\n",
        "    <tr>\n",
        "      <th>2</th>\n",
        "      <td>47</td>\n",
        "      <td>Seven (a.k.a. Se7en) (1995)</td>\n",
        "      <td>Mystery|Thriller</td>\n",
        "      <td>364</td>\n",
        "      <td>biblical</td>\n",
        "      <td>1444534976</td>\n",
        "    </tr>\n",
        "    <tr>\n",
        "      <th>3</th>\n",
        "      <td>47</td>\n",
        "      <td>Seven (a.k.a. Se7en) (1995)</td>\n",
        "      <td>Mystery|Thriller</td>\n",
        "      <td>364</td>\n",
        "      <td>crime</td>\n",
        "      <td>1444534982</td>\n",
        "    </tr>\n",
        "    <tr>\n",
        "      <th>4</th>\n",
        "      <td>47</td>\n",
        "      <td>Seven (a.k.a. Se7en) (1995)</td>\n",
        "      <td>Mystery|Thriller</td>\n",
        "      <td>364</td>\n",
        "      <td>dark</td>\n",
        "      <td>1444534994</td>\n",
        "    </tr>\n",
        "  </tbody>\n",
        "</table>\n",
        "</div>\n",
        "  \n",
        "</details>"
      ]
    },
    {
      "cell_type": "code",
      "metadata": {
        "id": "3hXM9oohu2AK",
        "colab_type": "code",
        "colab": {}
      },
      "source": [
        "# Câu 2: Tạo movies_ratings bằng cách gộp dữ liệu của movies và ratings theo cột chung là 'moviedId'.\n",
        "movies_ratings = pd.merge(movies, ratings)\n",
        "# Hiển thị 5 dòng đầu của movies_ratings\n",
        "movies_ratings.head()"
      ],
      "execution_count": 22,
      "outputs": [
        {
          "output_type": "execute_result",
          "data": {
            "text/plain": "   movieId             title                                       genres  \\\n0        1  Toy Story (1995)  Adventure|Animation|Children|Comedy|Fantasy   \n1        1  Toy Story (1995)  Adventure|Animation|Children|Comedy|Fantasy   \n2        1  Toy Story (1995)  Adventure|Animation|Children|Comedy|Fantasy   \n3        1  Toy Story (1995)  Adventure|Animation|Children|Comedy|Fantasy   \n4        1  Toy Story (1995)  Adventure|Animation|Children|Comedy|Fantasy   \n\n   userId  rating     timestamp  \n0     7.0     3.0  8.518667e+08  \n1     9.0     4.0  9.386292e+08  \n2    13.0     5.0  1.331380e+09  \n3    15.0     2.0  9.979383e+08  \n4    19.0     3.0  8.551901e+08  ",
            "text/html": "<div>\n<style scoped>\n    .dataframe tbody tr th:only-of-type {\n        vertical-align: middle;\n    }\n\n    .dataframe tbody tr th {\n        vertical-align: top;\n    }\n\n    .dataframe thead th {\n        text-align: right;\n    }\n</style>\n<table border=\"1\" class=\"dataframe\">\n  <thead>\n    <tr style=\"text-align: right;\">\n      <th></th>\n      <th>movieId</th>\n      <th>title</th>\n      <th>genres</th>\n      <th>userId</th>\n      <th>rating</th>\n      <th>timestamp</th>\n    </tr>\n  </thead>\n  <tbody>\n    <tr>\n      <th>0</th>\n      <td>1</td>\n      <td>Toy Story (1995)</td>\n      <td>Adventure|Animation|Children|Comedy|Fantasy</td>\n      <td>7.0</td>\n      <td>3.0</td>\n      <td>8.518667e+08</td>\n    </tr>\n    <tr>\n      <th>1</th>\n      <td>1</td>\n      <td>Toy Story (1995)</td>\n      <td>Adventure|Animation|Children|Comedy|Fantasy</td>\n      <td>9.0</td>\n      <td>4.0</td>\n      <td>9.386292e+08</td>\n    </tr>\n    <tr>\n      <th>2</th>\n      <td>1</td>\n      <td>Toy Story (1995)</td>\n      <td>Adventure|Animation|Children|Comedy|Fantasy</td>\n      <td>13.0</td>\n      <td>5.0</td>\n      <td>1.331380e+09</td>\n    </tr>\n    <tr>\n      <th>3</th>\n      <td>1</td>\n      <td>Toy Story (1995)</td>\n      <td>Adventure|Animation|Children|Comedy|Fantasy</td>\n      <td>15.0</td>\n      <td>2.0</td>\n      <td>9.979383e+08</td>\n    </tr>\n    <tr>\n      <th>4</th>\n      <td>1</td>\n      <td>Toy Story (1995)</td>\n      <td>Adventure|Animation|Children|Comedy|Fantasy</td>\n      <td>19.0</td>\n      <td>3.0</td>\n      <td>8.551901e+08</td>\n    </tr>\n  </tbody>\n</table>\n</div>"
          },
          "metadata": {},
          "execution_count": 22
        }
      ]
    },
    {
      "cell_type": "markdown",
      "metadata": {
        "id": "b-PX4DNTu2AM",
        "colab_type": "text"
      },
      "source": [
        "<details>\n",
        "  <summary>Nhấn vào đây để xem kết quả!</summary>\n",
        "  <div>\n",
        "<style scoped=\"\">\n",
        "    .dataframe tbody tr th:only-of-type {\n",
        "        vertical-align: middle;\n",
        "    }\n",
        "\n",
        "    .dataframe tbody tr th {\n",
        "        vertical-align: top;\n",
        "    }\n",
        "\n",
        "    .dataframe thead th {\n",
        "        text-align: right;\n",
        "    }\n",
        "</style>\n",
        "<table border=\"1\" class=\"dataframe\">\n",
        "  <thead>\n",
        "    <tr style=\"text-align: right;\">\n",
        "      <th></th>\n",
        "      <th>movieId</th>\n",
        "      <th>title</th>\n",
        "      <th>genres</th>\n",
        "      <th>userId</th>\n",
        "      <th>rating</th>\n",
        "      <th>timestamp</th>\n",
        "    </tr>\n",
        "  </thead>\n",
        "  <tbody>\n",
        "    <tr>\n",
        "      <th>0</th>\n",
        "      <td>1</td>\n",
        "      <td>Toy Story (1995)</td>\n",
        "      <td>Adventure|Animation|Children|Comedy|Fantasy</td>\n",
        "      <td>7.0</td>\n",
        "      <td>3.0</td>\n",
        "      <td>851866703</td>\n",
        "    </tr>\n",
        "    <tr>\n",
        "      <th>1</th>\n",
        "      <td>1</td>\n",
        "      <td>Toy Story (1995)</td>\n",
        "      <td>Adventure|Animation|Children|Comedy|Fantasy</td>\n",
        "      <td>9.0</td>\n",
        "      <td>4.0</td>\n",
        "      <td>938629179</td>\n",
        "    </tr>\n",
        "    <tr>\n",
        "      <th>2</th>\n",
        "      <td>1</td>\n",
        "      <td>Toy Story (1995)</td>\n",
        "      <td>Adventure|Animation|Children|Comedy|Fantasy</td>\n",
        "      <td>13.0</td>\n",
        "      <td>5.0</td>\n",
        "      <td>1331380058</td>\n",
        "    </tr>\n",
        "    <tr>\n",
        "      <th>3</th>\n",
        "      <td>1</td>\n",
        "      <td>Toy Story (1995)</td>\n",
        "      <td>Adventure|Animation|Children|Comedy|Fantasy</td>\n",
        "      <td>15.0</td>\n",
        "      <td>2.0</td>\n",
        "      <td>997938310</td>\n",
        "    </tr>\n",
        "    <tr>\n",
        "      <th>4</th>\n",
        "      <td>1</td>\n",
        "      <td>Toy Story (1995)</td>\n",
        "      <td>Adventure|Animation|Children|Comedy|Fantasy</td>\n",
        "      <td>19.0</td>\n",
        "      <td>3.0</td>\n",
        "      <td>855190091</td>\n",
        "    </tr>\n",
        "  </tbody>\n",
        "</table>\n",
        "</div>\n",
        "  \n",
        "</details>"
      ]
    },
    {
      "cell_type": "markdown",
      "metadata": {
        "id": "e129gcFtu2AM",
        "colab_type": "text"
      },
      "source": [
        "### Part 4: Lọc dữ liệu theo yêu cầu"
      ]
    },
    {
      "cell_type": "code",
      "metadata": {
        "id": "Rv5dAEdMu2AM",
        "colab_type": "code",
        "colab": {}
      },
      "source": [
        "# Câu 1: Tạo dataframe tag_counts cho biết với mỗi tag là có bao nhiêu film chứa giá trị 'tag' đó \n",
        "# gợi ý: dùng tags['tag'].value_counts() \n",
        "tag_counts = tags['tag'].value_counts()\n",
        "# Hiển thị 10 dòng đầu của tag_counts\n",
        "tag_counts.head(10)"
      ],
      "execution_count": 23,
      "outputs": [
        {
          "output_type": "execute_result",
          "data": {
            "text/plain": "getdvd       33\nEi muista    29\ntivo         26\ntoplist07    26\ntoplist11    20\ntoplist12    20\ntcm          20\ntoplist15    19\ntoplist08    19\ntoplist09    18\nName: tag, dtype: int64"
          },
          "metadata": {},
          "execution_count": 23
        }
      ]
    },
    {
      "cell_type": "markdown",
      "metadata": {
        "id": "Cg4ZAQb6u2AO",
        "colab_type": "text"
      },
      "source": [
        "<details>\n",
        "  <summary>Nhấn vào đây để xem kết quả!</summary>\n",
        "  <div>\n",
        "<style scoped=\"\">\n",
        "    .dataframe tbody tr th:only-of-type {\n",
        "        vertical-align: middle;\n",
        "    }\n",
        "\n",
        "    .dataframe tbody tr th {\n",
        "        vertical-align: top;\n",
        "    }\n",
        "\n",
        "    .dataframe thead th {\n",
        "        text-align: right;\n",
        "    }\n",
        "</style>\n",
        "<table border=\"1\" class=\"dataframe\">\n",
        "  <thead>\n",
        "    <tr style=\"text-align: right;\">\n",
        "      <th></th>\n",
        "      <th>tag</th>\n",
        "    </tr>\n",
        "  </thead>\n",
        "  <tbody>\n",
        "    <tr>\n",
        "      <th>getdvd</th>\n",
        "      <td>33</td>\n",
        "    </tr>\n",
        "    <tr>\n",
        "      <th>Ei muista</th>\n",
        "      <td>29</td>\n",
        "    </tr>\n",
        "    <tr>\n",
        "      <th>toplist07</th>\n",
        "      <td>26</td>\n",
        "    </tr>\n",
        "    <tr>\n",
        "      <th>tivo</th>\n",
        "      <td>26</td>\n",
        "    </tr>\n",
        "    <tr>\n",
        "      <th>tcm</th>\n",
        "      <td>20</td>\n",
        "    </tr>\n",
        "    <tr>\n",
        "      <th>toplist12</th>\n",
        "      <td>20</td>\n",
        "    </tr>\n",
        "    <tr>\n",
        "      <th>toplist11</th>\n",
        "      <td>20</td>\n",
        "    </tr>\n",
        "    <tr>\n",
        "      <th>toplist15</th>\n",
        "      <td>19</td>\n",
        "    </tr>\n",
        "    <tr>\n",
        "      <th>toplist08</th>\n",
        "      <td>19</td>\n",
        "    </tr>\n",
        "    <tr>\n",
        "      <th>toplist10</th>\n",
        "      <td>18</td>\n",
        "    </tr>\n",
        "  </tbody>\n",
        "</table>\n",
        "</div>\n",
        "  \n",
        "</details>"
      ]
    },
    {
      "cell_type": "code",
      "metadata": {
        "id": "BIHKzgvQu2AP",
        "colab_type": "code",
        "colab": {}
      },
      "source": [
        "# Câu 2: Tạo is_highly_rated theo điều kiện: có 'rating' >= 4.0 của dataframe ratings \n",
        "is_highly_rated = ratings['rating'].ge(4)\n",
        "# Hiển thị 5 dòng dữ liệu đầu của is_highly_rated\n",
        "is_highly_rated.head()"
      ],
      "execution_count": 24,
      "outputs": [
        {
          "output_type": "execute_result",
          "data": {
            "text/plain": "0    False\n1    False\n2    False\n3    False\n4     True\nName: rating, dtype: bool"
          },
          "metadata": {},
          "execution_count": 24
        }
      ]
    },
    {
      "cell_type": "markdown",
      "metadata": {
        "id": "b9zJ2GlFu2AR",
        "colab_type": "text"
      },
      "source": [
        "<details>\n",
        "  <summary>Nhấn vào đây để xem kết quả!</summary>\n",
        "  <pre>0    False\n",
        "1    False\n",
        "2    False\n",
        "3    False\n",
        "4     True\n",
        "Name: rating, dtype: bool</pre>\n",
        "  \n",
        "</details>"
      ]
    },
    {
      "cell_type": "code",
      "metadata": {
        "id": "te23JUpFu2AR",
        "colab_type": "code",
        "colab": {}
      },
      "source": [
        "# Liệt kê các phim thỏa is_highly_rated\n",
        "movies_ratings[is_highly_rated]"
      ],
      "execution_count": 50,
      "outputs": [
        {
          "output_type": "execute_result",
          "data": {
            "text/plain": "       movieId                                              title  \\\n4            1                                   Toy Story (1995)   \n12           1                                   Toy Story (1995)   \n13           1                                   Toy Story (1995)   \n20           1                                   Toy Story (1995)   \n21           1                                   Toy Story (1995)   \n...        ...                                                ...   \n99979   161944              The Last Brickmaker in America (2001)   \n99980   162376                                    Stranger Things   \n99981   162542                                      Rustom (2016)   \n99982   162672                                Mohenjo Daro (2016)   \n99983   163949  The Beatles: Eight Days a Week - The Touring Y...   \n\n                                            genres  userId  rating  \\\n4      Adventure|Animation|Children|Comedy|Fantasy    19.0     3.0   \n12     Adventure|Animation|Children|Comedy|Fantasy    47.0     5.0   \n13     Adventure|Animation|Children|Comedy|Fantasy    48.0     4.0   \n20     Adventure|Animation|Children|Comedy|Fantasy    70.0     5.0   \n21     Adventure|Animation|Children|Comedy|Fantasy    72.0     3.5   \n...                                            ...     ...     ...   \n99979                                        Drama   287.0     5.0   \n99980                                        Drama    73.0     4.5   \n99981                             Romance|Thriller   611.0     5.0   \n99982                      Adventure|Drama|Romance   611.0     3.0   \n99983                                  Documentary   547.0     5.0   \n\n          timestamp  \n4      8.551901e+08  \n12     8.322289e+08  \n13     1.318797e+09  \n20     8.539542e+08  \n21     1.461779e+09  \n...             ...  \n99979  1.470168e+09  \n99980  1.474256e+09  \n99981  1.471521e+09  \n99982  1.471524e+09  \n99983  1.476419e+09  \n\n[51557 rows x 6 columns]",
            "text/html": "<div>\n<style scoped>\n    .dataframe tbody tr th:only-of-type {\n        vertical-align: middle;\n    }\n\n    .dataframe tbody tr th {\n        vertical-align: top;\n    }\n\n    .dataframe thead th {\n        text-align: right;\n    }\n</style>\n<table border=\"1\" class=\"dataframe\">\n  <thead>\n    <tr style=\"text-align: right;\">\n      <th></th>\n      <th>movieId</th>\n      <th>title</th>\n      <th>genres</th>\n      <th>userId</th>\n      <th>rating</th>\n      <th>timestamp</th>\n    </tr>\n  </thead>\n  <tbody>\n    <tr>\n      <th>4</th>\n      <td>1</td>\n      <td>Toy Story (1995)</td>\n      <td>Adventure|Animation|Children|Comedy|Fantasy</td>\n      <td>19.0</td>\n      <td>3.0</td>\n      <td>8.551901e+08</td>\n    </tr>\n    <tr>\n      <th>12</th>\n      <td>1</td>\n      <td>Toy Story (1995)</td>\n      <td>Adventure|Animation|Children|Comedy|Fantasy</td>\n      <td>47.0</td>\n      <td>5.0</td>\n      <td>8.322289e+08</td>\n    </tr>\n    <tr>\n      <th>13</th>\n      <td>1</td>\n      <td>Toy Story (1995)</td>\n      <td>Adventure|Animation|Children|Comedy|Fantasy</td>\n      <td>48.0</td>\n      <td>4.0</td>\n      <td>1.318797e+09</td>\n    </tr>\n    <tr>\n      <th>20</th>\n      <td>1</td>\n      <td>Toy Story (1995)</td>\n      <td>Adventure|Animation|Children|Comedy|Fantasy</td>\n      <td>70.0</td>\n      <td>5.0</td>\n      <td>8.539542e+08</td>\n    </tr>\n    <tr>\n      <th>21</th>\n      <td>1</td>\n      <td>Toy Story (1995)</td>\n      <td>Adventure|Animation|Children|Comedy|Fantasy</td>\n      <td>72.0</td>\n      <td>3.5</td>\n      <td>1.461779e+09</td>\n    </tr>\n    <tr>\n      <th>...</th>\n      <td>...</td>\n      <td>...</td>\n      <td>...</td>\n      <td>...</td>\n      <td>...</td>\n      <td>...</td>\n    </tr>\n    <tr>\n      <th>99979</th>\n      <td>161944</td>\n      <td>The Last Brickmaker in America (2001)</td>\n      <td>Drama</td>\n      <td>287.0</td>\n      <td>5.0</td>\n      <td>1.470168e+09</td>\n    </tr>\n    <tr>\n      <th>99980</th>\n      <td>162376</td>\n      <td>Stranger Things</td>\n      <td>Drama</td>\n      <td>73.0</td>\n      <td>4.5</td>\n      <td>1.474256e+09</td>\n    </tr>\n    <tr>\n      <th>99981</th>\n      <td>162542</td>\n      <td>Rustom (2016)</td>\n      <td>Romance|Thriller</td>\n      <td>611.0</td>\n      <td>5.0</td>\n      <td>1.471521e+09</td>\n    </tr>\n    <tr>\n      <th>99982</th>\n      <td>162672</td>\n      <td>Mohenjo Daro (2016)</td>\n      <td>Adventure|Drama|Romance</td>\n      <td>611.0</td>\n      <td>3.0</td>\n      <td>1.471524e+09</td>\n    </tr>\n    <tr>\n      <th>99983</th>\n      <td>163949</td>\n      <td>The Beatles: Eight Days a Week - The Touring Y...</td>\n      <td>Documentary</td>\n      <td>547.0</td>\n      <td>5.0</td>\n      <td>1.476419e+09</td>\n    </tr>\n  </tbody>\n</table>\n<p>51557 rows × 6 columns</p>\n</div>"
          },
          "metadata": {},
          "execution_count": 50
        }
      ]
    },
    {
      "cell_type": "markdown",
      "metadata": {
        "id": "FFGhCwxiu2AT",
        "colab_type": "text"
      },
      "source": [
        "<details>\n",
        "  <summary>Nhấn vào đây để xem kết quả!</summary>\n",
        "  <div>\n",
        "<style scoped=\"\">\n",
        "    .dataframe tbody tr th:only-of-type {\n",
        "        vertical-align: middle;\n",
        "    }\n",
        "\n",
        "    .dataframe tbody tr th {\n",
        "        vertical-align: top;\n",
        "    }\n",
        "\n",
        "    .dataframe thead th {\n",
        "        text-align: right;\n",
        "    }\n",
        "</style>\n",
        "<table border=\"1\" class=\"dataframe\">\n",
        "  <thead>\n",
        "    <tr style=\"text-align: right;\">\n",
        "      <th></th>\n",
        "      <th>movieId</th>\n",
        "      <th>rating</th>\n",
        "    </tr>\n",
        "  </thead>\n",
        "  <tbody>\n",
        "    <tr>\n",
        "      <th>4</th>\n",
        "      <td>1172.0</td>\n",
        "      <td>4.0</td>\n",
        "    </tr>\n",
        "    <tr>\n",
        "      <th>12</th>\n",
        "      <td>1953.0</td>\n",
        "      <td>4.0</td>\n",
        "    </tr>\n",
        "    <tr>\n",
        "      <th>13</th>\n",
        "      <td>2105.0</td>\n",
        "      <td>4.0</td>\n",
        "    </tr>\n",
        "    <tr>\n",
        "      <th>20</th>\n",
        "      <td>10.0</td>\n",
        "      <td>4.0</td>\n",
        "    </tr>\n",
        "    <tr>\n",
        "      <th>21</th>\n",
        "      <td>17.0</td>\n",
        "      <td>5.0</td>\n",
        "    </tr>\n",
        "    <tr>\n",
        "      <th>...</th>\n",
        "      <td>...</td>\n",
        "      <td>...</td>\n",
        "    </tr>\n",
        "    <tr>\n",
        "      <th>99995</th>\n",
        "      <td>5989.0</td>\n",
        "      <td>4.0</td>\n",
        "    </tr>\n",
        "    <tr>\n",
        "      <th>99996</th>\n",
        "      <td>5991.0</td>\n",
        "      <td>4.5</td>\n",
        "    </tr>\n",
        "    <tr>\n",
        "      <th>99997</th>\n",
        "      <td>5995.0</td>\n",
        "      <td>4.0</td>\n",
        "    </tr>\n",
        "    <tr>\n",
        "      <th>100000</th>\n",
        "      <td>6269.0</td>\n",
        "      <td>4.0</td>\n",
        "    </tr>\n",
        "    <tr>\n",
        "      <th>100001</th>\n",
        "      <td>6365.0</td>\n",
        "      <td>4.0</td>\n",
        "    </tr>\n",
        "  </tbody>\n",
        "</table>\n",
        "<p>51568 rows × 2 columns</p>\n",
        "</div>\n",
        "  \n",
        "</details>"
      ]
    },
    {
      "cell_type": "code",
      "metadata": {
        "id": "jwznzrVEu2AW",
        "colab_type": "code",
        "colab": {}
      },
      "source": [
        "# Câu 3: Tạo is_animation theo điều kiện trong cột genres của movies có chứa chuỗi 'Animation'\n",
        "\n",
        "# Hiển thị 5 dòng dữ liệu đầu của is_animation\n"
      ],
      "execution_count": 26,
      "outputs": []
    },
    {
      "cell_type": "markdown",
      "metadata": {
        "id": "7hhAJ7quu2AZ",
        "colab_type": "text"
      },
      "source": [
        "<details>\n",
        "  <summary>Nhấn vào đây để xem kết quả!</summary>\n",
        "  <pre>0     True\n",
        "1    False\n",
        "2    False\n",
        "3    False\n",
        "4    False\n",
        "Name: genres, dtype: bool</pre>\n",
        "  \n",
        "</details>"
      ]
    },
    {
      "cell_type": "code",
      "metadata": {
        "id": "49L_n11ju2AZ",
        "colab_type": "code",
        "colab": {}
      },
      "source": [
        "# Liệt kê các phim thỏa is_animation\n"
      ],
      "execution_count": 27,
      "outputs": []
    },
    {
      "cell_type": "markdown",
      "metadata": {
        "id": "nvudn33yu2Ab",
        "colab_type": "text"
      },
      "source": [
        "<details>\n",
        "  <summary>Nhấn vào đây để xem kết quả!</summary>\n",
        "  <div>\n",
        "<style scoped=\"\">\n",
        "    .dataframe tbody tr th:only-of-type {\n",
        "        vertical-align: middle;\n",
        "    }\n",
        "\n",
        "    .dataframe tbody tr th {\n",
        "        vertical-align: top;\n",
        "    }\n",
        "\n",
        "    .dataframe thead th {\n",
        "        text-align: right;\n",
        "    }\n",
        "</style>\n",
        "<table border=\"1\" class=\"dataframe\">\n",
        "  <thead>\n",
        "    <tr style=\"text-align: right;\">\n",
        "      <th></th>\n",
        "      <th>movieId</th>\n",
        "      <th>title</th>\n",
        "      <th>genres</th>\n",
        "    </tr>\n",
        "  </thead>\n",
        "  <tbody>\n",
        "    <tr>\n",
        "      <th>0</th>\n",
        "      <td>1</td>\n",
        "      <td>Toy Story (1995)</td>\n",
        "      <td>Adventure|Animation|Children|Comedy|Fantasy</td>\n",
        "    </tr>\n",
        "    <tr>\n",
        "      <th>12</th>\n",
        "      <td>13</td>\n",
        "      <td>Balto (1995)</td>\n",
        "      <td>Adventure|Animation|Children</td>\n",
        "    </tr>\n",
        "    <tr>\n",
        "      <th>46</th>\n",
        "      <td>48</td>\n",
        "      <td>Pocahontas (1995)</td>\n",
        "      <td>Animation|Children|Drama|Musical|Romance</td>\n",
        "    </tr>\n",
        "    <tr>\n",
        "      <th>211</th>\n",
        "      <td>239</td>\n",
        "      <td>Goofy Movie, A (1995)</td>\n",
        "      <td>Animation|Children|Comedy|Romance</td>\n",
        "    </tr>\n",
        "    <tr>\n",
        "      <th>216</th>\n",
        "      <td>244</td>\n",
        "      <td>Gumby: The Movie (1995)</td>\n",
        "      <td>Animation|Children</td>\n",
        "    </tr>\n",
        "    <tr>\n",
        "      <th>...</th>\n",
        "      <td>...</td>\n",
        "      <td>...</td>\n",
        "      <td>...</td>\n",
        "    </tr>\n",
        "    <tr>\n",
        "      <th>9070</th>\n",
        "      <td>152081</td>\n",
        "      <td>Zootopia (2016)</td>\n",
        "      <td>Action|Adventure|Animation|Children|Comedy</td>\n",
        "    </tr>\n",
        "    <tr>\n",
        "      <th>9079</th>\n",
        "      <td>156025</td>\n",
        "      <td>Ice Age: The Great Egg-Scapade (2016)</td>\n",
        "      <td>Adventure|Animation|Children|Comedy</td>\n",
        "    </tr>\n",
        "    <tr>\n",
        "      <th>9085</th>\n",
        "      <td>157296</td>\n",
        "      <td>Finding Dory (2016)</td>\n",
        "      <td>Adventure|Animation|Comedy</td>\n",
        "    </tr>\n",
        "    <tr>\n",
        "      <th>9108</th>\n",
        "      <td>160718</td>\n",
        "      <td>Piper (2016)</td>\n",
        "      <td>Animation</td>\n",
        "    </tr>\n",
        "    <tr>\n",
        "      <th>9114</th>\n",
        "      <td>161594</td>\n",
        "      <td>Kingsglaive: Final Fantasy XV (2016)</td>\n",
        "      <td>Action|Adventure|Animation|Drama|Fantasy|Sci-Fi</td>\n",
        "    </tr>\n",
        "  </tbody>\n",
        "</table>\n",
        "<p>447 rows × 3 columns</p>\n",
        "</div>\n",
        "  \n",
        "</details>"
      ]
    },
    {
      "cell_type": "code",
      "metadata": {
        "id": "Z_kz-Txtu2Ac",
        "colab_type": "code",
        "colab": {}
      },
      "source": [
        "# Câu 4: Tạo movie_genres từ cột 'genres' bằng cách tách cột 'genres' dựa vào ký tự '|'\n",
        "\n",
        "# Hiển thị 10 dòng cuối của movie_genres \n"
      ],
      "execution_count": 28,
      "outputs": []
    },
    {
      "cell_type": "markdown",
      "metadata": {
        "id": "UyQwKPUgu2Ae",
        "colab_type": "text"
      },
      "source": [
        "<details>\n",
        "  <summary>Nhấn vào đây để xem kết quả!</summary>\n",
        "  <div>\n",
        "<style scoped=\"\">\n",
        "    .dataframe tbody tr th:only-of-type {\n",
        "        vertical-align: middle;\n",
        "    }\n",
        "\n",
        "    .dataframe tbody tr th {\n",
        "        vertical-align: top;\n",
        "    }\n",
        "\n",
        "    .dataframe thead th {\n",
        "        text-align: right;\n",
        "    }\n",
        "</style>\n",
        "<table border=\"1\" class=\"dataframe\">\n",
        "  <thead>\n",
        "    <tr style=\"text-align: right;\">\n",
        "      <th></th>\n",
        "      <th>0</th>\n",
        "      <th>1</th>\n",
        "      <th>2</th>\n",
        "      <th>3</th>\n",
        "      <th>4</th>\n",
        "      <th>5</th>\n",
        "      <th>6</th>\n",
        "      <th>7</th>\n",
        "      <th>8</th>\n",
        "      <th>9</th>\n",
        "    </tr>\n",
        "  </thead>\n",
        "  <tbody>\n",
        "    <tr>\n",
        "      <th>9115</th>\n",
        "      <td>Drama</td>\n",
        "      <td>Horror</td>\n",
        "      <td>Thriller</td>\n",
        "      <td>None</td>\n",
        "      <td>None</td>\n",
        "      <td>None</td>\n",
        "      <td>None</td>\n",
        "      <td>None</td>\n",
        "      <td>None</td>\n",
        "      <td>None</td>\n",
        "    </tr>\n",
        "    <tr>\n",
        "      <th>9116</th>\n",
        "      <td>Action</td>\n",
        "      <td>Adventure</td>\n",
        "      <td>Horror</td>\n",
        "      <td>Sci-Fi</td>\n",
        "      <td>None</td>\n",
        "      <td>None</td>\n",
        "      <td>None</td>\n",
        "      <td>None</td>\n",
        "      <td>None</td>\n",
        "      <td>None</td>\n",
        "    </tr>\n",
        "    <tr>\n",
        "      <th>9117</th>\n",
        "      <td>Drama</td>\n",
        "      <td>None</td>\n",
        "      <td>None</td>\n",
        "      <td>None</td>\n",
        "      <td>None</td>\n",
        "      <td>None</td>\n",
        "      <td>None</td>\n",
        "      <td>None</td>\n",
        "      <td>None</td>\n",
        "      <td>None</td>\n",
        "    </tr>\n",
        "    <tr>\n",
        "      <th>9118</th>\n",
        "      <td>Drama</td>\n",
        "      <td>None</td>\n",
        "      <td>None</td>\n",
        "      <td>None</td>\n",
        "      <td>None</td>\n",
        "      <td>None</td>\n",
        "      <td>None</td>\n",
        "      <td>None</td>\n",
        "      <td>None</td>\n",
        "      <td>None</td>\n",
        "    </tr>\n",
        "    <tr>\n",
        "      <th>9119</th>\n",
        "      <td>Romance</td>\n",
        "      <td>Thriller</td>\n",
        "      <td>None</td>\n",
        "      <td>None</td>\n",
        "      <td>None</td>\n",
        "      <td>None</td>\n",
        "      <td>None</td>\n",
        "      <td>None</td>\n",
        "      <td>None</td>\n",
        "      <td>None</td>\n",
        "    </tr>\n",
        "    <tr>\n",
        "      <th>9120</th>\n",
        "      <td>Adventure</td>\n",
        "      <td>Drama</td>\n",
        "      <td>Romance</td>\n",
        "      <td>None</td>\n",
        "      <td>None</td>\n",
        "      <td>None</td>\n",
        "      <td>None</td>\n",
        "      <td>None</td>\n",
        "      <td>None</td>\n",
        "      <td>None</td>\n",
        "    </tr>\n",
        "    <tr>\n",
        "      <th>9121</th>\n",
        "      <td>Action</td>\n",
        "      <td>Adventure</td>\n",
        "      <td>Fantasy</td>\n",
        "      <td>Sci-Fi</td>\n",
        "      <td>None</td>\n",
        "      <td>None</td>\n",
        "      <td>None</td>\n",
        "      <td>None</td>\n",
        "      <td>None</td>\n",
        "      <td>None</td>\n",
        "    </tr>\n",
        "    <tr>\n",
        "      <th>9122</th>\n",
        "      <td>Documentary</td>\n",
        "      <td>None</td>\n",
        "      <td>None</td>\n",
        "      <td>None</td>\n",
        "      <td>None</td>\n",
        "      <td>None</td>\n",
        "      <td>None</td>\n",
        "      <td>None</td>\n",
        "      <td>None</td>\n",
        "      <td>None</td>\n",
        "    </tr>\n",
        "    <tr>\n",
        "      <th>9123</th>\n",
        "      <td>Comedy</td>\n",
        "      <td>None</td>\n",
        "      <td>None</td>\n",
        "      <td>None</td>\n",
        "      <td>None</td>\n",
        "      <td>None</td>\n",
        "      <td>None</td>\n",
        "      <td>None</td>\n",
        "      <td>None</td>\n",
        "      <td>None</td>\n",
        "    </tr>\n",
        "    <tr>\n",
        "      <th>9124</th>\n",
        "      <td>Documentary</td>\n",
        "      <td>None</td>\n",
        "      <td>None</td>\n",
        "      <td>None</td>\n",
        "      <td>None</td>\n",
        "      <td>None</td>\n",
        "      <td>None</td>\n",
        "      <td>None</td>\n",
        "      <td>None</td>\n",
        "      <td>None</td>\n",
        "    </tr>\n",
        "  </tbody>\n",
        "</table>\n",
        "</div>\n",
        "  \n",
        "</details>"
      ]
    },
    {
      "cell_type": "code",
      "metadata": {
        "id": "55fQF72Uu2Af",
        "colab_type": "code",
        "colab": {}
      },
      "source": [
        "# Câu 5: Thêm cột mới cho movie_genres có tên là 'isComedy', \n",
        "# giá trị là True nếu trong movies['genres'] có chứa chuỗi 'Comedy', ngược lại là False\n",
        "\n",
        "# Hiển thị 10 dòng đầu của movie_genres\n"
      ],
      "execution_count": 29,
      "outputs": []
    },
    {
      "cell_type": "markdown",
      "metadata": {
        "id": "uGIcyH9Ou2Ah",
        "colab_type": "text"
      },
      "source": [
        "<details>\n",
        "  <summary>Nhấn vào đây để xem kết quả!</summary>\n",
        "  <div>\n",
        "<style scoped=\"\">\n",
        "    .dataframe tbody tr th:only-of-type {\n",
        "        vertical-align: middle;\n",
        "    }\n",
        "\n",
        "    .dataframe tbody tr th {\n",
        "        vertical-align: top;\n",
        "    }\n",
        "\n",
        "    .dataframe thead th {\n",
        "        text-align: right;\n",
        "    }\n",
        "</style>\n",
        "<table border=\"1\" class=\"dataframe\">\n",
        "  <thead>\n",
        "    <tr style=\"text-align: right;\">\n",
        "      <th></th>\n",
        "      <th>0</th>\n",
        "      <th>1</th>\n",
        "      <th>2</th>\n",
        "      <th>3</th>\n",
        "      <th>4</th>\n",
        "      <th>5</th>\n",
        "      <th>6</th>\n",
        "      <th>7</th>\n",
        "      <th>8</th>\n",
        "      <th>9</th>\n",
        "      <th>isComedy</th>\n",
        "    </tr>\n",
        "  </thead>\n",
        "  <tbody>\n",
        "    <tr>\n",
        "      <th>0</th>\n",
        "      <td>Adventure</td>\n",
        "      <td>Animation</td>\n",
        "      <td>Children</td>\n",
        "      <td>Comedy</td>\n",
        "      <td>Fantasy</td>\n",
        "      <td>None</td>\n",
        "      <td>None</td>\n",
        "      <td>None</td>\n",
        "      <td>None</td>\n",
        "      <td>None</td>\n",
        "      <td>True</td>\n",
        "    </tr>\n",
        "    <tr>\n",
        "      <th>1</th>\n",
        "      <td>Adventure</td>\n",
        "      <td>Children</td>\n",
        "      <td>Fantasy</td>\n",
        "      <td>None</td>\n",
        "      <td>None</td>\n",
        "      <td>None</td>\n",
        "      <td>None</td>\n",
        "      <td>None</td>\n",
        "      <td>None</td>\n",
        "      <td>None</td>\n",
        "      <td>False</td>\n",
        "    </tr>\n",
        "    <tr>\n",
        "      <th>2</th>\n",
        "      <td>Comedy</td>\n",
        "      <td>Romance</td>\n",
        "      <td>None</td>\n",
        "      <td>None</td>\n",
        "      <td>None</td>\n",
        "      <td>None</td>\n",
        "      <td>None</td>\n",
        "      <td>None</td>\n",
        "      <td>None</td>\n",
        "      <td>None</td>\n",
        "      <td>True</td>\n",
        "    </tr>\n",
        "    <tr>\n",
        "      <th>3</th>\n",
        "      <td>Comedy</td>\n",
        "      <td>Drama</td>\n",
        "      <td>Romance</td>\n",
        "      <td>None</td>\n",
        "      <td>None</td>\n",
        "      <td>None</td>\n",
        "      <td>None</td>\n",
        "      <td>None</td>\n",
        "      <td>None</td>\n",
        "      <td>None</td>\n",
        "      <td>True</td>\n",
        "    </tr>\n",
        "    <tr>\n",
        "      <th>4</th>\n",
        "      <td>Comedy</td>\n",
        "      <td>None</td>\n",
        "      <td>None</td>\n",
        "      <td>None</td>\n",
        "      <td>None</td>\n",
        "      <td>None</td>\n",
        "      <td>None</td>\n",
        "      <td>None</td>\n",
        "      <td>None</td>\n",
        "      <td>None</td>\n",
        "      <td>True</td>\n",
        "    </tr>\n",
        "    <tr>\n",
        "      <th>5</th>\n",
        "      <td>Action</td>\n",
        "      <td>Crime</td>\n",
        "      <td>Thriller</td>\n",
        "      <td>None</td>\n",
        "      <td>None</td>\n",
        "      <td>None</td>\n",
        "      <td>None</td>\n",
        "      <td>None</td>\n",
        "      <td>None</td>\n",
        "      <td>None</td>\n",
        "      <td>False</td>\n",
        "    </tr>\n",
        "    <tr>\n",
        "      <th>6</th>\n",
        "      <td>Comedy</td>\n",
        "      <td>Romance</td>\n",
        "      <td>None</td>\n",
        "      <td>None</td>\n",
        "      <td>None</td>\n",
        "      <td>None</td>\n",
        "      <td>None</td>\n",
        "      <td>None</td>\n",
        "      <td>None</td>\n",
        "      <td>None</td>\n",
        "      <td>True</td>\n",
        "    </tr>\n",
        "    <tr>\n",
        "      <th>7</th>\n",
        "      <td>Adventure</td>\n",
        "      <td>Children</td>\n",
        "      <td>None</td>\n",
        "      <td>None</td>\n",
        "      <td>None</td>\n",
        "      <td>None</td>\n",
        "      <td>None</td>\n",
        "      <td>None</td>\n",
        "      <td>None</td>\n",
        "      <td>None</td>\n",
        "      <td>False</td>\n",
        "    </tr>\n",
        "    <tr>\n",
        "      <th>8</th>\n",
        "      <td>Action</td>\n",
        "      <td>None</td>\n",
        "      <td>None</td>\n",
        "      <td>None</td>\n",
        "      <td>None</td>\n",
        "      <td>None</td>\n",
        "      <td>None</td>\n",
        "      <td>None</td>\n",
        "      <td>None</td>\n",
        "      <td>None</td>\n",
        "      <td>False</td>\n",
        "    </tr>\n",
        "    <tr>\n",
        "      <th>9</th>\n",
        "      <td>Action</td>\n",
        "      <td>Adventure</td>\n",
        "      <td>Thriller</td>\n",
        "      <td>None</td>\n",
        "      <td>None</td>\n",
        "      <td>None</td>\n",
        "      <td>None</td>\n",
        "      <td>None</td>\n",
        "      <td>None</td>\n",
        "      <td>None</td>\n",
        "      <td>False</td>\n",
        "    </tr>\n",
        "  </tbody>\n",
        "</table>\n",
        "</div>\n",
        "  \n",
        "</details>"
      ]
    },
    {
      "cell_type": "code",
      "metadata": {
        "id": "Db4Werc-u2Ah",
        "colab_type": "code",
        "colab": {}
      },
      "source": [
        "# Câu 6: Thêm cột mới cho movies có tên là 'year' với year được lấy ra từ cột 'title'\n",
        "\n",
        "# Hiển thị 5 dòng dữ liệu đầu của movies\n"
      ],
      "execution_count": 30,
      "outputs": []
    },
    {
      "cell_type": "markdown",
      "metadata": {
        "id": "_bjPWtHqu2Aj",
        "colab_type": "text"
      },
      "source": [
        "<details>\n",
        "  <summary>Nhấn vào đây để xem kết quả!</summary>\n",
        "  <div>\n",
        "<style scoped=\"\">\n",
        "    .dataframe tbody tr th:only-of-type {\n",
        "        vertical-align: middle;\n",
        "    }\n",
        "\n",
        "    .dataframe tbody tr th {\n",
        "        vertical-align: top;\n",
        "    }\n",
        "\n",
        "    .dataframe thead th {\n",
        "        text-align: right;\n",
        "    }\n",
        "</style>\n",
        "<table border=\"1\" class=\"dataframe\">\n",
        "  <thead>\n",
        "    <tr style=\"text-align: right;\">\n",
        "      <th></th>\n",
        "      <th>movieId</th>\n",
        "      <th>title</th>\n",
        "      <th>genres</th>\n",
        "      <th>year</th>\n",
        "    </tr>\n",
        "  </thead>\n",
        "  <tbody>\n",
        "    <tr>\n",
        "      <th>0</th>\n",
        "      <td>1</td>\n",
        "      <td>Toy Story (1995)</td>\n",
        "      <td>Adventure|Animation|Children|Comedy|Fantasy</td>\n",
        "      <td>1995</td>\n",
        "    </tr>\n",
        "    <tr>\n",
        "      <th>1</th>\n",
        "      <td>2</td>\n",
        "      <td>Jumanji (1995)</td>\n",
        "      <td>Adventure|Children|Fantasy</td>\n",
        "      <td>1995</td>\n",
        "    </tr>\n",
        "    <tr>\n",
        "      <th>2</th>\n",
        "      <td>3</td>\n",
        "      <td>Grumpier Old Men (1995)</td>\n",
        "      <td>Comedy|Romance</td>\n",
        "      <td>1995</td>\n",
        "    </tr>\n",
        "    <tr>\n",
        "      <th>3</th>\n",
        "      <td>4</td>\n",
        "      <td>Waiting to Exhale (1995)</td>\n",
        "      <td>Comedy|Drama|Romance</td>\n",
        "      <td>1995</td>\n",
        "    </tr>\n",
        "    <tr>\n",
        "      <th>4</th>\n",
        "      <td>5</td>\n",
        "      <td>Father of the Bride Part II (1995)</td>\n",
        "      <td>Comedy</td>\n",
        "      <td>1995</td>\n",
        "    </tr>\n",
        "  </tbody>\n",
        "</table>\n",
        "</div>\n",
        "  \n",
        "</details>"
      ]
    },
    {
      "cell_type": "markdown",
      "metadata": {
        "id": "eG_oXRKQu2Ak",
        "colab_type": "text"
      },
      "source": [
        "### Part 5: Thống kê dữ liệu"
      ]
    },
    {
      "cell_type": "code",
      "metadata": {
        "id": "NtWJVj2-u2Al",
        "colab_type": "code",
        "colab": {}
      },
      "source": [
        "# Câu 1: Thực hiện thống kê chung dữ liệu ratings\n"
      ],
      "execution_count": 31,
      "outputs": []
    },
    {
      "cell_type": "markdown",
      "metadata": {
        "id": "m2i08Vvlu2An",
        "colab_type": "text"
      },
      "source": [
        "<details>\n",
        "  <summary>Nhấn vào đây để xem kết quả!</summary>\n",
        "  <div>\n",
        "<style scoped=\"\">\n",
        "    .dataframe tbody tr th:only-of-type {\n",
        "        vertical-align: middle;\n",
        "    }\n",
        "\n",
        "    .dataframe tbody tr th {\n",
        "        vertical-align: top;\n",
        "    }\n",
        "\n",
        "    .dataframe thead th {\n",
        "        text-align: right;\n",
        "    }\n",
        "</style>\n",
        "<table border=\"1\" class=\"dataframe\">\n",
        "  <thead>\n",
        "    <tr style=\"text-align: right;\">\n",
        "      <th></th>\n",
        "      <th>userId</th>\n",
        "      <th>movieId</th>\n",
        "      <th>rating</th>\n",
        "    </tr>\n",
        "  </thead>\n",
        "  <tbody>\n",
        "    <tr>\n",
        "      <th>count</th>\n",
        "      <td>100004.000000</td>\n",
        "      <td>100004.000000</td>\n",
        "      <td>100004.000000</td>\n",
        "    </tr>\n",
        "    <tr>\n",
        "      <th>mean</th>\n",
        "      <td>347.011330</td>\n",
        "      <td>12548.660904</td>\n",
        "      <td>3.543608</td>\n",
        "    </tr>\n",
        "    <tr>\n",
        "      <th>std</th>\n",
        "      <td>195.163803</td>\n",
        "      <td>26369.200592</td>\n",
        "      <td>1.058064</td>\n",
        "    </tr>\n",
        "    <tr>\n",
        "      <th>min</th>\n",
        "      <td>1.000000</td>\n",
        "      <td>1.000000</td>\n",
        "      <td>0.500000</td>\n",
        "    </tr>\n",
        "    <tr>\n",
        "      <th>25%</th>\n",
        "      <td>182.000000</td>\n",
        "      <td>1028.000000</td>\n",
        "      <td>3.000000</td>\n",
        "    </tr>\n",
        "    <tr>\n",
        "      <th>50%</th>\n",
        "      <td>367.000000</td>\n",
        "      <td>2406.500000</td>\n",
        "      <td>4.000000</td>\n",
        "    </tr>\n",
        "    <tr>\n",
        "      <th>75%</th>\n",
        "      <td>520.000000</td>\n",
        "      <td>5418.000000</td>\n",
        "      <td>4.000000</td>\n",
        "    </tr>\n",
        "    <tr>\n",
        "      <th>max</th>\n",
        "      <td>671.000000</td>\n",
        "      <td>163949.000000</td>\n",
        "      <td>5.000000</td>\n",
        "    </tr>\n",
        "  </tbody>\n",
        "</table>\n",
        "</div>\n",
        "  \n",
        "</details>"
      ]
    },
    {
      "cell_type": "code",
      "metadata": {
        "id": "BGEVudyNu2An",
        "colab_type": "code",
        "colab": {}
      },
      "source": [
        "# Câu 2: In giá trị trung bình, giá trị lớn nhất, giá trị nhỏ nhất, \n",
        "#        độ lệch chuẩn, giá trị có tuần suất xuất hiện nhiều nhất của cột 'rating'\n",
        "\n"
      ],
      "execution_count": 32,
      "outputs": []
    },
    {
      "cell_type": "markdown",
      "metadata": {
        "id": "PQD37XTXu2Ap",
        "colab_type": "text"
      },
      "source": [
        "<details>\n",
        "  <summary>Nhấn vào đây để xem kết quả!</summary>\n",
        "  <pre>Giá trị trung bình của ratings:  3.543608255669773\n",
        "Giá trị nhỏ nhất của ratings:  0.5\n",
        "Giá trị lớn nhất của ratings:  5.0\n",
        "Độ lệch chuẩn của ratings:  1.0580641091070389\n",
        "Giá trị có tần suất xuất hiện nhiều nhất của ratings:  4.0\n",
        "</pre>\n",
        "  \n",
        "</details>"
      ]
    },
    {
      "cell_type": "code",
      "metadata": {
        "id": "z962LgO_u2Aq",
        "colab_type": "code",
        "colab": {}
      },
      "source": [
        "# Câu 3: Thống kê đếm số lượng phim theo ‘rating’ (Count of films). Xem kết quả. \n",
        "\n",
        "# Xem kết quả\n"
      ],
      "execution_count": 33,
      "outputs": []
    },
    {
      "cell_type": "markdown",
      "metadata": {
        "id": "3gcorTa9u2As",
        "colab_type": "text"
      },
      "source": [
        "<details>\n",
        "  <summary>Nhấn vào đây để xem kết quả!</summary>\n",
        "  <div>\n",
        "<style scoped=\"\">\n",
        "    .dataframe tbody tr th:only-of-type {\n",
        "        vertical-align: middle;\n",
        "    }\n",
        "\n",
        "    .dataframe tbody tr th {\n",
        "        vertical-align: top;\n",
        "    }\n",
        "\n",
        "    .dataframe thead th {\n",
        "        text-align: right;\n",
        "    }\n",
        "</style>\n",
        "<table border=\"1\" class=\"dataframe\">\n",
        "  <thead>\n",
        "    <tr style=\"text-align: right;\">\n",
        "      <th></th>\n",
        "      <th>rating</th>\n",
        "      <th>Count of films</th>\n",
        "    </tr>\n",
        "  </thead>\n",
        "  <tbody>\n",
        "    <tr>\n",
        "      <th>0</th>\n",
        "      <td>0.5</td>\n",
        "      <td>1101</td>\n",
        "    </tr>\n",
        "    <tr>\n",
        "      <th>1</th>\n",
        "      <td>1.0</td>\n",
        "      <td>3326</td>\n",
        "    </tr>\n",
        "    <tr>\n",
        "      <th>2</th>\n",
        "      <td>1.5</td>\n",
        "      <td>1687</td>\n",
        "    </tr>\n",
        "    <tr>\n",
        "      <th>3</th>\n",
        "      <td>2.0</td>\n",
        "      <td>7268</td>\n",
        "    </tr>\n",
        "    <tr>\n",
        "      <th>4</th>\n",
        "      <td>2.5</td>\n",
        "      <td>4449</td>\n",
        "    </tr>\n",
        "    <tr>\n",
        "      <th>5</th>\n",
        "      <td>3.0</td>\n",
        "      <td>20058</td>\n",
        "    </tr>\n",
        "    <tr>\n",
        "      <th>6</th>\n",
        "      <td>3.5</td>\n",
        "      <td>10535</td>\n",
        "    </tr>\n",
        "    <tr>\n",
        "      <th>7</th>\n",
        "      <td>4.0</td>\n",
        "      <td>28743</td>\n",
        "    </tr>\n",
        "    <tr>\n",
        "      <th>8</th>\n",
        "      <td>4.5</td>\n",
        "      <td>7723</td>\n",
        "    </tr>\n",
        "    <tr>\n",
        "      <th>9</th>\n",
        "      <td>5.0</td>\n",
        "      <td>15094</td>\n",
        "    </tr>\n",
        "  </tbody>\n",
        "</table>\n",
        "</div>\n",
        "  \n",
        "</details>"
      ]
    },
    {
      "cell_type": "code",
      "metadata": {
        "id": "th_aDZENu2At",
        "colab_type": "code",
        "colab": {}
      },
      "source": [
        "# Câu 4: Đếm số lượng rating (Total ratings) theo phim, và lưu vào biến 'movie_count'\n",
        "\n",
        "# Hiển thị 5 dòng dữ liệu đầu của total_ratings\n"
      ],
      "execution_count": 34,
      "outputs": []
    },
    {
      "cell_type": "markdown",
      "metadata": {
        "id": "ihQkSdNWu2Ax",
        "colab_type": "text"
      },
      "source": [
        "<details>\n",
        "  <summary>Nhấn vào đây để xem kết quả!</summary>\n",
        "  <div>\n",
        "<style scoped=\"\">\n",
        "    .dataframe tbody tr th:only-of-type {\n",
        "        vertical-align: middle;\n",
        "    }\n",
        "\n",
        "    .dataframe tbody tr th {\n",
        "        vertical-align: top;\n",
        "    }\n",
        "\n",
        "    .dataframe thead th {\n",
        "        text-align: right;\n",
        "    }\n",
        "</style>\n",
        "<table border=\"1\" class=\"dataframe\">\n",
        "  <thead>\n",
        "    <tr style=\"text-align: right;\">\n",
        "      <th></th>\n",
        "      <th>movieId</th>\n",
        "      <th>title</th>\n",
        "      <th>genres</th>\n",
        "      <th>Total ratings</th>\n",
        "    </tr>\n",
        "  </thead>\n",
        "  <tbody>\n",
        "    <tr>\n",
        "      <th>0</th>\n",
        "      <td>1</td>\n",
        "      <td>Toy Story (1995)</td>\n",
        "      <td>Adventure|Animation|Children|Comedy|Fantasy</td>\n",
        "      <td>247</td>\n",
        "    </tr>\n",
        "    <tr>\n",
        "      <th>1</th>\n",
        "      <td>2</td>\n",
        "      <td>Jumanji (1995)</td>\n",
        "      <td>Adventure|Children|Fantasy</td>\n",
        "      <td>107</td>\n",
        "    </tr>\n",
        "    <tr>\n",
        "      <th>2</th>\n",
        "      <td>3</td>\n",
        "      <td>Grumpier Old Men (1995)</td>\n",
        "      <td>Comedy|Romance</td>\n",
        "      <td>59</td>\n",
        "    </tr>\n",
        "    <tr>\n",
        "      <th>3</th>\n",
        "      <td>4</td>\n",
        "      <td>Waiting to Exhale (1995)</td>\n",
        "      <td>Comedy|Drama|Romance</td>\n",
        "      <td>14</td>\n",
        "    </tr>\n",
        "    <tr>\n",
        "      <th>4</th>\n",
        "      <td>5</td>\n",
        "      <td>Father of the Bride Part II (1995)</td>\n",
        "      <td>Comedy</td>\n",
        "      <td>56</td>\n",
        "    </tr>\n",
        "  </tbody>\n",
        "</table>\n",
        "</div>\n",
        "  \n",
        "</details>"
      ]
    },
    {
      "cell_type": "code",
      "metadata": {
        "id": "NgSOQvyeu2Ax",
        "colab_type": "code",
        "colab": {}
      },
      "source": [
        "# Câu 5: Tính rating trung bình (Average ratings) theo mỗi phim, và lưu vào biến avg_ratings\n",
        "\n",
        "# Hiển thị 5 dòng dữ liệu đầu của avg_ratings\n"
      ],
      "execution_count": 35,
      "outputs": []
    },
    {
      "cell_type": "markdown",
      "metadata": {
        "id": "4naf3AU-u2A0",
        "colab_type": "text"
      },
      "source": [
        "<details>\n",
        "  <summary>Nhấn vào đây để xem kết quả!</summary>\n",
        "  <div>\n",
        "<style scoped=\"\">\n",
        "    .dataframe tbody tr th:only-of-type {\n",
        "        vertical-align: middle;\n",
        "    }\n",
        "\n",
        "    .dataframe tbody tr th {\n",
        "        vertical-align: top;\n",
        "    }\n",
        "\n",
        "    .dataframe thead th {\n",
        "        text-align: right;\n",
        "    }\n",
        "</style>\n",
        "<table border=\"1\" class=\"dataframe\">\n",
        "  <thead>\n",
        "    <tr style=\"text-align: right;\">\n",
        "      <th></th>\n",
        "      <th>movieId</th>\n",
        "      <th>title</th>\n",
        "      <th>genres</th>\n",
        "      <th>Average ratings</th>\n",
        "    </tr>\n",
        "  </thead>\n",
        "  <tbody>\n",
        "    <tr>\n",
        "      <th>0</th>\n",
        "      <td>1</td>\n",
        "      <td>Toy Story (1995)</td>\n",
        "      <td>Adventure|Animation|Children|Comedy|Fantasy</td>\n",
        "      <td>3.872470</td>\n",
        "    </tr>\n",
        "    <tr>\n",
        "      <th>1</th>\n",
        "      <td>2</td>\n",
        "      <td>Jumanji (1995)</td>\n",
        "      <td>Adventure|Children|Fantasy</td>\n",
        "      <td>3.401869</td>\n",
        "    </tr>\n",
        "    <tr>\n",
        "      <th>2</th>\n",
        "      <td>3</td>\n",
        "      <td>Grumpier Old Men (1995)</td>\n",
        "      <td>Comedy|Romance</td>\n",
        "      <td>3.161017</td>\n",
        "    </tr>\n",
        "    <tr>\n",
        "      <th>3</th>\n",
        "      <td>4</td>\n",
        "      <td>Waiting to Exhale (1995)</td>\n",
        "      <td>Comedy|Drama|Romance</td>\n",
        "      <td>2.500000</td>\n",
        "    </tr>\n",
        "    <tr>\n",
        "      <th>4</th>\n",
        "      <td>5</td>\n",
        "      <td>Father of the Bride Part II (1995)</td>\n",
        "      <td>Comedy</td>\n",
        "      <td>3.267857</td>\n",
        "    </tr>\n",
        "  </tbody>\n",
        "</table>\n",
        "</div>\n",
        "  \n",
        "</details>"
      ]
    },
    {
      "cell_type": "code",
      "metadata": {
        "id": "w26AVT0yu2A0",
        "colab_type": "code",
        "colab": {}
      },
      "source": [
        "# Câu 6: Hiển thị rating trung bình của các phim là ‘Comedy’, \n",
        "# chỉ in ra 5 dòng dữ liệu đầu của dataframe kết quả\n"
      ],
      "execution_count": 36,
      "outputs": []
    },
    {
      "cell_type": "markdown",
      "metadata": {
        "id": "T8SmKixLu2A4",
        "colab_type": "text"
      },
      "source": [
        "<details>\n",
        "  <summary>Nhấn vào đây để xem kết quả!</summary>\n",
        "  <div>\n",
        "<style scoped=\"\">\n",
        "    .dataframe tbody tr th:only-of-type {\n",
        "        vertical-align: middle;\n",
        "    }\n",
        "\n",
        "    .dataframe tbody tr th {\n",
        "        vertical-align: top;\n",
        "    }\n",
        "\n",
        "    .dataframe thead th {\n",
        "        text-align: right;\n",
        "    }\n",
        "</style>\n",
        "<table border=\"1\" class=\"dataframe\">\n",
        "  <thead>\n",
        "    <tr style=\"text-align: right;\">\n",
        "      <th></th>\n",
        "      <th>movieId</th>\n",
        "      <th>title</th>\n",
        "      <th>genres</th>\n",
        "      <th>Average ratings</th>\n",
        "    </tr>\n",
        "  </thead>\n",
        "  <tbody>\n",
        "    <tr>\n",
        "      <th>9041</th>\n",
        "      <td>159690</td>\n",
        "      <td>Teenage Mutant Ninja Turtles: Out of the Shado...</td>\n",
        "      <td>Action|Adventure|Comedy</td>\n",
        "      <td>2.0</td>\n",
        "    </tr>\n",
        "    <tr>\n",
        "      <th>9042</th>\n",
        "      <td>159755</td>\n",
        "      <td>Popstar: Never Stop Never Stopping (2016)</td>\n",
        "      <td>Comedy</td>\n",
        "      <td>1.0</td>\n",
        "    </tr>\n",
        "    <tr>\n",
        "      <th>9045</th>\n",
        "      <td>160080</td>\n",
        "      <td>Ghostbusters (2016)</td>\n",
        "      <td>Action|Comedy|Horror|Sci-Fi</td>\n",
        "      <td>1.0</td>\n",
        "    </tr>\n",
        "    <tr>\n",
        "      <th>9046</th>\n",
        "      <td>160271</td>\n",
        "      <td>Central Intelligence (2016)</td>\n",
        "      <td>Action|Comedy</td>\n",
        "      <td>2.5</td>\n",
        "    </tr>\n",
        "    <tr>\n",
        "      <th>9051</th>\n",
        "      <td>160567</td>\n",
        "      <td>Mike &amp; Dave Need Wedding Dates (2016)</td>\n",
        "      <td>Comedy</td>\n",
        "      <td>4.0</td>\n",
        "    </tr>\n",
        "  </tbody>\n",
        "</table>\n",
        "</div>\n",
        "  \n",
        "</details>"
      ]
    },
    {
      "cell_type": "code",
      "metadata": {
        "id": "RDjnEZMGu2A4",
        "colab_type": "code",
        "colab": {}
      },
      "source": [
        "# Câu 7: Hiển thị rating trung bình của các phim là ‘Comedy’ và có 'rating' >= 4, \n",
        "# chỉ in ra 5 dòng dữ liệu cuối của dataframe kết quả.\n"
      ],
      "execution_count": 37,
      "outputs": []
    },
    {
      "cell_type": "markdown",
      "metadata": {
        "id": "ylx2Fe9gu2A6",
        "colab_type": "text"
      },
      "source": [
        "<details>\n",
        "  <summary>Nhấn vào đây để xem kết quả!</summary>\n",
        "  <div>\n",
        "<style scoped=\"\">\n",
        "    .dataframe tbody tr th:only-of-type {\n",
        "        vertical-align: middle;\n",
        "    }\n",
        "\n",
        "    .dataframe tbody tr th {\n",
        "        vertical-align: top;\n",
        "    }\n",
        "\n",
        "    .dataframe thead th {\n",
        "        text-align: right;\n",
        "    }\n",
        "</style>\n",
        "<table border=\"1\" class=\"dataframe\">\n",
        "  <thead>\n",
        "    <tr style=\"text-align: right;\">\n",
        "      <th></th>\n",
        "      <th>movieId</th>\n",
        "      <th>title</th>\n",
        "      <th>genres</th>\n",
        "      <th>Average ratings</th>\n",
        "    </tr>\n",
        "  </thead>\n",
        "  <tbody>\n",
        "    <tr>\n",
        "      <th>9018</th>\n",
        "      <td>152081</td>\n",
        "      <td>Zootopia (2016)</td>\n",
        "      <td>Action|Adventure|Animation|Children|Comedy</td>\n",
        "      <td>4.0</td>\n",
        "    </tr>\n",
        "    <tr>\n",
        "      <th>9022</th>\n",
        "      <td>153584</td>\n",
        "      <td>The Last Days of Emma Blank (2009)</td>\n",
        "      <td>Comedy</td>\n",
        "      <td>5.0</td>\n",
        "    </tr>\n",
        "    <tr>\n",
        "      <th>9026</th>\n",
        "      <td>156025</td>\n",
        "      <td>Ice Age: The Great Egg-Scapade (2016)</td>\n",
        "      <td>Adventure|Animation|Children|Comedy</td>\n",
        "      <td>5.0</td>\n",
        "    </tr>\n",
        "    <tr>\n",
        "      <th>9036</th>\n",
        "      <td>158314</td>\n",
        "      <td>Daniel Tosh: Completely Serious (2007)</td>\n",
        "      <td>Comedy</td>\n",
        "      <td>4.5</td>\n",
        "    </tr>\n",
        "    <tr>\n",
        "      <th>9051</th>\n",
        "      <td>160567</td>\n",
        "      <td>Mike &amp; Dave Need Wedding Dates (2016)</td>\n",
        "      <td>Comedy</td>\n",
        "      <td>4.0</td>\n",
        "    </tr>\n",
        "  </tbody>\n",
        "</table>\n",
        "</div>\n",
        "  \n",
        "</details>"
      ]
    },
    {
      "cell_type": "code",
      "metadata": {
        "id": "Uu_L_uU8u2A7",
        "colab_type": "code",
        "colab": {}
      },
      "source": [
        "# Câu 8: Tính trung bình rating theo year, và lưu vào biến yearly_average\n",
        "\n",
        "# Cho biết shape của yearly_average\n",
        "\n",
        "# Hiển thị 5 dòng dữ liệu đầu của yearly_average\n"
      ],
      "execution_count": 38,
      "outputs": []
    },
    {
      "cell_type": "markdown",
      "metadata": {
        "id": "-k-3hqp8u2A-",
        "colab_type": "text"
      },
      "source": [
        "<details>\n",
        "  <summary>Nhấn vào đây để xem kết quả!</summary>\n",
        "  <pre>(105, 2)\n",
        "</pre>\n",
        "  <div>\n",
        "<style scoped=\"\">\n",
        "    .dataframe tbody tr th:only-of-type {\n",
        "        vertical-align: middle;\n",
        "    }\n",
        "\n",
        "    .dataframe tbody tr th {\n",
        "        vertical-align: top;\n",
        "    }\n",
        "\n",
        "    .dataframe thead th {\n",
        "        text-align: right;\n",
        "    }\n",
        "</style>\n",
        "<table border=\"1\" class=\"dataframe\">\n",
        "  <thead>\n",
        "    <tr style=\"text-align: right;\">\n",
        "      <th></th>\n",
        "      <th>year</th>\n",
        "      <th>rating</th>\n",
        "    </tr>\n",
        "  </thead>\n",
        "  <tbody>\n",
        "    <tr>\n",
        "      <th>0</th>\n",
        "      <td>1902</td>\n",
        "      <td>4.333333</td>\n",
        "    </tr>\n",
        "    <tr>\n",
        "      <th>1</th>\n",
        "      <td>1915</td>\n",
        "      <td>3.000000</td>\n",
        "    </tr>\n",
        "    <tr>\n",
        "      <th>2</th>\n",
        "      <td>1916</td>\n",
        "      <td>3.500000</td>\n",
        "    </tr>\n",
        "    <tr>\n",
        "      <th>3</th>\n",
        "      <td>1917</td>\n",
        "      <td>4.250000</td>\n",
        "    </tr>\n",
        "    <tr>\n",
        "      <th>4</th>\n",
        "      <td>1918</td>\n",
        "      <td>4.250000</td>\n",
        "    </tr>\n",
        "  </tbody>\n",
        "</table>\n",
        "</div>\n",
        "</details>"
      ]
    },
    {
      "cell_type": "code",
      "metadata": {
        "id": "VSG_gt1pu2A-",
        "colab_type": "code",
        "colab": {}
      },
      "source": [
        "# Câu 9: Sắp xếp tăng dần yearly_average\n",
        "\n",
        "# Hiển thị 20 dòng dữ liệu đầu của yearly_average_asc\n"
      ],
      "execution_count": 39,
      "outputs": []
    },
    {
      "cell_type": "markdown",
      "metadata": {
        "id": "Qe0D2sJHu2BB",
        "colab_type": "text"
      },
      "source": [
        "<details>\n",
        "  <summary>Nhấn vào đây để xem kết quả!</summary>\n",
        "  <div>\n",
        "<style scoped=\"\">\n",
        "    .dataframe tbody tr th:only-of-type {\n",
        "        vertical-align: middle;\n",
        "    }\n",
        "\n",
        "    .dataframe tbody tr th {\n",
        "        vertical-align: top;\n",
        "    }\n",
        "\n",
        "    .dataframe thead th {\n",
        "        text-align: right;\n",
        "    }\n",
        "</style>\n",
        "<table border=\"1\" class=\"dataframe\">\n",
        "  <thead>\n",
        "    <tr style=\"text-align: right;\">\n",
        "      <th></th>\n",
        "      <th>year</th>\n",
        "      <th>rating</th>\n",
        "    </tr>\n",
        "  </thead>\n",
        "  <tbody>\n",
        "    <tr>\n",
        "      <th>0</th>\n",
        "      <td>1902</td>\n",
        "      <td>4.333333</td>\n",
        "    </tr>\n",
        "    <tr>\n",
        "      <th>1</th>\n",
        "      <td>1915</td>\n",
        "      <td>3.000000</td>\n",
        "    </tr>\n",
        "    <tr>\n",
        "      <th>2</th>\n",
        "      <td>1916</td>\n",
        "      <td>3.500000</td>\n",
        "    </tr>\n",
        "    <tr>\n",
        "      <th>3</th>\n",
        "      <td>1917</td>\n",
        "      <td>4.250000</td>\n",
        "    </tr>\n",
        "    <tr>\n",
        "      <th>4</th>\n",
        "      <td>1918</td>\n",
        "      <td>4.250000</td>\n",
        "    </tr>\n",
        "    <tr>\n",
        "      <th>5</th>\n",
        "      <td>1919</td>\n",
        "      <td>3.000000</td>\n",
        "    </tr>\n",
        "    <tr>\n",
        "      <th>6</th>\n",
        "      <td>1920</td>\n",
        "      <td>3.700000</td>\n",
        "    </tr>\n",
        "    <tr>\n",
        "      <th>7</th>\n",
        "      <td>1921</td>\n",
        "      <td>4.416667</td>\n",
        "    </tr>\n",
        "    <tr>\n",
        "      <th>8</th>\n",
        "      <td>1922</td>\n",
        "      <td>3.803571</td>\n",
        "    </tr>\n",
        "    <tr>\n",
        "      <th>9</th>\n",
        "      <td>1923</td>\n",
        "      <td>4.166667</td>\n",
        "    </tr>\n",
        "    <tr>\n",
        "      <th>10</th>\n",
        "      <td>1924</td>\n",
        "      <td>4.250000</td>\n",
        "    </tr>\n",
        "    <tr>\n",
        "      <th>11</th>\n",
        "      <td>1925</td>\n",
        "      <td>3.925000</td>\n",
        "    </tr>\n",
        "    <tr>\n",
        "      <th>12</th>\n",
        "      <td>1926</td>\n",
        "      <td>4.025000</td>\n",
        "    </tr>\n",
        "    <tr>\n",
        "      <th>13</th>\n",
        "      <td>1927</td>\n",
        "      <td>3.921053</td>\n",
        "    </tr>\n",
        "    <tr>\n",
        "      <th>14</th>\n",
        "      <td>1928</td>\n",
        "      <td>4.261905</td>\n",
        "    </tr>\n",
        "    <tr>\n",
        "      <th>15</th>\n",
        "      <td>1929</td>\n",
        "      <td>3.361111</td>\n",
        "    </tr>\n",
        "    <tr>\n",
        "      <th>16</th>\n",
        "      <td>1930</td>\n",
        "      <td>3.935484</td>\n",
        "    </tr>\n",
        "    <tr>\n",
        "      <th>17</th>\n",
        "      <td>1931</td>\n",
        "      <td>4.040816</td>\n",
        "    </tr>\n",
        "    <tr>\n",
        "      <th>18</th>\n",
        "      <td>1932</td>\n",
        "      <td>3.500000</td>\n",
        "    </tr>\n",
        "    <tr>\n",
        "      <th>19</th>\n",
        "      <td>1933</td>\n",
        "      <td>3.993243</td>\n",
        "    </tr>\n",
        "  </tbody>\n",
        "</table>\n",
        "</div>\n",
        "  \n",
        "</details>"
      ]
    },
    {
      "cell_type": "markdown",
      "metadata": {
        "id": "OXpDLSisu2BB",
        "colab_type": "text"
      },
      "source": [
        "### Part 6: Parsing Timestamps"
      ]
    },
    {
      "cell_type": "code",
      "metadata": {
        "id": "g-KGSTveu2BC",
        "colab_type": "code",
        "colab": {}
      },
      "source": [
        "# Câu 1: Tạo cột parsed_time trong tags bằng cách đổi thời gian sang định dạng DateTime \n",
        "\n",
        "# Cho biết kiểu dữ liệu của cột parsed_time\n"
      ],
      "execution_count": 40,
      "outputs": []
    },
    {
      "cell_type": "markdown",
      "metadata": {
        "id": "gqYlHEgUu2BE",
        "colab_type": "text"
      },
      "source": [
        "<details>\n",
        "  <summary>Nhấn vào đây để xem kết quả!</summary>\n",
        "  <pre>dtype('&lt;M8[ns]')</pre>\n",
        "  \n",
        "</details>"
      ]
    },
    {
      "cell_type": "code",
      "metadata": {
        "id": "rjmaGLoRu2BE",
        "colab_type": "code",
        "colab": {}
      },
      "source": [
        "# Hiển thị 5 dòng dữ liệu đầu của tags\n"
      ],
      "execution_count": 41,
      "outputs": []
    },
    {
      "cell_type": "markdown",
      "metadata": {
        "id": "JSU9_PPmu2BH",
        "colab_type": "text"
      },
      "source": [
        "<details>\n",
        "  <summary>Nhấn vào đây để xem kết quả!</summary>\n",
        "  <div>\n",
        "<style scoped=\"\">\n",
        "    .dataframe tbody tr th:only-of-type {\n",
        "        vertical-align: middle;\n",
        "    }\n",
        "\n",
        "    .dataframe tbody tr th {\n",
        "        vertical-align: top;\n",
        "    }\n",
        "\n",
        "    .dataframe thead th {\n",
        "        text-align: right;\n",
        "    }\n",
        "</style>\n",
        "<table border=\"1\" class=\"dataframe\">\n",
        "  <thead>\n",
        "    <tr style=\"text-align: right;\">\n",
        "      <th></th>\n",
        "      <th>userId</th>\n",
        "      <th>movieId</th>\n",
        "      <th>tag</th>\n",
        "      <th>timestamp</th>\n",
        "      <th>parsed_time</th>\n",
        "    </tr>\n",
        "  </thead>\n",
        "  <tbody>\n",
        "    <tr>\n",
        "      <th>0</th>\n",
        "      <td>15</td>\n",
        "      <td>339</td>\n",
        "      <td>sandra 'boring' bullock</td>\n",
        "      <td>1138537770</td>\n",
        "      <td>2006-01-29 12:29:30</td>\n",
        "    </tr>\n",
        "    <tr>\n",
        "      <th>1</th>\n",
        "      <td>15</td>\n",
        "      <td>1955</td>\n",
        "      <td>dentist</td>\n",
        "      <td>1193435061</td>\n",
        "      <td>2007-10-26 21:44:21</td>\n",
        "    </tr>\n",
        "    <tr>\n",
        "      <th>2</th>\n",
        "      <td>15</td>\n",
        "      <td>7478</td>\n",
        "      <td>Cambodia</td>\n",
        "      <td>1170560997</td>\n",
        "      <td>2007-02-04 03:49:57</td>\n",
        "    </tr>\n",
        "    <tr>\n",
        "      <th>3</th>\n",
        "      <td>15</td>\n",
        "      <td>32892</td>\n",
        "      <td>Russian</td>\n",
        "      <td>1170626366</td>\n",
        "      <td>2007-02-04 21:59:26</td>\n",
        "    </tr>\n",
        "    <tr>\n",
        "      <th>4</th>\n",
        "      <td>15</td>\n",
        "      <td>34162</td>\n",
        "      <td>forgettable</td>\n",
        "      <td>1141391765</td>\n",
        "      <td>2006-03-03 13:16:05</td>\n",
        "    </tr>\n",
        "  </tbody>\n",
        "</table>\n",
        "</div>\n",
        "  \n",
        "</details>"
      ]
    },
    {
      "cell_type": "code",
      "metadata": {
        "id": "syimC4xlu2BI",
        "colab_type": "code",
        "colab": {}
      },
      "source": [
        "# Câu 2: Tạo selected_rows chứa các dòng có tags['parsed_time'] > '2015-02-01'. \n"
      ],
      "execution_count": 42,
      "outputs": []
    },
    {
      "cell_type": "markdown",
      "metadata": {
        "id": "k4Mi3ae2u2BJ",
        "colab_type": "text"
      },
      "source": [
        "<details>\n",
        "  <summary>Nhấn vào đây để xem kết quả!</summary>\n",
        "  <div>\n",
        "<style scoped=\"\">\n",
        "    .dataframe tbody tr th:only-of-type {\n",
        "        vertical-align: middle;\n",
        "    }\n",
        "\n",
        "    .dataframe tbody tr th {\n",
        "        vertical-align: top;\n",
        "    }\n",
        "\n",
        "    .dataframe thead th {\n",
        "        text-align: right;\n",
        "    }\n",
        "</style>\n",
        "<table border=\"1\" class=\"dataframe\">\n",
        "  <thead>\n",
        "    <tr style=\"text-align: right;\">\n",
        "      <th></th>\n",
        "      <th>userId</th>\n",
        "      <th>movieId</th>\n",
        "      <th>tag</th>\n",
        "      <th>timestamp</th>\n",
        "      <th>parsed_time</th>\n",
        "    </tr>\n",
        "  </thead>\n",
        "  <tbody>\n",
        "    <tr>\n",
        "      <th>8</th>\n",
        "      <td>15</td>\n",
        "      <td>100365</td>\n",
        "      <td>activist</td>\n",
        "      <td>1425876220</td>\n",
        "      <td>2015-03-09 04:43:40</td>\n",
        "    </tr>\n",
        "    <tr>\n",
        "      <th>9</th>\n",
        "      <td>15</td>\n",
        "      <td>100365</td>\n",
        "      <td>documentary</td>\n",
        "      <td>1425876220</td>\n",
        "      <td>2015-03-09 04:43:40</td>\n",
        "    </tr>\n",
        "    <tr>\n",
        "      <th>10</th>\n",
        "      <td>15</td>\n",
        "      <td>100365</td>\n",
        "      <td>uganda</td>\n",
        "      <td>1425876220</td>\n",
        "      <td>2015-03-09 04:43:40</td>\n",
        "    </tr>\n",
        "    <tr>\n",
        "      <th>15</th>\n",
        "      <td>73</td>\n",
        "      <td>107999</td>\n",
        "      <td>action</td>\n",
        "      <td>1430799184</td>\n",
        "      <td>2015-05-05 04:13:04</td>\n",
        "    </tr>\n",
        "    <tr>\n",
        "      <th>16</th>\n",
        "      <td>73</td>\n",
        "      <td>107999</td>\n",
        "      <td>anime</td>\n",
        "      <td>1430799184</td>\n",
        "      <td>2015-05-05 04:13:04</td>\n",
        "    </tr>\n",
        "  </tbody>\n",
        "</table>\n",
        "</div>\n",
        "  \n",
        "</details>"
      ]
    },
    {
      "cell_type": "code",
      "metadata": {
        "id": "-CXTDbG-u2BK",
        "colab_type": "code",
        "colab": {}
      },
      "source": [
        "# Câu 3: Sắp xếp dữ liệu tags tăng dần theo cột parsed_time\n",
        "# Hiển thị 10 dòng dữ liệu đầu của tags\n"
      ],
      "execution_count": 43,
      "outputs": []
    },
    {
      "cell_type": "markdown",
      "metadata": {
        "id": "90Lim2olu2BN",
        "colab_type": "text"
      },
      "source": [
        "<details>\n",
        "  <summary>Nhấn vào đây để xem kết quả!</summary>\n",
        "  <div>\n",
        "<style scoped=\"\">\n",
        "    .dataframe tbody tr th:only-of-type {\n",
        "        vertical-align: middle;\n",
        "    }\n",
        "\n",
        "    .dataframe tbody tr th {\n",
        "        vertical-align: top;\n",
        "    }\n",
        "\n",
        "    .dataframe thead th {\n",
        "        text-align: right;\n",
        "    }\n",
        "</style>\n",
        "<table border=\"1\" class=\"dataframe\">\n",
        "  <thead>\n",
        "    <tr style=\"text-align: right;\">\n",
        "      <th></th>\n",
        "      <th>userId</th>\n",
        "      <th>movieId</th>\n",
        "      <th>tag</th>\n",
        "      <th>timestamp</th>\n",
        "      <th>parsed_time</th>\n",
        "    </tr>\n",
        "  </thead>\n",
        "  <tbody>\n",
        "    <tr>\n",
        "      <th>338</th>\n",
        "      <td>353</td>\n",
        "      <td>35836</td>\n",
        "      <td>dumb</td>\n",
        "      <td>1137217440</td>\n",
        "      <td>2006-01-14 05:44:00</td>\n",
        "    </tr>\n",
        "    <tr>\n",
        "      <th>0</th>\n",
        "      <td>15</td>\n",
        "      <td>339</td>\n",
        "      <td>sandra 'boring' bullock</td>\n",
        "      <td>1138537770</td>\n",
        "      <td>2006-01-29 12:29:30</td>\n",
        "    </tr>\n",
        "    <tr>\n",
        "      <th>232</th>\n",
        "      <td>294</td>\n",
        "      <td>36401</td>\n",
        "      <td>fairy tales</td>\n",
        "      <td>1138983064</td>\n",
        "      <td>2006-02-03 16:11:04</td>\n",
        "    </tr>\n",
        "    <tr>\n",
        "      <th>229</th>\n",
        "      <td>294</td>\n",
        "      <td>6754</td>\n",
        "      <td>vampire</td>\n",
        "      <td>1138983469</td>\n",
        "      <td>2006-02-03 16:17:49</td>\n",
        "    </tr>\n",
        "    <tr>\n",
        "      <th>333</th>\n",
        "      <td>353</td>\n",
        "      <td>4721</td>\n",
        "      <td>As historicaly correct as Germany winning WW2</td>\n",
        "      <td>1140389056</td>\n",
        "      <td>2006-02-19 22:44:16</td>\n",
        "    </tr>\n",
        "    <tr>\n",
        "      <th>334</th>\n",
        "      <td>353</td>\n",
        "      <td>4721</td>\n",
        "      <td>but still a fun movie.</td>\n",
        "      <td>1140389056</td>\n",
        "      <td>2006-02-19 22:44:16</td>\n",
        "    </tr>\n",
        "    <tr>\n",
        "      <th>335</th>\n",
        "      <td>353</td>\n",
        "      <td>7376</td>\n",
        "      <td>The Rocks \"finest\" work need I say more?</td>\n",
        "      <td>1140389511</td>\n",
        "      <td>2006-02-19 22:51:51</td>\n",
        "    </tr>\n",
        "    <tr>\n",
        "      <th>336</th>\n",
        "      <td>353</td>\n",
        "      <td>31221</td>\n",
        "      <td>Try not to mistake this for an episode of Alias</td>\n",
        "      <td>1140389595</td>\n",
        "      <td>2006-02-19 22:53:15</td>\n",
        "    </tr>\n",
        "    <tr>\n",
        "      <th>230</th>\n",
        "      <td>294</td>\n",
        "      <td>8865</td>\n",
        "      <td>1940's feel</td>\n",
        "      <td>1140395930</td>\n",
        "      <td>2006-02-20 00:38:50</td>\n",
        "    </tr>\n",
        "    <tr>\n",
        "      <th>231</th>\n",
        "      <td>294</td>\n",
        "      <td>8865</td>\n",
        "      <td>unique look</td>\n",
        "      <td>1140395930</td>\n",
        "      <td>2006-02-20 00:38:50</td>\n",
        "    </tr>\n",
        "  </tbody>\n",
        "</table>\n",
        "</div>\n",
        "  \n",
        "</details>"
      ]
    },
    {
      "cell_type": "markdown",
      "metadata": {
        "id": "MRfyZviqu2BN",
        "colab_type": "text"
      },
      "source": [
        "### Part 7: Trực quan hóa dữ liệu"
      ]
    },
    {
      "cell_type": "code",
      "metadata": {
        "id": "C4I8xMS0u2BN",
        "colab_type": "code",
        "colab": {}
      },
      "source": [
        "# Câu 1: Vẽ biểu đồ histogram cột 'rating' của ratings\n"
      ],
      "execution_count": 48,
      "outputs": [
        {
          "output_type": "execute_result",
          "data": {
            "text/plain": "<AxesSubplot:ylabel='Frequency'>"
          },
          "metadata": {},
          "execution_count": 48
        },
        {
          "output_type": "display_data",
          "data": {
            "text/plain": "<Figure size 432x288 with 1 Axes>",
            "image/svg+xml": "<?xml version=\"1.0\" encoding=\"utf-8\" standalone=\"no\"?>\n<!DOCTYPE svg PUBLIC \"-//W3C//DTD SVG 1.1//EN\"\n  \"http://www.w3.org/Graphics/SVG/1.1/DTD/svg11.dtd\">\n<!-- Created with matplotlib (https://matplotlib.org/) -->\n<svg height=\"261.19625pt\" version=\"1.1\" viewBox=\"0 0 408.053125 261.19625\" width=\"408.053125pt\" xmlns=\"http://www.w3.org/2000/svg\" xmlns:xlink=\"http://www.w3.org/1999/xlink\">\n <metadata>\n  <rdf:RDF xmlns:cc=\"http://creativecommons.org/ns#\" xmlns:dc=\"http://purl.org/dc/elements/1.1/\" xmlns:rdf=\"http://www.w3.org/1999/02/22-rdf-syntax-ns#\">\n   <cc:Work>\n    <dc:type rdf:resource=\"http://purl.org/dc/dcmitype/StillImage\"/>\n    <dc:date>2020-09-08T01:05:00.330503</dc:date>\n    <dc:format>image/svg+xml</dc:format>\n    <dc:creator>\n     <cc:Agent>\n      <dc:title>Matplotlib v3.3.1, https://matplotlib.org/</dc:title>\n     </cc:Agent>\n    </dc:creator>\n   </cc:Work>\n  </rdf:RDF>\n </metadata>\n <defs>\n  <style type=\"text/css\">*{stroke-linecap:butt;stroke-linejoin:round;}</style>\n </defs>\n <g id=\"figure_1\">\n  <g id=\"patch_1\">\n   <path d=\"M 0 261.19625 \nL 408.053125 261.19625 \nL 408.053125 0 \nL 0 0 \nz\n\" style=\"fill:none;\"/>\n  </g>\n  <g id=\"axes_1\">\n   <g id=\"patch_2\">\n    <path d=\"M 66.053125 224.64 \nL 400.853125 224.64 \nL 400.853125 7.2 \nL 66.053125 7.2 \nz\n\" style=\"fill:#ffffff;\"/>\n   </g>\n   <g id=\"patch_3\">\n    <path clip-path=\"url(#p050fcb67c9)\" d=\"M 81.271307 224.64 \nL 111.70767 224.64 \nL 111.70767 17.554286 \nL 81.271307 17.554286 \nz\n\" style=\"fill:#1f77b4;\"/>\n   </g>\n   <g id=\"patch_4\">\n    <path clip-path=\"url(#p050fcb67c9)\" d=\"M 111.70767 224.64 \nL 142.144034 224.64 \nL 142.144034 224.64 \nL 111.70767 224.64 \nz\n\" style=\"fill:#1f77b4;\"/>\n   </g>\n   <g id=\"patch_5\">\n    <path clip-path=\"url(#p050fcb67c9)\" d=\"M 142.144034 224.64 \nL 172.580398 224.64 \nL 172.580398 224.64 \nL 142.144034 224.64 \nz\n\" style=\"fill:#1f77b4;\"/>\n   </g>\n   <g id=\"patch_6\">\n    <path clip-path=\"url(#p050fcb67c9)\" d=\"M 172.580398 224.64 \nL 203.016761 224.64 \nL 203.016761 224.64 \nL 172.580398 224.64 \nz\n\" style=\"fill:#1f77b4;\"/>\n   </g>\n   <g id=\"patch_7\">\n    <path clip-path=\"url(#p050fcb67c9)\" d=\"M 203.016761 224.64 \nL 233.453125 224.64 \nL 233.453125 224.64 \nL 203.016761 224.64 \nz\n\" style=\"fill:#1f77b4;\"/>\n   </g>\n   <g id=\"patch_8\">\n    <path clip-path=\"url(#p050fcb67c9)\" d=\"M 233.453125 224.64 \nL 263.889489 224.64 \nL 263.889489 224.64 \nL 233.453125 224.64 \nz\n\" style=\"fill:#1f77b4;\"/>\n   </g>\n   <g id=\"patch_9\">\n    <path clip-path=\"url(#p050fcb67c9)\" d=\"M 263.889489 224.64 \nL 294.325852 224.64 \nL 294.325852 224.64 \nL 263.889489 224.64 \nz\n\" style=\"fill:#1f77b4;\"/>\n   </g>\n   <g id=\"patch_10\">\n    <path clip-path=\"url(#p050fcb67c9)\" d=\"M 294.325852 224.64 \nL 324.762216 224.64 \nL 324.762216 224.64 \nL 294.325852 224.64 \nz\n\" style=\"fill:#1f77b4;\"/>\n   </g>\n   <g id=\"patch_11\">\n    <path clip-path=\"url(#p050fcb67c9)\" d=\"M 324.762216 224.64 \nL 355.19858 224.64 \nL 355.19858 224.64 \nL 324.762216 224.64 \nz\n\" style=\"fill:#1f77b4;\"/>\n   </g>\n   <g id=\"patch_12\">\n    <path clip-path=\"url(#p050fcb67c9)\" d=\"M 355.19858 224.64 \nL 385.634943 224.64 \nL 385.634943 224.64 \nL 355.19858 224.64 \nz\n\" style=\"fill:#1f77b4;\"/>\n   </g>\n   <g id=\"patch_13\">\n    <path clip-path=\"url(#p050fcb67c9)\" d=\"M 81.271307 224.64 \nL 111.70767 224.64 \nL 111.70767 17.554286 \nL 81.271307 17.554286 \nz\n\" style=\"fill:#ff7f0e;\"/>\n   </g>\n   <g id=\"patch_14\">\n    <path clip-path=\"url(#p050fcb67c9)\" d=\"M 111.70767 224.64 \nL 142.144034 224.64 \nL 142.144034 224.64 \nL 111.70767 224.64 \nz\n\" style=\"fill:#ff7f0e;\"/>\n   </g>\n   <g id=\"patch_15\">\n    <path clip-path=\"url(#p050fcb67c9)\" d=\"M 142.144034 224.64 \nL 172.580398 224.64 \nL 172.580398 224.64 \nL 142.144034 224.64 \nz\n\" style=\"fill:#ff7f0e;\"/>\n   </g>\n   <g id=\"patch_16\">\n    <path clip-path=\"url(#p050fcb67c9)\" d=\"M 172.580398 224.64 \nL 203.016761 224.64 \nL 203.016761 224.64 \nL 172.580398 224.64 \nz\n\" style=\"fill:#ff7f0e;\"/>\n   </g>\n   <g id=\"patch_17\">\n    <path clip-path=\"url(#p050fcb67c9)\" d=\"M 203.016761 224.64 \nL 233.453125 224.64 \nL 233.453125 224.64 \nL 203.016761 224.64 \nz\n\" style=\"fill:#ff7f0e;\"/>\n   </g>\n   <g id=\"patch_18\">\n    <path clip-path=\"url(#p050fcb67c9)\" d=\"M 233.453125 224.64 \nL 263.889489 224.64 \nL 263.889489 224.64 \nL 233.453125 224.64 \nz\n\" style=\"fill:#ff7f0e;\"/>\n   </g>\n   <g id=\"patch_19\">\n    <path clip-path=\"url(#p050fcb67c9)\" d=\"M 263.889489 224.64 \nL 294.325852 224.64 \nL 294.325852 224.64 \nL 263.889489 224.64 \nz\n\" style=\"fill:#ff7f0e;\"/>\n   </g>\n   <g id=\"patch_20\">\n    <path clip-path=\"url(#p050fcb67c9)\" d=\"M 294.325852 224.64 \nL 324.762216 224.64 \nL 324.762216 224.64 \nL 294.325852 224.64 \nz\n\" style=\"fill:#ff7f0e;\"/>\n   </g>\n   <g id=\"patch_21\">\n    <path clip-path=\"url(#p050fcb67c9)\" d=\"M 324.762216 224.64 \nL 355.19858 224.64 \nL 355.19858 224.64 \nL 324.762216 224.64 \nz\n\" style=\"fill:#ff7f0e;\"/>\n   </g>\n   <g id=\"patch_22\">\n    <path clip-path=\"url(#p050fcb67c9)\" d=\"M 355.19858 224.64 \nL 385.634943 224.64 \nL 385.634943 224.64 \nL 355.19858 224.64 \nz\n\" style=\"fill:#ff7f0e;\"/>\n   </g>\n   <g id=\"patch_23\">\n    <path clip-path=\"url(#p050fcb67c9)\" d=\"M 81.271307 224.64 \nL 111.70767 224.64 \nL 111.70767 17.554286 \nL 81.271307 17.554286 \nz\n\" style=\"fill:#2ca02c;\"/>\n   </g>\n   <g id=\"patch_24\">\n    <path clip-path=\"url(#p050fcb67c9)\" d=\"M 111.70767 224.64 \nL 142.144034 224.64 \nL 142.144034 224.64 \nL 111.70767 224.64 \nz\n\" style=\"fill:#2ca02c;\"/>\n   </g>\n   <g id=\"patch_25\">\n    <path clip-path=\"url(#p050fcb67c9)\" d=\"M 142.144034 224.64 \nL 172.580398 224.64 \nL 172.580398 224.64 \nL 142.144034 224.64 \nz\n\" style=\"fill:#2ca02c;\"/>\n   </g>\n   <g id=\"patch_26\">\n    <path clip-path=\"url(#p050fcb67c9)\" d=\"M 172.580398 224.64 \nL 203.016761 224.64 \nL 203.016761 224.64 \nL 172.580398 224.64 \nz\n\" style=\"fill:#2ca02c;\"/>\n   </g>\n   <g id=\"patch_27\">\n    <path clip-path=\"url(#p050fcb67c9)\" d=\"M 203.016761 224.64 \nL 233.453125 224.64 \nL 233.453125 224.64 \nL 203.016761 224.64 \nz\n\" style=\"fill:#2ca02c;\"/>\n   </g>\n   <g id=\"patch_28\">\n    <path clip-path=\"url(#p050fcb67c9)\" d=\"M 233.453125 224.64 \nL 263.889489 224.64 \nL 263.889489 224.64 \nL 233.453125 224.64 \nz\n\" style=\"fill:#2ca02c;\"/>\n   </g>\n   <g id=\"patch_29\">\n    <path clip-path=\"url(#p050fcb67c9)\" d=\"M 263.889489 224.64 \nL 294.325852 224.64 \nL 294.325852 224.64 \nL 263.889489 224.64 \nz\n\" style=\"fill:#2ca02c;\"/>\n   </g>\n   <g id=\"patch_30\">\n    <path clip-path=\"url(#p050fcb67c9)\" d=\"M 294.325852 224.64 \nL 324.762216 224.64 \nL 324.762216 224.64 \nL 294.325852 224.64 \nz\n\" style=\"fill:#2ca02c;\"/>\n   </g>\n   <g id=\"patch_31\">\n    <path clip-path=\"url(#p050fcb67c9)\" d=\"M 324.762216 224.64 \nL 355.19858 224.64 \nL 355.19858 224.64 \nL 324.762216 224.64 \nz\n\" style=\"fill:#2ca02c;\"/>\n   </g>\n   <g id=\"patch_32\">\n    <path clip-path=\"url(#p050fcb67c9)\" d=\"M 355.19858 224.64 \nL 385.634943 224.64 \nL 385.634943 224.64 \nL 355.19858 224.64 \nz\n\" style=\"fill:#2ca02c;\"/>\n   </g>\n   <g id=\"patch_33\">\n    <path clip-path=\"url(#p050fcb67c9)\" d=\"M 81.271307 224.64 \nL 111.70767 224.64 \nL 111.70767 224.637929 \nL 81.271307 224.637929 \nz\n\" style=\"fill:#d62728;\"/>\n   </g>\n   <g id=\"patch_34\">\n    <path clip-path=\"url(#p050fcb67c9)\" d=\"M 111.70767 224.64 \nL 142.144034 224.64 \nL 142.144034 224.64 \nL 111.70767 224.64 \nz\n\" style=\"fill:#d62728;\"/>\n   </g>\n   <g id=\"patch_35\">\n    <path clip-path=\"url(#p050fcb67c9)\" d=\"M 142.144034 224.64 \nL 172.580398 224.64 \nL 172.580398 224.64 \nL 142.144034 224.64 \nz\n\" style=\"fill:#d62728;\"/>\n   </g>\n   <g id=\"patch_36\">\n    <path clip-path=\"url(#p050fcb67c9)\" d=\"M 172.580398 224.64 \nL 203.016761 224.64 \nL 203.016761 224.64 \nL 172.580398 224.64 \nz\n\" style=\"fill:#d62728;\"/>\n   </g>\n   <g id=\"patch_37\">\n    <path clip-path=\"url(#p050fcb67c9)\" d=\"M 203.016761 224.64 \nL 233.453125 224.64 \nL 233.453125 224.64 \nL 203.016761 224.64 \nz\n\" style=\"fill:#d62728;\"/>\n   </g>\n   <g id=\"patch_38\">\n    <path clip-path=\"url(#p050fcb67c9)\" d=\"M 233.453125 224.64 \nL 263.889489 224.64 \nL 263.889489 204.84358 \nL 233.453125 204.84358 \nz\n\" style=\"fill:#d62728;\"/>\n   </g>\n   <g id=\"patch_39\">\n    <path clip-path=\"url(#p050fcb67c9)\" d=\"M 263.889489 224.64 \nL 294.325852 224.64 \nL 294.325852 163.628999 \nL 263.889489 163.628999 \nz\n\" style=\"fill:#d62728;\"/>\n   </g>\n   <g id=\"patch_40\">\n    <path clip-path=\"url(#p050fcb67c9)\" d=\"M 294.325852 224.64 \nL 324.762216 224.64 \nL 324.762216 172.11673 \nL 294.325852 172.11673 \nz\n\" style=\"fill:#d62728;\"/>\n   </g>\n   <g id=\"patch_41\">\n    <path clip-path=\"url(#p050fcb67c9)\" d=\"M 324.762216 224.64 \nL 355.19858 224.64 \nL 355.19858 193.781362 \nL 324.762216 193.781362 \nz\n\" style=\"fill:#d62728;\"/>\n   </g>\n   <g id=\"patch_42\">\n    <path clip-path=\"url(#p050fcb67c9)\" d=\"M 355.19858 224.64 \nL 385.634943 224.64 \nL 385.634943 181.745685 \nL 355.19858 181.745685 \nz\n\" style=\"fill:#d62728;\"/>\n   </g>\n   <g id=\"matplotlib.axis_1\">\n    <g id=\"xtick_1\">\n     <g id=\"line2d_1\">\n      <defs>\n       <path d=\"M 0 0 \nL 0 3.5 \n\" id=\"m6971330eab\" style=\"stroke:#000000;stroke-width:0.8;\"/>\n      </defs>\n      <g>\n       <use style=\"stroke:#000000;stroke-width:0.8;\" x=\"81.271307\" xlink:href=\"#m6971330eab\" y=\"224.64\"/>\n      </g>\n     </g>\n     <g id=\"text_1\">\n      <!-- 0.0 -->\n      <g transform=\"translate(73.319744 239.238437)scale(0.1 -0.1)\">\n       <defs>\n        <path d=\"M 31.78125 66.40625 \nQ 24.171875 66.40625 20.328125 58.90625 \nQ 16.5 51.421875 16.5 36.375 \nQ 16.5 21.390625 20.328125 13.890625 \nQ 24.171875 6.390625 31.78125 6.390625 \nQ 39.453125 6.390625 43.28125 13.890625 \nQ 47.125 21.390625 47.125 36.375 \nQ 47.125 51.421875 43.28125 58.90625 \nQ 39.453125 66.40625 31.78125 66.40625 \nz\nM 31.78125 74.21875 \nQ 44.046875 74.21875 50.515625 64.515625 \nQ 56.984375 54.828125 56.984375 36.375 \nQ 56.984375 17.96875 50.515625 8.265625 \nQ 44.046875 -1.421875 31.78125 -1.421875 \nQ 19.53125 -1.421875 13.0625 8.265625 \nQ 6.59375 17.96875 6.59375 36.375 \nQ 6.59375 54.828125 13.0625 64.515625 \nQ 19.53125 74.21875 31.78125 74.21875 \nz\n\" id=\"DejaVuSans-48\"/>\n        <path d=\"M 10.6875 12.40625 \nL 21 12.40625 \nL 21 0 \nL 10.6875 0 \nz\n\" id=\"DejaVuSans-46\"/>\n       </defs>\n       <use xlink:href=\"#DejaVuSans-48\"/>\n       <use x=\"63.623047\" xlink:href=\"#DejaVuSans-46\"/>\n       <use x=\"95.410156\" xlink:href=\"#DejaVuSans-48\"/>\n      </g>\n     </g>\n    </g>\n    <g id=\"xtick_2\">\n     <g id=\"line2d_2\">\n      <g>\n       <use style=\"stroke:#000000;stroke-width:0.8;\" x=\"122.495099\" xlink:href=\"#m6971330eab\" y=\"224.64\"/>\n      </g>\n     </g>\n     <g id=\"text_2\">\n      <!-- 0.2 -->\n      <g transform=\"translate(114.543537 239.238437)scale(0.1 -0.1)\">\n       <defs>\n        <path d=\"M 19.1875 8.296875 \nL 53.609375 8.296875 \nL 53.609375 0 \nL 7.328125 0 \nL 7.328125 8.296875 \nQ 12.9375 14.109375 22.625 23.890625 \nQ 32.328125 33.6875 34.8125 36.53125 \nQ 39.546875 41.84375 41.421875 45.53125 \nQ 43.3125 49.21875 43.3125 52.78125 \nQ 43.3125 58.59375 39.234375 62.25 \nQ 35.15625 65.921875 28.609375 65.921875 \nQ 23.96875 65.921875 18.8125 64.3125 \nQ 13.671875 62.703125 7.8125 59.421875 \nL 7.8125 69.390625 \nQ 13.765625 71.78125 18.9375 73 \nQ 24.125 74.21875 28.421875 74.21875 \nQ 39.75 74.21875 46.484375 68.546875 \nQ 53.21875 62.890625 53.21875 53.421875 \nQ 53.21875 48.921875 51.53125 44.890625 \nQ 49.859375 40.875 45.40625 35.40625 \nQ 44.1875 33.984375 37.640625 27.21875 \nQ 31.109375 20.453125 19.1875 8.296875 \nz\n\" id=\"DejaVuSans-50\"/>\n       </defs>\n       <use xlink:href=\"#DejaVuSans-48\"/>\n       <use x=\"63.623047\" xlink:href=\"#DejaVuSans-46\"/>\n       <use x=\"95.410156\" xlink:href=\"#DejaVuSans-50\"/>\n      </g>\n     </g>\n    </g>\n    <g id=\"xtick_3\">\n     <g id=\"line2d_3\">\n      <g>\n       <use style=\"stroke:#000000;stroke-width:0.8;\" x=\"163.718891\" xlink:href=\"#m6971330eab\" y=\"224.64\"/>\n      </g>\n     </g>\n     <g id=\"text_3\">\n      <!-- 0.4 -->\n      <g transform=\"translate(155.767329 239.238437)scale(0.1 -0.1)\">\n       <defs>\n        <path d=\"M 37.796875 64.3125 \nL 12.890625 25.390625 \nL 37.796875 25.390625 \nz\nM 35.203125 72.90625 \nL 47.609375 72.90625 \nL 47.609375 25.390625 \nL 58.015625 25.390625 \nL 58.015625 17.1875 \nL 47.609375 17.1875 \nL 47.609375 0 \nL 37.796875 0 \nL 37.796875 17.1875 \nL 4.890625 17.1875 \nL 4.890625 26.703125 \nz\n\" id=\"DejaVuSans-52\"/>\n       </defs>\n       <use xlink:href=\"#DejaVuSans-48\"/>\n       <use x=\"63.623047\" xlink:href=\"#DejaVuSans-46\"/>\n       <use x=\"95.410156\" xlink:href=\"#DejaVuSans-52\"/>\n      </g>\n     </g>\n    </g>\n    <g id=\"xtick_4\">\n     <g id=\"line2d_4\">\n      <g>\n       <use style=\"stroke:#000000;stroke-width:0.8;\" x=\"204.942684\" xlink:href=\"#m6971330eab\" y=\"224.64\"/>\n      </g>\n     </g>\n     <g id=\"text_4\">\n      <!-- 0.6 -->\n      <g transform=\"translate(196.991121 239.238437)scale(0.1 -0.1)\">\n       <defs>\n        <path d=\"M 33.015625 40.375 \nQ 26.375 40.375 22.484375 35.828125 \nQ 18.609375 31.296875 18.609375 23.390625 \nQ 18.609375 15.53125 22.484375 10.953125 \nQ 26.375 6.390625 33.015625 6.390625 \nQ 39.65625 6.390625 43.53125 10.953125 \nQ 47.40625 15.53125 47.40625 23.390625 \nQ 47.40625 31.296875 43.53125 35.828125 \nQ 39.65625 40.375 33.015625 40.375 \nz\nM 52.59375 71.296875 \nL 52.59375 62.3125 \nQ 48.875 64.0625 45.09375 64.984375 \nQ 41.3125 65.921875 37.59375 65.921875 \nQ 27.828125 65.921875 22.671875 59.328125 \nQ 17.53125 52.734375 16.796875 39.40625 \nQ 19.671875 43.65625 24.015625 45.921875 \nQ 28.375 48.1875 33.59375 48.1875 \nQ 44.578125 48.1875 50.953125 41.515625 \nQ 57.328125 34.859375 57.328125 23.390625 \nQ 57.328125 12.15625 50.6875 5.359375 \nQ 44.046875 -1.421875 33.015625 -1.421875 \nQ 20.359375 -1.421875 13.671875 8.265625 \nQ 6.984375 17.96875 6.984375 36.375 \nQ 6.984375 53.65625 15.1875 63.9375 \nQ 23.390625 74.21875 37.203125 74.21875 \nQ 40.921875 74.21875 44.703125 73.484375 \nQ 48.484375 72.75 52.59375 71.296875 \nz\n\" id=\"DejaVuSans-54\"/>\n       </defs>\n       <use xlink:href=\"#DejaVuSans-48\"/>\n       <use x=\"63.623047\" xlink:href=\"#DejaVuSans-46\"/>\n       <use x=\"95.410156\" xlink:href=\"#DejaVuSans-54\"/>\n      </g>\n     </g>\n    </g>\n    <g id=\"xtick_5\">\n     <g id=\"line2d_5\">\n      <g>\n       <use style=\"stroke:#000000;stroke-width:0.8;\" x=\"246.166476\" xlink:href=\"#m6971330eab\" y=\"224.64\"/>\n      </g>\n     </g>\n     <g id=\"text_5\">\n      <!-- 0.8 -->\n      <g transform=\"translate(238.214914 239.238437)scale(0.1 -0.1)\">\n       <defs>\n        <path d=\"M 31.78125 34.625 \nQ 24.75 34.625 20.71875 30.859375 \nQ 16.703125 27.09375 16.703125 20.515625 \nQ 16.703125 13.921875 20.71875 10.15625 \nQ 24.75 6.390625 31.78125 6.390625 \nQ 38.8125 6.390625 42.859375 10.171875 \nQ 46.921875 13.96875 46.921875 20.515625 \nQ 46.921875 27.09375 42.890625 30.859375 \nQ 38.875 34.625 31.78125 34.625 \nz\nM 21.921875 38.8125 \nQ 15.578125 40.375 12.03125 44.71875 \nQ 8.5 49.078125 8.5 55.328125 \nQ 8.5 64.0625 14.71875 69.140625 \nQ 20.953125 74.21875 31.78125 74.21875 \nQ 42.671875 74.21875 48.875 69.140625 \nQ 55.078125 64.0625 55.078125 55.328125 \nQ 55.078125 49.078125 51.53125 44.71875 \nQ 48 40.375 41.703125 38.8125 \nQ 48.828125 37.15625 52.796875 32.3125 \nQ 56.78125 27.484375 56.78125 20.515625 \nQ 56.78125 9.90625 50.3125 4.234375 \nQ 43.84375 -1.421875 31.78125 -1.421875 \nQ 19.734375 -1.421875 13.25 4.234375 \nQ 6.78125 9.90625 6.78125 20.515625 \nQ 6.78125 27.484375 10.78125 32.3125 \nQ 14.796875 37.15625 21.921875 38.8125 \nz\nM 18.3125 54.390625 \nQ 18.3125 48.734375 21.84375 45.5625 \nQ 25.390625 42.390625 31.78125 42.390625 \nQ 38.140625 42.390625 41.71875 45.5625 \nQ 45.3125 48.734375 45.3125 54.390625 \nQ 45.3125 60.0625 41.71875 63.234375 \nQ 38.140625 66.40625 31.78125 66.40625 \nQ 25.390625 66.40625 21.84375 63.234375 \nQ 18.3125 60.0625 18.3125 54.390625 \nz\n\" id=\"DejaVuSans-56\"/>\n       </defs>\n       <use xlink:href=\"#DejaVuSans-48\"/>\n       <use x=\"63.623047\" xlink:href=\"#DejaVuSans-46\"/>\n       <use x=\"95.410156\" xlink:href=\"#DejaVuSans-56\"/>\n      </g>\n     </g>\n    </g>\n    <g id=\"xtick_6\">\n     <g id=\"line2d_6\">\n      <g>\n       <use style=\"stroke:#000000;stroke-width:0.8;\" x=\"287.390268\" xlink:href=\"#m6971330eab\" y=\"224.64\"/>\n      </g>\n     </g>\n     <g id=\"text_6\">\n      <!-- 1.0 -->\n      <g transform=\"translate(279.438706 239.238437)scale(0.1 -0.1)\">\n       <defs>\n        <path d=\"M 12.40625 8.296875 \nL 28.515625 8.296875 \nL 28.515625 63.921875 \nL 10.984375 60.40625 \nL 10.984375 69.390625 \nL 28.421875 72.90625 \nL 38.28125 72.90625 \nL 38.28125 8.296875 \nL 54.390625 8.296875 \nL 54.390625 0 \nL 12.40625 0 \nz\n\" id=\"DejaVuSans-49\"/>\n       </defs>\n       <use xlink:href=\"#DejaVuSans-49\"/>\n       <use x=\"63.623047\" xlink:href=\"#DejaVuSans-46\"/>\n       <use x=\"95.410156\" xlink:href=\"#DejaVuSans-48\"/>\n      </g>\n     </g>\n    </g>\n    <g id=\"xtick_7\">\n     <g id=\"line2d_7\">\n      <g>\n       <use style=\"stroke:#000000;stroke-width:0.8;\" x=\"328.614061\" xlink:href=\"#m6971330eab\" y=\"224.64\"/>\n      </g>\n     </g>\n     <g id=\"text_7\">\n      <!-- 1.2 -->\n      <g transform=\"translate(320.662498 239.238437)scale(0.1 -0.1)\">\n       <use xlink:href=\"#DejaVuSans-49\"/>\n       <use x=\"63.623047\" xlink:href=\"#DejaVuSans-46\"/>\n       <use x=\"95.410156\" xlink:href=\"#DejaVuSans-50\"/>\n      </g>\n     </g>\n    </g>\n    <g id=\"xtick_8\">\n     <g id=\"line2d_8\">\n      <g>\n       <use style=\"stroke:#000000;stroke-width:0.8;\" x=\"369.837853\" xlink:href=\"#m6971330eab\" y=\"224.64\"/>\n      </g>\n     </g>\n     <g id=\"text_8\">\n      <!-- 1.4 -->\n      <g transform=\"translate(361.886291 239.238437)scale(0.1 -0.1)\">\n       <use xlink:href=\"#DejaVuSans-49\"/>\n       <use x=\"63.623047\" xlink:href=\"#DejaVuSans-46\"/>\n       <use x=\"95.410156\" xlink:href=\"#DejaVuSans-52\"/>\n      </g>\n     </g>\n    </g>\n    <g id=\"text_9\">\n     <!-- 1e9 -->\n     <g transform=\"translate(381.975 251.916562)scale(0.1 -0.1)\">\n      <defs>\n       <path d=\"M 56.203125 29.59375 \nL 56.203125 25.203125 \nL 14.890625 25.203125 \nQ 15.484375 15.921875 20.484375 11.0625 \nQ 25.484375 6.203125 34.421875 6.203125 \nQ 39.59375 6.203125 44.453125 7.46875 \nQ 49.3125 8.734375 54.109375 11.28125 \nL 54.109375 2.78125 \nQ 49.265625 0.734375 44.1875 -0.34375 \nQ 39.109375 -1.421875 33.890625 -1.421875 \nQ 20.796875 -1.421875 13.15625 6.1875 \nQ 5.515625 13.8125 5.515625 26.8125 \nQ 5.515625 40.234375 12.765625 48.109375 \nQ 20.015625 56 32.328125 56 \nQ 43.359375 56 49.78125 48.890625 \nQ 56.203125 41.796875 56.203125 29.59375 \nz\nM 47.21875 32.234375 \nQ 47.125 39.59375 43.09375 43.984375 \nQ 39.0625 48.390625 32.421875 48.390625 \nQ 24.90625 48.390625 20.390625 44.140625 \nQ 15.875 39.890625 15.1875 32.171875 \nz\n\" id=\"DejaVuSans-101\"/>\n       <path d=\"M 10.984375 1.515625 \nL 10.984375 10.5 \nQ 14.703125 8.734375 18.5 7.8125 \nQ 22.3125 6.890625 25.984375 6.890625 \nQ 35.75 6.890625 40.890625 13.453125 \nQ 46.046875 20.015625 46.78125 33.40625 \nQ 43.953125 29.203125 39.59375 26.953125 \nQ 35.25 24.703125 29.984375 24.703125 \nQ 19.046875 24.703125 12.671875 31.3125 \nQ 6.296875 37.9375 6.296875 49.421875 \nQ 6.296875 60.640625 12.9375 67.421875 \nQ 19.578125 74.21875 30.609375 74.21875 \nQ 43.265625 74.21875 49.921875 64.515625 \nQ 56.59375 54.828125 56.59375 36.375 \nQ 56.59375 19.140625 48.40625 8.859375 \nQ 40.234375 -1.421875 26.421875 -1.421875 \nQ 22.703125 -1.421875 18.890625 -0.6875 \nQ 15.09375 0.046875 10.984375 1.515625 \nz\nM 30.609375 32.421875 \nQ 37.25 32.421875 41.125 36.953125 \nQ 45.015625 41.5 45.015625 49.421875 \nQ 45.015625 57.28125 41.125 61.84375 \nQ 37.25 66.40625 30.609375 66.40625 \nQ 23.96875 66.40625 20.09375 61.84375 \nQ 16.21875 57.28125 16.21875 49.421875 \nQ 16.21875 41.5 20.09375 36.953125 \nQ 23.96875 32.421875 30.609375 32.421875 \nz\n\" id=\"DejaVuSans-57\"/>\n      </defs>\n      <use xlink:href=\"#DejaVuSans-49\"/>\n      <use x=\"63.623047\" xlink:href=\"#DejaVuSans-101\"/>\n      <use x=\"125.146484\" xlink:href=\"#DejaVuSans-57\"/>\n     </g>\n    </g>\n   </g>\n   <g id=\"matplotlib.axis_2\">\n    <g id=\"ytick_1\">\n     <g id=\"line2d_9\">\n      <defs>\n       <path d=\"M 0 0 \nL -3.5 0 \n\" id=\"mb9fed74af6\" style=\"stroke:#000000;stroke-width:0.8;\"/>\n      </defs>\n      <g>\n       <use style=\"stroke:#000000;stroke-width:0.8;\" x=\"66.053125\" xlink:href=\"#mb9fed74af6\" y=\"224.64\"/>\n      </g>\n     </g>\n     <g id=\"text_10\">\n      <!-- 0 -->\n      <g transform=\"translate(52.690625 228.439219)scale(0.1 -0.1)\">\n       <use xlink:href=\"#DejaVuSans-48\"/>\n      </g>\n     </g>\n    </g>\n    <g id=\"ytick_2\">\n     <g id=\"line2d_10\">\n      <g>\n       <use style=\"stroke:#000000;stroke-width:0.8;\" x=\"66.053125\" xlink:href=\"#mb9fed74af6\" y=\"183.216229\"/>\n      </g>\n     </g>\n     <g id=\"text_11\">\n      <!-- 20000 -->\n      <g transform=\"translate(27.240625 187.015448)scale(0.1 -0.1)\">\n       <use xlink:href=\"#DejaVuSans-50\"/>\n       <use x=\"63.623047\" xlink:href=\"#DejaVuSans-48\"/>\n       <use x=\"127.246094\" xlink:href=\"#DejaVuSans-48\"/>\n       <use x=\"190.869141\" xlink:href=\"#DejaVuSans-48\"/>\n       <use x=\"254.492188\" xlink:href=\"#DejaVuSans-48\"/>\n      </g>\n     </g>\n    </g>\n    <g id=\"ytick_3\">\n     <g id=\"line2d_11\">\n      <g>\n       <use style=\"stroke:#000000;stroke-width:0.8;\" x=\"66.053125\" xlink:href=\"#mb9fed74af6\" y=\"141.792459\"/>\n      </g>\n     </g>\n     <g id=\"text_12\">\n      <!-- 40000 -->\n      <g transform=\"translate(27.240625 145.591677)scale(0.1 -0.1)\">\n       <use xlink:href=\"#DejaVuSans-52\"/>\n       <use x=\"63.623047\" xlink:href=\"#DejaVuSans-48\"/>\n       <use x=\"127.246094\" xlink:href=\"#DejaVuSans-48\"/>\n       <use x=\"190.869141\" xlink:href=\"#DejaVuSans-48\"/>\n       <use x=\"254.492188\" xlink:href=\"#DejaVuSans-48\"/>\n      </g>\n     </g>\n    </g>\n    <g id=\"ytick_4\">\n     <g id=\"line2d_12\">\n      <g>\n       <use style=\"stroke:#000000;stroke-width:0.8;\" x=\"66.053125\" xlink:href=\"#mb9fed74af6\" y=\"100.368688\"/>\n      </g>\n     </g>\n     <g id=\"text_13\">\n      <!-- 60000 -->\n      <g transform=\"translate(27.240625 104.167907)scale(0.1 -0.1)\">\n       <use xlink:href=\"#DejaVuSans-54\"/>\n       <use x=\"63.623047\" xlink:href=\"#DejaVuSans-48\"/>\n       <use x=\"127.246094\" xlink:href=\"#DejaVuSans-48\"/>\n       <use x=\"190.869141\" xlink:href=\"#DejaVuSans-48\"/>\n       <use x=\"254.492188\" xlink:href=\"#DejaVuSans-48\"/>\n      </g>\n     </g>\n    </g>\n    <g id=\"ytick_5\">\n     <g id=\"line2d_13\">\n      <g>\n       <use style=\"stroke:#000000;stroke-width:0.8;\" x=\"66.053125\" xlink:href=\"#mb9fed74af6\" y=\"58.944917\"/>\n      </g>\n     </g>\n     <g id=\"text_14\">\n      <!-- 80000 -->\n      <g transform=\"translate(27.240625 62.744136)scale(0.1 -0.1)\">\n       <use xlink:href=\"#DejaVuSans-56\"/>\n       <use x=\"63.623047\" xlink:href=\"#DejaVuSans-48\"/>\n       <use x=\"127.246094\" xlink:href=\"#DejaVuSans-48\"/>\n       <use x=\"190.869141\" xlink:href=\"#DejaVuSans-48\"/>\n       <use x=\"254.492188\" xlink:href=\"#DejaVuSans-48\"/>\n      </g>\n     </g>\n    </g>\n    <g id=\"ytick_6\">\n     <g id=\"line2d_14\">\n      <g>\n       <use style=\"stroke:#000000;stroke-width:0.8;\" x=\"66.053125\" xlink:href=\"#mb9fed74af6\" y=\"17.521147\"/>\n      </g>\n     </g>\n     <g id=\"text_15\">\n      <!-- 100000 -->\n      <g transform=\"translate(20.878125 21.320365)scale(0.1 -0.1)\">\n       <use xlink:href=\"#DejaVuSans-49\"/>\n       <use x=\"63.623047\" xlink:href=\"#DejaVuSans-48\"/>\n       <use x=\"127.246094\" xlink:href=\"#DejaVuSans-48\"/>\n       <use x=\"190.869141\" xlink:href=\"#DejaVuSans-48\"/>\n       <use x=\"254.492188\" xlink:href=\"#DejaVuSans-48\"/>\n       <use x=\"318.115234\" xlink:href=\"#DejaVuSans-48\"/>\n      </g>\n     </g>\n    </g>\n    <g id=\"text_16\">\n     <!-- Frequency -->\n     <g transform=\"translate(14.798438 141.749687)rotate(-90)scale(0.1 -0.1)\">\n      <defs>\n       <path d=\"M 9.8125 72.90625 \nL 51.703125 72.90625 \nL 51.703125 64.59375 \nL 19.671875 64.59375 \nL 19.671875 43.109375 \nL 48.578125 43.109375 \nL 48.578125 34.8125 \nL 19.671875 34.8125 \nL 19.671875 0 \nL 9.8125 0 \nz\n\" id=\"DejaVuSans-70\"/>\n       <path d=\"M 41.109375 46.296875 \nQ 39.59375 47.171875 37.8125 47.578125 \nQ 36.03125 48 33.890625 48 \nQ 26.265625 48 22.1875 43.046875 \nQ 18.109375 38.09375 18.109375 28.8125 \nL 18.109375 0 \nL 9.078125 0 \nL 9.078125 54.6875 \nL 18.109375 54.6875 \nL 18.109375 46.1875 \nQ 20.953125 51.171875 25.484375 53.578125 \nQ 30.03125 56 36.53125 56 \nQ 37.453125 56 38.578125 55.875 \nQ 39.703125 55.765625 41.0625 55.515625 \nz\n\" id=\"DejaVuSans-114\"/>\n       <path d=\"M 14.796875 27.296875 \nQ 14.796875 17.390625 18.875 11.75 \nQ 22.953125 6.109375 30.078125 6.109375 \nQ 37.203125 6.109375 41.296875 11.75 \nQ 45.40625 17.390625 45.40625 27.296875 \nQ 45.40625 37.203125 41.296875 42.84375 \nQ 37.203125 48.484375 30.078125 48.484375 \nQ 22.953125 48.484375 18.875 42.84375 \nQ 14.796875 37.203125 14.796875 27.296875 \nz\nM 45.40625 8.203125 \nQ 42.578125 3.328125 38.25 0.953125 \nQ 33.9375 -1.421875 27.875 -1.421875 \nQ 17.96875 -1.421875 11.734375 6.484375 \nQ 5.515625 14.40625 5.515625 27.296875 \nQ 5.515625 40.1875 11.734375 48.09375 \nQ 17.96875 56 27.875 56 \nQ 33.9375 56 38.25 53.625 \nQ 42.578125 51.265625 45.40625 46.390625 \nL 45.40625 54.6875 \nL 54.390625 54.6875 \nL 54.390625 -20.796875 \nL 45.40625 -20.796875 \nz\n\" id=\"DejaVuSans-113\"/>\n       <path d=\"M 8.5 21.578125 \nL 8.5 54.6875 \nL 17.484375 54.6875 \nL 17.484375 21.921875 \nQ 17.484375 14.15625 20.5 10.265625 \nQ 23.53125 6.390625 29.59375 6.390625 \nQ 36.859375 6.390625 41.078125 11.03125 \nQ 45.3125 15.671875 45.3125 23.6875 \nL 45.3125 54.6875 \nL 54.296875 54.6875 \nL 54.296875 0 \nL 45.3125 0 \nL 45.3125 8.40625 \nQ 42.046875 3.421875 37.71875 1 \nQ 33.40625 -1.421875 27.6875 -1.421875 \nQ 18.265625 -1.421875 13.375 4.4375 \nQ 8.5 10.296875 8.5 21.578125 \nz\nM 31.109375 56 \nz\n\" id=\"DejaVuSans-117\"/>\n       <path d=\"M 54.890625 33.015625 \nL 54.890625 0 \nL 45.90625 0 \nL 45.90625 32.71875 \nQ 45.90625 40.484375 42.875 44.328125 \nQ 39.84375 48.1875 33.796875 48.1875 \nQ 26.515625 48.1875 22.3125 43.546875 \nQ 18.109375 38.921875 18.109375 30.90625 \nL 18.109375 0 \nL 9.078125 0 \nL 9.078125 54.6875 \nL 18.109375 54.6875 \nL 18.109375 46.1875 \nQ 21.34375 51.125 25.703125 53.5625 \nQ 30.078125 56 35.796875 56 \nQ 45.21875 56 50.046875 50.171875 \nQ 54.890625 44.34375 54.890625 33.015625 \nz\n\" id=\"DejaVuSans-110\"/>\n       <path d=\"M 48.78125 52.59375 \nL 48.78125 44.1875 \nQ 44.96875 46.296875 41.140625 47.34375 \nQ 37.3125 48.390625 33.40625 48.390625 \nQ 24.65625 48.390625 19.8125 42.84375 \nQ 14.984375 37.3125 14.984375 27.296875 \nQ 14.984375 17.28125 19.8125 11.734375 \nQ 24.65625 6.203125 33.40625 6.203125 \nQ 37.3125 6.203125 41.140625 7.25 \nQ 44.96875 8.296875 48.78125 10.40625 \nL 48.78125 2.09375 \nQ 45.015625 0.34375 40.984375 -0.53125 \nQ 36.96875 -1.421875 32.421875 -1.421875 \nQ 20.0625 -1.421875 12.78125 6.34375 \nQ 5.515625 14.109375 5.515625 27.296875 \nQ 5.515625 40.671875 12.859375 48.328125 \nQ 20.21875 56 33.015625 56 \nQ 37.15625 56 41.109375 55.140625 \nQ 45.0625 54.296875 48.78125 52.59375 \nz\n\" id=\"DejaVuSans-99\"/>\n       <path d=\"M 32.171875 -5.078125 \nQ 28.375 -14.84375 24.75 -17.8125 \nQ 21.140625 -20.796875 15.09375 -20.796875 \nL 7.90625 -20.796875 \nL 7.90625 -13.28125 \nL 13.1875 -13.28125 \nQ 16.890625 -13.28125 18.9375 -11.515625 \nQ 21 -9.765625 23.484375 -3.21875 \nL 25.09375 0.875 \nL 2.984375 54.6875 \nL 12.5 54.6875 \nL 29.59375 11.921875 \nL 46.6875 54.6875 \nL 56.203125 54.6875 \nz\n\" id=\"DejaVuSans-121\"/>\n      </defs>\n      <use xlink:href=\"#DejaVuSans-70\"/>\n      <use x=\"50.269531\" xlink:href=\"#DejaVuSans-114\"/>\n      <use x=\"89.132812\" xlink:href=\"#DejaVuSans-101\"/>\n      <use x=\"150.65625\" xlink:href=\"#DejaVuSans-113\"/>\n      <use x=\"214.132812\" xlink:href=\"#DejaVuSans-117\"/>\n      <use x=\"277.511719\" xlink:href=\"#DejaVuSans-101\"/>\n      <use x=\"339.035156\" xlink:href=\"#DejaVuSans-110\"/>\n      <use x=\"402.414062\" xlink:href=\"#DejaVuSans-99\"/>\n      <use x=\"457.394531\" xlink:href=\"#DejaVuSans-121\"/>\n     </g>\n    </g>\n   </g>\n   <g id=\"patch_43\">\n    <path d=\"M 66.053125 224.64 \nL 66.053125 7.2 \n\" style=\"fill:none;stroke:#000000;stroke-linecap:square;stroke-linejoin:miter;stroke-width:0.8;\"/>\n   </g>\n   <g id=\"patch_44\">\n    <path d=\"M 400.853125 224.64 \nL 400.853125 7.2 \n\" style=\"fill:none;stroke:#000000;stroke-linecap:square;stroke-linejoin:miter;stroke-width:0.8;\"/>\n   </g>\n   <g id=\"patch_45\">\n    <path d=\"M 66.053125 224.64 \nL 400.853125 224.64 \n\" style=\"fill:none;stroke:#000000;stroke-linecap:square;stroke-linejoin:miter;stroke-width:0.8;\"/>\n   </g>\n   <g id=\"patch_46\">\n    <path d=\"M 66.053125 7.2 \nL 400.853125 7.2 \n\" style=\"fill:none;stroke:#000000;stroke-linecap:square;stroke-linejoin:miter;stroke-width:0.8;\"/>\n   </g>\n   <g id=\"legend_1\">\n    <g id=\"patch_47\">\n     <path d=\"M 307.914062 73.9125 \nL 393.853125 73.9125 \nQ 395.853125 73.9125 395.853125 71.9125 \nL 395.853125 14.2 \nQ 395.853125 12.2 393.853125 12.2 \nL 307.914062 12.2 \nQ 305.914062 12.2 305.914062 14.2 \nL 305.914062 71.9125 \nQ 305.914062 73.9125 307.914062 73.9125 \nz\n\" style=\"fill:#ffffff;opacity:0.8;stroke:#cccccc;stroke-linejoin:miter;\"/>\n    </g>\n    <g id=\"patch_48\">\n     <path d=\"M 309.914062 23.798437 \nL 329.914062 23.798437 \nL 329.914062 16.798437 \nL 309.914062 16.798437 \nz\n\" style=\"fill:#1f77b4;\"/>\n    </g>\n    <g id=\"text_17\">\n     <!-- movieId -->\n     <g transform=\"translate(337.914062 23.798437)scale(0.1 -0.1)\">\n      <defs>\n       <path d=\"M 52 44.1875 \nQ 55.375 50.25 60.0625 53.125 \nQ 64.75 56 71.09375 56 \nQ 79.640625 56 84.28125 50.015625 \nQ 88.921875 44.046875 88.921875 33.015625 \nL 88.921875 0 \nL 79.890625 0 \nL 79.890625 32.71875 \nQ 79.890625 40.578125 77.09375 44.375 \nQ 74.3125 48.1875 68.609375 48.1875 \nQ 61.625 48.1875 57.5625 43.546875 \nQ 53.515625 38.921875 53.515625 30.90625 \nL 53.515625 0 \nL 44.484375 0 \nL 44.484375 32.71875 \nQ 44.484375 40.625 41.703125 44.40625 \nQ 38.921875 48.1875 33.109375 48.1875 \nQ 26.21875 48.1875 22.15625 43.53125 \nQ 18.109375 38.875 18.109375 30.90625 \nL 18.109375 0 \nL 9.078125 0 \nL 9.078125 54.6875 \nL 18.109375 54.6875 \nL 18.109375 46.1875 \nQ 21.1875 51.21875 25.484375 53.609375 \nQ 29.78125 56 35.6875 56 \nQ 41.65625 56 45.828125 52.96875 \nQ 50 49.953125 52 44.1875 \nz\n\" id=\"DejaVuSans-109\"/>\n       <path d=\"M 30.609375 48.390625 \nQ 23.390625 48.390625 19.1875 42.75 \nQ 14.984375 37.109375 14.984375 27.296875 \nQ 14.984375 17.484375 19.15625 11.84375 \nQ 23.34375 6.203125 30.609375 6.203125 \nQ 37.796875 6.203125 41.984375 11.859375 \nQ 46.1875 17.53125 46.1875 27.296875 \nQ 46.1875 37.015625 41.984375 42.703125 \nQ 37.796875 48.390625 30.609375 48.390625 \nz\nM 30.609375 56 \nQ 42.328125 56 49.015625 48.375 \nQ 55.71875 40.765625 55.71875 27.296875 \nQ 55.71875 13.875 49.015625 6.21875 \nQ 42.328125 -1.421875 30.609375 -1.421875 \nQ 18.84375 -1.421875 12.171875 6.21875 \nQ 5.515625 13.875 5.515625 27.296875 \nQ 5.515625 40.765625 12.171875 48.375 \nQ 18.84375 56 30.609375 56 \nz\n\" id=\"DejaVuSans-111\"/>\n       <path d=\"M 2.984375 54.6875 \nL 12.5 54.6875 \nL 29.59375 8.796875 \nL 46.6875 54.6875 \nL 56.203125 54.6875 \nL 35.6875 0 \nL 23.484375 0 \nz\n\" id=\"DejaVuSans-118\"/>\n       <path d=\"M 9.421875 54.6875 \nL 18.40625 54.6875 \nL 18.40625 0 \nL 9.421875 0 \nz\nM 9.421875 75.984375 \nL 18.40625 75.984375 \nL 18.40625 64.59375 \nL 9.421875 64.59375 \nz\n\" id=\"DejaVuSans-105\"/>\n       <path d=\"M 9.8125 72.90625 \nL 19.671875 72.90625 \nL 19.671875 0 \nL 9.8125 0 \nz\n\" id=\"DejaVuSans-73\"/>\n       <path d=\"M 45.40625 46.390625 \nL 45.40625 75.984375 \nL 54.390625 75.984375 \nL 54.390625 0 \nL 45.40625 0 \nL 45.40625 8.203125 \nQ 42.578125 3.328125 38.25 0.953125 \nQ 33.9375 -1.421875 27.875 -1.421875 \nQ 17.96875 -1.421875 11.734375 6.484375 \nQ 5.515625 14.40625 5.515625 27.296875 \nQ 5.515625 40.1875 11.734375 48.09375 \nQ 17.96875 56 27.875 56 \nQ 33.9375 56 38.25 53.625 \nQ 42.578125 51.265625 45.40625 46.390625 \nz\nM 14.796875 27.296875 \nQ 14.796875 17.390625 18.875 11.75 \nQ 22.953125 6.109375 30.078125 6.109375 \nQ 37.203125 6.109375 41.296875 11.75 \nQ 45.40625 17.390625 45.40625 27.296875 \nQ 45.40625 37.203125 41.296875 42.84375 \nQ 37.203125 48.484375 30.078125 48.484375 \nQ 22.953125 48.484375 18.875 42.84375 \nQ 14.796875 37.203125 14.796875 27.296875 \nz\n\" id=\"DejaVuSans-100\"/>\n      </defs>\n      <use xlink:href=\"#DejaVuSans-109\"/>\n      <use x=\"97.412109\" xlink:href=\"#DejaVuSans-111\"/>\n      <use x=\"158.59375\" xlink:href=\"#DejaVuSans-118\"/>\n      <use x=\"217.773438\" xlink:href=\"#DejaVuSans-105\"/>\n      <use x=\"245.556641\" xlink:href=\"#DejaVuSans-101\"/>\n      <use x=\"307.080078\" xlink:href=\"#DejaVuSans-73\"/>\n      <use x=\"336.572266\" xlink:href=\"#DejaVuSans-100\"/>\n     </g>\n    </g>\n    <g id=\"patch_49\">\n     <path d=\"M 309.914062 38.476562 \nL 329.914062 38.476562 \nL 329.914062 31.476562 \nL 309.914062 31.476562 \nz\n\" style=\"fill:#ff7f0e;\"/>\n    </g>\n    <g id=\"text_18\">\n     <!-- userId -->\n     <g transform=\"translate(337.914062 38.476562)scale(0.1 -0.1)\">\n      <defs>\n       <path d=\"M 44.28125 53.078125 \nL 44.28125 44.578125 \nQ 40.484375 46.53125 36.375 47.5 \nQ 32.28125 48.484375 27.875 48.484375 \nQ 21.1875 48.484375 17.84375 46.4375 \nQ 14.5 44.390625 14.5 40.28125 \nQ 14.5 37.15625 16.890625 35.375 \nQ 19.28125 33.59375 26.515625 31.984375 \nL 29.59375 31.296875 \nQ 39.15625 29.25 43.1875 25.515625 \nQ 47.21875 21.78125 47.21875 15.09375 \nQ 47.21875 7.46875 41.1875 3.015625 \nQ 35.15625 -1.421875 24.609375 -1.421875 \nQ 20.21875 -1.421875 15.453125 -0.5625 \nQ 10.6875 0.296875 5.421875 2 \nL 5.421875 11.28125 \nQ 10.40625 8.6875 15.234375 7.390625 \nQ 20.0625 6.109375 24.8125 6.109375 \nQ 31.15625 6.109375 34.5625 8.28125 \nQ 37.984375 10.453125 37.984375 14.40625 \nQ 37.984375 18.0625 35.515625 20.015625 \nQ 33.0625 21.96875 24.703125 23.78125 \nL 21.578125 24.515625 \nQ 13.234375 26.265625 9.515625 29.90625 \nQ 5.8125 33.546875 5.8125 39.890625 \nQ 5.8125 47.609375 11.28125 51.796875 \nQ 16.75 56 26.8125 56 \nQ 31.78125 56 36.171875 55.265625 \nQ 40.578125 54.546875 44.28125 53.078125 \nz\n\" id=\"DejaVuSans-115\"/>\n      </defs>\n      <use xlink:href=\"#DejaVuSans-117\"/>\n      <use x=\"63.378906\" xlink:href=\"#DejaVuSans-115\"/>\n      <use x=\"115.478516\" xlink:href=\"#DejaVuSans-101\"/>\n      <use x=\"177.001953\" xlink:href=\"#DejaVuSans-114\"/>\n      <use x=\"218.115234\" xlink:href=\"#DejaVuSans-73\"/>\n      <use x=\"247.607422\" xlink:href=\"#DejaVuSans-100\"/>\n     </g>\n    </g>\n    <g id=\"patch_50\">\n     <path d=\"M 309.914062 53.154687 \nL 329.914062 53.154687 \nL 329.914062 46.154687 \nL 309.914062 46.154687 \nz\n\" style=\"fill:#2ca02c;\"/>\n    </g>\n    <g id=\"text_19\">\n     <!-- rating -->\n     <g transform=\"translate(337.914062 53.154687)scale(0.1 -0.1)\">\n      <defs>\n       <path d=\"M 34.28125 27.484375 \nQ 23.390625 27.484375 19.1875 25 \nQ 14.984375 22.515625 14.984375 16.5 \nQ 14.984375 11.71875 18.140625 8.90625 \nQ 21.296875 6.109375 26.703125 6.109375 \nQ 34.1875 6.109375 38.703125 11.40625 \nQ 43.21875 16.703125 43.21875 25.484375 \nL 43.21875 27.484375 \nz\nM 52.203125 31.203125 \nL 52.203125 0 \nL 43.21875 0 \nL 43.21875 8.296875 \nQ 40.140625 3.328125 35.546875 0.953125 \nQ 30.953125 -1.421875 24.3125 -1.421875 \nQ 15.921875 -1.421875 10.953125 3.296875 \nQ 6 8.015625 6 15.921875 \nQ 6 25.140625 12.171875 29.828125 \nQ 18.359375 34.515625 30.609375 34.515625 \nL 43.21875 34.515625 \nL 43.21875 35.40625 \nQ 43.21875 41.609375 39.140625 45 \nQ 35.0625 48.390625 27.6875 48.390625 \nQ 23 48.390625 18.546875 47.265625 \nQ 14.109375 46.140625 10.015625 43.890625 \nL 10.015625 52.203125 \nQ 14.9375 54.109375 19.578125 55.046875 \nQ 24.21875 56 28.609375 56 \nQ 40.484375 56 46.34375 49.84375 \nQ 52.203125 43.703125 52.203125 31.203125 \nz\n\" id=\"DejaVuSans-97\"/>\n       <path d=\"M 18.3125 70.21875 \nL 18.3125 54.6875 \nL 36.8125 54.6875 \nL 36.8125 47.703125 \nL 18.3125 47.703125 \nL 18.3125 18.015625 \nQ 18.3125 11.328125 20.140625 9.421875 \nQ 21.96875 7.515625 27.59375 7.515625 \nL 36.8125 7.515625 \nL 36.8125 0 \nL 27.59375 0 \nQ 17.1875 0 13.234375 3.875 \nQ 9.28125 7.765625 9.28125 18.015625 \nL 9.28125 47.703125 \nL 2.6875 47.703125 \nL 2.6875 54.6875 \nL 9.28125 54.6875 \nL 9.28125 70.21875 \nz\n\" id=\"DejaVuSans-116\"/>\n       <path d=\"M 45.40625 27.984375 \nQ 45.40625 37.75 41.375 43.109375 \nQ 37.359375 48.484375 30.078125 48.484375 \nQ 22.859375 48.484375 18.828125 43.109375 \nQ 14.796875 37.75 14.796875 27.984375 \nQ 14.796875 18.265625 18.828125 12.890625 \nQ 22.859375 7.515625 30.078125 7.515625 \nQ 37.359375 7.515625 41.375 12.890625 \nQ 45.40625 18.265625 45.40625 27.984375 \nz\nM 54.390625 6.78125 \nQ 54.390625 -7.171875 48.1875 -13.984375 \nQ 42 -20.796875 29.203125 -20.796875 \nQ 24.46875 -20.796875 20.265625 -20.09375 \nQ 16.0625 -19.390625 12.109375 -17.921875 \nL 12.109375 -9.1875 \nQ 16.0625 -11.328125 19.921875 -12.34375 \nQ 23.78125 -13.375 27.78125 -13.375 \nQ 36.625 -13.375 41.015625 -8.765625 \nQ 45.40625 -4.15625 45.40625 5.171875 \nL 45.40625 9.625 \nQ 42.625 4.78125 38.28125 2.390625 \nQ 33.9375 0 27.875 0 \nQ 17.828125 0 11.671875 7.65625 \nQ 5.515625 15.328125 5.515625 27.984375 \nQ 5.515625 40.671875 11.671875 48.328125 \nQ 17.828125 56 27.875 56 \nQ 33.9375 56 38.28125 53.609375 \nQ 42.625 51.21875 45.40625 46.390625 \nL 45.40625 54.6875 \nL 54.390625 54.6875 \nz\n\" id=\"DejaVuSans-103\"/>\n      </defs>\n      <use xlink:href=\"#DejaVuSans-114\"/>\n      <use x=\"41.113281\" xlink:href=\"#DejaVuSans-97\"/>\n      <use x=\"102.392578\" xlink:href=\"#DejaVuSans-116\"/>\n      <use x=\"141.601562\" xlink:href=\"#DejaVuSans-105\"/>\n      <use x=\"169.384766\" xlink:href=\"#DejaVuSans-110\"/>\n      <use x=\"232.763672\" xlink:href=\"#DejaVuSans-103\"/>\n     </g>\n    </g>\n    <g id=\"patch_51\">\n     <path d=\"M 309.914062 67.832812 \nL 329.914062 67.832812 \nL 329.914062 60.832812 \nL 309.914062 60.832812 \nz\n\" style=\"fill:#d62728;\"/>\n    </g>\n    <g id=\"text_20\">\n     <!-- timestamp -->\n     <g transform=\"translate(337.914062 67.832812)scale(0.1 -0.1)\">\n      <defs>\n       <path d=\"M 18.109375 8.203125 \nL 18.109375 -20.796875 \nL 9.078125 -20.796875 \nL 9.078125 54.6875 \nL 18.109375 54.6875 \nL 18.109375 46.390625 \nQ 20.953125 51.265625 25.265625 53.625 \nQ 29.59375 56 35.59375 56 \nQ 45.5625 56 51.78125 48.09375 \nQ 58.015625 40.1875 58.015625 27.296875 \nQ 58.015625 14.40625 51.78125 6.484375 \nQ 45.5625 -1.421875 35.59375 -1.421875 \nQ 29.59375 -1.421875 25.265625 0.953125 \nQ 20.953125 3.328125 18.109375 8.203125 \nz\nM 48.6875 27.296875 \nQ 48.6875 37.203125 44.609375 42.84375 \nQ 40.53125 48.484375 33.40625 48.484375 \nQ 26.265625 48.484375 22.1875 42.84375 \nQ 18.109375 37.203125 18.109375 27.296875 \nQ 18.109375 17.390625 22.1875 11.75 \nQ 26.265625 6.109375 33.40625 6.109375 \nQ 40.53125 6.109375 44.609375 11.75 \nQ 48.6875 17.390625 48.6875 27.296875 \nz\n\" id=\"DejaVuSans-112\"/>\n      </defs>\n      <use xlink:href=\"#DejaVuSans-116\"/>\n      <use x=\"39.208984\" xlink:href=\"#DejaVuSans-105\"/>\n      <use x=\"66.992188\" xlink:href=\"#DejaVuSans-109\"/>\n      <use x=\"164.404297\" xlink:href=\"#DejaVuSans-101\"/>\n      <use x=\"225.927734\" xlink:href=\"#DejaVuSans-115\"/>\n      <use x=\"278.027344\" xlink:href=\"#DejaVuSans-116\"/>\n      <use x=\"317.236328\" xlink:href=\"#DejaVuSans-97\"/>\n      <use x=\"378.515625\" xlink:href=\"#DejaVuSans-109\"/>\n      <use x=\"475.927734\" xlink:href=\"#DejaVuSans-112\"/>\n     </g>\n    </g>\n   </g>\n  </g>\n </g>\n <defs>\n  <clipPath id=\"p050fcb67c9\">\n   <rect height=\"217.44\" width=\"334.8\" x=\"66.053125\" y=\"7.2\"/>\n  </clipPath>\n </defs>\n</svg>\n",
            "image/png": "[encoded data removed]"
          },
          "metadata": {
            "needs_background": "light"
          }
        }
      ]
    },
    {
      "cell_type": "markdown",
      "metadata": {
        "id": "QWUdWpgPu2BQ",
        "colab_type": "text"
      },
      "source": [
        "<details>\n",
        "  <summary>Nhấn vào đây để xem kết quả!</summary>\n",
        "  <div class=\"output_subarea output_png\"><img src=\"data:image/png;base64,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\n",
        "\"></div>\n",
        "  \n",
        "</details>"
      ]
    },
    {
      "cell_type": "code",
      "metadata": {
        "id": "6GnQvuzxu2BS",
        "colab_type": "code",
        "colab": {}
      },
      "source": [
        "# Câu 2: Vẽ biểu đồ bar plot cột 'rating' của ratings\n"
      ],
      "execution_count": 45,
      "outputs": []
    },
    {
      "cell_type": "markdown",
      "metadata": {
        "id": "kN1oCq_Bu2BU",
        "colab_type": "text"
      },
      "source": [
        "<details>\n",
        "  <summary>Nhấn vào đây để xem kết quả!</summary>\n",
        "  <div class=\"output_subarea output_png\"><img src=\"data:image/png;base64,iVBORw0KGgoAAAANSUhEUgAAAWoAAAD4CAYAAADFAawfAAAABHNCSVQICAgIfAhkiAAAAAlwSFlzAAALEgAACxIB0t1+/AAAADh0RVh0U29mdHdhcmUAbWF0cGxvdGxpYiB2ZXJzaW9uMy4xLjMsIGh0dHA6Ly9tYXRwbG90bGliLm9yZy+AADFEAAAJYklEQVR4nO3dX4jl91nH8c/TbqDRrvZih1Kt2xGUoiWVyFSUgJog0hrxRpAKSoXCIkhNoUW3l72LCCJCBbdWG9EqguYmsVLBBKm2ldmkfxLXq3YD0kI22D+bXhQaHy/mNFk3s86ZzTkzz5l5veCwZ+f8zjnPXuybL9/zO/Or7g4Ac73quAcA4P8n1ADDCTXAcEINMJxQAwx3Zh0veu7cud7e3l7HSwOcSJcvX36uu7f2e2wtod7e3s7u7u46XhrgRKqqZ271mK0PgOGEGmA4oQYYTqgBhhNqgOGWOuujqq4muZ7khSTf7u6ddQ4FwEsOc3revd393NomAWBftj4Ahlt2Rd1JPlFVneRPuvvSzQdU1YUkF5Lk/Pnzq5sQbqGqjuy9/N52jtOyK+p7uvvHk7wjyW9V1U/ffEB3X+rune7e2dra91uQsFLdfejbm373kdt6HhynpULd3V9e/PlskoeT/MQ6hwLgJQeGuqq+u6rOfud+kp9P8tS6BwNgzzJ71K9P8vBiP/BMko919z+udSoAXnRgqLv7i0l+7AhmAWAfTs8DGE6oAYYTaoDhhBpgOKEGGE6oAYYTaoDhhBpgOKEGGE6oAYYTaoDhhBpgOKEGGE6oAYYTaoDhhBpgOKEGGE6oAYYTaoDhhBpgOKEGGE6oAYYTaoDhhBpgOKEGGE6oAYYTaoDhhBpgOKEGGE6oAYYTaoDhhBpgOKEGGE6oAYYTaoDhlg51Vb26qp6sqkfWORAA/9dhVtQPJLmyrkEA2N9Soa6qNya5P8mfrnccAG52Zsnj/jDJ7yQ5e6sDqupCkgtJcv78+Vc+GafOXQ/dtfb3OPsjyV0PXVz7+3zhXV9Y+3twehwY6qr6xSTPdvflqvrZWx3X3ZeSXEqSnZ2dXtmEnBrXrzyYqw/ef9xjvGLbFx897hE4YZbZ+rgnyS9V1dUkf5Pkvqr6y7VOBcCLDgx1d3+gu9/Y3dtJ3pnkn7v719Y+GQBJnEcNMN6yHyYmSbr78SSPr2USAPZlRQ0wnFADDCfUAMMJNcBwQg0wnFADDCfUAMMJNcBwQg0wnFADDCfUAMMJNcBwQg0wnFADDCfUAMMJNcBwQg0wnFADDCfUAMMJNcBwQg0wnFADDCfUAMMJNcBwQg0wnFADDCfUAMMJNcBwQg0wnFADDCfUAMMJNcBwQg0wnFADDCfUAMMdGOqqek1V/XtVfa6qnq6qDx7FYADsObPEMd9Kcl93P19VdyT5ZFV9vLs/vebZAMgSoe7uTvL84q93LG69zqEAeMkyK+pU1auTXE7yQ0k+1N2f2eeYC0kuJMn58+dXOSOnyPbFR497hFfse++847hH4ISpvQXzkgdXvS7Jw0ne091P3eq4nZ2d3t3dXcF4sFrbFx/N1QfvP+4x4GWq6nJ37+z32KHO+ujuryV5PMnbVzAXAEtY5qyPrcVKOlV1Z5KfS/Kf6x4MgD3L7FG/IclDi33qVyX52+5+ZL1jAfAdy5z18fkkdx/BLADswzcTAYYTaoDhhBpgOKEGGE6oAYYTaoDhhBpgOKEGGE6oAYYTaoDhhBpgOKEGGE6oAYYTaoDhhBpgOKEGGE6oAYYTaoDhhBpgOKEGGE6oAYYTaoDhhBpgOKEGGE6oAYYTaoDhhBpgOKEGGE6oAYYTaoDhhBpgOKEGGE6oAYYTaoDhhBpguANDXVU/UFWPVdWVqnq6qh44isEA2HNmiWO+neR93f1EVZ1Ncrmq/qm7/2PNswGQJVbU3f2V7n5icf96kitJvn/dgwGw51B71FW1neTuJJ/Z57ELVbVbVbvXrl1bzXQALB/qqnptkr9L8t7u/sbNj3f3pe7e6e6dra2tVc4IcKotFeqquiN7kf6r7v779Y4EwI2WOeujknwkyZXu/oP1jwTAjZZZUd+T5NeT3FdVn13cfmHNcwGwcODped39ySR1BLMAsA/fTAQYTqgBhhNqgOGEGmA4oQYYTqgBhhNqgOGEGmA4oQYYTqgBhhNqgOGEGmA4oQYYTqgBhhNqgOGEGmC4Ay8cAFPtXSXuNp73e4d/Tnff1nvBKgg1G0s8OS1sfQAMJ9QAwwk1wHBCDTCcUAMMJ9QAwwk1wHBCDTCcUAMMJ9QAwwk1wHBCDTCcUAMMJ9QAwwk1wHBCDTCcUAMMd2Coq+rPqurZqnrqKAaCdaiql91gUyyzov5okreveQ5Ym1tFWazZFAeGurv/Jcl/H8EssFbd/eINNsnK9qir6kJV7VbV7rVr11b1sgCn3spC3d2Xununu3e2trZW9bIAp96Z4x4Ajoo9aTaV0/M48W61J22vmk2xzOl5f53kU0neXFX/VVXvXv9YsFo3fpDoA0U2zYFbH939q0cxCAD7s/UBMJxQAwwn1ADDCTXAcEINMJxQAwwn1ADDCTXAcEINMJxQAwwn1ADDCTXAcEINMJwLB3Aq7HfRAL/qlE1hRc2J5yrkbDorak6NG1fQIs0msaIGGE6oAYaz9cGpYbuDTWVFzYnnKuRsOitqTgVRZpNZUQMMJ9QAwwk1wHBCDTCcUAMMV+v4NLyqriV5ZuUvDK/cuSTPHfcQsI83dffWfg+sJdQwVVXtdvfOcc8Bh2HrA2A4oQYYTqg5bS4d9wBwWPaoAYazogYYTqgBhhNqTrSqem9VfdcNf/+Hqnrdcc4Eh2WPmo1Xe1cEqO7+n30eu5pkp7t9yYWNZUXNRqqq7aq6UlV/nOSJJB+pqt2qerqqPrg45reTfF+Sx6rqscXPrlbVuRue/+HFcz5RVXcujnlbVX2+qj5VVb9fVU8d178TEqFms705yV90991J3rf4xuFbk/xMVb21u/8oyZeT3Nvd9+7z/B9O8qHufkuSryX55cXP/zzJb3b3TyV5Ye3/CjiAULPJnunuTy/u/0pVPZHkySRvSfKjSzz/S9392cX9y0m2F/vXZ7v73xY//9hKJ4bb4FJcbLJvJklV/WCS9yd5W3d/tao+muQ1Szz/WzfcfyHJnUlcAZdxrKg5Cb4ne9H+elW9Psk7bnjsepKzy75Qd381yfWq+snFj965sinhNllRs/G6+3NV9WSSp5N8Mcm/3vDwpSQfr6qv3GKfej/vTvLhqvpmkseTfH2V88JhOT0PblJVr+3u5xf3LyZ5Q3c/cMxjcYpZUcPL3V9VH8je/49nkvzG8Y7DaWdFDTCcDxMBhhNqgOGEGmA4oQYYTqgBhvtfp1Ejboqv/T0AAAAASUVORK5CYII=\n",
        "\"></div>\n",
        "  \n",
        "</details>"
      ]
    },
    {
      "cell_type": "code",
      "metadata": {
        "scrolled": true,
        "id": "zHe_5q-Iu2BU",
        "colab_type": "code",
        "colab": {}
      },
      "source": [
        "# Câu 3: Dựa vào Câu 9 - Part 5, Vẽ biểu đồ plot() cho 20 dòng đầu của yearly_average sau khi sắp tăng dần\n"
      ],
      "execution_count": 46,
      "outputs": []
    },
    {
      "cell_type": "markdown",
      "metadata": {
        "id": "c6GoD7Vyu2BW",
        "colab_type": "text"
      },
      "source": [
        "<details>\n",
        "  <summary>Nhấn vào đây để xem kết quả!</summary>\n",
        "  <div class=\"output_subarea output_png\"><img src=\"data:image/png;base64,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\n",
        "\"></div>\n",
        "  \n",
        "</details>"
      ]
    },
    {
      "cell_type": "markdown",
      "metadata": {
        "id": "hqXpv4rIu2BW",
        "colab_type": "text"
      },
      "source": [
        "#### Quan sát biểu đồ trên, nhận xét:\n",
        " - Những năm nào có rating đặc biệt cao/thấp?"
      ]
    }
  ]
}