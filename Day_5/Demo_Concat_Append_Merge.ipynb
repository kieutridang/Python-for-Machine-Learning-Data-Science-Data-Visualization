{
  "nbformat": 4,
  "nbformat_minor": 0,
  "metadata": {
    "kernelspec": {
      "display_name": "Python 3",
      "language": "python",
      "name": "python3"
    },
    "language_info": {
      "codemirror_mode": {
        "name": "ipython",
        "version": 3
      },
      "file_extension": ".py",
      "mimetype": "text/x-python",
      "name": "python",
      "nbconvert_exporter": "python",
      "pygments_lexer": "ipython3",
      "version": "3.7.4"
    },
    "colab": {
      "name": "Demo Concat - Append - Merge.ipynb",
      "provenance": []
    }
  },
  "cells": [
    {
      "cell_type": "code",
      "metadata": {
        "id": "M5HI0CKwOmeW",
        "colab_type": "code",
        "colab": {}
      },
      "source": [
        "import numpy as np\n",
        "import pandas as pd"
      ],
      "execution_count": null,
      "outputs": []
    },
    {
      "cell_type": "markdown",
      "metadata": {
        "id": "QkBU3cNsOmeb",
        "colab_type": "text"
      },
      "source": [
        "## Concat"
      ]
    },
    {
      "cell_type": "code",
      "metadata": {
        "id": "7jKRfytiOmeb",
        "colab_type": "code",
        "colab": {},
        "outputId": "ddafbbea-614e-4bb9-d89a-ae9e95aa598d"
      },
      "source": [
        "df1=pd.DataFrame({'Name' : pd.Series(['An', 'Hoa', 'Trung','Huy'],index=['NV1','NV2','NV3','NV4']),\n",
        "      'Age' : pd.Series([15, 22, 36,27],index=['NV1','NV2','NV3','NV4'])\n",
        "         })\n",
        "df2 = pd.DataFrame({'Name' : pd.Series(['Thanh','Chuyen'], index=['NV11','NV12']),\n",
        "      'Age' : pd.Series([26,47],index=['NV11','NV12']),\n",
        "      'Address':pd.Series(['HCM','HN'],index=['NV11','NV12']) \n",
        "         })\n",
        "print(df1)\n",
        "print(df2)"
      ],
      "execution_count": null,
      "outputs": [
        {
          "output_type": "stream",
          "text": [
            "      Name  Age\n",
            "NV1     An   15\n",
            "NV2    Hoa   22\n",
            "NV3  Trung   36\n",
            "NV4    Huy   27\n",
            "        Name  Age Address\n",
            "NV11   Thanh   26     HCM\n",
            "NV12  Chuyen   47      HN\n"
          ],
          "name": "stdout"
        }
      ]
    },
    {
      "cell_type": "code",
      "metadata": {
        "id": "GbBDx8a5Omeg",
        "colab_type": "code",
        "colab": {},
        "outputId": "c0e6bfa7-5ed1-4c65-e95f-30803c5bb5cb"
      },
      "source": [
        "# Gộp dữ liệu\n",
        "df=pd.concat([df1,df2],sort=False)\n",
        "df"
      ],
      "execution_count": null,
      "outputs": [
        {
          "output_type": "execute_result",
          "data": {
            "text/html": [
              "<div>\n",
              "<style scoped>\n",
              "    .dataframe tbody tr th:only-of-type {\n",
              "        vertical-align: middle;\n",
              "    }\n",
              "\n",
              "    .dataframe tbody tr th {\n",
              "        vertical-align: top;\n",
              "    }\n",
              "\n",
              "    .dataframe thead th {\n",
              "        text-align: right;\n",
              "    }\n",
              "</style>\n",
              "<table border=\"1\" class=\"dataframe\">\n",
              "  <thead>\n",
              "    <tr style=\"text-align: right;\">\n",
              "      <th></th>\n",
              "      <th>Name</th>\n",
              "      <th>Age</th>\n",
              "      <th>Address</th>\n",
              "    </tr>\n",
              "  </thead>\n",
              "  <tbody>\n",
              "    <tr>\n",
              "      <th>NV1</th>\n",
              "      <td>An</td>\n",
              "      <td>15</td>\n",
              "      <td>NaN</td>\n",
              "    </tr>\n",
              "    <tr>\n",
              "      <th>NV2</th>\n",
              "      <td>Hoa</td>\n",
              "      <td>22</td>\n",
              "      <td>NaN</td>\n",
              "    </tr>\n",
              "    <tr>\n",
              "      <th>NV3</th>\n",
              "      <td>Trung</td>\n",
              "      <td>36</td>\n",
              "      <td>NaN</td>\n",
              "    </tr>\n",
              "    <tr>\n",
              "      <th>NV4</th>\n",
              "      <td>Huy</td>\n",
              "      <td>27</td>\n",
              "      <td>NaN</td>\n",
              "    </tr>\n",
              "    <tr>\n",
              "      <th>NV11</th>\n",
              "      <td>Thanh</td>\n",
              "      <td>26</td>\n",
              "      <td>HCM</td>\n",
              "    </tr>\n",
              "    <tr>\n",
              "      <th>NV12</th>\n",
              "      <td>Chuyen</td>\n",
              "      <td>47</td>\n",
              "      <td>HN</td>\n",
              "    </tr>\n",
              "  </tbody>\n",
              "</table>\n",
              "</div>"
            ],
            "text/plain": [
              "        Name  Age Address\n",
              "NV1       An   15     NaN\n",
              "NV2      Hoa   22     NaN\n",
              "NV3    Trung   36     NaN\n",
              "NV4      Huy   27     NaN\n",
              "NV11   Thanh   26     HCM\n",
              "NV12  Chuyen   47      HN"
            ]
          },
          "metadata": {
            "tags": []
          },
          "execution_count": 6
        }
      ]
    },
    {
      "cell_type": "code",
      "metadata": {
        "id": "utnsEFswOmel",
        "colab_type": "code",
        "colab": {},
        "outputId": "b140964d-7e42-4426-bbb8-485a889b18c1"
      },
      "source": [
        "# Gộp dữ liệu theo cột\n",
        "df=pd.concat([df1,df2],sort=False,axis=1)\n",
        "df"
      ],
      "execution_count": null,
      "outputs": [
        {
          "output_type": "execute_result",
          "data": {
            "text/html": [
              "<div>\n",
              "<style scoped>\n",
              "    .dataframe tbody tr th:only-of-type {\n",
              "        vertical-align: middle;\n",
              "    }\n",
              "\n",
              "    .dataframe tbody tr th {\n",
              "        vertical-align: top;\n",
              "    }\n",
              "\n",
              "    .dataframe thead th {\n",
              "        text-align: right;\n",
              "    }\n",
              "</style>\n",
              "<table border=\"1\" class=\"dataframe\">\n",
              "  <thead>\n",
              "    <tr style=\"text-align: right;\">\n",
              "      <th></th>\n",
              "      <th>Name</th>\n",
              "      <th>Age</th>\n",
              "      <th>Name</th>\n",
              "      <th>Age</th>\n",
              "      <th>Address</th>\n",
              "    </tr>\n",
              "  </thead>\n",
              "  <tbody>\n",
              "    <tr>\n",
              "      <th>NV1</th>\n",
              "      <td>An</td>\n",
              "      <td>15.0</td>\n",
              "      <td>NaN</td>\n",
              "      <td>NaN</td>\n",
              "      <td>NaN</td>\n",
              "    </tr>\n",
              "    <tr>\n",
              "      <th>NV2</th>\n",
              "      <td>Hoa</td>\n",
              "      <td>22.0</td>\n",
              "      <td>NaN</td>\n",
              "      <td>NaN</td>\n",
              "      <td>NaN</td>\n",
              "    </tr>\n",
              "    <tr>\n",
              "      <th>NV3</th>\n",
              "      <td>Trung</td>\n",
              "      <td>36.0</td>\n",
              "      <td>NaN</td>\n",
              "      <td>NaN</td>\n",
              "      <td>NaN</td>\n",
              "    </tr>\n",
              "    <tr>\n",
              "      <th>NV4</th>\n",
              "      <td>Huy</td>\n",
              "      <td>27.0</td>\n",
              "      <td>NaN</td>\n",
              "      <td>NaN</td>\n",
              "      <td>NaN</td>\n",
              "    </tr>\n",
              "    <tr>\n",
              "      <th>NV11</th>\n",
              "      <td>NaN</td>\n",
              "      <td>NaN</td>\n",
              "      <td>Thanh</td>\n",
              "      <td>26.0</td>\n",
              "      <td>HCM</td>\n",
              "    </tr>\n",
              "    <tr>\n",
              "      <th>NV12</th>\n",
              "      <td>NaN</td>\n",
              "      <td>NaN</td>\n",
              "      <td>Chuyen</td>\n",
              "      <td>47.0</td>\n",
              "      <td>HN</td>\n",
              "    </tr>\n",
              "  </tbody>\n",
              "</table>\n",
              "</div>"
            ],
            "text/plain": [
              "       Name   Age    Name   Age Address\n",
              "NV1      An  15.0     NaN   NaN     NaN\n",
              "NV2     Hoa  22.0     NaN   NaN     NaN\n",
              "NV3   Trung  36.0     NaN   NaN     NaN\n",
              "NV4     Huy  27.0     NaN   NaN     NaN\n",
              "NV11    NaN   NaN   Thanh  26.0     HCM\n",
              "NV12    NaN   NaN  Chuyen  47.0      HN"
            ]
          },
          "metadata": {
            "tags": []
          },
          "execution_count": 7
        }
      ]
    },
    {
      "cell_type": "code",
      "metadata": {
        "id": "PyEBmhVrOmeo",
        "colab_type": "code",
        "colab": {},
        "outputId": "68b5c95a-2684-4fec-e416-7d02582f760f"
      },
      "source": [
        "# Gộp dữ liệu, dùng tham số join\n",
        "df3=pd.DataFrame({'Name' : pd.Series(['Hoang', 'Thuy'],index=['NV1','NV12']),\n",
        "      'Age' : pd.Series([15, 22],index=['NV1','NV12']),\n",
        "      'Salary': pd.Series([1500, 2700],index=['NV1','NV12'])\n",
        "         })\n",
        "\n",
        "print(df1)\n",
        "print(df3)\n",
        "pd.concat([df1,df3],sort=False,join=\"outer\")"
      ],
      "execution_count": null,
      "outputs": [
        {
          "output_type": "stream",
          "text": [
            "      Name  Age\n",
            "NV1     An   15\n",
            "NV2    Hoa   22\n",
            "NV3  Trung   36\n",
            "NV4    Huy   27\n",
            "       Name  Age  Salary\n",
            "NV1   Hoang   15    1500\n",
            "NV12   Thuy   22    2700\n"
          ],
          "name": "stdout"
        },
        {
          "output_type": "execute_result",
          "data": {
            "text/html": [
              "<div>\n",
              "<style scoped>\n",
              "    .dataframe tbody tr th:only-of-type {\n",
              "        vertical-align: middle;\n",
              "    }\n",
              "\n",
              "    .dataframe tbody tr th {\n",
              "        vertical-align: top;\n",
              "    }\n",
              "\n",
              "    .dataframe thead th {\n",
              "        text-align: right;\n",
              "    }\n",
              "</style>\n",
              "<table border=\"1\" class=\"dataframe\">\n",
              "  <thead>\n",
              "    <tr style=\"text-align: right;\">\n",
              "      <th></th>\n",
              "      <th>Name</th>\n",
              "      <th>Age</th>\n",
              "      <th>Salary</th>\n",
              "    </tr>\n",
              "  </thead>\n",
              "  <tbody>\n",
              "    <tr>\n",
              "      <th>NV1</th>\n",
              "      <td>An</td>\n",
              "      <td>15</td>\n",
              "      <td>NaN</td>\n",
              "    </tr>\n",
              "    <tr>\n",
              "      <th>NV2</th>\n",
              "      <td>Hoa</td>\n",
              "      <td>22</td>\n",
              "      <td>NaN</td>\n",
              "    </tr>\n",
              "    <tr>\n",
              "      <th>NV3</th>\n",
              "      <td>Trung</td>\n",
              "      <td>36</td>\n",
              "      <td>NaN</td>\n",
              "    </tr>\n",
              "    <tr>\n",
              "      <th>NV4</th>\n",
              "      <td>Huy</td>\n",
              "      <td>27</td>\n",
              "      <td>NaN</td>\n",
              "    </tr>\n",
              "    <tr>\n",
              "      <th>NV1</th>\n",
              "      <td>Hoang</td>\n",
              "      <td>15</td>\n",
              "      <td>1500.0</td>\n",
              "    </tr>\n",
              "    <tr>\n",
              "      <th>NV12</th>\n",
              "      <td>Thuy</td>\n",
              "      <td>22</td>\n",
              "      <td>2700.0</td>\n",
              "    </tr>\n",
              "  </tbody>\n",
              "</table>\n",
              "</div>"
            ],
            "text/plain": [
              "       Name  Age  Salary\n",
              "NV1      An   15     NaN\n",
              "NV2     Hoa   22     NaN\n",
              "NV3   Trung   36     NaN\n",
              "NV4     Huy   27     NaN\n",
              "NV1   Hoang   15  1500.0\n",
              "NV12   Thuy   22  2700.0"
            ]
          },
          "metadata": {
            "tags": []
          },
          "execution_count": 10
        }
      ]
    },
    {
      "cell_type": "markdown",
      "metadata": {
        "id": "6F_ytQPEOmer",
        "colab_type": "text"
      },
      "source": [
        "## Append"
      ]
    },
    {
      "cell_type": "code",
      "metadata": {
        "id": "8BjfrEpxOmes",
        "colab_type": "code",
        "colab": {},
        "outputId": "e61278e0-5d9a-4a64-cabd-0f7a59f3cf4c"
      },
      "source": [
        "df1=pd.DataFrame({'Name' : pd.Series(['An', 'Hoa', 'Trung','Huy'],index=['NV1','NV2','NV3','NV4']),\n",
        "      'Age' : pd.Series([15, 22, 36,27],index=['NV1','NV2','NV3','NV4'])\n",
        "         })\n",
        "df2 = pd.DataFrame({'Name' : pd.Series(['Thanh','Chuyen'], index=['NV11','NV12']),\n",
        "      'Age' : pd.Series([26,47],index=['NV11','NV12']),\n",
        "      'Address':pd.Series(['HCM','HN'],index=['NV11','NV12']) \n",
        "         })\n",
        "print(df1)\n",
        "print(df2)\n",
        "print(df1.append(df2,sort=False))"
      ],
      "execution_count": null,
      "outputs": [
        {
          "output_type": "stream",
          "text": [
            "      Name  Age\n",
            "NV1     An   15\n",
            "NV2    Hoa   22\n",
            "NV3  Trung   36\n",
            "NV4    Huy   27\n",
            "        Name  Age Address\n",
            "NV11   Thanh   26     HCM\n",
            "NV12  Chuyen   47      HN\n",
            "        Name  Age Address\n",
            "NV1       An   15     NaN\n",
            "NV2      Hoa   22     NaN\n",
            "NV3    Trung   36     NaN\n",
            "NV4      Huy   27     NaN\n",
            "NV11   Thanh   26     HCM\n",
            "NV12  Chuyen   47      HN\n"
          ],
          "name": "stdout"
        }
      ]
    },
    {
      "cell_type": "markdown",
      "metadata": {
        "id": "aLkSy-pIOmev",
        "colab_type": "text"
      },
      "source": [
        "## Merge"
      ]
    },
    {
      "cell_type": "code",
      "metadata": {
        "id": "xFEaETALOmew",
        "colab_type": "code",
        "colab": {},
        "outputId": "c05e2539-08f7-475c-ae43-2c40053dc67a"
      },
      "source": [
        "df1 = pd.DataFrame({'employee': ['Bob', 'Jake', 'Lisa', 'Sue'], \n",
        "                   'group': ['Accounting', 'Engineering', 'Engineering', 'HR']})\n",
        "\n",
        "df2 = pd.DataFrame({'employee': ['Lisa', 'Bob', 'Jake', 'Sue'],\n",
        "                   'hire_date': [2004, 2008, 2012, 2014]})\n",
        "\n",
        "print(df1)\n",
        "print(df2)\n",
        "df3=pd.merge(df1,df2)\n",
        "print(df3)"
      ],
      "execution_count": null,
      "outputs": [
        {
          "output_type": "stream",
          "text": [
            "  employee        group\n",
            "0      Bob   Accounting\n",
            "1     Jake  Engineering\n",
            "2     Lisa  Engineering\n",
            "3      Sue           HR\n",
            "  employee  hire_date\n",
            "0     Lisa       2004\n",
            "1      Bob       2008\n",
            "2     Jake       2012\n",
            "3      Sue       2014\n",
            "  employee        group  hire_date\n",
            "0      Bob   Accounting       2008\n",
            "1     Jake  Engineering       2012\n",
            "2     Lisa  Engineering       2004\n",
            "3      Sue           HR       2014\n"
          ],
          "name": "stdout"
        }
      ]
    },
    {
      "cell_type": "markdown",
      "metadata": {
        "id": "eCB6yjlDOmez",
        "colab_type": "text"
      },
      "source": [
        "### Merge many - to - one"
      ]
    },
    {
      "cell_type": "code",
      "metadata": {
        "id": "dD4n_MAIOme0",
        "colab_type": "code",
        "colab": {},
        "outputId": "9f16c738-bd00-4009-98f5-053b0646a239"
      },
      "source": [
        "df4 = pd.DataFrame({'group': ['Accounting', 'Engineering', 'HR'],\n",
        "'supervisor': ['Carly', 'Guido', 'Steve']})\n",
        "\n",
        "print(df3)\n",
        "print(df4)\n",
        "print(pd.merge(df3,df4))"
      ],
      "execution_count": null,
      "outputs": [
        {
          "output_type": "stream",
          "text": [
            "  employee        group  hire_date\n",
            "0      Bob   Accounting       2008\n",
            "1     Jake  Engineering       2012\n",
            "2     Lisa  Engineering       2004\n",
            "3      Sue           HR       2014\n",
            "         group supervisor\n",
            "0   Accounting      Carly\n",
            "1  Engineering      Guido\n",
            "2           HR      Steve\n",
            "  employee        group  hire_date supervisor\n",
            "0      Bob   Accounting       2008      Carly\n",
            "1     Jake  Engineering       2012      Guido\n",
            "2     Lisa  Engineering       2004      Guido\n",
            "3      Sue           HR       2014      Steve\n"
          ],
          "name": "stdout"
        }
      ]
    },
    {
      "cell_type": "markdown",
      "metadata": {
        "id": "oe-jrpAHOme3",
        "colab_type": "text"
      },
      "source": [
        "### Merge many - to - many"
      ]
    },
    {
      "cell_type": "code",
      "metadata": {
        "id": "W2VWTVgAOme3",
        "colab_type": "code",
        "colab": {},
        "outputId": "85dd1d1d-b49f-42d7-8c2a-953deb265300"
      },
      "source": [
        "df5 = pd.DataFrame({'group': ['Accounting', 'Accounting', 'Engineering', 'Engineering', 'HR', 'HR'],\n",
        "                    'skills': ['math', 'spreadsheets', 'coding', 'linux','spreadsheets', 'organization']})\n",
        "\n",
        "print(df1)\n",
        "print(df5)\n",
        "print(pd.merge(df1,df5))"
      ],
      "execution_count": null,
      "outputs": [
        {
          "output_type": "stream",
          "text": [
            "  employee        group\n",
            "0      Bob   Accounting\n",
            "1     Jake  Engineering\n",
            "2     Lisa  Engineering\n",
            "3      Sue           HR\n",
            "         group        skills\n",
            "0   Accounting          math\n",
            "1   Accounting  spreadsheets\n",
            "2  Engineering        coding\n",
            "3  Engineering         linux\n",
            "4           HR  spreadsheets\n",
            "5           HR  organization\n",
            "  employee        group        skills\n",
            "0      Bob   Accounting          math\n",
            "1      Bob   Accounting  spreadsheets\n",
            "2     Jake  Engineering        coding\n",
            "3     Jake  Engineering         linux\n",
            "4     Lisa  Engineering        coding\n",
            "5     Lisa  Engineering         linux\n",
            "6      Sue           HR  spreadsheets\n",
            "7      Sue           HR  organization\n"
          ],
          "name": "stdout"
        }
      ]
    },
    {
      "cell_type": "markdown",
      "metadata": {
        "id": "vZeHKHupOme6",
        "colab_type": "text"
      },
      "source": [
        "### Merge - xác định tên cột"
      ]
    },
    {
      "cell_type": "code",
      "metadata": {
        "id": "GetJux5YOme6",
        "colab_type": "code",
        "colab": {},
        "outputId": "118006c0-295d-4b10-8a81-d777f14347ae"
      },
      "source": [
        "df1 = pd.DataFrame({'employee': ['Bob', 'Jake', 'Lisa', 'Sue'], \n",
        "                   'group': ['Accounting', 'Engineering', 'Engineering', 'HR']})\n",
        "\n",
        "df3 = pd.DataFrame({'name': ['Bob', 'Jake', 'Lisa', 'Sue'],\n",
        "                    'salary': [70000, 80000, 120000, 90000]})\n",
        "\n",
        "print(df1)\n",
        "print(df3)\n",
        "print(pd.merge(df1,df3,left_on=\"employee\",right_on=\"name\"))"
      ],
      "execution_count": null,
      "outputs": [
        {
          "output_type": "stream",
          "text": [
            "  employee        group\n",
            "0      Bob   Accounting\n",
            "1     Jake  Engineering\n",
            "2     Lisa  Engineering\n",
            "3      Sue           HR\n",
            "   name  salary\n",
            "0   Bob   70000\n",
            "1  Jake   80000\n",
            "2  Lisa  120000\n",
            "3   Sue   90000\n",
            "  employee        group  name  salary\n",
            "0      Bob   Accounting   Bob   70000\n",
            "1     Jake  Engineering  Jake   80000\n",
            "2     Lisa  Engineering  Lisa  120000\n",
            "3      Sue           HR   Sue   90000\n"
          ],
          "name": "stdout"
        }
      ]
    },
    {
      "cell_type": "markdown",
      "metadata": {
        "id": "1IFU1mVeOmfB",
        "colab_type": "text"
      },
      "source": [
        "### Merge theo index"
      ]
    },
    {
      "cell_type": "code",
      "metadata": {
        "id": "zJgNSnTuOmfC",
        "colab_type": "code",
        "colab": {},
        "outputId": "1c77e3d2-adfe-4130-9eca-2870561fdcff"
      },
      "source": [
        "df1 = pd.DataFrame({'employee': ['Bob', 'Jake', 'Lisa', 'Sue'], \n",
        "                   'group': ['Accounting', 'Engineering', 'Engineering', 'HR']})\n",
        "\n",
        "df3 = pd.DataFrame({'name': ['Bob', 'Jake', 'Lisa', 'Sue'],\n",
        "                    'salary': [70000, 80000, 120000, 90000]})\n",
        "df1.set_index('employee')\n",
        "df3.set_index('name')\n",
        "print(pd.merge(df1,df3,left_index=True,right_index=True))"
      ],
      "execution_count": null,
      "outputs": [
        {
          "output_type": "stream",
          "text": [
            "  employee        group  name  salary\n",
            "0      Bob   Accounting   Bob   70000\n",
            "1     Jake  Engineering  Jake   80000\n",
            "2     Lisa  Engineering  Lisa  120000\n",
            "3      Sue           HR   Sue   90000\n"
          ],
          "name": "stdout"
        }
      ]
    },
    {
      "cell_type": "markdown",
      "metadata": {
        "id": "7kn_F_ZpOmfE",
        "colab_type": "text"
      },
      "source": [
        "### Merge - tham số how"
      ]
    },
    {
      "cell_type": "code",
      "metadata": {
        "id": "jZbo4ywBOmfF",
        "colab_type": "code",
        "colab": {},
        "outputId": "d065c2e3-74df-4b51-9920-5a065bf5757a"
      },
      "source": [
        "df1 = pd.DataFrame({'employee': ['Bob', 'Jake', 'Lisa', 'Sue'], \n",
        "                   'group': ['Accounting', 'Engineering', '', 'HR']})\n",
        "df4 = pd.DataFrame({'group': ['Accounting', 'Engineering', 'HR', 'R&D'],\n",
        "                   'supervisor': ['Carly', 'Guido', 'Steve','Tom']})\n",
        "\n",
        "print(df1)\n",
        "print(df4)"
      ],
      "execution_count": null,
      "outputs": [
        {
          "output_type": "stream",
          "text": [
            "  employee        group\n",
            "0      Bob   Accounting\n",
            "1     Jake  Engineering\n",
            "2     Lisa             \n",
            "3      Sue           HR\n",
            "         group supervisor\n",
            "0   Accounting      Carly\n",
            "1  Engineering      Guido\n",
            "2           HR      Steve\n",
            "3          R&D        Tom\n"
          ],
          "name": "stdout"
        }
      ]
    },
    {
      "cell_type": "code",
      "metadata": {
        "id": "7yAzxBLTOmfH",
        "colab_type": "code",
        "colab": {},
        "outputId": "72563fa2-5724-4aa7-d022-b8aac284c88f"
      },
      "source": [
        "print(pd.merge(df1,df4,how=\"inner\"))\n"
      ],
      "execution_count": null,
      "outputs": [
        {
          "output_type": "stream",
          "text": [
            "  employee        group supervisor\n",
            "0      Bob   Accounting      Carly\n",
            "1     Jake  Engineering      Guido\n",
            "2      Sue           HR      Steve\n"
          ],
          "name": "stdout"
        }
      ]
    },
    {
      "cell_type": "code",
      "metadata": {
        "id": "KgKDlSLUOmfJ",
        "colab_type": "code",
        "colab": {},
        "outputId": "c58b355a-c997-440e-dd09-b2f52009ebd5"
      },
      "source": [
        "print(pd.merge(df1,df4,how=\"outer\"))\n"
      ],
      "execution_count": null,
      "outputs": [
        {
          "output_type": "stream",
          "text": [
            "  employee        group supervisor\n",
            "0      Bob   Accounting      Carly\n",
            "1     Jake  Engineering      Guido\n",
            "2     Lisa                     NaN\n",
            "3      Sue           HR      Steve\n",
            "4      NaN          R&D        Tom\n"
          ],
          "name": "stdout"
        }
      ]
    },
    {
      "cell_type": "code",
      "metadata": {
        "id": "jZEj29mlOmfM",
        "colab_type": "code",
        "colab": {},
        "outputId": "9dc4ad12-15ee-4b87-d663-ee22e22b3e56"
      },
      "source": [
        "print(pd.merge(df1,df4,how=\"left\"))"
      ],
      "execution_count": null,
      "outputs": [
        {
          "output_type": "stream",
          "text": [
            "  employee        group supervisor\n",
            "0      Bob   Accounting      Carly\n",
            "1     Jake  Engineering      Guido\n",
            "2     Lisa                     NaN\n",
            "3      Sue           HR      Steve\n"
          ],
          "name": "stdout"
        }
      ]
    },
    {
      "cell_type": "code",
      "metadata": {
        "id": "SqUGlfYHOmfP",
        "colab_type": "code",
        "colab": {},
        "outputId": "3883bb4e-f09e-44f3-8f98-b4d1c91fe348"
      },
      "source": [
        "print(pd.merge(df1,df4,how=\"right\"))"
      ],
      "execution_count": null,
      "outputs": [
        {
          "output_type": "stream",
          "text": [
            "  employee        group supervisor\n",
            "0      Bob   Accounting      Carly\n",
            "1     Jake  Engineering      Guido\n",
            "2      Sue           HR      Steve\n",
            "3      NaN          R&D        Tom\n"
          ],
          "name": "stdout"
        }
      ]
    },
    {
      "cell_type": "code",
      "metadata": {
        "id": "Up5SVA4mOmfS",
        "colab_type": "code",
        "colab": {}
      },
      "source": [
        ""
      ],
      "execution_count": null,
      "outputs": []
    }
  ]
}