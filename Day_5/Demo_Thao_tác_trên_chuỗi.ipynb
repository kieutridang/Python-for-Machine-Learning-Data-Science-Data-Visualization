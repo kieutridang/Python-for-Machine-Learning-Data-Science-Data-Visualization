{
  "nbformat": 4,
  "nbformat_minor": 0,
  "metadata": {
    "kernelspec": {
      "display_name": "Python 3",
      "language": "python",
      "name": "python3"
    },
    "language_info": {
      "codemirror_mode": {
        "name": "ipython",
        "version": 3
      },
      "file_extension": ".py",
      "mimetype": "text/x-python",
      "name": "python",
      "nbconvert_exporter": "python",
      "pygments_lexer": "ipython3",
      "version": "3.6.8"
    },
    "colab": {
      "name": "Demo Thao tác trên chuỗi.ipynb",
      "provenance": []
    }
  },
  "cells": [
    {
      "cell_type": "code",
      "metadata": {
        "id": "U07LzKOrOmhS",
        "colab_type": "code",
        "colab": {}
      },
      "source": [
        "import numpy as np\n",
        "import pandas as pd"
      ],
      "execution_count": null,
      "outputs": []
    },
    {
      "cell_type": "code",
      "metadata": {
        "id": "LI605KtjOmhV",
        "colab_type": "code",
        "colab": {},
        "outputId": "b578a1d7-b290-4d2b-bc63-ef3f479412f0"
      },
      "source": [
        "# cắt chuỗi thành các phần tử của list\n",
        "xlsx = pd.ExcelFile('data\\du_lieu_6.xlsx')\n",
        "df_right = pd.read_excel(xlsx, 'right')\n",
        "df_left = pd.read_excel(xlsx, 'left')\n",
        "print('DataFrame right:\\n',df_right)\n",
        "print('DataFrame left:\\n',df_left)"
      ],
      "execution_count": null,
      "outputs": [
        {
          "output_type": "stream",
          "text": [
            "DataFrame right:\n",
            "   _key1 _key2 hide_date profession\n",
            "0    K0    z0       h_0        p_0\n",
            "1    K1    z1       h_1        p_1\n",
            "2    K2    z2       h_2        p_2\n",
            "3    K3    z3       h_3        p_3\n",
            "DataFrame left:\n",
            "   _key1 _key2    city user_name\n",
            "0    K0    z0  city_0    user_0\n",
            "1    K1    z1  city_1    user_1\n",
            "2    K2    z2  city_2    user_2\n",
            "3    K3    z3  city_3    user_3\n"
          ],
          "name": "stdout"
        }
      ]
    },
    {
      "cell_type": "code",
      "metadata": {
        "id": "W5xTiiQVOmhY",
        "colab_type": "code",
        "colab": {},
        "outputId": "d0cc20b2-c0fd-4524-8988-d3035775a58c"
      },
      "source": [
        "df_merge = pd.merge(df_left, df_right, how='inner')\n",
        "print(df_merge)"
      ],
      "execution_count": null,
      "outputs": [
        {
          "output_type": "stream",
          "text": [
            "  _key1 _key2    city user_name hide_date profession\n",
            "0    K0    z0  city_0    user_0       h_0        p_0\n",
            "1    K1    z1  city_1    user_1       h_1        p_1\n",
            "2    K2    z2  city_2    user_2       h_2        p_2\n",
            "3    K3    z3  city_3    user_3       h_3        p_3\n"
          ],
          "name": "stdout"
        }
      ]
    },
    {
      "cell_type": "code",
      "metadata": {
        "scrolled": true,
        "id": "d0rS3H7lOmhb",
        "colab_type": "code",
        "colab": {},
        "outputId": "96a506c2-a9cf-4c57-c054-186e9d351c34"
      },
      "source": [
        "# Split \n",
        "city = df_merge['city'].str.split('_')\n",
        "city"
      ],
      "execution_count": null,
      "outputs": [
        {
          "output_type": "execute_result",
          "data": {
            "text/plain": [
              "0    [city, 0]\n",
              "1    [city, 1]\n",
              "2    [city, 2]\n",
              "3    [city, 3]\n",
              "Name: city, dtype: object"
            ]
          },
          "metadata": {
            "tags": []
          },
          "execution_count": 4
        }
      ]
    },
    {
      "cell_type": "code",
      "metadata": {
        "id": "-0Ty3YQTOmhe",
        "colab_type": "code",
        "colab": {},
        "outputId": "1b8f3a74-b831-47cf-dd39-79b76c6a8abf"
      },
      "source": [
        "#contains\n",
        "city_find = df_merge['city'].str.contains('2')\n",
        "city_find"
      ],
      "execution_count": null,
      "outputs": [
        {
          "output_type": "execute_result",
          "data": {
            "text/plain": [
              "0    False\n",
              "1    False\n",
              "2     True\n",
              "3    False\n",
              "Name: city, dtype: bool"
            ]
          },
          "metadata": {
            "tags": []
          },
          "execution_count": 5
        }
      ]
    },
    {
      "cell_type": "code",
      "metadata": {
        "id": "aJaBv3TdOmhg",
        "colab_type": "code",
        "colab": {},
        "outputId": "b258655e-7c4a-49da-c45d-4318f4e8468e"
      },
      "source": [
        "#Thay chuỗi : replace\n",
        "city_new= df_merge['city'].str.replace('_',' No ')\n",
        "city_new"
      ],
      "execution_count": null,
      "outputs": [
        {
          "output_type": "execute_result",
          "data": {
            "text/plain": [
              "0    city No 0\n",
              "1    city No 1\n",
              "2    city No 2\n",
              "3    city No 3\n",
              "Name: city, dtype: object"
            ]
          },
          "metadata": {
            "tags": []
          },
          "execution_count": 6
        }
      ]
    },
    {
      "cell_type": "code",
      "metadata": {
        "id": "mcigSif3Omhj",
        "colab_type": "code",
        "colab": {},
        "outputId": "fdaf5f26-6545-4fd5-f466-a19a31820589"
      },
      "source": [
        "print(df_left)"
      ],
      "execution_count": null,
      "outputs": [
        {
          "output_type": "stream",
          "text": [
            "  _key1 _key2    city user_name\n",
            "0    K0    z0  city_0    user_0\n",
            "1    K1    z1  city_1    user_1\n",
            "2    K2    z2  city_2    user_2\n",
            "3    K3    z3  city_3    user_3\n"
          ],
          "name": "stdout"
        }
      ]
    },
    {
      "cell_type": "code",
      "metadata": {
        "id": "MFDNp_FxOmhm",
        "colab_type": "code",
        "colab": {},
        "outputId": "585281f7-63ec-492e-e9cd-161d7d671b3d"
      },
      "source": [
        "# Tìm chuỗi đầu tiên thỏa regular expression : extract \n",
        "city_extract=df_left['city'].str.extract('([a-z]{0,})',expand =True)\n",
        "print(type(city_extract))\n",
        "print(city_extract)"
      ],
      "execution_count": null,
      "outputs": [
        {
          "output_type": "stream",
          "text": [
            "<class 'pandas.core.frame.DataFrame'>\n",
            "      0\n",
            "0  city\n",
            "1  city\n",
            "2  city\n",
            "3  city\n"
          ],
          "name": "stdout"
        }
      ]
    },
    {
      "cell_type": "code",
      "metadata": {
        "id": "ggsUWtO6Omho",
        "colab_type": "code",
        "colab": {},
        "outputId": "03629c6b-8b29-4c5a-daff-00ec9e3b0b37"
      },
      "source": [
        "city_num = df_left['city'].str.extract('(\\d)', expand=False)\n",
        "print(type(city_num))\n",
        "print(city_num)"
      ],
      "execution_count": null,
      "outputs": [
        {
          "output_type": "stream",
          "text": [
            "<class 'pandas.core.series.Series'>\n",
            "0    0\n",
            "1    1\n",
            "2    2\n",
            "3    3\n",
            "Name: city, dtype: object\n"
          ],
          "name": "stdout"
        }
      ]
    },
    {
      "cell_type": "code",
      "metadata": {
        "id": "49W5BTtPOmhq",
        "colab_type": "code",
        "colab": {},
        "outputId": "2dabc023-261b-47cc-96e0-a0c469bfffca"
      },
      "source": [
        "# Dữ liệu thi\n",
        "data = {'data': ['Arizona 1 2014-12-23       3242.0',\n",
        "                'Iowa 1 2010-02-23       3453.7',\n",
        "                'Oregon 0 2014-06-20       2123.0',\n",
        "                'Maryland 0 2014-03-14       1123.6',\n",
        "                'Florida 1 2013-01-15       2134.0',\n",
        "                'Georgia 0 2012-07-14       2345.6']}\n",
        "df = pd.DataFrame(data, columns = ['data'])\n",
        "df"
      ],
      "execution_count": null,
      "outputs": [
        {
          "output_type": "execute_result",
          "data": {
            "text/html": [
              "<div>\n",
              "<style scoped>\n",
              "    .dataframe tbody tr th:only-of-type {\n",
              "        vertical-align: middle;\n",
              "    }\n",
              "\n",
              "    .dataframe tbody tr th {\n",
              "        vertical-align: top;\n",
              "    }\n",
              "\n",
              "    .dataframe thead th {\n",
              "        text-align: right;\n",
              "    }\n",
              "</style>\n",
              "<table border=\"1\" class=\"dataframe\">\n",
              "  <thead>\n",
              "    <tr style=\"text-align: right;\">\n",
              "      <th></th>\n",
              "      <th>data</th>\n",
              "    </tr>\n",
              "  </thead>\n",
              "  <tbody>\n",
              "    <tr>\n",
              "      <td>0</td>\n",
              "      <td>Arizona 1 2014-12-23       3242.0</td>\n",
              "    </tr>\n",
              "    <tr>\n",
              "      <td>1</td>\n",
              "      <td>Iowa 1 2010-02-23       3453.7</td>\n",
              "    </tr>\n",
              "    <tr>\n",
              "      <td>2</td>\n",
              "      <td>Oregon 0 2014-06-20       2123.0</td>\n",
              "    </tr>\n",
              "    <tr>\n",
              "      <td>3</td>\n",
              "      <td>Maryland 0 2014-03-14       1123.6</td>\n",
              "    </tr>\n",
              "    <tr>\n",
              "      <td>4</td>\n",
              "      <td>Florida 1 2013-01-15       2134.0</td>\n",
              "    </tr>\n",
              "    <tr>\n",
              "      <td>5</td>\n",
              "      <td>Georgia 0 2012-07-14       2345.6</td>\n",
              "    </tr>\n",
              "  </tbody>\n",
              "</table>\n",
              "</div>"
            ],
            "text/plain": [
              "                                 data\n",
              "0   Arizona 1 2014-12-23       3242.0\n",
              "1      Iowa 1 2010-02-23       3453.7\n",
              "2    Oregon 0 2014-06-20       2123.0\n",
              "3  Maryland 0 2014-03-14       1123.6\n",
              "4   Florida 1 2013-01-15       2134.0\n",
              "5   Georgia 0 2012-07-14       2345.6"
            ]
          },
          "metadata": {
            "tags": []
          },
          "execution_count": 20
        }
      ]
    },
    {
      "cell_type": "code",
      "metadata": {
        "id": "GrdXJQqVOmht",
        "colab_type": "code",
        "colab": {},
        "outputId": "4e36ce13-2385-4545-e939-df7a3fb29492"
      },
      "source": [
        "# Giới tính - \n",
        "df['female'] = df['data'].str.extract('(\\d)', expand=False)\n",
        "df"
      ],
      "execution_count": null,
      "outputs": [
        {
          "output_type": "execute_result",
          "data": {
            "text/html": [
              "<div>\n",
              "<style scoped>\n",
              "    .dataframe tbody tr th:only-of-type {\n",
              "        vertical-align: middle;\n",
              "    }\n",
              "\n",
              "    .dataframe tbody tr th {\n",
              "        vertical-align: top;\n",
              "    }\n",
              "\n",
              "    .dataframe thead th {\n",
              "        text-align: right;\n",
              "    }\n",
              "</style>\n",
              "<table border=\"1\" class=\"dataframe\">\n",
              "  <thead>\n",
              "    <tr style=\"text-align: right;\">\n",
              "      <th></th>\n",
              "      <th>data</th>\n",
              "      <th>female</th>\n",
              "    </tr>\n",
              "  </thead>\n",
              "  <tbody>\n",
              "    <tr>\n",
              "      <td>0</td>\n",
              "      <td>Arizona 1 2014-12-23       3242.0</td>\n",
              "      <td>1</td>\n",
              "    </tr>\n",
              "    <tr>\n",
              "      <td>1</td>\n",
              "      <td>Iowa 1 2010-02-23       3453.7</td>\n",
              "      <td>1</td>\n",
              "    </tr>\n",
              "    <tr>\n",
              "      <td>2</td>\n",
              "      <td>Oregon 0 2014-06-20       2123.0</td>\n",
              "      <td>0</td>\n",
              "    </tr>\n",
              "    <tr>\n",
              "      <td>3</td>\n",
              "      <td>Maryland 0 2014-03-14       1123.6</td>\n",
              "      <td>0</td>\n",
              "    </tr>\n",
              "    <tr>\n",
              "      <td>4</td>\n",
              "      <td>Florida 1 2013-01-15       2134.0</td>\n",
              "      <td>1</td>\n",
              "    </tr>\n",
              "    <tr>\n",
              "      <td>5</td>\n",
              "      <td>Georgia 0 2012-07-14       2345.6</td>\n",
              "      <td>0</td>\n",
              "    </tr>\n",
              "  </tbody>\n",
              "</table>\n",
              "</div>"
            ],
            "text/plain": [
              "                                 data female\n",
              "0   Arizona 1 2014-12-23       3242.0      1\n",
              "1      Iowa 1 2010-02-23       3453.7      1\n",
              "2    Oregon 0 2014-06-20       2123.0      0\n",
              "3  Maryland 0 2014-03-14       1123.6      0\n",
              "4   Florida 1 2013-01-15       2134.0      1\n",
              "5   Georgia 0 2012-07-14       2345.6      0"
            ]
          },
          "metadata": {
            "tags": []
          },
          "execution_count": 21
        }
      ]
    },
    {
      "cell_type": "code",
      "metadata": {
        "id": "cSEaWBYJOmhv",
        "colab_type": "code",
        "colab": {},
        "outputId": "ab19b99f-a274-4598-e388-d6a9627a50d1"
      },
      "source": [
        "# Cột ngày thi\n",
        "df['date'] = df['data'].str.extract('(....-..-..)', expand=True)\n",
        "df"
      ],
      "execution_count": null,
      "outputs": [
        {
          "output_type": "execute_result",
          "data": {
            "text/html": [
              "<div>\n",
              "<style scoped>\n",
              "    .dataframe tbody tr th:only-of-type {\n",
              "        vertical-align: middle;\n",
              "    }\n",
              "\n",
              "    .dataframe tbody tr th {\n",
              "        vertical-align: top;\n",
              "    }\n",
              "\n",
              "    .dataframe thead th {\n",
              "        text-align: right;\n",
              "    }\n",
              "</style>\n",
              "<table border=\"1\" class=\"dataframe\">\n",
              "  <thead>\n",
              "    <tr style=\"text-align: right;\">\n",
              "      <th></th>\n",
              "      <th>data</th>\n",
              "      <th>female</th>\n",
              "      <th>date</th>\n",
              "    </tr>\n",
              "  </thead>\n",
              "  <tbody>\n",
              "    <tr>\n",
              "      <td>0</td>\n",
              "      <td>Arizona 1 2014-12-23       3242.0</td>\n",
              "      <td>1</td>\n",
              "      <td>2014-12-23</td>\n",
              "    </tr>\n",
              "    <tr>\n",
              "      <td>1</td>\n",
              "      <td>Iowa 1 2010-02-23       3453.7</td>\n",
              "      <td>1</td>\n",
              "      <td>2010-02-23</td>\n",
              "    </tr>\n",
              "    <tr>\n",
              "      <td>2</td>\n",
              "      <td>Oregon 0 2014-06-20       2123.0</td>\n",
              "      <td>0</td>\n",
              "      <td>2014-06-20</td>\n",
              "    </tr>\n",
              "    <tr>\n",
              "      <td>3</td>\n",
              "      <td>Maryland 0 2014-03-14       1123.6</td>\n",
              "      <td>0</td>\n",
              "      <td>2014-03-14</td>\n",
              "    </tr>\n",
              "    <tr>\n",
              "      <td>4</td>\n",
              "      <td>Florida 1 2013-01-15       2134.0</td>\n",
              "      <td>1</td>\n",
              "      <td>2013-01-15</td>\n",
              "    </tr>\n",
              "    <tr>\n",
              "      <td>5</td>\n",
              "      <td>Georgia 0 2012-07-14       2345.6</td>\n",
              "      <td>0</td>\n",
              "      <td>2012-07-14</td>\n",
              "    </tr>\n",
              "  </tbody>\n",
              "</table>\n",
              "</div>"
            ],
            "text/plain": [
              "                                 data female        date\n",
              "0   Arizona 1 2014-12-23       3242.0      1  2014-12-23\n",
              "1      Iowa 1 2010-02-23       3453.7      1  2010-02-23\n",
              "2    Oregon 0 2014-06-20       2123.0      0  2014-06-20\n",
              "3  Maryland 0 2014-03-14       1123.6      0  2014-03-14\n",
              "4   Florida 1 2013-01-15       2134.0      1  2013-01-15\n",
              "5   Georgia 0 2012-07-14       2345.6      0  2012-07-14"
            ]
          },
          "metadata": {
            "tags": []
          },
          "execution_count": 12
        }
      ]
    },
    {
      "cell_type": "code",
      "metadata": {
        "id": "zOPlJiA9Omhx",
        "colab_type": "code",
        "colab": {},
        "outputId": "3133555c-f4b2-43e1-ee31-42de569fab4e"
      },
      "source": [
        "# Điểm thi\n",
        "df['score'] = df['data'].str.extract('(\\d\\d\\d\\d\\.\\d)', expand=True)\n",
        "df"
      ],
      "execution_count": null,
      "outputs": [
        {
          "output_type": "execute_result",
          "data": {
            "text/html": [
              "<div>\n",
              "<style scoped>\n",
              "    .dataframe tbody tr th:only-of-type {\n",
              "        vertical-align: middle;\n",
              "    }\n",
              "\n",
              "    .dataframe tbody tr th {\n",
              "        vertical-align: top;\n",
              "    }\n",
              "\n",
              "    .dataframe thead th {\n",
              "        text-align: right;\n",
              "    }\n",
              "</style>\n",
              "<table border=\"1\" class=\"dataframe\">\n",
              "  <thead>\n",
              "    <tr style=\"text-align: right;\">\n",
              "      <th></th>\n",
              "      <th>data</th>\n",
              "      <th>female</th>\n",
              "      <th>date</th>\n",
              "      <th>score</th>\n",
              "    </tr>\n",
              "  </thead>\n",
              "  <tbody>\n",
              "    <tr>\n",
              "      <td>0</td>\n",
              "      <td>Arizona 1 2014-12-23       3242.0</td>\n",
              "      <td>1</td>\n",
              "      <td>2014-12-23</td>\n",
              "      <td>3242.0</td>\n",
              "    </tr>\n",
              "    <tr>\n",
              "      <td>1</td>\n",
              "      <td>Iowa 1 2010-02-23       3453.7</td>\n",
              "      <td>1</td>\n",
              "      <td>2010-02-23</td>\n",
              "      <td>3453.7</td>\n",
              "    </tr>\n",
              "    <tr>\n",
              "      <td>2</td>\n",
              "      <td>Oregon 0 2014-06-20       2123.0</td>\n",
              "      <td>0</td>\n",
              "      <td>2014-06-20</td>\n",
              "      <td>2123.0</td>\n",
              "    </tr>\n",
              "    <tr>\n",
              "      <td>3</td>\n",
              "      <td>Maryland 0 2014-03-14       1123.6</td>\n",
              "      <td>0</td>\n",
              "      <td>2014-03-14</td>\n",
              "      <td>1123.6</td>\n",
              "    </tr>\n",
              "    <tr>\n",
              "      <td>4</td>\n",
              "      <td>Florida 1 2013-01-15       2134.0</td>\n",
              "      <td>1</td>\n",
              "      <td>2013-01-15</td>\n",
              "      <td>2134.0</td>\n",
              "    </tr>\n",
              "    <tr>\n",
              "      <td>5</td>\n",
              "      <td>Georgia 0 2012-07-14       2345.6</td>\n",
              "      <td>0</td>\n",
              "      <td>2012-07-14</td>\n",
              "      <td>2345.6</td>\n",
              "    </tr>\n",
              "  </tbody>\n",
              "</table>\n",
              "</div>"
            ],
            "text/plain": [
              "                                 data female        date   score\n",
              "0   Arizona 1 2014-12-23       3242.0      1  2014-12-23  3242.0\n",
              "1      Iowa 1 2010-02-23       3453.7      1  2010-02-23  3453.7\n",
              "2    Oregon 0 2014-06-20       2123.0      0  2014-06-20  2123.0\n",
              "3  Maryland 0 2014-03-14       1123.6      0  2014-03-14  1123.6\n",
              "4   Florida 1 2013-01-15       2134.0      1  2013-01-15  2134.0\n",
              "5   Georgia 0 2012-07-14       2345.6      0  2012-07-14  2345.6"
            ]
          },
          "metadata": {
            "tags": []
          },
          "execution_count": 13
        }
      ]
    },
    {
      "cell_type": "code",
      "metadata": {
        "id": "l3CD-valOmhz",
        "colab_type": "code",
        "colab": {},
        "outputId": "4f501a9d-41c7-4383-d788-301e1a249972"
      },
      "source": [
        "# Nơi đăng ký\n",
        "df['state'] = df['data'].str.extract('([A-Z]\\w{0,})', expand=True)\n",
        "df"
      ],
      "execution_count": null,
      "outputs": [
        {
          "output_type": "execute_result",
          "data": {
            "text/html": [
              "<div>\n",
              "<style scoped>\n",
              "    .dataframe tbody tr th:only-of-type {\n",
              "        vertical-align: middle;\n",
              "    }\n",
              "\n",
              "    .dataframe tbody tr th {\n",
              "        vertical-align: top;\n",
              "    }\n",
              "\n",
              "    .dataframe thead th {\n",
              "        text-align: right;\n",
              "    }\n",
              "</style>\n",
              "<table border=\"1\" class=\"dataframe\">\n",
              "  <thead>\n",
              "    <tr style=\"text-align: right;\">\n",
              "      <th></th>\n",
              "      <th>data</th>\n",
              "      <th>female</th>\n",
              "      <th>date</th>\n",
              "      <th>score</th>\n",
              "      <th>state</th>\n",
              "    </tr>\n",
              "  </thead>\n",
              "  <tbody>\n",
              "    <tr>\n",
              "      <td>0</td>\n",
              "      <td>Arizona 1 2014-12-23       3242.0</td>\n",
              "      <td>1</td>\n",
              "      <td>2014-12-23</td>\n",
              "      <td>3242.0</td>\n",
              "      <td>Arizona</td>\n",
              "    </tr>\n",
              "    <tr>\n",
              "      <td>1</td>\n",
              "      <td>Iowa 1 2010-02-23       3453.7</td>\n",
              "      <td>1</td>\n",
              "      <td>2010-02-23</td>\n",
              "      <td>3453.7</td>\n",
              "      <td>Iowa</td>\n",
              "    </tr>\n",
              "    <tr>\n",
              "      <td>2</td>\n",
              "      <td>Oregon 0 2014-06-20       2123.0</td>\n",
              "      <td>0</td>\n",
              "      <td>2014-06-20</td>\n",
              "      <td>2123.0</td>\n",
              "      <td>Oregon</td>\n",
              "    </tr>\n",
              "    <tr>\n",
              "      <td>3</td>\n",
              "      <td>Maryland 0 2014-03-14       1123.6</td>\n",
              "      <td>0</td>\n",
              "      <td>2014-03-14</td>\n",
              "      <td>1123.6</td>\n",
              "      <td>Maryland</td>\n",
              "    </tr>\n",
              "    <tr>\n",
              "      <td>4</td>\n",
              "      <td>Florida 1 2013-01-15       2134.0</td>\n",
              "      <td>1</td>\n",
              "      <td>2013-01-15</td>\n",
              "      <td>2134.0</td>\n",
              "      <td>Florida</td>\n",
              "    </tr>\n",
              "    <tr>\n",
              "      <td>5</td>\n",
              "      <td>Georgia 0 2012-07-14       2345.6</td>\n",
              "      <td>0</td>\n",
              "      <td>2012-07-14</td>\n",
              "      <td>2345.6</td>\n",
              "      <td>Georgia</td>\n",
              "    </tr>\n",
              "  </tbody>\n",
              "</table>\n",
              "</div>"
            ],
            "text/plain": [
              "                                 data female        date   score     state\n",
              "0   Arizona 1 2014-12-23       3242.0      1  2014-12-23  3242.0   Arizona\n",
              "1      Iowa 1 2010-02-23       3453.7      1  2010-02-23  3453.7      Iowa\n",
              "2    Oregon 0 2014-06-20       2123.0      0  2014-06-20  2123.0    Oregon\n",
              "3  Maryland 0 2014-03-14       1123.6      0  2014-03-14  1123.6  Maryland\n",
              "4   Florida 1 2013-01-15       2134.0      1  2013-01-15  2134.0   Florida\n",
              "5   Georgia 0 2012-07-14       2345.6      0  2012-07-14  2345.6   Georgia"
            ]
          },
          "metadata": {
            "tags": []
          },
          "execution_count": 14
        }
      ]
    },
    {
      "cell_type": "code",
      "metadata": {
        "id": "yCVLrWSXOmh2",
        "colab_type": "code",
        "colab": {}
      },
      "source": [
        ""
      ],
      "execution_count": null,
      "outputs": []
    }
  ]
}